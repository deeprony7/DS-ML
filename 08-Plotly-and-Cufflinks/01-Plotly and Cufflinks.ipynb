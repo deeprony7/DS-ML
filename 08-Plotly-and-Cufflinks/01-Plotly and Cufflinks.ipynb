{
 "cells": [
  {
   "cell_type": "markdown",
   "metadata": {},
   "source": [
    "___\n",
    "\n",
    "<a href='http://www.pieriandata.com'> <img src='../Pierian_Data_Logo.png' /></a>\n",
    "___\n",
    "# Plotly and Cufflinks"
   ]
  },
  {
   "cell_type": "markdown",
   "metadata": {},
   "source": [
    "Plotly is a library that allows you to create interactive plots that you can use in dashboards or websites (you can save them as html files or static images).\n",
    "\n",
    "## Installation\n",
    "\n",
    "In order for this all to work, you'll need to install plotly and cufflinks to call plots directly off of a pandas dataframe. These libraries are not currently available through **conda** but are available through **pip**. Install the libraries at your command line/terminal using:\n",
    "\n",
    "    pip install plotly\n",
    "    pip install cufflinks\n",
    "\n",
    "** NOTE: Make sure you only have one installation of Python on your computer when you do this, otherwise the installation may not work. **\n",
    "\n",
    "## Imports and Set-up"
   ]
  },
  {
   "cell_type": "code",
   "execution_count": 1,
   "metadata": {},
   "outputs": [],
   "source": [
    "import pandas as pd\n",
    "import numpy as np\n",
    "%matplotlib inline"
   ]
  },
  {
   "cell_type": "code",
   "execution_count": 2,
   "metadata": {},
   "outputs": [
    {
     "name": "stdout",
     "output_type": "stream",
     "text": [
      "4.6.0\n"
     ]
    }
   ],
   "source": [
    "from plotly import __version__\n",
    "from plotly.offline import download_plotlyjs, init_notebook_mode, plot, iplot\n",
    "\n",
    "print(__version__) # requires version >= 1.9.0"
   ]
  },
  {
   "cell_type": "code",
   "execution_count": 3,
   "metadata": {},
   "outputs": [],
   "source": [
    "import cufflinks as cf"
   ]
  },
  {
   "cell_type": "code",
   "execution_count": 4,
   "metadata": {},
   "outputs": [
    {
     "data": {
      "text/html": [
       "        <script type=\"text/javascript\">\n",
       "        window.PlotlyConfig = {MathJaxConfig: 'local'};\n",
       "        if (window.MathJax) {MathJax.Hub.Config({SVG: {font: \"STIX-Web\"}});}\n",
       "        if (typeof require !== 'undefined') {\n",
       "        require.undef(\"plotly\");\n",
       "        requirejs.config({\n",
       "            paths: {\n",
       "                'plotly': ['https://cdn.plot.ly/plotly-latest.min']\n",
       "            }\n",
       "        });\n",
       "        require(['plotly'], function(Plotly) {\n",
       "            window._Plotly = Plotly;\n",
       "        });\n",
       "        }\n",
       "        </script>\n",
       "        "
      ]
     },
     "metadata": {},
     "output_type": "display_data"
    }
   ],
   "source": [
    "# For Notebooks\n",
    "init_notebook_mode(connected=True)"
   ]
  },
  {
   "cell_type": "code",
   "execution_count": 5,
   "metadata": {},
   "outputs": [
    {
     "data": {
      "text/html": [
       "        <script type=\"text/javascript\">\n",
       "        window.PlotlyConfig = {MathJaxConfig: 'local'};\n",
       "        if (window.MathJax) {MathJax.Hub.Config({SVG: {font: \"STIX-Web\"}});}\n",
       "        if (typeof require !== 'undefined') {\n",
       "        require.undef(\"plotly\");\n",
       "        requirejs.config({\n",
       "            paths: {\n",
       "                'plotly': ['https://cdn.plot.ly/plotly-latest.min']\n",
       "            }\n",
       "        });\n",
       "        require(['plotly'], function(Plotly) {\n",
       "            window._Plotly = Plotly;\n",
       "        });\n",
       "        }\n",
       "        </script>\n",
       "        "
      ]
     },
     "metadata": {},
     "output_type": "display_data"
    }
   ],
   "source": [
    "# For offline use\n",
    "cf.go_offline()"
   ]
  },
  {
   "cell_type": "markdown",
   "metadata": {},
   "source": [
    "### Fake Data"
   ]
  },
  {
   "cell_type": "code",
   "execution_count": 6,
   "metadata": {},
   "outputs": [],
   "source": [
    "df = pd.DataFrame(np.random.randn(100,4),columns='A B C D'.split())"
   ]
  },
  {
   "cell_type": "code",
   "execution_count": 7,
   "metadata": {},
   "outputs": [
    {
     "data": {
      "text/html": [
       "<div>\n",
       "<style scoped>\n",
       "    .dataframe tbody tr th:only-of-type {\n",
       "        vertical-align: middle;\n",
       "    }\n",
       "\n",
       "    .dataframe tbody tr th {\n",
       "        vertical-align: top;\n",
       "    }\n",
       "\n",
       "    .dataframe thead th {\n",
       "        text-align: right;\n",
       "    }\n",
       "</style>\n",
       "<table border=\"1\" class=\"dataframe\">\n",
       "  <thead>\n",
       "    <tr style=\"text-align: right;\">\n",
       "      <th></th>\n",
       "      <th>A</th>\n",
       "      <th>B</th>\n",
       "      <th>C</th>\n",
       "      <th>D</th>\n",
       "    </tr>\n",
       "  </thead>\n",
       "  <tbody>\n",
       "    <tr>\n",
       "      <th>0</th>\n",
       "      <td>0.193994</td>\n",
       "      <td>0.233682</td>\n",
       "      <td>-0.582332</td>\n",
       "      <td>1.087873</td>\n",
       "    </tr>\n",
       "    <tr>\n",
       "      <th>1</th>\n",
       "      <td>0.011987</td>\n",
       "      <td>-0.944252</td>\n",
       "      <td>-2.274439</td>\n",
       "      <td>-3.183928</td>\n",
       "    </tr>\n",
       "    <tr>\n",
       "      <th>2</th>\n",
       "      <td>-0.919727</td>\n",
       "      <td>1.475751</td>\n",
       "      <td>-1.906732</td>\n",
       "      <td>-1.216542</td>\n",
       "    </tr>\n",
       "    <tr>\n",
       "      <th>3</th>\n",
       "      <td>-0.543833</td>\n",
       "      <td>0.658332</td>\n",
       "      <td>-0.551363</td>\n",
       "      <td>-1.345799</td>\n",
       "    </tr>\n",
       "    <tr>\n",
       "      <th>4</th>\n",
       "      <td>0.783480</td>\n",
       "      <td>0.152584</td>\n",
       "      <td>0.394616</td>\n",
       "      <td>0.979689</td>\n",
       "    </tr>\n",
       "  </tbody>\n",
       "</table>\n",
       "</div>"
      ],
      "text/plain": [
       "          A         B         C         D\n",
       "0  0.193994  0.233682 -0.582332  1.087873\n",
       "1  0.011987 -0.944252 -2.274439 -3.183928\n",
       "2 -0.919727  1.475751 -1.906732 -1.216542\n",
       "3 -0.543833  0.658332 -0.551363 -1.345799\n",
       "4  0.783480  0.152584  0.394616  0.979689"
      ]
     },
     "execution_count": 7,
     "metadata": {},
     "output_type": "execute_result"
    }
   ],
   "source": [
    "df.head()"
   ]
  },
  {
   "cell_type": "code",
   "execution_count": 8,
   "metadata": {},
   "outputs": [],
   "source": [
    "df2 = pd.DataFrame({'Category':['A','B','C'],'Values':[32,43,50]})"
   ]
  },
  {
   "cell_type": "code",
   "execution_count": 9,
   "metadata": {},
   "outputs": [
    {
     "data": {
      "text/html": [
       "<div>\n",
       "<style scoped>\n",
       "    .dataframe tbody tr th:only-of-type {\n",
       "        vertical-align: middle;\n",
       "    }\n",
       "\n",
       "    .dataframe tbody tr th {\n",
       "        vertical-align: top;\n",
       "    }\n",
       "\n",
       "    .dataframe thead th {\n",
       "        text-align: right;\n",
       "    }\n",
       "</style>\n",
       "<table border=\"1\" class=\"dataframe\">\n",
       "  <thead>\n",
       "    <tr style=\"text-align: right;\">\n",
       "      <th></th>\n",
       "      <th>Category</th>\n",
       "      <th>Values</th>\n",
       "    </tr>\n",
       "  </thead>\n",
       "  <tbody>\n",
       "    <tr>\n",
       "      <th>0</th>\n",
       "      <td>A</td>\n",
       "      <td>32</td>\n",
       "    </tr>\n",
       "    <tr>\n",
       "      <th>1</th>\n",
       "      <td>B</td>\n",
       "      <td>43</td>\n",
       "    </tr>\n",
       "    <tr>\n",
       "      <th>2</th>\n",
       "      <td>C</td>\n",
       "      <td>50</td>\n",
       "    </tr>\n",
       "  </tbody>\n",
       "</table>\n",
       "</div>"
      ],
      "text/plain": [
       "  Category  Values\n",
       "0        A      32\n",
       "1        B      43\n",
       "2        C      50"
      ]
     },
     "execution_count": 9,
     "metadata": {},
     "output_type": "execute_result"
    }
   ],
   "source": [
    "df2.head()"
   ]
  },
  {
   "cell_type": "markdown",
   "metadata": {},
   "source": [
    "## Using Cufflinks and iplot()\n",
    "\n",
    "* scatter\n",
    "* bar\n",
    "* box\n",
    "* spread\n",
    "* ratio\n",
    "* heatmap\n",
    "* surface\n",
    "* histogram\n",
    "* bubble"
   ]
  },
  {
   "cell_type": "markdown",
   "metadata": {},
   "source": [
    "## Scatter"
   ]
  },
  {
   "cell_type": "code",
   "execution_count": 10,
   "metadata": {},
   "outputs": [
    {
     "data": {
      "application/vnd.plotly.v1+json": {
       "config": {
        "linkText": "Export to plot.ly",
        "plotlyServerURL": "https://plot.ly",
        "showLink": true
       },
       "data": [
        {
         "line": {
          "color": "rgba(255, 153, 51, 1.0)",
          "dash": "solid",
          "shape": "linear",
          "width": 1.3
         },
         "marker": {
          "size": 10,
          "symbol": "circle"
         },
         "mode": "markers",
         "name": "B",
         "text": "",
         "type": "scatter",
         "x": [
          0.1939937172428786,
          0.01198709357479974,
          -0.9197269033255341,
          -0.5438327088373623,
          0.7834803322226556,
          -0.6708218107355405,
          -1.2270086594013148,
          -1.5945161544505293,
          -0.9907976523527117,
          -1.1899911221168242,
          1.06555728983655,
          2.094349657907453,
          -0.7653286352163223,
          1.433977366346678,
          0.1025579048479289,
          0.5415168750971099,
          0.6220415367131382,
          -0.04484554676772563,
          0.6955404172357864,
          -0.11957780741457012,
          1.0271108203907722,
          0.6507373589725515,
          -0.7063755562214526,
          1.6571952496589455,
          1.146856945684601,
          -0.49529121555876104,
          1.1840268798212865,
          -0.7724289536911138,
          0.2527295692748135,
          -0.7889106018528703,
          0.23066964593224856,
          -1.8073249839624868,
          0.772958272740142,
          -0.63828408764981,
          0.04419548834580432,
          -0.42033677316336115,
          0.40624489606208614,
          0.5656080556659431,
          -0.6145851682752206,
          -0.6778165800450257,
          -0.8857667081316852,
          0.23543865663786595,
          -0.64751953126351,
          -1.6272795581357524,
          -0.6442866082721088,
          0.1598415091526614,
          -1.5846278315156788,
          -0.7362655278450032,
          -0.7776486911955109,
          -1.1613864726504064,
          0.23645653791656362,
          -0.046116737128403223,
          -0.029034089438273472,
          -0.8685421833611577,
          0.2935712096704209,
          -0.8739308445678745,
          1.2397302903491216,
          -1.0913376504437429,
          -0.6048710523781545,
          0.08859006580896896,
          -1.0303228102801352,
          -1.7636878381657142,
          -0.14365995147603303,
          0.14903229630509462,
          -0.6075544438387713,
          -1.9829405790562238,
          0.40415777675319375,
          0.9457361120828759,
          -0.6755714235167501,
          0.8713559375981939,
          0.4739137310744739,
          0.3147522180127868,
          -0.2046546098406741,
          0.14490624189352064,
          -1.5887453539495555,
          0.9561067061253106,
          1.730784322102986,
          0.9641936369270744,
          0.18758257018712607,
          -1.468477230522763,
          -1.396553080753436,
          -0.15851043767701425,
          0.25171776094821763,
          0.39175943173832994,
          1.0017592643824145,
          0.21353478370158163,
          0.17203759000931104,
          -0.6589458788707,
          1.1948069902329483,
          1.5726935605570183,
          0.17965639147172213,
          1.1752864388876985,
          0.017479947472017726,
          -1.196331042019884,
          -0.12445553401560037,
          -0.5533379425308373,
          -0.5705664103816233,
          0.7525227768380952,
          -0.15743217857562775,
          -1.4831723894832922
         ],
         "y": [
          0.23368246569060097,
          -0.9442522999075037,
          1.4757508350619062,
          0.6583319804969867,
          0.15258406889106102,
          1.3158552472659093,
          -1.1185223279965273,
          -0.39158046812888286,
          0.4227492695302025,
          -0.4909341004421402,
          0.7128455728079772,
          -0.15126225022666062,
          -1.2023222572617485,
          -0.8598471122662901,
          0.37748366577390813,
          -0.37771219854476956,
          -1.0151406391317663,
          -0.14193643232479458,
          0.8809736707630573,
          -0.23316113463568516,
          -0.5983997236376914,
          0.03792582797495273,
          -0.32118370929148204,
          -0.8462980786265933,
          0.7903198321341133,
          0.11392102390425404,
          -0.16772724666873615,
          0.1829803492254897,
          -0.24904256392431023,
          0.29629447097116984,
          0.26853531155525406,
          0.3436911031362945,
          -0.46546772335101344,
          -1.9565340522664583,
          -0.48789908862859693,
          0.5750153580790885,
          1.2110326819337072,
          -0.009798274879315942,
          0.12101713494682781,
          1.0030236847193514,
          0.03861309294556079,
          -0.2495541588401459,
          1.7273514293487122,
          1.3084028742436131,
          0.4305763232394022,
          -0.7869084257361719,
          0.8254293478530841,
          -0.43502106798764056,
          -0.13354688307494209,
          0.6219701085364925,
          -1.8580516396037385,
          1.1286789826664125,
          -1.0625405436631963,
          -0.9365892727376878,
          0.6806982847756373,
          -0.1946403985222004,
          0.4761758840675131,
          -1.0088981756190227,
          -0.7992768349220223,
          -0.35794293507930447,
          -0.17325042991865502,
          -0.4230132705446578,
          0.1427484128576023,
          -0.7004909250080186,
          1.774090400681258,
          -1.2169058705918558,
          0.46261600529206226,
          -0.34851608304004095,
          -0.4817134781062881,
          0.46460131852352665,
          -1.869064937974819,
          0.834009784941836,
          -0.9559119847388752,
          0.20920885600486094,
          0.39019270359429936,
          0.39307707529506475,
          0.3343726549154573,
          -0.684670668616076,
          -0.8048142809658069,
          0.88284740018694,
          -0.3087500230206805,
          0.46458735139030743,
          -1.490421224828702,
          1.0168255723243191,
          -3.036278794878397,
          -0.5567832667949063,
          0.3044588029679682,
          -1.3675017563132523,
          -1.0363699333245238,
          0.20591239093078306,
          -0.34700208542240774,
          -1.1698183128242192,
          -1.6901164485187143,
          -0.19161696321123506,
          -0.8388321875453237,
          0.22335717569772506,
          1.2499142008432396,
          0.8903687204778106,
          0.9098245017412132,
          -1.4504571813426723
         ]
        }
       ],
       "layout": {
        "legend": {
         "bgcolor": "#F5F6F9",
         "font": {
          "color": "#4D5663"
         }
        },
        "paper_bgcolor": "#F5F6F9",
        "plot_bgcolor": "#F5F6F9",
        "template": {
         "data": {
          "bar": [
           {
            "error_x": {
             "color": "#2a3f5f"
            },
            "error_y": {
             "color": "#2a3f5f"
            },
            "marker": {
             "line": {
              "color": "#E5ECF6",
              "width": 0.5
             }
            },
            "type": "bar"
           }
          ],
          "barpolar": [
           {
            "marker": {
             "line": {
              "color": "#E5ECF6",
              "width": 0.5
             }
            },
            "type": "barpolar"
           }
          ],
          "carpet": [
           {
            "aaxis": {
             "endlinecolor": "#2a3f5f",
             "gridcolor": "white",
             "linecolor": "white",
             "minorgridcolor": "white",
             "startlinecolor": "#2a3f5f"
            },
            "baxis": {
             "endlinecolor": "#2a3f5f",
             "gridcolor": "white",
             "linecolor": "white",
             "minorgridcolor": "white",
             "startlinecolor": "#2a3f5f"
            },
            "type": "carpet"
           }
          ],
          "choropleth": [
           {
            "colorbar": {
             "outlinewidth": 0,
             "ticks": ""
            },
            "type": "choropleth"
           }
          ],
          "contour": [
           {
            "colorbar": {
             "outlinewidth": 0,
             "ticks": ""
            },
            "colorscale": [
             [
              0,
              "#0d0887"
             ],
             [
              0.1111111111111111,
              "#46039f"
             ],
             [
              0.2222222222222222,
              "#7201a8"
             ],
             [
              0.3333333333333333,
              "#9c179e"
             ],
             [
              0.4444444444444444,
              "#bd3786"
             ],
             [
              0.5555555555555556,
              "#d8576b"
             ],
             [
              0.6666666666666666,
              "#ed7953"
             ],
             [
              0.7777777777777778,
              "#fb9f3a"
             ],
             [
              0.8888888888888888,
              "#fdca26"
             ],
             [
              1,
              "#f0f921"
             ]
            ],
            "type": "contour"
           }
          ],
          "contourcarpet": [
           {
            "colorbar": {
             "outlinewidth": 0,
             "ticks": ""
            },
            "type": "contourcarpet"
           }
          ],
          "heatmap": [
           {
            "colorbar": {
             "outlinewidth": 0,
             "ticks": ""
            },
            "colorscale": [
             [
              0,
              "#0d0887"
             ],
             [
              0.1111111111111111,
              "#46039f"
             ],
             [
              0.2222222222222222,
              "#7201a8"
             ],
             [
              0.3333333333333333,
              "#9c179e"
             ],
             [
              0.4444444444444444,
              "#bd3786"
             ],
             [
              0.5555555555555556,
              "#d8576b"
             ],
             [
              0.6666666666666666,
              "#ed7953"
             ],
             [
              0.7777777777777778,
              "#fb9f3a"
             ],
             [
              0.8888888888888888,
              "#fdca26"
             ],
             [
              1,
              "#f0f921"
             ]
            ],
            "type": "heatmap"
           }
          ],
          "heatmapgl": [
           {
            "colorbar": {
             "outlinewidth": 0,
             "ticks": ""
            },
            "colorscale": [
             [
              0,
              "#0d0887"
             ],
             [
              0.1111111111111111,
              "#46039f"
             ],
             [
              0.2222222222222222,
              "#7201a8"
             ],
             [
              0.3333333333333333,
              "#9c179e"
             ],
             [
              0.4444444444444444,
              "#bd3786"
             ],
             [
              0.5555555555555556,
              "#d8576b"
             ],
             [
              0.6666666666666666,
              "#ed7953"
             ],
             [
              0.7777777777777778,
              "#fb9f3a"
             ],
             [
              0.8888888888888888,
              "#fdca26"
             ],
             [
              1,
              "#f0f921"
             ]
            ],
            "type": "heatmapgl"
           }
          ],
          "histogram": [
           {
            "marker": {
             "colorbar": {
              "outlinewidth": 0,
              "ticks": ""
             }
            },
            "type": "histogram"
           }
          ],
          "histogram2d": [
           {
            "colorbar": {
             "outlinewidth": 0,
             "ticks": ""
            },
            "colorscale": [
             [
              0,
              "#0d0887"
             ],
             [
              0.1111111111111111,
              "#46039f"
             ],
             [
              0.2222222222222222,
              "#7201a8"
             ],
             [
              0.3333333333333333,
              "#9c179e"
             ],
             [
              0.4444444444444444,
              "#bd3786"
             ],
             [
              0.5555555555555556,
              "#d8576b"
             ],
             [
              0.6666666666666666,
              "#ed7953"
             ],
             [
              0.7777777777777778,
              "#fb9f3a"
             ],
             [
              0.8888888888888888,
              "#fdca26"
             ],
             [
              1,
              "#f0f921"
             ]
            ],
            "type": "histogram2d"
           }
          ],
          "histogram2dcontour": [
           {
            "colorbar": {
             "outlinewidth": 0,
             "ticks": ""
            },
            "colorscale": [
             [
              0,
              "#0d0887"
             ],
             [
              0.1111111111111111,
              "#46039f"
             ],
             [
              0.2222222222222222,
              "#7201a8"
             ],
             [
              0.3333333333333333,
              "#9c179e"
             ],
             [
              0.4444444444444444,
              "#bd3786"
             ],
             [
              0.5555555555555556,
              "#d8576b"
             ],
             [
              0.6666666666666666,
              "#ed7953"
             ],
             [
              0.7777777777777778,
              "#fb9f3a"
             ],
             [
              0.8888888888888888,
              "#fdca26"
             ],
             [
              1,
              "#f0f921"
             ]
            ],
            "type": "histogram2dcontour"
           }
          ],
          "mesh3d": [
           {
            "colorbar": {
             "outlinewidth": 0,
             "ticks": ""
            },
            "type": "mesh3d"
           }
          ],
          "parcoords": [
           {
            "line": {
             "colorbar": {
              "outlinewidth": 0,
              "ticks": ""
             }
            },
            "type": "parcoords"
           }
          ],
          "pie": [
           {
            "automargin": true,
            "type": "pie"
           }
          ],
          "scatter": [
           {
            "marker": {
             "colorbar": {
              "outlinewidth": 0,
              "ticks": ""
             }
            },
            "type": "scatter"
           }
          ],
          "scatter3d": [
           {
            "line": {
             "colorbar": {
              "outlinewidth": 0,
              "ticks": ""
             }
            },
            "marker": {
             "colorbar": {
              "outlinewidth": 0,
              "ticks": ""
             }
            },
            "type": "scatter3d"
           }
          ],
          "scattercarpet": [
           {
            "marker": {
             "colorbar": {
              "outlinewidth": 0,
              "ticks": ""
             }
            },
            "type": "scattercarpet"
           }
          ],
          "scattergeo": [
           {
            "marker": {
             "colorbar": {
              "outlinewidth": 0,
              "ticks": ""
             }
            },
            "type": "scattergeo"
           }
          ],
          "scattergl": [
           {
            "marker": {
             "colorbar": {
              "outlinewidth": 0,
              "ticks": ""
             }
            },
            "type": "scattergl"
           }
          ],
          "scattermapbox": [
           {
            "marker": {
             "colorbar": {
              "outlinewidth": 0,
              "ticks": ""
             }
            },
            "type": "scattermapbox"
           }
          ],
          "scatterpolar": [
           {
            "marker": {
             "colorbar": {
              "outlinewidth": 0,
              "ticks": ""
             }
            },
            "type": "scatterpolar"
           }
          ],
          "scatterpolargl": [
           {
            "marker": {
             "colorbar": {
              "outlinewidth": 0,
              "ticks": ""
             }
            },
            "type": "scatterpolargl"
           }
          ],
          "scatterternary": [
           {
            "marker": {
             "colorbar": {
              "outlinewidth": 0,
              "ticks": ""
             }
            },
            "type": "scatterternary"
           }
          ],
          "surface": [
           {
            "colorbar": {
             "outlinewidth": 0,
             "ticks": ""
            },
            "colorscale": [
             [
              0,
              "#0d0887"
             ],
             [
              0.1111111111111111,
              "#46039f"
             ],
             [
              0.2222222222222222,
              "#7201a8"
             ],
             [
              0.3333333333333333,
              "#9c179e"
             ],
             [
              0.4444444444444444,
              "#bd3786"
             ],
             [
              0.5555555555555556,
              "#d8576b"
             ],
             [
              0.6666666666666666,
              "#ed7953"
             ],
             [
              0.7777777777777778,
              "#fb9f3a"
             ],
             [
              0.8888888888888888,
              "#fdca26"
             ],
             [
              1,
              "#f0f921"
             ]
            ],
            "type": "surface"
           }
          ],
          "table": [
           {
            "cells": {
             "fill": {
              "color": "#EBF0F8"
             },
             "line": {
              "color": "white"
             }
            },
            "header": {
             "fill": {
              "color": "#C8D4E3"
             },
             "line": {
              "color": "white"
             }
            },
            "type": "table"
           }
          ]
         },
         "layout": {
          "annotationdefaults": {
           "arrowcolor": "#2a3f5f",
           "arrowhead": 0,
           "arrowwidth": 1
          },
          "coloraxis": {
           "colorbar": {
            "outlinewidth": 0,
            "ticks": ""
           }
          },
          "colorscale": {
           "diverging": [
            [
             0,
             "#8e0152"
            ],
            [
             0.1,
             "#c51b7d"
            ],
            [
             0.2,
             "#de77ae"
            ],
            [
             0.3,
             "#f1b6da"
            ],
            [
             0.4,
             "#fde0ef"
            ],
            [
             0.5,
             "#f7f7f7"
            ],
            [
             0.6,
             "#e6f5d0"
            ],
            [
             0.7,
             "#b8e186"
            ],
            [
             0.8,
             "#7fbc41"
            ],
            [
             0.9,
             "#4d9221"
            ],
            [
             1,
             "#276419"
            ]
           ],
           "sequential": [
            [
             0,
             "#0d0887"
            ],
            [
             0.1111111111111111,
             "#46039f"
            ],
            [
             0.2222222222222222,
             "#7201a8"
            ],
            [
             0.3333333333333333,
             "#9c179e"
            ],
            [
             0.4444444444444444,
             "#bd3786"
            ],
            [
             0.5555555555555556,
             "#d8576b"
            ],
            [
             0.6666666666666666,
             "#ed7953"
            ],
            [
             0.7777777777777778,
             "#fb9f3a"
            ],
            [
             0.8888888888888888,
             "#fdca26"
            ],
            [
             1,
             "#f0f921"
            ]
           ],
           "sequentialminus": [
            [
             0,
             "#0d0887"
            ],
            [
             0.1111111111111111,
             "#46039f"
            ],
            [
             0.2222222222222222,
             "#7201a8"
            ],
            [
             0.3333333333333333,
             "#9c179e"
            ],
            [
             0.4444444444444444,
             "#bd3786"
            ],
            [
             0.5555555555555556,
             "#d8576b"
            ],
            [
             0.6666666666666666,
             "#ed7953"
            ],
            [
             0.7777777777777778,
             "#fb9f3a"
            ],
            [
             0.8888888888888888,
             "#fdca26"
            ],
            [
             1,
             "#f0f921"
            ]
           ]
          },
          "colorway": [
           "#636efa",
           "#EF553B",
           "#00cc96",
           "#ab63fa",
           "#FFA15A",
           "#19d3f3",
           "#FF6692",
           "#B6E880",
           "#FF97FF",
           "#FECB52"
          ],
          "font": {
           "color": "#2a3f5f"
          },
          "geo": {
           "bgcolor": "white",
           "lakecolor": "white",
           "landcolor": "#E5ECF6",
           "showlakes": true,
           "showland": true,
           "subunitcolor": "white"
          },
          "hoverlabel": {
           "align": "left"
          },
          "hovermode": "closest",
          "mapbox": {
           "style": "light"
          },
          "paper_bgcolor": "white",
          "plot_bgcolor": "#E5ECF6",
          "polar": {
           "angularaxis": {
            "gridcolor": "white",
            "linecolor": "white",
            "ticks": ""
           },
           "bgcolor": "#E5ECF6",
           "radialaxis": {
            "gridcolor": "white",
            "linecolor": "white",
            "ticks": ""
           }
          },
          "scene": {
           "xaxis": {
            "backgroundcolor": "#E5ECF6",
            "gridcolor": "white",
            "gridwidth": 2,
            "linecolor": "white",
            "showbackground": true,
            "ticks": "",
            "zerolinecolor": "white"
           },
           "yaxis": {
            "backgroundcolor": "#E5ECF6",
            "gridcolor": "white",
            "gridwidth": 2,
            "linecolor": "white",
            "showbackground": true,
            "ticks": "",
            "zerolinecolor": "white"
           },
           "zaxis": {
            "backgroundcolor": "#E5ECF6",
            "gridcolor": "white",
            "gridwidth": 2,
            "linecolor": "white",
            "showbackground": true,
            "ticks": "",
            "zerolinecolor": "white"
           }
          },
          "shapedefaults": {
           "line": {
            "color": "#2a3f5f"
           }
          },
          "ternary": {
           "aaxis": {
            "gridcolor": "white",
            "linecolor": "white",
            "ticks": ""
           },
           "baxis": {
            "gridcolor": "white",
            "linecolor": "white",
            "ticks": ""
           },
           "bgcolor": "#E5ECF6",
           "caxis": {
            "gridcolor": "white",
            "linecolor": "white",
            "ticks": ""
           }
          },
          "title": {
           "x": 0.05
          },
          "xaxis": {
           "automargin": true,
           "gridcolor": "white",
           "linecolor": "white",
           "ticks": "",
           "title": {
            "standoff": 15
           },
           "zerolinecolor": "white",
           "zerolinewidth": 2
          },
          "yaxis": {
           "automargin": true,
           "gridcolor": "white",
           "linecolor": "white",
           "ticks": "",
           "title": {
            "standoff": 15
           },
           "zerolinecolor": "white",
           "zerolinewidth": 2
          }
         }
        },
        "title": {
         "font": {
          "color": "#4D5663"
         }
        },
        "xaxis": {
         "gridcolor": "#E1E5ED",
         "showgrid": true,
         "tickfont": {
          "color": "#4D5663"
         },
         "title": {
          "font": {
           "color": "#4D5663"
          },
          "text": ""
         },
         "zerolinecolor": "#E1E5ED"
        },
        "yaxis": {
         "gridcolor": "#E1E5ED",
         "showgrid": true,
         "tickfont": {
          "color": "#4D5663"
         },
         "title": {
          "font": {
           "color": "#4D5663"
          },
          "text": ""
         },
         "zerolinecolor": "#E1E5ED"
        }
       }
      },
      "text/html": [
       "<div>\n",
       "        \n",
       "        \n",
       "            <div id=\"7795458a-0170-4eb5-bcf9-2ae23a9c9e59\" class=\"plotly-graph-div\" style=\"height:525px; width:100%;\"></div>\n",
       "            <script type=\"text/javascript\">\n",
       "                require([\"plotly\"], function(Plotly) {\n",
       "                    window.PLOTLYENV=window.PLOTLYENV || {};\n",
       "                    window.PLOTLYENV.BASE_URL='https://plot.ly';\n",
       "                    \n",
       "                if (document.getElementById(\"7795458a-0170-4eb5-bcf9-2ae23a9c9e59\")) {\n",
       "                    Plotly.newPlot(\n",
       "                        '7795458a-0170-4eb5-bcf9-2ae23a9c9e59',\n",
       "                        [{\"line\": {\"color\": \"rgba(255, 153, 51, 1.0)\", \"dash\": \"solid\", \"shape\": \"linear\", \"width\": 1.3}, \"marker\": {\"size\": 10, \"symbol\": \"circle\"}, \"mode\": \"markers\", \"name\": \"B\", \"text\": \"\", \"type\": \"scatter\", \"x\": [0.1939937172428786, 0.01198709357479974, -0.9197269033255341, -0.5438327088373623, 0.7834803322226556, -0.6708218107355405, -1.2270086594013148, -1.5945161544505293, -0.9907976523527117, -1.1899911221168242, 1.06555728983655, 2.094349657907453, -0.7653286352163223, 1.433977366346678, 0.1025579048479289, 0.5415168750971099, 0.6220415367131382, -0.04484554676772563, 0.6955404172357864, -0.11957780741457012, 1.0271108203907722, 0.6507373589725515, -0.7063755562214526, 1.6571952496589455, 1.146856945684601, -0.49529121555876104, 1.1840268798212865, -0.7724289536911138, 0.2527295692748135, -0.7889106018528703, 0.23066964593224856, -1.8073249839624868, 0.772958272740142, -0.63828408764981, 0.04419548834580432, -0.42033677316336115, 0.40624489606208614, 0.5656080556659431, -0.6145851682752206, -0.6778165800450257, -0.8857667081316852, 0.23543865663786595, -0.64751953126351, -1.6272795581357524, -0.6442866082721088, 0.1598415091526614, -1.5846278315156788, -0.7362655278450032, -0.7776486911955109, -1.1613864726504064, 0.23645653791656362, -0.046116737128403223, -0.029034089438273472, -0.8685421833611577, 0.2935712096704209, -0.8739308445678745, 1.2397302903491216, -1.0913376504437429, -0.6048710523781545, 0.08859006580896896, -1.0303228102801352, -1.7636878381657142, -0.14365995147603303, 0.14903229630509462, -0.6075544438387713, -1.9829405790562238, 0.40415777675319375, 0.9457361120828759, -0.6755714235167501, 0.8713559375981939, 0.4739137310744739, 0.3147522180127868, -0.2046546098406741, 0.14490624189352064, -1.5887453539495555, 0.9561067061253106, 1.730784322102986, 0.9641936369270744, 0.18758257018712607, -1.468477230522763, -1.396553080753436, -0.15851043767701425, 0.25171776094821763, 0.39175943173832994, 1.0017592643824145, 0.21353478370158163, 0.17203759000931104, -0.6589458788707, 1.1948069902329483, 1.5726935605570183, 0.17965639147172213, 1.1752864388876985, 0.017479947472017726, -1.196331042019884, -0.12445553401560037, -0.5533379425308373, -0.5705664103816233, 0.7525227768380952, -0.15743217857562775, -1.4831723894832922], \"y\": [0.23368246569060097, -0.9442522999075037, 1.4757508350619062, 0.6583319804969867, 0.15258406889106102, 1.3158552472659093, -1.1185223279965273, -0.39158046812888286, 0.4227492695302025, -0.4909341004421402, 0.7128455728079772, -0.15126225022666062, -1.2023222572617485, -0.8598471122662901, 0.37748366577390813, -0.37771219854476956, -1.0151406391317663, -0.14193643232479458, 0.8809736707630573, -0.23316113463568516, -0.5983997236376914, 0.03792582797495273, -0.32118370929148204, -0.8462980786265933, 0.7903198321341133, 0.11392102390425404, -0.16772724666873615, 0.1829803492254897, -0.24904256392431023, 0.29629447097116984, 0.26853531155525406, 0.3436911031362945, -0.46546772335101344, -1.9565340522664583, -0.48789908862859693, 0.5750153580790885, 1.2110326819337072, -0.009798274879315942, 0.12101713494682781, 1.0030236847193514, 0.03861309294556079, -0.2495541588401459, 1.7273514293487122, 1.3084028742436131, 0.4305763232394022, -0.7869084257361719, 0.8254293478530841, -0.43502106798764056, -0.13354688307494209, 0.6219701085364925, -1.8580516396037385, 1.1286789826664125, -1.0625405436631963, -0.9365892727376878, 0.6806982847756373, -0.1946403985222004, 0.4761758840675131, -1.0088981756190227, -0.7992768349220223, -0.35794293507930447, -0.17325042991865502, -0.4230132705446578, 0.1427484128576023, -0.7004909250080186, 1.774090400681258, -1.2169058705918558, 0.46261600529206226, -0.34851608304004095, -0.4817134781062881, 0.46460131852352665, -1.869064937974819, 0.834009784941836, -0.9559119847388752, 0.20920885600486094, 0.39019270359429936, 0.39307707529506475, 0.3343726549154573, -0.684670668616076, -0.8048142809658069, 0.88284740018694, -0.3087500230206805, 0.46458735139030743, -1.490421224828702, 1.0168255723243191, -3.036278794878397, -0.5567832667949063, 0.3044588029679682, -1.3675017563132523, -1.0363699333245238, 0.20591239093078306, -0.34700208542240774, -1.1698183128242192, -1.6901164485187143, -0.19161696321123506, -0.8388321875453237, 0.22335717569772506, 1.2499142008432396, 0.8903687204778106, 0.9098245017412132, -1.4504571813426723]}],\n",
       "                        {\"legend\": {\"bgcolor\": \"#F5F6F9\", \"font\": {\"color\": \"#4D5663\"}}, \"paper_bgcolor\": \"#F5F6F9\", \"plot_bgcolor\": \"#F5F6F9\", \"template\": {\"data\": {\"bar\": [{\"error_x\": {\"color\": \"#2a3f5f\"}, \"error_y\": {\"color\": \"#2a3f5f\"}, \"marker\": {\"line\": {\"color\": \"#E5ECF6\", \"width\": 0.5}}, \"type\": \"bar\"}], \"barpolar\": [{\"marker\": {\"line\": {\"color\": \"#E5ECF6\", \"width\": 0.5}}, \"type\": \"barpolar\"}], \"carpet\": [{\"aaxis\": {\"endlinecolor\": \"#2a3f5f\", \"gridcolor\": \"white\", \"linecolor\": \"white\", \"minorgridcolor\": \"white\", \"startlinecolor\": \"#2a3f5f\"}, \"baxis\": {\"endlinecolor\": \"#2a3f5f\", \"gridcolor\": \"white\", \"linecolor\": \"white\", \"minorgridcolor\": \"white\", \"startlinecolor\": \"#2a3f5f\"}, \"type\": \"carpet\"}], \"choropleth\": [{\"colorbar\": {\"outlinewidth\": 0, \"ticks\": \"\"}, \"type\": \"choropleth\"}], \"contour\": [{\"colorbar\": {\"outlinewidth\": 0, \"ticks\": \"\"}, \"colorscale\": [[0.0, \"#0d0887\"], [0.1111111111111111, \"#46039f\"], [0.2222222222222222, \"#7201a8\"], [0.3333333333333333, \"#9c179e\"], [0.4444444444444444, \"#bd3786\"], [0.5555555555555556, \"#d8576b\"], [0.6666666666666666, \"#ed7953\"], [0.7777777777777778, \"#fb9f3a\"], [0.8888888888888888, \"#fdca26\"], [1.0, \"#f0f921\"]], \"type\": \"contour\"}], \"contourcarpet\": [{\"colorbar\": {\"outlinewidth\": 0, \"ticks\": \"\"}, \"type\": \"contourcarpet\"}], \"heatmap\": [{\"colorbar\": {\"outlinewidth\": 0, \"ticks\": \"\"}, \"colorscale\": [[0.0, \"#0d0887\"], [0.1111111111111111, \"#46039f\"], [0.2222222222222222, \"#7201a8\"], [0.3333333333333333, \"#9c179e\"], [0.4444444444444444, \"#bd3786\"], [0.5555555555555556, \"#d8576b\"], [0.6666666666666666, \"#ed7953\"], [0.7777777777777778, \"#fb9f3a\"], [0.8888888888888888, \"#fdca26\"], [1.0, \"#f0f921\"]], \"type\": \"heatmap\"}], \"heatmapgl\": [{\"colorbar\": {\"outlinewidth\": 0, \"ticks\": \"\"}, \"colorscale\": [[0.0, \"#0d0887\"], [0.1111111111111111, \"#46039f\"], [0.2222222222222222, \"#7201a8\"], [0.3333333333333333, \"#9c179e\"], [0.4444444444444444, \"#bd3786\"], [0.5555555555555556, \"#d8576b\"], [0.6666666666666666, \"#ed7953\"], [0.7777777777777778, \"#fb9f3a\"], [0.8888888888888888, \"#fdca26\"], [1.0, \"#f0f921\"]], \"type\": \"heatmapgl\"}], \"histogram\": [{\"marker\": {\"colorbar\": {\"outlinewidth\": 0, \"ticks\": \"\"}}, \"type\": \"histogram\"}], \"histogram2d\": [{\"colorbar\": {\"outlinewidth\": 0, \"ticks\": \"\"}, \"colorscale\": [[0.0, \"#0d0887\"], [0.1111111111111111, \"#46039f\"], [0.2222222222222222, \"#7201a8\"], [0.3333333333333333, \"#9c179e\"], [0.4444444444444444, \"#bd3786\"], [0.5555555555555556, \"#d8576b\"], [0.6666666666666666, \"#ed7953\"], [0.7777777777777778, \"#fb9f3a\"], [0.8888888888888888, \"#fdca26\"], [1.0, \"#f0f921\"]], \"type\": \"histogram2d\"}], \"histogram2dcontour\": [{\"colorbar\": {\"outlinewidth\": 0, \"ticks\": \"\"}, \"colorscale\": [[0.0, \"#0d0887\"], [0.1111111111111111, \"#46039f\"], [0.2222222222222222, \"#7201a8\"], [0.3333333333333333, \"#9c179e\"], [0.4444444444444444, \"#bd3786\"], [0.5555555555555556, \"#d8576b\"], [0.6666666666666666, \"#ed7953\"], [0.7777777777777778, \"#fb9f3a\"], [0.8888888888888888, \"#fdca26\"], [1.0, \"#f0f921\"]], \"type\": \"histogram2dcontour\"}], \"mesh3d\": [{\"colorbar\": {\"outlinewidth\": 0, \"ticks\": \"\"}, \"type\": \"mesh3d\"}], \"parcoords\": [{\"line\": {\"colorbar\": {\"outlinewidth\": 0, \"ticks\": \"\"}}, \"type\": \"parcoords\"}], \"pie\": [{\"automargin\": true, \"type\": \"pie\"}], \"scatter\": [{\"marker\": {\"colorbar\": {\"outlinewidth\": 0, \"ticks\": \"\"}}, \"type\": \"scatter\"}], \"scatter3d\": [{\"line\": {\"colorbar\": {\"outlinewidth\": 0, \"ticks\": \"\"}}, \"marker\": {\"colorbar\": {\"outlinewidth\": 0, \"ticks\": \"\"}}, \"type\": \"scatter3d\"}], \"scattercarpet\": [{\"marker\": {\"colorbar\": {\"outlinewidth\": 0, \"ticks\": \"\"}}, \"type\": \"scattercarpet\"}], \"scattergeo\": [{\"marker\": {\"colorbar\": {\"outlinewidth\": 0, \"ticks\": \"\"}}, \"type\": \"scattergeo\"}], \"scattergl\": [{\"marker\": {\"colorbar\": {\"outlinewidth\": 0, \"ticks\": \"\"}}, \"type\": \"scattergl\"}], \"scattermapbox\": [{\"marker\": {\"colorbar\": {\"outlinewidth\": 0, \"ticks\": \"\"}}, \"type\": \"scattermapbox\"}], \"scatterpolar\": [{\"marker\": {\"colorbar\": {\"outlinewidth\": 0, \"ticks\": \"\"}}, \"type\": \"scatterpolar\"}], \"scatterpolargl\": [{\"marker\": {\"colorbar\": {\"outlinewidth\": 0, \"ticks\": \"\"}}, \"type\": \"scatterpolargl\"}], \"scatterternary\": [{\"marker\": {\"colorbar\": {\"outlinewidth\": 0, \"ticks\": \"\"}}, \"type\": \"scatterternary\"}], \"surface\": [{\"colorbar\": {\"outlinewidth\": 0, \"ticks\": \"\"}, \"colorscale\": [[0.0, \"#0d0887\"], [0.1111111111111111, \"#46039f\"], [0.2222222222222222, \"#7201a8\"], [0.3333333333333333, \"#9c179e\"], [0.4444444444444444, \"#bd3786\"], [0.5555555555555556, \"#d8576b\"], [0.6666666666666666, \"#ed7953\"], [0.7777777777777778, \"#fb9f3a\"], [0.8888888888888888, \"#fdca26\"], [1.0, \"#f0f921\"]], \"type\": \"surface\"}], \"table\": [{\"cells\": {\"fill\": {\"color\": \"#EBF0F8\"}, \"line\": {\"color\": \"white\"}}, \"header\": {\"fill\": {\"color\": \"#C8D4E3\"}, \"line\": {\"color\": \"white\"}}, \"type\": \"table\"}]}, \"layout\": {\"annotationdefaults\": {\"arrowcolor\": \"#2a3f5f\", \"arrowhead\": 0, \"arrowwidth\": 1}, \"coloraxis\": {\"colorbar\": {\"outlinewidth\": 0, \"ticks\": \"\"}}, \"colorscale\": {\"diverging\": [[0, \"#8e0152\"], [0.1, \"#c51b7d\"], [0.2, \"#de77ae\"], [0.3, \"#f1b6da\"], [0.4, \"#fde0ef\"], [0.5, \"#f7f7f7\"], [0.6, \"#e6f5d0\"], [0.7, \"#b8e186\"], [0.8, \"#7fbc41\"], [0.9, \"#4d9221\"], [1, \"#276419\"]], \"sequential\": [[0.0, \"#0d0887\"], [0.1111111111111111, \"#46039f\"], [0.2222222222222222, \"#7201a8\"], [0.3333333333333333, \"#9c179e\"], [0.4444444444444444, \"#bd3786\"], [0.5555555555555556, \"#d8576b\"], [0.6666666666666666, \"#ed7953\"], [0.7777777777777778, \"#fb9f3a\"], [0.8888888888888888, \"#fdca26\"], [1.0, \"#f0f921\"]], \"sequentialminus\": [[0.0, \"#0d0887\"], [0.1111111111111111, \"#46039f\"], [0.2222222222222222, \"#7201a8\"], [0.3333333333333333, \"#9c179e\"], [0.4444444444444444, \"#bd3786\"], [0.5555555555555556, \"#d8576b\"], [0.6666666666666666, \"#ed7953\"], [0.7777777777777778, \"#fb9f3a\"], [0.8888888888888888, \"#fdca26\"], [1.0, \"#f0f921\"]]}, \"colorway\": [\"#636efa\", \"#EF553B\", \"#00cc96\", \"#ab63fa\", \"#FFA15A\", \"#19d3f3\", \"#FF6692\", \"#B6E880\", \"#FF97FF\", \"#FECB52\"], \"font\": {\"color\": \"#2a3f5f\"}, \"geo\": {\"bgcolor\": \"white\", \"lakecolor\": \"white\", \"landcolor\": \"#E5ECF6\", \"showlakes\": true, \"showland\": true, \"subunitcolor\": \"white\"}, \"hoverlabel\": {\"align\": \"left\"}, \"hovermode\": \"closest\", \"mapbox\": {\"style\": \"light\"}, \"paper_bgcolor\": \"white\", \"plot_bgcolor\": \"#E5ECF6\", \"polar\": {\"angularaxis\": {\"gridcolor\": \"white\", \"linecolor\": \"white\", \"ticks\": \"\"}, \"bgcolor\": \"#E5ECF6\", \"radialaxis\": {\"gridcolor\": \"white\", \"linecolor\": \"white\", \"ticks\": \"\"}}, \"scene\": {\"xaxis\": {\"backgroundcolor\": \"#E5ECF6\", \"gridcolor\": \"white\", \"gridwidth\": 2, \"linecolor\": \"white\", \"showbackground\": true, \"ticks\": \"\", \"zerolinecolor\": \"white\"}, \"yaxis\": {\"backgroundcolor\": \"#E5ECF6\", \"gridcolor\": \"white\", \"gridwidth\": 2, \"linecolor\": \"white\", \"showbackground\": true, \"ticks\": \"\", \"zerolinecolor\": \"white\"}, \"zaxis\": {\"backgroundcolor\": \"#E5ECF6\", \"gridcolor\": \"white\", \"gridwidth\": 2, \"linecolor\": \"white\", \"showbackground\": true, \"ticks\": \"\", \"zerolinecolor\": \"white\"}}, \"shapedefaults\": {\"line\": {\"color\": \"#2a3f5f\"}}, \"ternary\": {\"aaxis\": {\"gridcolor\": \"white\", \"linecolor\": \"white\", \"ticks\": \"\"}, \"baxis\": {\"gridcolor\": \"white\", \"linecolor\": \"white\", \"ticks\": \"\"}, \"bgcolor\": \"#E5ECF6\", \"caxis\": {\"gridcolor\": \"white\", \"linecolor\": \"white\", \"ticks\": \"\"}}, \"title\": {\"x\": 0.05}, \"xaxis\": {\"automargin\": true, \"gridcolor\": \"white\", \"linecolor\": \"white\", \"ticks\": \"\", \"title\": {\"standoff\": 15}, \"zerolinecolor\": \"white\", \"zerolinewidth\": 2}, \"yaxis\": {\"automargin\": true, \"gridcolor\": \"white\", \"linecolor\": \"white\", \"ticks\": \"\", \"title\": {\"standoff\": 15}, \"zerolinecolor\": \"white\", \"zerolinewidth\": 2}}}, \"title\": {\"font\": {\"color\": \"#4D5663\"}}, \"xaxis\": {\"gridcolor\": \"#E1E5ED\", \"showgrid\": true, \"tickfont\": {\"color\": \"#4D5663\"}, \"title\": {\"font\": {\"color\": \"#4D5663\"}, \"text\": \"\"}, \"zerolinecolor\": \"#E1E5ED\"}, \"yaxis\": {\"gridcolor\": \"#E1E5ED\", \"showgrid\": true, \"tickfont\": {\"color\": \"#4D5663\"}, \"title\": {\"font\": {\"color\": \"#4D5663\"}, \"text\": \"\"}, \"zerolinecolor\": \"#E1E5ED\"}},\n",
       "                        {\"showLink\": true, \"linkText\": \"Export to plot.ly\", \"plotlyServerURL\": \"https://plot.ly\", \"responsive\": true}\n",
       "                    ).then(function(){\n",
       "                            \n",
       "var gd = document.getElementById('7795458a-0170-4eb5-bcf9-2ae23a9c9e59');\n",
       "var x = new MutationObserver(function (mutations, observer) {{\n",
       "        var display = window.getComputedStyle(gd).display;\n",
       "        if (!display || display === 'none') {{\n",
       "            console.log([gd, 'removed!']);\n",
       "            Plotly.purge(gd);\n",
       "            observer.disconnect();\n",
       "        }}\n",
       "}});\n",
       "\n",
       "// Listen for the removal of the full notebook cells\n",
       "var notebookContainer = gd.closest('#notebook-container');\n",
       "if (notebookContainer) {{\n",
       "    x.observe(notebookContainer, {childList: true});\n",
       "}}\n",
       "\n",
       "// Listen for the clearing of the current output cell\n",
       "var outputEl = gd.closest('.output');\n",
       "if (outputEl) {{\n",
       "    x.observe(outputEl, {childList: true});\n",
       "}}\n",
       "\n",
       "                        })\n",
       "                };\n",
       "                });\n",
       "            </script>\n",
       "        </div>"
      ]
     },
     "metadata": {},
     "output_type": "display_data"
    }
   ],
   "source": [
    "df.iplot(kind='scatter',x='A',y='B',mode='markers',size=10)"
   ]
  },
  {
   "cell_type": "markdown",
   "metadata": {},
   "source": [
    "## Bar Plots"
   ]
  },
  {
   "cell_type": "code",
   "execution_count": 11,
   "metadata": {},
   "outputs": [
    {
     "data": {
      "application/vnd.plotly.v1+json": {
       "config": {
        "linkText": "Export to plot.ly",
        "plotlyServerURL": "https://plot.ly",
        "showLink": true
       },
       "data": [
        {
         "marker": {
          "color": "rgba(255, 153, 51, 0.6)",
          "line": {
           "color": "rgba(255, 153, 51, 1.0)",
           "width": 1
          }
         },
         "name": "Values",
         "orientation": "v",
         "text": "",
         "type": "bar",
         "x": [
          "A",
          "B",
          "C"
         ],
         "y": [
          32,
          43,
          50
         ]
        }
       ],
       "layout": {
        "legend": {
         "bgcolor": "#F5F6F9",
         "font": {
          "color": "#4D5663"
         }
        },
        "paper_bgcolor": "#F5F6F9",
        "plot_bgcolor": "#F5F6F9",
        "template": {
         "data": {
          "bar": [
           {
            "error_x": {
             "color": "#2a3f5f"
            },
            "error_y": {
             "color": "#2a3f5f"
            },
            "marker": {
             "line": {
              "color": "#E5ECF6",
              "width": 0.5
             }
            },
            "type": "bar"
           }
          ],
          "barpolar": [
           {
            "marker": {
             "line": {
              "color": "#E5ECF6",
              "width": 0.5
             }
            },
            "type": "barpolar"
           }
          ],
          "carpet": [
           {
            "aaxis": {
             "endlinecolor": "#2a3f5f",
             "gridcolor": "white",
             "linecolor": "white",
             "minorgridcolor": "white",
             "startlinecolor": "#2a3f5f"
            },
            "baxis": {
             "endlinecolor": "#2a3f5f",
             "gridcolor": "white",
             "linecolor": "white",
             "minorgridcolor": "white",
             "startlinecolor": "#2a3f5f"
            },
            "type": "carpet"
           }
          ],
          "choropleth": [
           {
            "colorbar": {
             "outlinewidth": 0,
             "ticks": ""
            },
            "type": "choropleth"
           }
          ],
          "contour": [
           {
            "colorbar": {
             "outlinewidth": 0,
             "ticks": ""
            },
            "colorscale": [
             [
              0,
              "#0d0887"
             ],
             [
              0.1111111111111111,
              "#46039f"
             ],
             [
              0.2222222222222222,
              "#7201a8"
             ],
             [
              0.3333333333333333,
              "#9c179e"
             ],
             [
              0.4444444444444444,
              "#bd3786"
             ],
             [
              0.5555555555555556,
              "#d8576b"
             ],
             [
              0.6666666666666666,
              "#ed7953"
             ],
             [
              0.7777777777777778,
              "#fb9f3a"
             ],
             [
              0.8888888888888888,
              "#fdca26"
             ],
             [
              1,
              "#f0f921"
             ]
            ],
            "type": "contour"
           }
          ],
          "contourcarpet": [
           {
            "colorbar": {
             "outlinewidth": 0,
             "ticks": ""
            },
            "type": "contourcarpet"
           }
          ],
          "heatmap": [
           {
            "colorbar": {
             "outlinewidth": 0,
             "ticks": ""
            },
            "colorscale": [
             [
              0,
              "#0d0887"
             ],
             [
              0.1111111111111111,
              "#46039f"
             ],
             [
              0.2222222222222222,
              "#7201a8"
             ],
             [
              0.3333333333333333,
              "#9c179e"
             ],
             [
              0.4444444444444444,
              "#bd3786"
             ],
             [
              0.5555555555555556,
              "#d8576b"
             ],
             [
              0.6666666666666666,
              "#ed7953"
             ],
             [
              0.7777777777777778,
              "#fb9f3a"
             ],
             [
              0.8888888888888888,
              "#fdca26"
             ],
             [
              1,
              "#f0f921"
             ]
            ],
            "type": "heatmap"
           }
          ],
          "heatmapgl": [
           {
            "colorbar": {
             "outlinewidth": 0,
             "ticks": ""
            },
            "colorscale": [
             [
              0,
              "#0d0887"
             ],
             [
              0.1111111111111111,
              "#46039f"
             ],
             [
              0.2222222222222222,
              "#7201a8"
             ],
             [
              0.3333333333333333,
              "#9c179e"
             ],
             [
              0.4444444444444444,
              "#bd3786"
             ],
             [
              0.5555555555555556,
              "#d8576b"
             ],
             [
              0.6666666666666666,
              "#ed7953"
             ],
             [
              0.7777777777777778,
              "#fb9f3a"
             ],
             [
              0.8888888888888888,
              "#fdca26"
             ],
             [
              1,
              "#f0f921"
             ]
            ],
            "type": "heatmapgl"
           }
          ],
          "histogram": [
           {
            "marker": {
             "colorbar": {
              "outlinewidth": 0,
              "ticks": ""
             }
            },
            "type": "histogram"
           }
          ],
          "histogram2d": [
           {
            "colorbar": {
             "outlinewidth": 0,
             "ticks": ""
            },
            "colorscale": [
             [
              0,
              "#0d0887"
             ],
             [
              0.1111111111111111,
              "#46039f"
             ],
             [
              0.2222222222222222,
              "#7201a8"
             ],
             [
              0.3333333333333333,
              "#9c179e"
             ],
             [
              0.4444444444444444,
              "#bd3786"
             ],
             [
              0.5555555555555556,
              "#d8576b"
             ],
             [
              0.6666666666666666,
              "#ed7953"
             ],
             [
              0.7777777777777778,
              "#fb9f3a"
             ],
             [
              0.8888888888888888,
              "#fdca26"
             ],
             [
              1,
              "#f0f921"
             ]
            ],
            "type": "histogram2d"
           }
          ],
          "histogram2dcontour": [
           {
            "colorbar": {
             "outlinewidth": 0,
             "ticks": ""
            },
            "colorscale": [
             [
              0,
              "#0d0887"
             ],
             [
              0.1111111111111111,
              "#46039f"
             ],
             [
              0.2222222222222222,
              "#7201a8"
             ],
             [
              0.3333333333333333,
              "#9c179e"
             ],
             [
              0.4444444444444444,
              "#bd3786"
             ],
             [
              0.5555555555555556,
              "#d8576b"
             ],
             [
              0.6666666666666666,
              "#ed7953"
             ],
             [
              0.7777777777777778,
              "#fb9f3a"
             ],
             [
              0.8888888888888888,
              "#fdca26"
             ],
             [
              1,
              "#f0f921"
             ]
            ],
            "type": "histogram2dcontour"
           }
          ],
          "mesh3d": [
           {
            "colorbar": {
             "outlinewidth": 0,
             "ticks": ""
            },
            "type": "mesh3d"
           }
          ],
          "parcoords": [
           {
            "line": {
             "colorbar": {
              "outlinewidth": 0,
              "ticks": ""
             }
            },
            "type": "parcoords"
           }
          ],
          "pie": [
           {
            "automargin": true,
            "type": "pie"
           }
          ],
          "scatter": [
           {
            "marker": {
             "colorbar": {
              "outlinewidth": 0,
              "ticks": ""
             }
            },
            "type": "scatter"
           }
          ],
          "scatter3d": [
           {
            "line": {
             "colorbar": {
              "outlinewidth": 0,
              "ticks": ""
             }
            },
            "marker": {
             "colorbar": {
              "outlinewidth": 0,
              "ticks": ""
             }
            },
            "type": "scatter3d"
           }
          ],
          "scattercarpet": [
           {
            "marker": {
             "colorbar": {
              "outlinewidth": 0,
              "ticks": ""
             }
            },
            "type": "scattercarpet"
           }
          ],
          "scattergeo": [
           {
            "marker": {
             "colorbar": {
              "outlinewidth": 0,
              "ticks": ""
             }
            },
            "type": "scattergeo"
           }
          ],
          "scattergl": [
           {
            "marker": {
             "colorbar": {
              "outlinewidth": 0,
              "ticks": ""
             }
            },
            "type": "scattergl"
           }
          ],
          "scattermapbox": [
           {
            "marker": {
             "colorbar": {
              "outlinewidth": 0,
              "ticks": ""
             }
            },
            "type": "scattermapbox"
           }
          ],
          "scatterpolar": [
           {
            "marker": {
             "colorbar": {
              "outlinewidth": 0,
              "ticks": ""
             }
            },
            "type": "scatterpolar"
           }
          ],
          "scatterpolargl": [
           {
            "marker": {
             "colorbar": {
              "outlinewidth": 0,
              "ticks": ""
             }
            },
            "type": "scatterpolargl"
           }
          ],
          "scatterternary": [
           {
            "marker": {
             "colorbar": {
              "outlinewidth": 0,
              "ticks": ""
             }
            },
            "type": "scatterternary"
           }
          ],
          "surface": [
           {
            "colorbar": {
             "outlinewidth": 0,
             "ticks": ""
            },
            "colorscale": [
             [
              0,
              "#0d0887"
             ],
             [
              0.1111111111111111,
              "#46039f"
             ],
             [
              0.2222222222222222,
              "#7201a8"
             ],
             [
              0.3333333333333333,
              "#9c179e"
             ],
             [
              0.4444444444444444,
              "#bd3786"
             ],
             [
              0.5555555555555556,
              "#d8576b"
             ],
             [
              0.6666666666666666,
              "#ed7953"
             ],
             [
              0.7777777777777778,
              "#fb9f3a"
             ],
             [
              0.8888888888888888,
              "#fdca26"
             ],
             [
              1,
              "#f0f921"
             ]
            ],
            "type": "surface"
           }
          ],
          "table": [
           {
            "cells": {
             "fill": {
              "color": "#EBF0F8"
             },
             "line": {
              "color": "white"
             }
            },
            "header": {
             "fill": {
              "color": "#C8D4E3"
             },
             "line": {
              "color": "white"
             }
            },
            "type": "table"
           }
          ]
         },
         "layout": {
          "annotationdefaults": {
           "arrowcolor": "#2a3f5f",
           "arrowhead": 0,
           "arrowwidth": 1
          },
          "coloraxis": {
           "colorbar": {
            "outlinewidth": 0,
            "ticks": ""
           }
          },
          "colorscale": {
           "diverging": [
            [
             0,
             "#8e0152"
            ],
            [
             0.1,
             "#c51b7d"
            ],
            [
             0.2,
             "#de77ae"
            ],
            [
             0.3,
             "#f1b6da"
            ],
            [
             0.4,
             "#fde0ef"
            ],
            [
             0.5,
             "#f7f7f7"
            ],
            [
             0.6,
             "#e6f5d0"
            ],
            [
             0.7,
             "#b8e186"
            ],
            [
             0.8,
             "#7fbc41"
            ],
            [
             0.9,
             "#4d9221"
            ],
            [
             1,
             "#276419"
            ]
           ],
           "sequential": [
            [
             0,
             "#0d0887"
            ],
            [
             0.1111111111111111,
             "#46039f"
            ],
            [
             0.2222222222222222,
             "#7201a8"
            ],
            [
             0.3333333333333333,
             "#9c179e"
            ],
            [
             0.4444444444444444,
             "#bd3786"
            ],
            [
             0.5555555555555556,
             "#d8576b"
            ],
            [
             0.6666666666666666,
             "#ed7953"
            ],
            [
             0.7777777777777778,
             "#fb9f3a"
            ],
            [
             0.8888888888888888,
             "#fdca26"
            ],
            [
             1,
             "#f0f921"
            ]
           ],
           "sequentialminus": [
            [
             0,
             "#0d0887"
            ],
            [
             0.1111111111111111,
             "#46039f"
            ],
            [
             0.2222222222222222,
             "#7201a8"
            ],
            [
             0.3333333333333333,
             "#9c179e"
            ],
            [
             0.4444444444444444,
             "#bd3786"
            ],
            [
             0.5555555555555556,
             "#d8576b"
            ],
            [
             0.6666666666666666,
             "#ed7953"
            ],
            [
             0.7777777777777778,
             "#fb9f3a"
            ],
            [
             0.8888888888888888,
             "#fdca26"
            ],
            [
             1,
             "#f0f921"
            ]
           ]
          },
          "colorway": [
           "#636efa",
           "#EF553B",
           "#00cc96",
           "#ab63fa",
           "#FFA15A",
           "#19d3f3",
           "#FF6692",
           "#B6E880",
           "#FF97FF",
           "#FECB52"
          ],
          "font": {
           "color": "#2a3f5f"
          },
          "geo": {
           "bgcolor": "white",
           "lakecolor": "white",
           "landcolor": "#E5ECF6",
           "showlakes": true,
           "showland": true,
           "subunitcolor": "white"
          },
          "hoverlabel": {
           "align": "left"
          },
          "hovermode": "closest",
          "mapbox": {
           "style": "light"
          },
          "paper_bgcolor": "white",
          "plot_bgcolor": "#E5ECF6",
          "polar": {
           "angularaxis": {
            "gridcolor": "white",
            "linecolor": "white",
            "ticks": ""
           },
           "bgcolor": "#E5ECF6",
           "radialaxis": {
            "gridcolor": "white",
            "linecolor": "white",
            "ticks": ""
           }
          },
          "scene": {
           "xaxis": {
            "backgroundcolor": "#E5ECF6",
            "gridcolor": "white",
            "gridwidth": 2,
            "linecolor": "white",
            "showbackground": true,
            "ticks": "",
            "zerolinecolor": "white"
           },
           "yaxis": {
            "backgroundcolor": "#E5ECF6",
            "gridcolor": "white",
            "gridwidth": 2,
            "linecolor": "white",
            "showbackground": true,
            "ticks": "",
            "zerolinecolor": "white"
           },
           "zaxis": {
            "backgroundcolor": "#E5ECF6",
            "gridcolor": "white",
            "gridwidth": 2,
            "linecolor": "white",
            "showbackground": true,
            "ticks": "",
            "zerolinecolor": "white"
           }
          },
          "shapedefaults": {
           "line": {
            "color": "#2a3f5f"
           }
          },
          "ternary": {
           "aaxis": {
            "gridcolor": "white",
            "linecolor": "white",
            "ticks": ""
           },
           "baxis": {
            "gridcolor": "white",
            "linecolor": "white",
            "ticks": ""
           },
           "bgcolor": "#E5ECF6",
           "caxis": {
            "gridcolor": "white",
            "linecolor": "white",
            "ticks": ""
           }
          },
          "title": {
           "x": 0.05
          },
          "xaxis": {
           "automargin": true,
           "gridcolor": "white",
           "linecolor": "white",
           "ticks": "",
           "title": {
            "standoff": 15
           },
           "zerolinecolor": "white",
           "zerolinewidth": 2
          },
          "yaxis": {
           "automargin": true,
           "gridcolor": "white",
           "linecolor": "white",
           "ticks": "",
           "title": {
            "standoff": 15
           },
           "zerolinecolor": "white",
           "zerolinewidth": 2
          }
         }
        },
        "title": {
         "font": {
          "color": "#4D5663"
         }
        },
        "xaxis": {
         "gridcolor": "#E1E5ED",
         "showgrid": true,
         "tickfont": {
          "color": "#4D5663"
         },
         "title": {
          "font": {
           "color": "#4D5663"
          },
          "text": ""
         },
         "zerolinecolor": "#E1E5ED"
        },
        "yaxis": {
         "gridcolor": "#E1E5ED",
         "showgrid": true,
         "tickfont": {
          "color": "#4D5663"
         },
         "title": {
          "font": {
           "color": "#4D5663"
          },
          "text": ""
         },
         "zerolinecolor": "#E1E5ED"
        }
       }
      },
      "text/html": [
       "<div>\n",
       "        \n",
       "        \n",
       "            <div id=\"64d939cb-c92d-4c92-ad65-a5ab326b23aa\" class=\"plotly-graph-div\" style=\"height:525px; width:100%;\"></div>\n",
       "            <script type=\"text/javascript\">\n",
       "                require([\"plotly\"], function(Plotly) {\n",
       "                    window.PLOTLYENV=window.PLOTLYENV || {};\n",
       "                    window.PLOTLYENV.BASE_URL='https://plot.ly';\n",
       "                    \n",
       "                if (document.getElementById(\"64d939cb-c92d-4c92-ad65-a5ab326b23aa\")) {\n",
       "                    Plotly.newPlot(\n",
       "                        '64d939cb-c92d-4c92-ad65-a5ab326b23aa',\n",
       "                        [{\"marker\": {\"color\": \"rgba(255, 153, 51, 0.6)\", \"line\": {\"color\": \"rgba(255, 153, 51, 1.0)\", \"width\": 1}}, \"name\": \"Values\", \"orientation\": \"v\", \"text\": \"\", \"type\": \"bar\", \"x\": [\"A\", \"B\", \"C\"], \"y\": [32, 43, 50]}],\n",
       "                        {\"legend\": {\"bgcolor\": \"#F5F6F9\", \"font\": {\"color\": \"#4D5663\"}}, \"paper_bgcolor\": \"#F5F6F9\", \"plot_bgcolor\": \"#F5F6F9\", \"template\": {\"data\": {\"bar\": [{\"error_x\": {\"color\": \"#2a3f5f\"}, \"error_y\": {\"color\": \"#2a3f5f\"}, \"marker\": {\"line\": {\"color\": \"#E5ECF6\", \"width\": 0.5}}, \"type\": \"bar\"}], \"barpolar\": [{\"marker\": {\"line\": {\"color\": \"#E5ECF6\", \"width\": 0.5}}, \"type\": \"barpolar\"}], \"carpet\": [{\"aaxis\": {\"endlinecolor\": \"#2a3f5f\", \"gridcolor\": \"white\", \"linecolor\": \"white\", \"minorgridcolor\": \"white\", \"startlinecolor\": \"#2a3f5f\"}, \"baxis\": {\"endlinecolor\": \"#2a3f5f\", \"gridcolor\": \"white\", \"linecolor\": \"white\", \"minorgridcolor\": \"white\", \"startlinecolor\": \"#2a3f5f\"}, \"type\": \"carpet\"}], \"choropleth\": [{\"colorbar\": {\"outlinewidth\": 0, \"ticks\": \"\"}, \"type\": \"choropleth\"}], \"contour\": [{\"colorbar\": {\"outlinewidth\": 0, \"ticks\": \"\"}, \"colorscale\": [[0.0, \"#0d0887\"], [0.1111111111111111, \"#46039f\"], [0.2222222222222222, \"#7201a8\"], [0.3333333333333333, \"#9c179e\"], [0.4444444444444444, \"#bd3786\"], [0.5555555555555556, \"#d8576b\"], [0.6666666666666666, \"#ed7953\"], [0.7777777777777778, \"#fb9f3a\"], [0.8888888888888888, \"#fdca26\"], [1.0, \"#f0f921\"]], \"type\": \"contour\"}], \"contourcarpet\": [{\"colorbar\": {\"outlinewidth\": 0, \"ticks\": \"\"}, \"type\": \"contourcarpet\"}], \"heatmap\": [{\"colorbar\": {\"outlinewidth\": 0, \"ticks\": \"\"}, \"colorscale\": [[0.0, \"#0d0887\"], [0.1111111111111111, \"#46039f\"], [0.2222222222222222, \"#7201a8\"], [0.3333333333333333, \"#9c179e\"], [0.4444444444444444, \"#bd3786\"], [0.5555555555555556, \"#d8576b\"], [0.6666666666666666, \"#ed7953\"], [0.7777777777777778, \"#fb9f3a\"], [0.8888888888888888, \"#fdca26\"], [1.0, \"#f0f921\"]], \"type\": \"heatmap\"}], \"heatmapgl\": [{\"colorbar\": {\"outlinewidth\": 0, \"ticks\": \"\"}, \"colorscale\": [[0.0, \"#0d0887\"], [0.1111111111111111, \"#46039f\"], [0.2222222222222222, \"#7201a8\"], [0.3333333333333333, \"#9c179e\"], [0.4444444444444444, \"#bd3786\"], [0.5555555555555556, \"#d8576b\"], [0.6666666666666666, \"#ed7953\"], [0.7777777777777778, \"#fb9f3a\"], [0.8888888888888888, \"#fdca26\"], [1.0, \"#f0f921\"]], \"type\": \"heatmapgl\"}], \"histogram\": [{\"marker\": {\"colorbar\": {\"outlinewidth\": 0, \"ticks\": \"\"}}, \"type\": \"histogram\"}], \"histogram2d\": [{\"colorbar\": {\"outlinewidth\": 0, \"ticks\": \"\"}, \"colorscale\": [[0.0, \"#0d0887\"], [0.1111111111111111, \"#46039f\"], [0.2222222222222222, \"#7201a8\"], [0.3333333333333333, \"#9c179e\"], [0.4444444444444444, \"#bd3786\"], [0.5555555555555556, \"#d8576b\"], [0.6666666666666666, \"#ed7953\"], [0.7777777777777778, \"#fb9f3a\"], [0.8888888888888888, \"#fdca26\"], [1.0, \"#f0f921\"]], \"type\": \"histogram2d\"}], \"histogram2dcontour\": [{\"colorbar\": {\"outlinewidth\": 0, \"ticks\": \"\"}, \"colorscale\": [[0.0, \"#0d0887\"], [0.1111111111111111, \"#46039f\"], [0.2222222222222222, \"#7201a8\"], [0.3333333333333333, \"#9c179e\"], [0.4444444444444444, \"#bd3786\"], [0.5555555555555556, \"#d8576b\"], [0.6666666666666666, \"#ed7953\"], [0.7777777777777778, \"#fb9f3a\"], [0.8888888888888888, \"#fdca26\"], [1.0, \"#f0f921\"]], \"type\": \"histogram2dcontour\"}], \"mesh3d\": [{\"colorbar\": {\"outlinewidth\": 0, \"ticks\": \"\"}, \"type\": \"mesh3d\"}], \"parcoords\": [{\"line\": {\"colorbar\": {\"outlinewidth\": 0, \"ticks\": \"\"}}, \"type\": \"parcoords\"}], \"pie\": [{\"automargin\": true, \"type\": \"pie\"}], \"scatter\": [{\"marker\": {\"colorbar\": {\"outlinewidth\": 0, \"ticks\": \"\"}}, \"type\": \"scatter\"}], \"scatter3d\": [{\"line\": {\"colorbar\": {\"outlinewidth\": 0, \"ticks\": \"\"}}, \"marker\": {\"colorbar\": {\"outlinewidth\": 0, \"ticks\": \"\"}}, \"type\": \"scatter3d\"}], \"scattercarpet\": [{\"marker\": {\"colorbar\": {\"outlinewidth\": 0, \"ticks\": \"\"}}, \"type\": \"scattercarpet\"}], \"scattergeo\": [{\"marker\": {\"colorbar\": {\"outlinewidth\": 0, \"ticks\": \"\"}}, \"type\": \"scattergeo\"}], \"scattergl\": [{\"marker\": {\"colorbar\": {\"outlinewidth\": 0, \"ticks\": \"\"}}, \"type\": \"scattergl\"}], \"scattermapbox\": [{\"marker\": {\"colorbar\": {\"outlinewidth\": 0, \"ticks\": \"\"}}, \"type\": \"scattermapbox\"}], \"scatterpolar\": [{\"marker\": {\"colorbar\": {\"outlinewidth\": 0, \"ticks\": \"\"}}, \"type\": \"scatterpolar\"}], \"scatterpolargl\": [{\"marker\": {\"colorbar\": {\"outlinewidth\": 0, \"ticks\": \"\"}}, \"type\": \"scatterpolargl\"}], \"scatterternary\": [{\"marker\": {\"colorbar\": {\"outlinewidth\": 0, \"ticks\": \"\"}}, \"type\": \"scatterternary\"}], \"surface\": [{\"colorbar\": {\"outlinewidth\": 0, \"ticks\": \"\"}, \"colorscale\": [[0.0, \"#0d0887\"], [0.1111111111111111, \"#46039f\"], [0.2222222222222222, \"#7201a8\"], [0.3333333333333333, \"#9c179e\"], [0.4444444444444444, \"#bd3786\"], [0.5555555555555556, \"#d8576b\"], [0.6666666666666666, \"#ed7953\"], [0.7777777777777778, \"#fb9f3a\"], [0.8888888888888888, \"#fdca26\"], [1.0, \"#f0f921\"]], \"type\": \"surface\"}], \"table\": [{\"cells\": {\"fill\": {\"color\": \"#EBF0F8\"}, \"line\": {\"color\": \"white\"}}, \"header\": {\"fill\": {\"color\": \"#C8D4E3\"}, \"line\": {\"color\": \"white\"}}, \"type\": \"table\"}]}, \"layout\": {\"annotationdefaults\": {\"arrowcolor\": \"#2a3f5f\", \"arrowhead\": 0, \"arrowwidth\": 1}, \"coloraxis\": {\"colorbar\": {\"outlinewidth\": 0, \"ticks\": \"\"}}, \"colorscale\": {\"diverging\": [[0, \"#8e0152\"], [0.1, \"#c51b7d\"], [0.2, \"#de77ae\"], [0.3, \"#f1b6da\"], [0.4, \"#fde0ef\"], [0.5, \"#f7f7f7\"], [0.6, \"#e6f5d0\"], [0.7, \"#b8e186\"], [0.8, \"#7fbc41\"], [0.9, \"#4d9221\"], [1, \"#276419\"]], \"sequential\": [[0.0, \"#0d0887\"], [0.1111111111111111, \"#46039f\"], [0.2222222222222222, \"#7201a8\"], [0.3333333333333333, \"#9c179e\"], [0.4444444444444444, \"#bd3786\"], [0.5555555555555556, \"#d8576b\"], [0.6666666666666666, \"#ed7953\"], [0.7777777777777778, \"#fb9f3a\"], [0.8888888888888888, \"#fdca26\"], [1.0, \"#f0f921\"]], \"sequentialminus\": [[0.0, \"#0d0887\"], [0.1111111111111111, \"#46039f\"], [0.2222222222222222, \"#7201a8\"], [0.3333333333333333, \"#9c179e\"], [0.4444444444444444, \"#bd3786\"], [0.5555555555555556, \"#d8576b\"], [0.6666666666666666, \"#ed7953\"], [0.7777777777777778, \"#fb9f3a\"], [0.8888888888888888, \"#fdca26\"], [1.0, \"#f0f921\"]]}, \"colorway\": [\"#636efa\", \"#EF553B\", \"#00cc96\", \"#ab63fa\", \"#FFA15A\", \"#19d3f3\", \"#FF6692\", \"#B6E880\", \"#FF97FF\", \"#FECB52\"], \"font\": {\"color\": \"#2a3f5f\"}, \"geo\": {\"bgcolor\": \"white\", \"lakecolor\": \"white\", \"landcolor\": \"#E5ECF6\", \"showlakes\": true, \"showland\": true, \"subunitcolor\": \"white\"}, \"hoverlabel\": {\"align\": \"left\"}, \"hovermode\": \"closest\", \"mapbox\": {\"style\": \"light\"}, \"paper_bgcolor\": \"white\", \"plot_bgcolor\": \"#E5ECF6\", \"polar\": {\"angularaxis\": {\"gridcolor\": \"white\", \"linecolor\": \"white\", \"ticks\": \"\"}, \"bgcolor\": \"#E5ECF6\", \"radialaxis\": {\"gridcolor\": \"white\", \"linecolor\": \"white\", \"ticks\": \"\"}}, \"scene\": {\"xaxis\": {\"backgroundcolor\": \"#E5ECF6\", \"gridcolor\": \"white\", \"gridwidth\": 2, \"linecolor\": \"white\", \"showbackground\": true, \"ticks\": \"\", \"zerolinecolor\": \"white\"}, \"yaxis\": {\"backgroundcolor\": \"#E5ECF6\", \"gridcolor\": \"white\", \"gridwidth\": 2, \"linecolor\": \"white\", \"showbackground\": true, \"ticks\": \"\", \"zerolinecolor\": \"white\"}, \"zaxis\": {\"backgroundcolor\": \"#E5ECF6\", \"gridcolor\": \"white\", \"gridwidth\": 2, \"linecolor\": \"white\", \"showbackground\": true, \"ticks\": \"\", \"zerolinecolor\": \"white\"}}, \"shapedefaults\": {\"line\": {\"color\": \"#2a3f5f\"}}, \"ternary\": {\"aaxis\": {\"gridcolor\": \"white\", \"linecolor\": \"white\", \"ticks\": \"\"}, \"baxis\": {\"gridcolor\": \"white\", \"linecolor\": \"white\", \"ticks\": \"\"}, \"bgcolor\": \"#E5ECF6\", \"caxis\": {\"gridcolor\": \"white\", \"linecolor\": \"white\", \"ticks\": \"\"}}, \"title\": {\"x\": 0.05}, \"xaxis\": {\"automargin\": true, \"gridcolor\": \"white\", \"linecolor\": \"white\", \"ticks\": \"\", \"title\": {\"standoff\": 15}, \"zerolinecolor\": \"white\", \"zerolinewidth\": 2}, \"yaxis\": {\"automargin\": true, \"gridcolor\": \"white\", \"linecolor\": \"white\", \"ticks\": \"\", \"title\": {\"standoff\": 15}, \"zerolinecolor\": \"white\", \"zerolinewidth\": 2}}}, \"title\": {\"font\": {\"color\": \"#4D5663\"}}, \"xaxis\": {\"gridcolor\": \"#E1E5ED\", \"showgrid\": true, \"tickfont\": {\"color\": \"#4D5663\"}, \"title\": {\"font\": {\"color\": \"#4D5663\"}, \"text\": \"\"}, \"zerolinecolor\": \"#E1E5ED\"}, \"yaxis\": {\"gridcolor\": \"#E1E5ED\", \"showgrid\": true, \"tickfont\": {\"color\": \"#4D5663\"}, \"title\": {\"font\": {\"color\": \"#4D5663\"}, \"text\": \"\"}, \"zerolinecolor\": \"#E1E5ED\"}},\n",
       "                        {\"showLink\": true, \"linkText\": \"Export to plot.ly\", \"plotlyServerURL\": \"https://plot.ly\", \"responsive\": true}\n",
       "                    ).then(function(){\n",
       "                            \n",
       "var gd = document.getElementById('64d939cb-c92d-4c92-ad65-a5ab326b23aa');\n",
       "var x = new MutationObserver(function (mutations, observer) {{\n",
       "        var display = window.getComputedStyle(gd).display;\n",
       "        if (!display || display === 'none') {{\n",
       "            console.log([gd, 'removed!']);\n",
       "            Plotly.purge(gd);\n",
       "            observer.disconnect();\n",
       "        }}\n",
       "}});\n",
       "\n",
       "// Listen for the removal of the full notebook cells\n",
       "var notebookContainer = gd.closest('#notebook-container');\n",
       "if (notebookContainer) {{\n",
       "    x.observe(notebookContainer, {childList: true});\n",
       "}}\n",
       "\n",
       "// Listen for the clearing of the current output cell\n",
       "var outputEl = gd.closest('.output');\n",
       "if (outputEl) {{\n",
       "    x.observe(outputEl, {childList: true});\n",
       "}}\n",
       "\n",
       "                        })\n",
       "                };\n",
       "                });\n",
       "            </script>\n",
       "        </div>"
      ]
     },
     "metadata": {},
     "output_type": "display_data"
    }
   ],
   "source": [
    "df2.iplot(kind='bar',x='Category',y='Values')"
   ]
  },
  {
   "cell_type": "code",
   "execution_count": 12,
   "metadata": {},
   "outputs": [
    {
     "data": {
      "application/vnd.plotly.v1+json": {
       "config": {
        "linkText": "Export to plot.ly",
        "plotlyServerURL": "https://plot.ly",
        "showLink": true
       },
       "data": [
        {
         "marker": {
          "color": "rgba(255, 153, 51, 0.6)",
          "line": {
           "color": "rgba(255, 153, 51, 1.0)",
           "width": 1
          }
         },
         "name": "None",
         "orientation": "v",
         "text": "",
         "type": "bar",
         "x": [
          "A",
          "B",
          "C",
          "D"
         ],
         "y": [
          100,
          100,
          100,
          100
         ]
        }
       ],
       "layout": {
        "legend": {
         "bgcolor": "#F5F6F9",
         "font": {
          "color": "#4D5663"
         }
        },
        "paper_bgcolor": "#F5F6F9",
        "plot_bgcolor": "#F5F6F9",
        "template": {
         "data": {
          "bar": [
           {
            "error_x": {
             "color": "#2a3f5f"
            },
            "error_y": {
             "color": "#2a3f5f"
            },
            "marker": {
             "line": {
              "color": "#E5ECF6",
              "width": 0.5
             }
            },
            "type": "bar"
           }
          ],
          "barpolar": [
           {
            "marker": {
             "line": {
              "color": "#E5ECF6",
              "width": 0.5
             }
            },
            "type": "barpolar"
           }
          ],
          "carpet": [
           {
            "aaxis": {
             "endlinecolor": "#2a3f5f",
             "gridcolor": "white",
             "linecolor": "white",
             "minorgridcolor": "white",
             "startlinecolor": "#2a3f5f"
            },
            "baxis": {
             "endlinecolor": "#2a3f5f",
             "gridcolor": "white",
             "linecolor": "white",
             "minorgridcolor": "white",
             "startlinecolor": "#2a3f5f"
            },
            "type": "carpet"
           }
          ],
          "choropleth": [
           {
            "colorbar": {
             "outlinewidth": 0,
             "ticks": ""
            },
            "type": "choropleth"
           }
          ],
          "contour": [
           {
            "colorbar": {
             "outlinewidth": 0,
             "ticks": ""
            },
            "colorscale": [
             [
              0,
              "#0d0887"
             ],
             [
              0.1111111111111111,
              "#46039f"
             ],
             [
              0.2222222222222222,
              "#7201a8"
             ],
             [
              0.3333333333333333,
              "#9c179e"
             ],
             [
              0.4444444444444444,
              "#bd3786"
             ],
             [
              0.5555555555555556,
              "#d8576b"
             ],
             [
              0.6666666666666666,
              "#ed7953"
             ],
             [
              0.7777777777777778,
              "#fb9f3a"
             ],
             [
              0.8888888888888888,
              "#fdca26"
             ],
             [
              1,
              "#f0f921"
             ]
            ],
            "type": "contour"
           }
          ],
          "contourcarpet": [
           {
            "colorbar": {
             "outlinewidth": 0,
             "ticks": ""
            },
            "type": "contourcarpet"
           }
          ],
          "heatmap": [
           {
            "colorbar": {
             "outlinewidth": 0,
             "ticks": ""
            },
            "colorscale": [
             [
              0,
              "#0d0887"
             ],
             [
              0.1111111111111111,
              "#46039f"
             ],
             [
              0.2222222222222222,
              "#7201a8"
             ],
             [
              0.3333333333333333,
              "#9c179e"
             ],
             [
              0.4444444444444444,
              "#bd3786"
             ],
             [
              0.5555555555555556,
              "#d8576b"
             ],
             [
              0.6666666666666666,
              "#ed7953"
             ],
             [
              0.7777777777777778,
              "#fb9f3a"
             ],
             [
              0.8888888888888888,
              "#fdca26"
             ],
             [
              1,
              "#f0f921"
             ]
            ],
            "type": "heatmap"
           }
          ],
          "heatmapgl": [
           {
            "colorbar": {
             "outlinewidth": 0,
             "ticks": ""
            },
            "colorscale": [
             [
              0,
              "#0d0887"
             ],
             [
              0.1111111111111111,
              "#46039f"
             ],
             [
              0.2222222222222222,
              "#7201a8"
             ],
             [
              0.3333333333333333,
              "#9c179e"
             ],
             [
              0.4444444444444444,
              "#bd3786"
             ],
             [
              0.5555555555555556,
              "#d8576b"
             ],
             [
              0.6666666666666666,
              "#ed7953"
             ],
             [
              0.7777777777777778,
              "#fb9f3a"
             ],
             [
              0.8888888888888888,
              "#fdca26"
             ],
             [
              1,
              "#f0f921"
             ]
            ],
            "type": "heatmapgl"
           }
          ],
          "histogram": [
           {
            "marker": {
             "colorbar": {
              "outlinewidth": 0,
              "ticks": ""
             }
            },
            "type": "histogram"
           }
          ],
          "histogram2d": [
           {
            "colorbar": {
             "outlinewidth": 0,
             "ticks": ""
            },
            "colorscale": [
             [
              0,
              "#0d0887"
             ],
             [
              0.1111111111111111,
              "#46039f"
             ],
             [
              0.2222222222222222,
              "#7201a8"
             ],
             [
              0.3333333333333333,
              "#9c179e"
             ],
             [
              0.4444444444444444,
              "#bd3786"
             ],
             [
              0.5555555555555556,
              "#d8576b"
             ],
             [
              0.6666666666666666,
              "#ed7953"
             ],
             [
              0.7777777777777778,
              "#fb9f3a"
             ],
             [
              0.8888888888888888,
              "#fdca26"
             ],
             [
              1,
              "#f0f921"
             ]
            ],
            "type": "histogram2d"
           }
          ],
          "histogram2dcontour": [
           {
            "colorbar": {
             "outlinewidth": 0,
             "ticks": ""
            },
            "colorscale": [
             [
              0,
              "#0d0887"
             ],
             [
              0.1111111111111111,
              "#46039f"
             ],
             [
              0.2222222222222222,
              "#7201a8"
             ],
             [
              0.3333333333333333,
              "#9c179e"
             ],
             [
              0.4444444444444444,
              "#bd3786"
             ],
             [
              0.5555555555555556,
              "#d8576b"
             ],
             [
              0.6666666666666666,
              "#ed7953"
             ],
             [
              0.7777777777777778,
              "#fb9f3a"
             ],
             [
              0.8888888888888888,
              "#fdca26"
             ],
             [
              1,
              "#f0f921"
             ]
            ],
            "type": "histogram2dcontour"
           }
          ],
          "mesh3d": [
           {
            "colorbar": {
             "outlinewidth": 0,
             "ticks": ""
            },
            "type": "mesh3d"
           }
          ],
          "parcoords": [
           {
            "line": {
             "colorbar": {
              "outlinewidth": 0,
              "ticks": ""
             }
            },
            "type": "parcoords"
           }
          ],
          "pie": [
           {
            "automargin": true,
            "type": "pie"
           }
          ],
          "scatter": [
           {
            "marker": {
             "colorbar": {
              "outlinewidth": 0,
              "ticks": ""
             }
            },
            "type": "scatter"
           }
          ],
          "scatter3d": [
           {
            "line": {
             "colorbar": {
              "outlinewidth": 0,
              "ticks": ""
             }
            },
            "marker": {
             "colorbar": {
              "outlinewidth": 0,
              "ticks": ""
             }
            },
            "type": "scatter3d"
           }
          ],
          "scattercarpet": [
           {
            "marker": {
             "colorbar": {
              "outlinewidth": 0,
              "ticks": ""
             }
            },
            "type": "scattercarpet"
           }
          ],
          "scattergeo": [
           {
            "marker": {
             "colorbar": {
              "outlinewidth": 0,
              "ticks": ""
             }
            },
            "type": "scattergeo"
           }
          ],
          "scattergl": [
           {
            "marker": {
             "colorbar": {
              "outlinewidth": 0,
              "ticks": ""
             }
            },
            "type": "scattergl"
           }
          ],
          "scattermapbox": [
           {
            "marker": {
             "colorbar": {
              "outlinewidth": 0,
              "ticks": ""
             }
            },
            "type": "scattermapbox"
           }
          ],
          "scatterpolar": [
           {
            "marker": {
             "colorbar": {
              "outlinewidth": 0,
              "ticks": ""
             }
            },
            "type": "scatterpolar"
           }
          ],
          "scatterpolargl": [
           {
            "marker": {
             "colorbar": {
              "outlinewidth": 0,
              "ticks": ""
             }
            },
            "type": "scatterpolargl"
           }
          ],
          "scatterternary": [
           {
            "marker": {
             "colorbar": {
              "outlinewidth": 0,
              "ticks": ""
             }
            },
            "type": "scatterternary"
           }
          ],
          "surface": [
           {
            "colorbar": {
             "outlinewidth": 0,
             "ticks": ""
            },
            "colorscale": [
             [
              0,
              "#0d0887"
             ],
             [
              0.1111111111111111,
              "#46039f"
             ],
             [
              0.2222222222222222,
              "#7201a8"
             ],
             [
              0.3333333333333333,
              "#9c179e"
             ],
             [
              0.4444444444444444,
              "#bd3786"
             ],
             [
              0.5555555555555556,
              "#d8576b"
             ],
             [
              0.6666666666666666,
              "#ed7953"
             ],
             [
              0.7777777777777778,
              "#fb9f3a"
             ],
             [
              0.8888888888888888,
              "#fdca26"
             ],
             [
              1,
              "#f0f921"
             ]
            ],
            "type": "surface"
           }
          ],
          "table": [
           {
            "cells": {
             "fill": {
              "color": "#EBF0F8"
             },
             "line": {
              "color": "white"
             }
            },
            "header": {
             "fill": {
              "color": "#C8D4E3"
             },
             "line": {
              "color": "white"
             }
            },
            "type": "table"
           }
          ]
         },
         "layout": {
          "annotationdefaults": {
           "arrowcolor": "#2a3f5f",
           "arrowhead": 0,
           "arrowwidth": 1
          },
          "coloraxis": {
           "colorbar": {
            "outlinewidth": 0,
            "ticks": ""
           }
          },
          "colorscale": {
           "diverging": [
            [
             0,
             "#8e0152"
            ],
            [
             0.1,
             "#c51b7d"
            ],
            [
             0.2,
             "#de77ae"
            ],
            [
             0.3,
             "#f1b6da"
            ],
            [
             0.4,
             "#fde0ef"
            ],
            [
             0.5,
             "#f7f7f7"
            ],
            [
             0.6,
             "#e6f5d0"
            ],
            [
             0.7,
             "#b8e186"
            ],
            [
             0.8,
             "#7fbc41"
            ],
            [
             0.9,
             "#4d9221"
            ],
            [
             1,
             "#276419"
            ]
           ],
           "sequential": [
            [
             0,
             "#0d0887"
            ],
            [
             0.1111111111111111,
             "#46039f"
            ],
            [
             0.2222222222222222,
             "#7201a8"
            ],
            [
             0.3333333333333333,
             "#9c179e"
            ],
            [
             0.4444444444444444,
             "#bd3786"
            ],
            [
             0.5555555555555556,
             "#d8576b"
            ],
            [
             0.6666666666666666,
             "#ed7953"
            ],
            [
             0.7777777777777778,
             "#fb9f3a"
            ],
            [
             0.8888888888888888,
             "#fdca26"
            ],
            [
             1,
             "#f0f921"
            ]
           ],
           "sequentialminus": [
            [
             0,
             "#0d0887"
            ],
            [
             0.1111111111111111,
             "#46039f"
            ],
            [
             0.2222222222222222,
             "#7201a8"
            ],
            [
             0.3333333333333333,
             "#9c179e"
            ],
            [
             0.4444444444444444,
             "#bd3786"
            ],
            [
             0.5555555555555556,
             "#d8576b"
            ],
            [
             0.6666666666666666,
             "#ed7953"
            ],
            [
             0.7777777777777778,
             "#fb9f3a"
            ],
            [
             0.8888888888888888,
             "#fdca26"
            ],
            [
             1,
             "#f0f921"
            ]
           ]
          },
          "colorway": [
           "#636efa",
           "#EF553B",
           "#00cc96",
           "#ab63fa",
           "#FFA15A",
           "#19d3f3",
           "#FF6692",
           "#B6E880",
           "#FF97FF",
           "#FECB52"
          ],
          "font": {
           "color": "#2a3f5f"
          },
          "geo": {
           "bgcolor": "white",
           "lakecolor": "white",
           "landcolor": "#E5ECF6",
           "showlakes": true,
           "showland": true,
           "subunitcolor": "white"
          },
          "hoverlabel": {
           "align": "left"
          },
          "hovermode": "closest",
          "mapbox": {
           "style": "light"
          },
          "paper_bgcolor": "white",
          "plot_bgcolor": "#E5ECF6",
          "polar": {
           "angularaxis": {
            "gridcolor": "white",
            "linecolor": "white",
            "ticks": ""
           },
           "bgcolor": "#E5ECF6",
           "radialaxis": {
            "gridcolor": "white",
            "linecolor": "white",
            "ticks": ""
           }
          },
          "scene": {
           "xaxis": {
            "backgroundcolor": "#E5ECF6",
            "gridcolor": "white",
            "gridwidth": 2,
            "linecolor": "white",
            "showbackground": true,
            "ticks": "",
            "zerolinecolor": "white"
           },
           "yaxis": {
            "backgroundcolor": "#E5ECF6",
            "gridcolor": "white",
            "gridwidth": 2,
            "linecolor": "white",
            "showbackground": true,
            "ticks": "",
            "zerolinecolor": "white"
           },
           "zaxis": {
            "backgroundcolor": "#E5ECF6",
            "gridcolor": "white",
            "gridwidth": 2,
            "linecolor": "white",
            "showbackground": true,
            "ticks": "",
            "zerolinecolor": "white"
           }
          },
          "shapedefaults": {
           "line": {
            "color": "#2a3f5f"
           }
          },
          "ternary": {
           "aaxis": {
            "gridcolor": "white",
            "linecolor": "white",
            "ticks": ""
           },
           "baxis": {
            "gridcolor": "white",
            "linecolor": "white",
            "ticks": ""
           },
           "bgcolor": "#E5ECF6",
           "caxis": {
            "gridcolor": "white",
            "linecolor": "white",
            "ticks": ""
           }
          },
          "title": {
           "x": 0.05
          },
          "xaxis": {
           "automargin": true,
           "gridcolor": "white",
           "linecolor": "white",
           "ticks": "",
           "title": {
            "standoff": 15
           },
           "zerolinecolor": "white",
           "zerolinewidth": 2
          },
          "yaxis": {
           "automargin": true,
           "gridcolor": "white",
           "linecolor": "white",
           "ticks": "",
           "title": {
            "standoff": 15
           },
           "zerolinecolor": "white",
           "zerolinewidth": 2
          }
         }
        },
        "title": {
         "font": {
          "color": "#4D5663"
         }
        },
        "xaxis": {
         "gridcolor": "#E1E5ED",
         "showgrid": true,
         "tickfont": {
          "color": "#4D5663"
         },
         "title": {
          "font": {
           "color": "#4D5663"
          },
          "text": ""
         },
         "zerolinecolor": "#E1E5ED"
        },
        "yaxis": {
         "gridcolor": "#E1E5ED",
         "showgrid": true,
         "tickfont": {
          "color": "#4D5663"
         },
         "title": {
          "font": {
           "color": "#4D5663"
          },
          "text": ""
         },
         "zerolinecolor": "#E1E5ED"
        }
       }
      },
      "text/html": [
       "<div>\n",
       "        \n",
       "        \n",
       "            <div id=\"f4c829fc-a8d5-4c9e-97ec-bdf55bf5c599\" class=\"plotly-graph-div\" style=\"height:525px; width:100%;\"></div>\n",
       "            <script type=\"text/javascript\">\n",
       "                require([\"plotly\"], function(Plotly) {\n",
       "                    window.PLOTLYENV=window.PLOTLYENV || {};\n",
       "                    window.PLOTLYENV.BASE_URL='https://plot.ly';\n",
       "                    \n",
       "                if (document.getElementById(\"f4c829fc-a8d5-4c9e-97ec-bdf55bf5c599\")) {\n",
       "                    Plotly.newPlot(\n",
       "                        'f4c829fc-a8d5-4c9e-97ec-bdf55bf5c599',\n",
       "                        [{\"marker\": {\"color\": \"rgba(255, 153, 51, 0.6)\", \"line\": {\"color\": \"rgba(255, 153, 51, 1.0)\", \"width\": 1}}, \"name\": \"None\", \"orientation\": \"v\", \"text\": \"\", \"type\": \"bar\", \"x\": [\"A\", \"B\", \"C\", \"D\"], \"y\": [100, 100, 100, 100]}],\n",
       "                        {\"legend\": {\"bgcolor\": \"#F5F6F9\", \"font\": {\"color\": \"#4D5663\"}}, \"paper_bgcolor\": \"#F5F6F9\", \"plot_bgcolor\": \"#F5F6F9\", \"template\": {\"data\": {\"bar\": [{\"error_x\": {\"color\": \"#2a3f5f\"}, \"error_y\": {\"color\": \"#2a3f5f\"}, \"marker\": {\"line\": {\"color\": \"#E5ECF6\", \"width\": 0.5}}, \"type\": \"bar\"}], \"barpolar\": [{\"marker\": {\"line\": {\"color\": \"#E5ECF6\", \"width\": 0.5}}, \"type\": \"barpolar\"}], \"carpet\": [{\"aaxis\": {\"endlinecolor\": \"#2a3f5f\", \"gridcolor\": \"white\", \"linecolor\": \"white\", \"minorgridcolor\": \"white\", \"startlinecolor\": \"#2a3f5f\"}, \"baxis\": {\"endlinecolor\": \"#2a3f5f\", \"gridcolor\": \"white\", \"linecolor\": \"white\", \"minorgridcolor\": \"white\", \"startlinecolor\": \"#2a3f5f\"}, \"type\": \"carpet\"}], \"choropleth\": [{\"colorbar\": {\"outlinewidth\": 0, \"ticks\": \"\"}, \"type\": \"choropleth\"}], \"contour\": [{\"colorbar\": {\"outlinewidth\": 0, \"ticks\": \"\"}, \"colorscale\": [[0.0, \"#0d0887\"], [0.1111111111111111, \"#46039f\"], [0.2222222222222222, \"#7201a8\"], [0.3333333333333333, \"#9c179e\"], [0.4444444444444444, \"#bd3786\"], [0.5555555555555556, \"#d8576b\"], [0.6666666666666666, \"#ed7953\"], [0.7777777777777778, \"#fb9f3a\"], [0.8888888888888888, \"#fdca26\"], [1.0, \"#f0f921\"]], \"type\": \"contour\"}], \"contourcarpet\": [{\"colorbar\": {\"outlinewidth\": 0, \"ticks\": \"\"}, \"type\": \"contourcarpet\"}], \"heatmap\": [{\"colorbar\": {\"outlinewidth\": 0, \"ticks\": \"\"}, \"colorscale\": [[0.0, \"#0d0887\"], [0.1111111111111111, \"#46039f\"], [0.2222222222222222, \"#7201a8\"], [0.3333333333333333, \"#9c179e\"], [0.4444444444444444, \"#bd3786\"], [0.5555555555555556, \"#d8576b\"], [0.6666666666666666, \"#ed7953\"], [0.7777777777777778, \"#fb9f3a\"], [0.8888888888888888, \"#fdca26\"], [1.0, \"#f0f921\"]], \"type\": \"heatmap\"}], \"heatmapgl\": [{\"colorbar\": {\"outlinewidth\": 0, \"ticks\": \"\"}, \"colorscale\": [[0.0, \"#0d0887\"], [0.1111111111111111, \"#46039f\"], [0.2222222222222222, \"#7201a8\"], [0.3333333333333333, \"#9c179e\"], [0.4444444444444444, \"#bd3786\"], [0.5555555555555556, \"#d8576b\"], [0.6666666666666666, \"#ed7953\"], [0.7777777777777778, \"#fb9f3a\"], [0.8888888888888888, \"#fdca26\"], [1.0, \"#f0f921\"]], \"type\": \"heatmapgl\"}], \"histogram\": [{\"marker\": {\"colorbar\": {\"outlinewidth\": 0, \"ticks\": \"\"}}, \"type\": \"histogram\"}], \"histogram2d\": [{\"colorbar\": {\"outlinewidth\": 0, \"ticks\": \"\"}, \"colorscale\": [[0.0, \"#0d0887\"], [0.1111111111111111, \"#46039f\"], [0.2222222222222222, \"#7201a8\"], [0.3333333333333333, \"#9c179e\"], [0.4444444444444444, \"#bd3786\"], [0.5555555555555556, \"#d8576b\"], [0.6666666666666666, \"#ed7953\"], [0.7777777777777778, \"#fb9f3a\"], [0.8888888888888888, \"#fdca26\"], [1.0, \"#f0f921\"]], \"type\": \"histogram2d\"}], \"histogram2dcontour\": [{\"colorbar\": {\"outlinewidth\": 0, \"ticks\": \"\"}, \"colorscale\": [[0.0, \"#0d0887\"], [0.1111111111111111, \"#46039f\"], [0.2222222222222222, \"#7201a8\"], [0.3333333333333333, \"#9c179e\"], [0.4444444444444444, \"#bd3786\"], [0.5555555555555556, \"#d8576b\"], [0.6666666666666666, \"#ed7953\"], [0.7777777777777778, \"#fb9f3a\"], [0.8888888888888888, \"#fdca26\"], [1.0, \"#f0f921\"]], \"type\": \"histogram2dcontour\"}], \"mesh3d\": [{\"colorbar\": {\"outlinewidth\": 0, \"ticks\": \"\"}, \"type\": \"mesh3d\"}], \"parcoords\": [{\"line\": {\"colorbar\": {\"outlinewidth\": 0, \"ticks\": \"\"}}, \"type\": \"parcoords\"}], \"pie\": [{\"automargin\": true, \"type\": \"pie\"}], \"scatter\": [{\"marker\": {\"colorbar\": {\"outlinewidth\": 0, \"ticks\": \"\"}}, \"type\": \"scatter\"}], \"scatter3d\": [{\"line\": {\"colorbar\": {\"outlinewidth\": 0, \"ticks\": \"\"}}, \"marker\": {\"colorbar\": {\"outlinewidth\": 0, \"ticks\": \"\"}}, \"type\": \"scatter3d\"}], \"scattercarpet\": [{\"marker\": {\"colorbar\": {\"outlinewidth\": 0, \"ticks\": \"\"}}, \"type\": \"scattercarpet\"}], \"scattergeo\": [{\"marker\": {\"colorbar\": {\"outlinewidth\": 0, \"ticks\": \"\"}}, \"type\": \"scattergeo\"}], \"scattergl\": [{\"marker\": {\"colorbar\": {\"outlinewidth\": 0, \"ticks\": \"\"}}, \"type\": \"scattergl\"}], \"scattermapbox\": [{\"marker\": {\"colorbar\": {\"outlinewidth\": 0, \"ticks\": \"\"}}, \"type\": \"scattermapbox\"}], \"scatterpolar\": [{\"marker\": {\"colorbar\": {\"outlinewidth\": 0, \"ticks\": \"\"}}, \"type\": \"scatterpolar\"}], \"scatterpolargl\": [{\"marker\": {\"colorbar\": {\"outlinewidth\": 0, \"ticks\": \"\"}}, \"type\": \"scatterpolargl\"}], \"scatterternary\": [{\"marker\": {\"colorbar\": {\"outlinewidth\": 0, \"ticks\": \"\"}}, \"type\": \"scatterternary\"}], \"surface\": [{\"colorbar\": {\"outlinewidth\": 0, \"ticks\": \"\"}, \"colorscale\": [[0.0, \"#0d0887\"], [0.1111111111111111, \"#46039f\"], [0.2222222222222222, \"#7201a8\"], [0.3333333333333333, \"#9c179e\"], [0.4444444444444444, \"#bd3786\"], [0.5555555555555556, \"#d8576b\"], [0.6666666666666666, \"#ed7953\"], [0.7777777777777778, \"#fb9f3a\"], [0.8888888888888888, \"#fdca26\"], [1.0, \"#f0f921\"]], \"type\": \"surface\"}], \"table\": [{\"cells\": {\"fill\": {\"color\": \"#EBF0F8\"}, \"line\": {\"color\": \"white\"}}, \"header\": {\"fill\": {\"color\": \"#C8D4E3\"}, \"line\": {\"color\": \"white\"}}, \"type\": \"table\"}]}, \"layout\": {\"annotationdefaults\": {\"arrowcolor\": \"#2a3f5f\", \"arrowhead\": 0, \"arrowwidth\": 1}, \"coloraxis\": {\"colorbar\": {\"outlinewidth\": 0, \"ticks\": \"\"}}, \"colorscale\": {\"diverging\": [[0, \"#8e0152\"], [0.1, \"#c51b7d\"], [0.2, \"#de77ae\"], [0.3, \"#f1b6da\"], [0.4, \"#fde0ef\"], [0.5, \"#f7f7f7\"], [0.6, \"#e6f5d0\"], [0.7, \"#b8e186\"], [0.8, \"#7fbc41\"], [0.9, \"#4d9221\"], [1, \"#276419\"]], \"sequential\": [[0.0, \"#0d0887\"], [0.1111111111111111, \"#46039f\"], [0.2222222222222222, \"#7201a8\"], [0.3333333333333333, \"#9c179e\"], [0.4444444444444444, \"#bd3786\"], [0.5555555555555556, \"#d8576b\"], [0.6666666666666666, \"#ed7953\"], [0.7777777777777778, \"#fb9f3a\"], [0.8888888888888888, \"#fdca26\"], [1.0, \"#f0f921\"]], \"sequentialminus\": [[0.0, \"#0d0887\"], [0.1111111111111111, \"#46039f\"], [0.2222222222222222, \"#7201a8\"], [0.3333333333333333, \"#9c179e\"], [0.4444444444444444, \"#bd3786\"], [0.5555555555555556, \"#d8576b\"], [0.6666666666666666, \"#ed7953\"], [0.7777777777777778, \"#fb9f3a\"], [0.8888888888888888, \"#fdca26\"], [1.0, \"#f0f921\"]]}, \"colorway\": [\"#636efa\", \"#EF553B\", \"#00cc96\", \"#ab63fa\", \"#FFA15A\", \"#19d3f3\", \"#FF6692\", \"#B6E880\", \"#FF97FF\", \"#FECB52\"], \"font\": {\"color\": \"#2a3f5f\"}, \"geo\": {\"bgcolor\": \"white\", \"lakecolor\": \"white\", \"landcolor\": \"#E5ECF6\", \"showlakes\": true, \"showland\": true, \"subunitcolor\": \"white\"}, \"hoverlabel\": {\"align\": \"left\"}, \"hovermode\": \"closest\", \"mapbox\": {\"style\": \"light\"}, \"paper_bgcolor\": \"white\", \"plot_bgcolor\": \"#E5ECF6\", \"polar\": {\"angularaxis\": {\"gridcolor\": \"white\", \"linecolor\": \"white\", \"ticks\": \"\"}, \"bgcolor\": \"#E5ECF6\", \"radialaxis\": {\"gridcolor\": \"white\", \"linecolor\": \"white\", \"ticks\": \"\"}}, \"scene\": {\"xaxis\": {\"backgroundcolor\": \"#E5ECF6\", \"gridcolor\": \"white\", \"gridwidth\": 2, \"linecolor\": \"white\", \"showbackground\": true, \"ticks\": \"\", \"zerolinecolor\": \"white\"}, \"yaxis\": {\"backgroundcolor\": \"#E5ECF6\", \"gridcolor\": \"white\", \"gridwidth\": 2, \"linecolor\": \"white\", \"showbackground\": true, \"ticks\": \"\", \"zerolinecolor\": \"white\"}, \"zaxis\": {\"backgroundcolor\": \"#E5ECF6\", \"gridcolor\": \"white\", \"gridwidth\": 2, \"linecolor\": \"white\", \"showbackground\": true, \"ticks\": \"\", \"zerolinecolor\": \"white\"}}, \"shapedefaults\": {\"line\": {\"color\": \"#2a3f5f\"}}, \"ternary\": {\"aaxis\": {\"gridcolor\": \"white\", \"linecolor\": \"white\", \"ticks\": \"\"}, \"baxis\": {\"gridcolor\": \"white\", \"linecolor\": \"white\", \"ticks\": \"\"}, \"bgcolor\": \"#E5ECF6\", \"caxis\": {\"gridcolor\": \"white\", \"linecolor\": \"white\", \"ticks\": \"\"}}, \"title\": {\"x\": 0.05}, \"xaxis\": {\"automargin\": true, \"gridcolor\": \"white\", \"linecolor\": \"white\", \"ticks\": \"\", \"title\": {\"standoff\": 15}, \"zerolinecolor\": \"white\", \"zerolinewidth\": 2}, \"yaxis\": {\"automargin\": true, \"gridcolor\": \"white\", \"linecolor\": \"white\", \"ticks\": \"\", \"title\": {\"standoff\": 15}, \"zerolinecolor\": \"white\", \"zerolinewidth\": 2}}}, \"title\": {\"font\": {\"color\": \"#4D5663\"}}, \"xaxis\": {\"gridcolor\": \"#E1E5ED\", \"showgrid\": true, \"tickfont\": {\"color\": \"#4D5663\"}, \"title\": {\"font\": {\"color\": \"#4D5663\"}, \"text\": \"\"}, \"zerolinecolor\": \"#E1E5ED\"}, \"yaxis\": {\"gridcolor\": \"#E1E5ED\", \"showgrid\": true, \"tickfont\": {\"color\": \"#4D5663\"}, \"title\": {\"font\": {\"color\": \"#4D5663\"}, \"text\": \"\"}, \"zerolinecolor\": \"#E1E5ED\"}},\n",
       "                        {\"showLink\": true, \"linkText\": \"Export to plot.ly\", \"plotlyServerURL\": \"https://plot.ly\", \"responsive\": true}\n",
       "                    ).then(function(){\n",
       "                            \n",
       "var gd = document.getElementById('f4c829fc-a8d5-4c9e-97ec-bdf55bf5c599');\n",
       "var x = new MutationObserver(function (mutations, observer) {{\n",
       "        var display = window.getComputedStyle(gd).display;\n",
       "        if (!display || display === 'none') {{\n",
       "            console.log([gd, 'removed!']);\n",
       "            Plotly.purge(gd);\n",
       "            observer.disconnect();\n",
       "        }}\n",
       "}});\n",
       "\n",
       "// Listen for the removal of the full notebook cells\n",
       "var notebookContainer = gd.closest('#notebook-container');\n",
       "if (notebookContainer) {{\n",
       "    x.observe(notebookContainer, {childList: true});\n",
       "}}\n",
       "\n",
       "// Listen for the clearing of the current output cell\n",
       "var outputEl = gd.closest('.output');\n",
       "if (outputEl) {{\n",
       "    x.observe(outputEl, {childList: true});\n",
       "}}\n",
       "\n",
       "                        })\n",
       "                };\n",
       "                });\n",
       "            </script>\n",
       "        </div>"
      ]
     },
     "metadata": {},
     "output_type": "display_data"
    }
   ],
   "source": [
    "df.count().iplot(kind='bar')"
   ]
  },
  {
   "cell_type": "markdown",
   "metadata": {},
   "source": [
    "## Boxplots"
   ]
  },
  {
   "cell_type": "code",
   "execution_count": 13,
   "metadata": {},
   "outputs": [
    {
     "data": {
      "application/vnd.plotly.v1+json": {
       "config": {
        "linkText": "Export to plot.ly",
        "plotlyServerURL": "https://plot.ly",
        "showLink": true
       },
       "data": [
        {
         "boxpoints": false,
         "line": {
          "width": 1.3
         },
         "marker": {
          "color": "rgba(255, 153, 51, 1.0)"
         },
         "name": "A",
         "orientation": "v",
         "type": "box",
         "y": [
          0.1939937172428786,
          0.01198709357479974,
          -0.9197269033255341,
          -0.5438327088373623,
          0.7834803322226556,
          -0.6708218107355405,
          -1.2270086594013148,
          -1.5945161544505293,
          -0.9907976523527117,
          -1.1899911221168242,
          1.06555728983655,
          2.094349657907453,
          -0.7653286352163223,
          1.433977366346678,
          0.1025579048479289,
          0.5415168750971099,
          0.6220415367131382,
          -0.04484554676772563,
          0.6955404172357864,
          -0.11957780741457012,
          1.0271108203907722,
          0.6507373589725515,
          -0.7063755562214526,
          1.6571952496589455,
          1.146856945684601,
          -0.49529121555876104,
          1.1840268798212865,
          -0.7724289536911138,
          0.2527295692748135,
          -0.7889106018528703,
          0.23066964593224856,
          -1.8073249839624868,
          0.772958272740142,
          -0.63828408764981,
          0.04419548834580432,
          -0.42033677316336115,
          0.40624489606208614,
          0.5656080556659431,
          -0.6145851682752206,
          -0.6778165800450257,
          -0.8857667081316852,
          0.23543865663786595,
          -0.64751953126351,
          -1.6272795581357524,
          -0.6442866082721088,
          0.1598415091526614,
          -1.5846278315156788,
          -0.7362655278450032,
          -0.7776486911955109,
          -1.1613864726504064,
          0.23645653791656362,
          -0.046116737128403223,
          -0.029034089438273472,
          -0.8685421833611577,
          0.2935712096704209,
          -0.8739308445678745,
          1.2397302903491216,
          -1.0913376504437429,
          -0.6048710523781545,
          0.08859006580896896,
          -1.0303228102801352,
          -1.7636878381657142,
          -0.14365995147603303,
          0.14903229630509462,
          -0.6075544438387713,
          -1.9829405790562238,
          0.40415777675319375,
          0.9457361120828759,
          -0.6755714235167501,
          0.8713559375981939,
          0.4739137310744739,
          0.3147522180127868,
          -0.2046546098406741,
          0.14490624189352064,
          -1.5887453539495555,
          0.9561067061253106,
          1.730784322102986,
          0.9641936369270744,
          0.18758257018712607,
          -1.468477230522763,
          -1.396553080753436,
          -0.15851043767701425,
          0.25171776094821763,
          0.39175943173832994,
          1.0017592643824145,
          0.21353478370158163,
          0.17203759000931104,
          -0.6589458788707,
          1.1948069902329483,
          1.5726935605570183,
          0.17965639147172213,
          1.1752864388876985,
          0.017479947472017726,
          -1.196331042019884,
          -0.12445553401560037,
          -0.5533379425308373,
          -0.5705664103816233,
          0.7525227768380952,
          -0.15743217857562775,
          -1.4831723894832922
         ]
        },
        {
         "boxpoints": false,
         "line": {
          "width": 1.3
         },
         "marker": {
          "color": "rgba(55, 128, 191, 1.0)"
         },
         "name": "B",
         "orientation": "v",
         "type": "box",
         "y": [
          0.23368246569060097,
          -0.9442522999075037,
          1.4757508350619062,
          0.6583319804969867,
          0.15258406889106102,
          1.3158552472659093,
          -1.1185223279965273,
          -0.39158046812888286,
          0.4227492695302025,
          -0.4909341004421402,
          0.7128455728079772,
          -0.15126225022666062,
          -1.2023222572617485,
          -0.8598471122662901,
          0.37748366577390813,
          -0.37771219854476956,
          -1.0151406391317663,
          -0.14193643232479458,
          0.8809736707630573,
          -0.23316113463568516,
          -0.5983997236376914,
          0.03792582797495273,
          -0.32118370929148204,
          -0.8462980786265933,
          0.7903198321341133,
          0.11392102390425404,
          -0.16772724666873615,
          0.1829803492254897,
          -0.24904256392431023,
          0.29629447097116984,
          0.26853531155525406,
          0.3436911031362945,
          -0.46546772335101344,
          -1.9565340522664583,
          -0.48789908862859693,
          0.5750153580790885,
          1.2110326819337072,
          -0.009798274879315942,
          0.12101713494682781,
          1.0030236847193514,
          0.03861309294556079,
          -0.2495541588401459,
          1.7273514293487122,
          1.3084028742436131,
          0.4305763232394022,
          -0.7869084257361719,
          0.8254293478530841,
          -0.43502106798764056,
          -0.13354688307494209,
          0.6219701085364925,
          -1.8580516396037385,
          1.1286789826664125,
          -1.0625405436631963,
          -0.9365892727376878,
          0.6806982847756373,
          -0.1946403985222004,
          0.4761758840675131,
          -1.0088981756190227,
          -0.7992768349220223,
          -0.35794293507930447,
          -0.17325042991865502,
          -0.4230132705446578,
          0.1427484128576023,
          -0.7004909250080186,
          1.774090400681258,
          -1.2169058705918558,
          0.46261600529206226,
          -0.34851608304004095,
          -0.4817134781062881,
          0.46460131852352665,
          -1.869064937974819,
          0.834009784941836,
          -0.9559119847388752,
          0.20920885600486094,
          0.39019270359429936,
          0.39307707529506475,
          0.3343726549154573,
          -0.684670668616076,
          -0.8048142809658069,
          0.88284740018694,
          -0.3087500230206805,
          0.46458735139030743,
          -1.490421224828702,
          1.0168255723243191,
          -3.036278794878397,
          -0.5567832667949063,
          0.3044588029679682,
          -1.3675017563132523,
          -1.0363699333245238,
          0.20591239093078306,
          -0.34700208542240774,
          -1.1698183128242192,
          -1.6901164485187143,
          -0.19161696321123506,
          -0.8388321875453237,
          0.22335717569772506,
          1.2499142008432396,
          0.8903687204778106,
          0.9098245017412132,
          -1.4504571813426723
         ]
        },
        {
         "boxpoints": false,
         "line": {
          "width": 1.3
         },
         "marker": {
          "color": "rgba(50, 171, 96, 1.0)"
         },
         "name": "C",
         "orientation": "v",
         "type": "box",
         "y": [
          -0.5823318668595059,
          -2.2744390497068423,
          -1.906731684066569,
          -0.5513626957689196,
          0.39461559398348384,
          0.5169557830810106,
          0.3524635608606682,
          0.8838233919332499,
          -0.9565056955075907,
          -0.06626286694589308,
          -0.9949897683336856,
          -0.8114487497753088,
          -0.003611303468121072,
          1.4439900082178663,
          0.25259676770267625,
          1.436767726788771,
          -0.6983892124871132,
          0.03295140473258938,
          0.9986876498500851,
          -1.1556967497895592,
          2.170722286974381,
          1.4371682813771784,
          -0.28244660314940956,
          -1.3858165266831945,
          -0.2620935832632944,
          0.039256262195485274,
          0.3199692367596603,
          -0.07790630284312257,
          -0.8772462483074769,
          -0.6695576897033452,
          1.3996588303797524,
          -0.4947858149389341,
          -2.26364754779272,
          -0.6594437655734753,
          0.3740796902269732,
          0.08546519253792723,
          -0.5055110130412841,
          -1.4191416958465077,
          1.1728109436156933,
          1.9242658964640063,
          0.5056021772828239,
          1.491502004375118,
          0.19343249977380636,
          -0.5864658225634096,
          -1.6588010408843623,
          -1.7985416792154787,
          -2.820276919138482,
          -0.057583079537563996,
          -1.8798165898369268,
          0.4293906413553994,
          0.17560072627186077,
          0.3576250802671046,
          -2.570017173163602,
          0.5186523551042922,
          0.3621391236055714,
          0.8324656339682126,
          1.05778631950617,
          -0.8336869272989357,
          0.7973931283101809,
          -0.18699756312895932,
          -2.012942411479047,
          1.7948381927488994,
          -0.6842670310653491,
          -0.07919451609291259,
          0.33788377122791946,
          0.0903456079965252,
          -0.8895364171066543,
          -0.2751921958953291,
          -0.3326684917711887,
          -0.3942876119758109,
          0.631373441701931,
          1.5496128562258553,
          -0.13331197337348852,
          0.6899646151891254,
          0.30469680752622524,
          0.24308493339135556,
          -0.12943965174181088,
          -0.7800032361107118,
          -0.8783481698550101,
          -0.7054519797774306,
          0.08021136554396247,
          -1.0263799714847834,
          0.5977895131309707,
          -1.7923753370544435,
          -0.04622365646082162,
          0.7184618314374265,
          -0.20269335022881463,
          -2.340939254625209,
          -1.0335525621928099,
          1.9345183882945527,
          -0.11336257793230811,
          2.2240868174359325,
          0.8208714718747483,
          0.40311481334749866,
          0.5730111938241931,
          -1.3057206207429375,
          0.5688944979554517,
          -0.21735671990339317,
          0.9815807455421307,
          -0.0009467706880349636
         ]
        },
        {
         "boxpoints": false,
         "line": {
          "width": 1.3
         },
         "marker": {
          "color": "rgba(128, 0, 128, 1.0)"
         },
         "name": "D",
         "orientation": "v",
         "type": "box",
         "y": [
          1.0878727562733148,
          -3.183927786856656,
          -1.2165418882272248,
          -1.3457994021245334,
          0.9796888777980709,
          -0.004563121440714167,
          -0.2720919414808995,
          -0.6638683939536272,
          0.12364146389699673,
          0.6034715091070327,
          0.33636797507278166,
          0.42828327424050344,
          0.0017875921304598538,
          -0.11655090245395314,
          -0.4905668967494036,
          -1.1228432825026469,
          1.8182016041619795,
          -1.557761621470184,
          1.3015184095723158,
          -0.23159573583333876,
          -0.5449093217377119,
          1.43897008476746,
          -1.3279397081636455,
          0.6363903550833581,
          0.4528072186529549,
          -1.7851712670535906,
          0.7141057067757112,
          -0.33187492626306025,
          1.6681190790510114,
          -0.2874854367747743,
          -0.3051688103397385,
          -2.2474495565578483,
          0.4034404594463374,
          0.4382216865108747,
          0.648433721742599,
          2.2186868229500787,
          -1.3007667444019895,
          0.06908194556571537,
          0.4522968994949464,
          0.4872506422408174,
          -1.0332493480778895,
          -0.8338401193489707,
          -0.6220533909107981,
          0.3960332251302076,
          1.6237147524901696,
          1.2839441830578537,
          -1.2126410107229466,
          -0.10708756206816038,
          0.5355882897590875,
          -0.08800878713645252,
          -2.0491215702767405,
          0.7424848191920586,
          0.21909262912962196,
          -0.01329429205396815,
          -0.30507888382212034,
          -0.6083931749155976,
          0.5793327852314085,
          -0.6788460963212135,
          -0.35715528392672263,
          -0.43100296914054503,
          0.4389483611219654,
          2.0422730375873615,
          0.6837020976175603,
          -0.8157273479828914,
          0.09952685283822336,
          -0.8975465471609441,
          0.30767147339422135,
          0.9313098495234367,
          -0.54996762165125,
          -0.1068594139868996,
          -0.0735659096516236,
          -0.3525281035878319,
          0.005575500583184326,
          0.320020017431672,
          1.1573354676002396,
          0.07550246336219645,
          1.4178103667627282,
          -1.0643989547726969,
          0.17920942756504474,
          0.5502517757105804,
          0.7234226346520044,
          -0.9850425699073619,
          1.3515111964856776,
          -1.3312573536536412,
          1.7905474971217765,
          0.6921233996157161,
          0.7100851792907438,
          1.4043641058376857,
          -1.2715327414470388,
          0.04570143515143198,
          0.35970537984361617,
          -1.6000354300743447,
          0.42646418128191177,
          0.04335104436134634,
          1.595242456889686,
          -1.6025233439761826,
          0.43763450200717935,
          0.5434222223220884,
          0.7707172929606991,
          0.5759401939779326
         ]
        }
       ],
       "layout": {
        "legend": {
         "bgcolor": "#F5F6F9",
         "font": {
          "color": "#4D5663"
         }
        },
        "paper_bgcolor": "#F5F6F9",
        "plot_bgcolor": "#F5F6F9",
        "template": {
         "data": {
          "bar": [
           {
            "error_x": {
             "color": "#2a3f5f"
            },
            "error_y": {
             "color": "#2a3f5f"
            },
            "marker": {
             "line": {
              "color": "#E5ECF6",
              "width": 0.5
             }
            },
            "type": "bar"
           }
          ],
          "barpolar": [
           {
            "marker": {
             "line": {
              "color": "#E5ECF6",
              "width": 0.5
             }
            },
            "type": "barpolar"
           }
          ],
          "carpet": [
           {
            "aaxis": {
             "endlinecolor": "#2a3f5f",
             "gridcolor": "white",
             "linecolor": "white",
             "minorgridcolor": "white",
             "startlinecolor": "#2a3f5f"
            },
            "baxis": {
             "endlinecolor": "#2a3f5f",
             "gridcolor": "white",
             "linecolor": "white",
             "minorgridcolor": "white",
             "startlinecolor": "#2a3f5f"
            },
            "type": "carpet"
           }
          ],
          "choropleth": [
           {
            "colorbar": {
             "outlinewidth": 0,
             "ticks": ""
            },
            "type": "choropleth"
           }
          ],
          "contour": [
           {
            "colorbar": {
             "outlinewidth": 0,
             "ticks": ""
            },
            "colorscale": [
             [
              0,
              "#0d0887"
             ],
             [
              0.1111111111111111,
              "#46039f"
             ],
             [
              0.2222222222222222,
              "#7201a8"
             ],
             [
              0.3333333333333333,
              "#9c179e"
             ],
             [
              0.4444444444444444,
              "#bd3786"
             ],
             [
              0.5555555555555556,
              "#d8576b"
             ],
             [
              0.6666666666666666,
              "#ed7953"
             ],
             [
              0.7777777777777778,
              "#fb9f3a"
             ],
             [
              0.8888888888888888,
              "#fdca26"
             ],
             [
              1,
              "#f0f921"
             ]
            ],
            "type": "contour"
           }
          ],
          "contourcarpet": [
           {
            "colorbar": {
             "outlinewidth": 0,
             "ticks": ""
            },
            "type": "contourcarpet"
           }
          ],
          "heatmap": [
           {
            "colorbar": {
             "outlinewidth": 0,
             "ticks": ""
            },
            "colorscale": [
             [
              0,
              "#0d0887"
             ],
             [
              0.1111111111111111,
              "#46039f"
             ],
             [
              0.2222222222222222,
              "#7201a8"
             ],
             [
              0.3333333333333333,
              "#9c179e"
             ],
             [
              0.4444444444444444,
              "#bd3786"
             ],
             [
              0.5555555555555556,
              "#d8576b"
             ],
             [
              0.6666666666666666,
              "#ed7953"
             ],
             [
              0.7777777777777778,
              "#fb9f3a"
             ],
             [
              0.8888888888888888,
              "#fdca26"
             ],
             [
              1,
              "#f0f921"
             ]
            ],
            "type": "heatmap"
           }
          ],
          "heatmapgl": [
           {
            "colorbar": {
             "outlinewidth": 0,
             "ticks": ""
            },
            "colorscale": [
             [
              0,
              "#0d0887"
             ],
             [
              0.1111111111111111,
              "#46039f"
             ],
             [
              0.2222222222222222,
              "#7201a8"
             ],
             [
              0.3333333333333333,
              "#9c179e"
             ],
             [
              0.4444444444444444,
              "#bd3786"
             ],
             [
              0.5555555555555556,
              "#d8576b"
             ],
             [
              0.6666666666666666,
              "#ed7953"
             ],
             [
              0.7777777777777778,
              "#fb9f3a"
             ],
             [
              0.8888888888888888,
              "#fdca26"
             ],
             [
              1,
              "#f0f921"
             ]
            ],
            "type": "heatmapgl"
           }
          ],
          "histogram": [
           {
            "marker": {
             "colorbar": {
              "outlinewidth": 0,
              "ticks": ""
             }
            },
            "type": "histogram"
           }
          ],
          "histogram2d": [
           {
            "colorbar": {
             "outlinewidth": 0,
             "ticks": ""
            },
            "colorscale": [
             [
              0,
              "#0d0887"
             ],
             [
              0.1111111111111111,
              "#46039f"
             ],
             [
              0.2222222222222222,
              "#7201a8"
             ],
             [
              0.3333333333333333,
              "#9c179e"
             ],
             [
              0.4444444444444444,
              "#bd3786"
             ],
             [
              0.5555555555555556,
              "#d8576b"
             ],
             [
              0.6666666666666666,
              "#ed7953"
             ],
             [
              0.7777777777777778,
              "#fb9f3a"
             ],
             [
              0.8888888888888888,
              "#fdca26"
             ],
             [
              1,
              "#f0f921"
             ]
            ],
            "type": "histogram2d"
           }
          ],
          "histogram2dcontour": [
           {
            "colorbar": {
             "outlinewidth": 0,
             "ticks": ""
            },
            "colorscale": [
             [
              0,
              "#0d0887"
             ],
             [
              0.1111111111111111,
              "#46039f"
             ],
             [
              0.2222222222222222,
              "#7201a8"
             ],
             [
              0.3333333333333333,
              "#9c179e"
             ],
             [
              0.4444444444444444,
              "#bd3786"
             ],
             [
              0.5555555555555556,
              "#d8576b"
             ],
             [
              0.6666666666666666,
              "#ed7953"
             ],
             [
              0.7777777777777778,
              "#fb9f3a"
             ],
             [
              0.8888888888888888,
              "#fdca26"
             ],
             [
              1,
              "#f0f921"
             ]
            ],
            "type": "histogram2dcontour"
           }
          ],
          "mesh3d": [
           {
            "colorbar": {
             "outlinewidth": 0,
             "ticks": ""
            },
            "type": "mesh3d"
           }
          ],
          "parcoords": [
           {
            "line": {
             "colorbar": {
              "outlinewidth": 0,
              "ticks": ""
             }
            },
            "type": "parcoords"
           }
          ],
          "pie": [
           {
            "automargin": true,
            "type": "pie"
           }
          ],
          "scatter": [
           {
            "marker": {
             "colorbar": {
              "outlinewidth": 0,
              "ticks": ""
             }
            },
            "type": "scatter"
           }
          ],
          "scatter3d": [
           {
            "line": {
             "colorbar": {
              "outlinewidth": 0,
              "ticks": ""
             }
            },
            "marker": {
             "colorbar": {
              "outlinewidth": 0,
              "ticks": ""
             }
            },
            "type": "scatter3d"
           }
          ],
          "scattercarpet": [
           {
            "marker": {
             "colorbar": {
              "outlinewidth": 0,
              "ticks": ""
             }
            },
            "type": "scattercarpet"
           }
          ],
          "scattergeo": [
           {
            "marker": {
             "colorbar": {
              "outlinewidth": 0,
              "ticks": ""
             }
            },
            "type": "scattergeo"
           }
          ],
          "scattergl": [
           {
            "marker": {
             "colorbar": {
              "outlinewidth": 0,
              "ticks": ""
             }
            },
            "type": "scattergl"
           }
          ],
          "scattermapbox": [
           {
            "marker": {
             "colorbar": {
              "outlinewidth": 0,
              "ticks": ""
             }
            },
            "type": "scattermapbox"
           }
          ],
          "scatterpolar": [
           {
            "marker": {
             "colorbar": {
              "outlinewidth": 0,
              "ticks": ""
             }
            },
            "type": "scatterpolar"
           }
          ],
          "scatterpolargl": [
           {
            "marker": {
             "colorbar": {
              "outlinewidth": 0,
              "ticks": ""
             }
            },
            "type": "scatterpolargl"
           }
          ],
          "scatterternary": [
           {
            "marker": {
             "colorbar": {
              "outlinewidth": 0,
              "ticks": ""
             }
            },
            "type": "scatterternary"
           }
          ],
          "surface": [
           {
            "colorbar": {
             "outlinewidth": 0,
             "ticks": ""
            },
            "colorscale": [
             [
              0,
              "#0d0887"
             ],
             [
              0.1111111111111111,
              "#46039f"
             ],
             [
              0.2222222222222222,
              "#7201a8"
             ],
             [
              0.3333333333333333,
              "#9c179e"
             ],
             [
              0.4444444444444444,
              "#bd3786"
             ],
             [
              0.5555555555555556,
              "#d8576b"
             ],
             [
              0.6666666666666666,
              "#ed7953"
             ],
             [
              0.7777777777777778,
              "#fb9f3a"
             ],
             [
              0.8888888888888888,
              "#fdca26"
             ],
             [
              1,
              "#f0f921"
             ]
            ],
            "type": "surface"
           }
          ],
          "table": [
           {
            "cells": {
             "fill": {
              "color": "#EBF0F8"
             },
             "line": {
              "color": "white"
             }
            },
            "header": {
             "fill": {
              "color": "#C8D4E3"
             },
             "line": {
              "color": "white"
             }
            },
            "type": "table"
           }
          ]
         },
         "layout": {
          "annotationdefaults": {
           "arrowcolor": "#2a3f5f",
           "arrowhead": 0,
           "arrowwidth": 1
          },
          "coloraxis": {
           "colorbar": {
            "outlinewidth": 0,
            "ticks": ""
           }
          },
          "colorscale": {
           "diverging": [
            [
             0,
             "#8e0152"
            ],
            [
             0.1,
             "#c51b7d"
            ],
            [
             0.2,
             "#de77ae"
            ],
            [
             0.3,
             "#f1b6da"
            ],
            [
             0.4,
             "#fde0ef"
            ],
            [
             0.5,
             "#f7f7f7"
            ],
            [
             0.6,
             "#e6f5d0"
            ],
            [
             0.7,
             "#b8e186"
            ],
            [
             0.8,
             "#7fbc41"
            ],
            [
             0.9,
             "#4d9221"
            ],
            [
             1,
             "#276419"
            ]
           ],
           "sequential": [
            [
             0,
             "#0d0887"
            ],
            [
             0.1111111111111111,
             "#46039f"
            ],
            [
             0.2222222222222222,
             "#7201a8"
            ],
            [
             0.3333333333333333,
             "#9c179e"
            ],
            [
             0.4444444444444444,
             "#bd3786"
            ],
            [
             0.5555555555555556,
             "#d8576b"
            ],
            [
             0.6666666666666666,
             "#ed7953"
            ],
            [
             0.7777777777777778,
             "#fb9f3a"
            ],
            [
             0.8888888888888888,
             "#fdca26"
            ],
            [
             1,
             "#f0f921"
            ]
           ],
           "sequentialminus": [
            [
             0,
             "#0d0887"
            ],
            [
             0.1111111111111111,
             "#46039f"
            ],
            [
             0.2222222222222222,
             "#7201a8"
            ],
            [
             0.3333333333333333,
             "#9c179e"
            ],
            [
             0.4444444444444444,
             "#bd3786"
            ],
            [
             0.5555555555555556,
             "#d8576b"
            ],
            [
             0.6666666666666666,
             "#ed7953"
            ],
            [
             0.7777777777777778,
             "#fb9f3a"
            ],
            [
             0.8888888888888888,
             "#fdca26"
            ],
            [
             1,
             "#f0f921"
            ]
           ]
          },
          "colorway": [
           "#636efa",
           "#EF553B",
           "#00cc96",
           "#ab63fa",
           "#FFA15A",
           "#19d3f3",
           "#FF6692",
           "#B6E880",
           "#FF97FF",
           "#FECB52"
          ],
          "font": {
           "color": "#2a3f5f"
          },
          "geo": {
           "bgcolor": "white",
           "lakecolor": "white",
           "landcolor": "#E5ECF6",
           "showlakes": true,
           "showland": true,
           "subunitcolor": "white"
          },
          "hoverlabel": {
           "align": "left"
          },
          "hovermode": "closest",
          "mapbox": {
           "style": "light"
          },
          "paper_bgcolor": "white",
          "plot_bgcolor": "#E5ECF6",
          "polar": {
           "angularaxis": {
            "gridcolor": "white",
            "linecolor": "white",
            "ticks": ""
           },
           "bgcolor": "#E5ECF6",
           "radialaxis": {
            "gridcolor": "white",
            "linecolor": "white",
            "ticks": ""
           }
          },
          "scene": {
           "xaxis": {
            "backgroundcolor": "#E5ECF6",
            "gridcolor": "white",
            "gridwidth": 2,
            "linecolor": "white",
            "showbackground": true,
            "ticks": "",
            "zerolinecolor": "white"
           },
           "yaxis": {
            "backgroundcolor": "#E5ECF6",
            "gridcolor": "white",
            "gridwidth": 2,
            "linecolor": "white",
            "showbackground": true,
            "ticks": "",
            "zerolinecolor": "white"
           },
           "zaxis": {
            "backgroundcolor": "#E5ECF6",
            "gridcolor": "white",
            "gridwidth": 2,
            "linecolor": "white",
            "showbackground": true,
            "ticks": "",
            "zerolinecolor": "white"
           }
          },
          "shapedefaults": {
           "line": {
            "color": "#2a3f5f"
           }
          },
          "ternary": {
           "aaxis": {
            "gridcolor": "white",
            "linecolor": "white",
            "ticks": ""
           },
           "baxis": {
            "gridcolor": "white",
            "linecolor": "white",
            "ticks": ""
           },
           "bgcolor": "#E5ECF6",
           "caxis": {
            "gridcolor": "white",
            "linecolor": "white",
            "ticks": ""
           }
          },
          "title": {
           "x": 0.05
          },
          "xaxis": {
           "automargin": true,
           "gridcolor": "white",
           "linecolor": "white",
           "ticks": "",
           "title": {
            "standoff": 15
           },
           "zerolinecolor": "white",
           "zerolinewidth": 2
          },
          "yaxis": {
           "automargin": true,
           "gridcolor": "white",
           "linecolor": "white",
           "ticks": "",
           "title": {
            "standoff": 15
           },
           "zerolinecolor": "white",
           "zerolinewidth": 2
          }
         }
        },
        "title": {
         "font": {
          "color": "#4D5663"
         }
        },
        "xaxis": {
         "gridcolor": "#E1E5ED",
         "showgrid": true,
         "tickfont": {
          "color": "#4D5663"
         },
         "title": {
          "font": {
           "color": "#4D5663"
          },
          "text": ""
         },
         "zerolinecolor": "#E1E5ED"
        },
        "yaxis": {
         "gridcolor": "#E1E5ED",
         "showgrid": true,
         "tickfont": {
          "color": "#4D5663"
         },
         "title": {
          "font": {
           "color": "#4D5663"
          },
          "text": ""
         },
         "zerolinecolor": "#E1E5ED"
        }
       }
      },
      "text/html": [
       "<div>\n",
       "        \n",
       "        \n",
       "            <div id=\"891551a0-d864-4db8-9e40-09e6506cf207\" class=\"plotly-graph-div\" style=\"height:525px; width:100%;\"></div>\n",
       "            <script type=\"text/javascript\">\n",
       "                require([\"plotly\"], function(Plotly) {\n",
       "                    window.PLOTLYENV=window.PLOTLYENV || {};\n",
       "                    window.PLOTLYENV.BASE_URL='https://plot.ly';\n",
       "                    \n",
       "                if (document.getElementById(\"891551a0-d864-4db8-9e40-09e6506cf207\")) {\n",
       "                    Plotly.newPlot(\n",
       "                        '891551a0-d864-4db8-9e40-09e6506cf207',\n",
       "                        [{\"boxpoints\": false, \"line\": {\"width\": 1.3}, \"marker\": {\"color\": \"rgba(255, 153, 51, 1.0)\"}, \"name\": \"A\", \"orientation\": \"v\", \"type\": \"box\", \"y\": [0.1939937172428786, 0.01198709357479974, -0.9197269033255341, -0.5438327088373623, 0.7834803322226556, -0.6708218107355405, -1.2270086594013148, -1.5945161544505293, -0.9907976523527117, -1.1899911221168242, 1.06555728983655, 2.094349657907453, -0.7653286352163223, 1.433977366346678, 0.1025579048479289, 0.5415168750971099, 0.6220415367131382, -0.04484554676772563, 0.6955404172357864, -0.11957780741457012, 1.0271108203907722, 0.6507373589725515, -0.7063755562214526, 1.6571952496589455, 1.146856945684601, -0.49529121555876104, 1.1840268798212865, -0.7724289536911138, 0.2527295692748135, -0.7889106018528703, 0.23066964593224856, -1.8073249839624868, 0.772958272740142, -0.63828408764981, 0.04419548834580432, -0.42033677316336115, 0.40624489606208614, 0.5656080556659431, -0.6145851682752206, -0.6778165800450257, -0.8857667081316852, 0.23543865663786595, -0.64751953126351, -1.6272795581357524, -0.6442866082721088, 0.1598415091526614, -1.5846278315156788, -0.7362655278450032, -0.7776486911955109, -1.1613864726504064, 0.23645653791656362, -0.046116737128403223, -0.029034089438273472, -0.8685421833611577, 0.2935712096704209, -0.8739308445678745, 1.2397302903491216, -1.0913376504437429, -0.6048710523781545, 0.08859006580896896, -1.0303228102801352, -1.7636878381657142, -0.14365995147603303, 0.14903229630509462, -0.6075544438387713, -1.9829405790562238, 0.40415777675319375, 0.9457361120828759, -0.6755714235167501, 0.8713559375981939, 0.4739137310744739, 0.3147522180127868, -0.2046546098406741, 0.14490624189352064, -1.5887453539495555, 0.9561067061253106, 1.730784322102986, 0.9641936369270744, 0.18758257018712607, -1.468477230522763, -1.396553080753436, -0.15851043767701425, 0.25171776094821763, 0.39175943173832994, 1.0017592643824145, 0.21353478370158163, 0.17203759000931104, -0.6589458788707, 1.1948069902329483, 1.5726935605570183, 0.17965639147172213, 1.1752864388876985, 0.017479947472017726, -1.196331042019884, -0.12445553401560037, -0.5533379425308373, -0.5705664103816233, 0.7525227768380952, -0.15743217857562775, -1.4831723894832922]}, {\"boxpoints\": false, \"line\": {\"width\": 1.3}, \"marker\": {\"color\": \"rgba(55, 128, 191, 1.0)\"}, \"name\": \"B\", \"orientation\": \"v\", \"type\": \"box\", \"y\": [0.23368246569060097, -0.9442522999075037, 1.4757508350619062, 0.6583319804969867, 0.15258406889106102, 1.3158552472659093, -1.1185223279965273, -0.39158046812888286, 0.4227492695302025, -0.4909341004421402, 0.7128455728079772, -0.15126225022666062, -1.2023222572617485, -0.8598471122662901, 0.37748366577390813, -0.37771219854476956, -1.0151406391317663, -0.14193643232479458, 0.8809736707630573, -0.23316113463568516, -0.5983997236376914, 0.03792582797495273, -0.32118370929148204, -0.8462980786265933, 0.7903198321341133, 0.11392102390425404, -0.16772724666873615, 0.1829803492254897, -0.24904256392431023, 0.29629447097116984, 0.26853531155525406, 0.3436911031362945, -0.46546772335101344, -1.9565340522664583, -0.48789908862859693, 0.5750153580790885, 1.2110326819337072, -0.009798274879315942, 0.12101713494682781, 1.0030236847193514, 0.03861309294556079, -0.2495541588401459, 1.7273514293487122, 1.3084028742436131, 0.4305763232394022, -0.7869084257361719, 0.8254293478530841, -0.43502106798764056, -0.13354688307494209, 0.6219701085364925, -1.8580516396037385, 1.1286789826664125, -1.0625405436631963, -0.9365892727376878, 0.6806982847756373, -0.1946403985222004, 0.4761758840675131, -1.0088981756190227, -0.7992768349220223, -0.35794293507930447, -0.17325042991865502, -0.4230132705446578, 0.1427484128576023, -0.7004909250080186, 1.774090400681258, -1.2169058705918558, 0.46261600529206226, -0.34851608304004095, -0.4817134781062881, 0.46460131852352665, -1.869064937974819, 0.834009784941836, -0.9559119847388752, 0.20920885600486094, 0.39019270359429936, 0.39307707529506475, 0.3343726549154573, -0.684670668616076, -0.8048142809658069, 0.88284740018694, -0.3087500230206805, 0.46458735139030743, -1.490421224828702, 1.0168255723243191, -3.036278794878397, -0.5567832667949063, 0.3044588029679682, -1.3675017563132523, -1.0363699333245238, 0.20591239093078306, -0.34700208542240774, -1.1698183128242192, -1.6901164485187143, -0.19161696321123506, -0.8388321875453237, 0.22335717569772506, 1.2499142008432396, 0.8903687204778106, 0.9098245017412132, -1.4504571813426723]}, {\"boxpoints\": false, \"line\": {\"width\": 1.3}, \"marker\": {\"color\": \"rgba(50, 171, 96, 1.0)\"}, \"name\": \"C\", \"orientation\": \"v\", \"type\": \"box\", \"y\": [-0.5823318668595059, -2.2744390497068423, -1.906731684066569, -0.5513626957689196, 0.39461559398348384, 0.5169557830810106, 0.3524635608606682, 0.8838233919332499, -0.9565056955075907, -0.06626286694589308, -0.9949897683336856, -0.8114487497753088, -0.003611303468121072, 1.4439900082178663, 0.25259676770267625, 1.436767726788771, -0.6983892124871132, 0.03295140473258938, 0.9986876498500851, -1.1556967497895592, 2.170722286974381, 1.4371682813771784, -0.28244660314940956, -1.3858165266831945, -0.2620935832632944, 0.039256262195485274, 0.3199692367596603, -0.07790630284312257, -0.8772462483074769, -0.6695576897033452, 1.3996588303797524, -0.4947858149389341, -2.26364754779272, -0.6594437655734753, 0.3740796902269732, 0.08546519253792723, -0.5055110130412841, -1.4191416958465077, 1.1728109436156933, 1.9242658964640063, 0.5056021772828239, 1.491502004375118, 0.19343249977380636, -0.5864658225634096, -1.6588010408843623, -1.7985416792154787, -2.820276919138482, -0.057583079537563996, -1.8798165898369268, 0.4293906413553994, 0.17560072627186077, 0.3576250802671046, -2.570017173163602, 0.5186523551042922, 0.3621391236055714, 0.8324656339682126, 1.05778631950617, -0.8336869272989357, 0.7973931283101809, -0.18699756312895932, -2.012942411479047, 1.7948381927488994, -0.6842670310653491, -0.07919451609291259, 0.33788377122791946, 0.0903456079965252, -0.8895364171066543, -0.2751921958953291, -0.3326684917711887, -0.3942876119758109, 0.631373441701931, 1.5496128562258553, -0.13331197337348852, 0.6899646151891254, 0.30469680752622524, 0.24308493339135556, -0.12943965174181088, -0.7800032361107118, -0.8783481698550101, -0.7054519797774306, 0.08021136554396247, -1.0263799714847834, 0.5977895131309707, -1.7923753370544435, -0.04622365646082162, 0.7184618314374265, -0.20269335022881463, -2.340939254625209, -1.0335525621928099, 1.9345183882945527, -0.11336257793230811, 2.2240868174359325, 0.8208714718747483, 0.40311481334749866, 0.5730111938241931, -1.3057206207429375, 0.5688944979554517, -0.21735671990339317, 0.9815807455421307, -0.0009467706880349636]}, {\"boxpoints\": false, \"line\": {\"width\": 1.3}, \"marker\": {\"color\": \"rgba(128, 0, 128, 1.0)\"}, \"name\": \"D\", \"orientation\": \"v\", \"type\": \"box\", \"y\": [1.0878727562733148, -3.183927786856656, -1.2165418882272248, -1.3457994021245334, 0.9796888777980709, -0.004563121440714167, -0.2720919414808995, -0.6638683939536272, 0.12364146389699673, 0.6034715091070327, 0.33636797507278166, 0.42828327424050344, 0.0017875921304598538, -0.11655090245395314, -0.4905668967494036, -1.1228432825026469, 1.8182016041619795, -1.557761621470184, 1.3015184095723158, -0.23159573583333876, -0.5449093217377119, 1.43897008476746, -1.3279397081636455, 0.6363903550833581, 0.4528072186529549, -1.7851712670535906, 0.7141057067757112, -0.33187492626306025, 1.6681190790510114, -0.2874854367747743, -0.3051688103397385, -2.2474495565578483, 0.4034404594463374, 0.4382216865108747, 0.648433721742599, 2.2186868229500787, -1.3007667444019895, 0.06908194556571537, 0.4522968994949464, 0.4872506422408174, -1.0332493480778895, -0.8338401193489707, -0.6220533909107981, 0.3960332251302076, 1.6237147524901696, 1.2839441830578537, -1.2126410107229466, -0.10708756206816038, 0.5355882897590875, -0.08800878713645252, -2.0491215702767405, 0.7424848191920586, 0.21909262912962196, -0.01329429205396815, -0.30507888382212034, -0.6083931749155976, 0.5793327852314085, -0.6788460963212135, -0.35715528392672263, -0.43100296914054503, 0.4389483611219654, 2.0422730375873615, 0.6837020976175603, -0.8157273479828914, 0.09952685283822336, -0.8975465471609441, 0.30767147339422135, 0.9313098495234367, -0.54996762165125, -0.1068594139868996, -0.0735659096516236, -0.3525281035878319, 0.005575500583184326, 0.320020017431672, 1.1573354676002396, 0.07550246336219645, 1.4178103667627282, -1.0643989547726969, 0.17920942756504474, 0.5502517757105804, 0.7234226346520044, -0.9850425699073619, 1.3515111964856776, -1.3312573536536412, 1.7905474971217765, 0.6921233996157161, 0.7100851792907438, 1.4043641058376857, -1.2715327414470388, 0.04570143515143198, 0.35970537984361617, -1.6000354300743447, 0.42646418128191177, 0.04335104436134634, 1.595242456889686, -1.6025233439761826, 0.43763450200717935, 0.5434222223220884, 0.7707172929606991, 0.5759401939779326]}],\n",
       "                        {\"legend\": {\"bgcolor\": \"#F5F6F9\", \"font\": {\"color\": \"#4D5663\"}}, \"paper_bgcolor\": \"#F5F6F9\", \"plot_bgcolor\": \"#F5F6F9\", \"template\": {\"data\": {\"bar\": [{\"error_x\": {\"color\": \"#2a3f5f\"}, \"error_y\": {\"color\": \"#2a3f5f\"}, \"marker\": {\"line\": {\"color\": \"#E5ECF6\", \"width\": 0.5}}, \"type\": \"bar\"}], \"barpolar\": [{\"marker\": {\"line\": {\"color\": \"#E5ECF6\", \"width\": 0.5}}, \"type\": \"barpolar\"}], \"carpet\": [{\"aaxis\": {\"endlinecolor\": \"#2a3f5f\", \"gridcolor\": \"white\", \"linecolor\": \"white\", \"minorgridcolor\": \"white\", \"startlinecolor\": \"#2a3f5f\"}, \"baxis\": {\"endlinecolor\": \"#2a3f5f\", \"gridcolor\": \"white\", \"linecolor\": \"white\", \"minorgridcolor\": \"white\", \"startlinecolor\": \"#2a3f5f\"}, \"type\": \"carpet\"}], \"choropleth\": [{\"colorbar\": {\"outlinewidth\": 0, \"ticks\": \"\"}, \"type\": \"choropleth\"}], \"contour\": [{\"colorbar\": {\"outlinewidth\": 0, \"ticks\": \"\"}, \"colorscale\": [[0.0, \"#0d0887\"], [0.1111111111111111, \"#46039f\"], [0.2222222222222222, \"#7201a8\"], [0.3333333333333333, \"#9c179e\"], [0.4444444444444444, \"#bd3786\"], [0.5555555555555556, \"#d8576b\"], [0.6666666666666666, \"#ed7953\"], [0.7777777777777778, \"#fb9f3a\"], [0.8888888888888888, \"#fdca26\"], [1.0, \"#f0f921\"]], \"type\": \"contour\"}], \"contourcarpet\": [{\"colorbar\": {\"outlinewidth\": 0, \"ticks\": \"\"}, \"type\": \"contourcarpet\"}], \"heatmap\": [{\"colorbar\": {\"outlinewidth\": 0, \"ticks\": \"\"}, \"colorscale\": [[0.0, \"#0d0887\"], [0.1111111111111111, \"#46039f\"], [0.2222222222222222, \"#7201a8\"], [0.3333333333333333, \"#9c179e\"], [0.4444444444444444, \"#bd3786\"], [0.5555555555555556, \"#d8576b\"], [0.6666666666666666, \"#ed7953\"], [0.7777777777777778, \"#fb9f3a\"], [0.8888888888888888, \"#fdca26\"], [1.0, \"#f0f921\"]], \"type\": \"heatmap\"}], \"heatmapgl\": [{\"colorbar\": {\"outlinewidth\": 0, \"ticks\": \"\"}, \"colorscale\": [[0.0, \"#0d0887\"], [0.1111111111111111, \"#46039f\"], [0.2222222222222222, \"#7201a8\"], [0.3333333333333333, \"#9c179e\"], [0.4444444444444444, \"#bd3786\"], [0.5555555555555556, \"#d8576b\"], [0.6666666666666666, \"#ed7953\"], [0.7777777777777778, \"#fb9f3a\"], [0.8888888888888888, \"#fdca26\"], [1.0, \"#f0f921\"]], \"type\": \"heatmapgl\"}], \"histogram\": [{\"marker\": {\"colorbar\": {\"outlinewidth\": 0, \"ticks\": \"\"}}, \"type\": \"histogram\"}], \"histogram2d\": [{\"colorbar\": {\"outlinewidth\": 0, \"ticks\": \"\"}, \"colorscale\": [[0.0, \"#0d0887\"], [0.1111111111111111, \"#46039f\"], [0.2222222222222222, \"#7201a8\"], [0.3333333333333333, \"#9c179e\"], [0.4444444444444444, \"#bd3786\"], [0.5555555555555556, \"#d8576b\"], [0.6666666666666666, \"#ed7953\"], [0.7777777777777778, \"#fb9f3a\"], [0.8888888888888888, \"#fdca26\"], [1.0, \"#f0f921\"]], \"type\": \"histogram2d\"}], \"histogram2dcontour\": [{\"colorbar\": {\"outlinewidth\": 0, \"ticks\": \"\"}, \"colorscale\": [[0.0, \"#0d0887\"], [0.1111111111111111, \"#46039f\"], [0.2222222222222222, \"#7201a8\"], [0.3333333333333333, \"#9c179e\"], [0.4444444444444444, \"#bd3786\"], [0.5555555555555556, \"#d8576b\"], [0.6666666666666666, \"#ed7953\"], [0.7777777777777778, \"#fb9f3a\"], [0.8888888888888888, \"#fdca26\"], [1.0, \"#f0f921\"]], \"type\": \"histogram2dcontour\"}], \"mesh3d\": [{\"colorbar\": {\"outlinewidth\": 0, \"ticks\": \"\"}, \"type\": \"mesh3d\"}], \"parcoords\": [{\"line\": {\"colorbar\": {\"outlinewidth\": 0, \"ticks\": \"\"}}, \"type\": \"parcoords\"}], \"pie\": [{\"automargin\": true, \"type\": \"pie\"}], \"scatter\": [{\"marker\": {\"colorbar\": {\"outlinewidth\": 0, \"ticks\": \"\"}}, \"type\": \"scatter\"}], \"scatter3d\": [{\"line\": {\"colorbar\": {\"outlinewidth\": 0, \"ticks\": \"\"}}, \"marker\": {\"colorbar\": {\"outlinewidth\": 0, \"ticks\": \"\"}}, \"type\": \"scatter3d\"}], \"scattercarpet\": [{\"marker\": {\"colorbar\": {\"outlinewidth\": 0, \"ticks\": \"\"}}, \"type\": \"scattercarpet\"}], \"scattergeo\": [{\"marker\": {\"colorbar\": {\"outlinewidth\": 0, \"ticks\": \"\"}}, \"type\": \"scattergeo\"}], \"scattergl\": [{\"marker\": {\"colorbar\": {\"outlinewidth\": 0, \"ticks\": \"\"}}, \"type\": \"scattergl\"}], \"scattermapbox\": [{\"marker\": {\"colorbar\": {\"outlinewidth\": 0, \"ticks\": \"\"}}, \"type\": \"scattermapbox\"}], \"scatterpolar\": [{\"marker\": {\"colorbar\": {\"outlinewidth\": 0, \"ticks\": \"\"}}, \"type\": \"scatterpolar\"}], \"scatterpolargl\": [{\"marker\": {\"colorbar\": {\"outlinewidth\": 0, \"ticks\": \"\"}}, \"type\": \"scatterpolargl\"}], \"scatterternary\": [{\"marker\": {\"colorbar\": {\"outlinewidth\": 0, \"ticks\": \"\"}}, \"type\": \"scatterternary\"}], \"surface\": [{\"colorbar\": {\"outlinewidth\": 0, \"ticks\": \"\"}, \"colorscale\": [[0.0, \"#0d0887\"], [0.1111111111111111, \"#46039f\"], [0.2222222222222222, \"#7201a8\"], [0.3333333333333333, \"#9c179e\"], [0.4444444444444444, \"#bd3786\"], [0.5555555555555556, \"#d8576b\"], [0.6666666666666666, \"#ed7953\"], [0.7777777777777778, \"#fb9f3a\"], [0.8888888888888888, \"#fdca26\"], [1.0, \"#f0f921\"]], \"type\": \"surface\"}], \"table\": [{\"cells\": {\"fill\": {\"color\": \"#EBF0F8\"}, \"line\": {\"color\": \"white\"}}, \"header\": {\"fill\": {\"color\": \"#C8D4E3\"}, \"line\": {\"color\": \"white\"}}, \"type\": \"table\"}]}, \"layout\": {\"annotationdefaults\": {\"arrowcolor\": \"#2a3f5f\", \"arrowhead\": 0, \"arrowwidth\": 1}, \"coloraxis\": {\"colorbar\": {\"outlinewidth\": 0, \"ticks\": \"\"}}, \"colorscale\": {\"diverging\": [[0, \"#8e0152\"], [0.1, \"#c51b7d\"], [0.2, \"#de77ae\"], [0.3, \"#f1b6da\"], [0.4, \"#fde0ef\"], [0.5, \"#f7f7f7\"], [0.6, \"#e6f5d0\"], [0.7, \"#b8e186\"], [0.8, \"#7fbc41\"], [0.9, \"#4d9221\"], [1, \"#276419\"]], \"sequential\": [[0.0, \"#0d0887\"], [0.1111111111111111, \"#46039f\"], [0.2222222222222222, \"#7201a8\"], [0.3333333333333333, \"#9c179e\"], [0.4444444444444444, \"#bd3786\"], [0.5555555555555556, \"#d8576b\"], [0.6666666666666666, \"#ed7953\"], [0.7777777777777778, \"#fb9f3a\"], [0.8888888888888888, \"#fdca26\"], [1.0, \"#f0f921\"]], \"sequentialminus\": [[0.0, \"#0d0887\"], [0.1111111111111111, \"#46039f\"], [0.2222222222222222, \"#7201a8\"], [0.3333333333333333, \"#9c179e\"], [0.4444444444444444, \"#bd3786\"], [0.5555555555555556, \"#d8576b\"], [0.6666666666666666, \"#ed7953\"], [0.7777777777777778, \"#fb9f3a\"], [0.8888888888888888, \"#fdca26\"], [1.0, \"#f0f921\"]]}, \"colorway\": [\"#636efa\", \"#EF553B\", \"#00cc96\", \"#ab63fa\", \"#FFA15A\", \"#19d3f3\", \"#FF6692\", \"#B6E880\", \"#FF97FF\", \"#FECB52\"], \"font\": {\"color\": \"#2a3f5f\"}, \"geo\": {\"bgcolor\": \"white\", \"lakecolor\": \"white\", \"landcolor\": \"#E5ECF6\", \"showlakes\": true, \"showland\": true, \"subunitcolor\": \"white\"}, \"hoverlabel\": {\"align\": \"left\"}, \"hovermode\": \"closest\", \"mapbox\": {\"style\": \"light\"}, \"paper_bgcolor\": \"white\", \"plot_bgcolor\": \"#E5ECF6\", \"polar\": {\"angularaxis\": {\"gridcolor\": \"white\", \"linecolor\": \"white\", \"ticks\": \"\"}, \"bgcolor\": \"#E5ECF6\", \"radialaxis\": {\"gridcolor\": \"white\", \"linecolor\": \"white\", \"ticks\": \"\"}}, \"scene\": {\"xaxis\": {\"backgroundcolor\": \"#E5ECF6\", \"gridcolor\": \"white\", \"gridwidth\": 2, \"linecolor\": \"white\", \"showbackground\": true, \"ticks\": \"\", \"zerolinecolor\": \"white\"}, \"yaxis\": {\"backgroundcolor\": \"#E5ECF6\", \"gridcolor\": \"white\", \"gridwidth\": 2, \"linecolor\": \"white\", \"showbackground\": true, \"ticks\": \"\", \"zerolinecolor\": \"white\"}, \"zaxis\": {\"backgroundcolor\": \"#E5ECF6\", \"gridcolor\": \"white\", \"gridwidth\": 2, \"linecolor\": \"white\", \"showbackground\": true, \"ticks\": \"\", \"zerolinecolor\": \"white\"}}, \"shapedefaults\": {\"line\": {\"color\": \"#2a3f5f\"}}, \"ternary\": {\"aaxis\": {\"gridcolor\": \"white\", \"linecolor\": \"white\", \"ticks\": \"\"}, \"baxis\": {\"gridcolor\": \"white\", \"linecolor\": \"white\", \"ticks\": \"\"}, \"bgcolor\": \"#E5ECF6\", \"caxis\": {\"gridcolor\": \"white\", \"linecolor\": \"white\", \"ticks\": \"\"}}, \"title\": {\"x\": 0.05}, \"xaxis\": {\"automargin\": true, \"gridcolor\": \"white\", \"linecolor\": \"white\", \"ticks\": \"\", \"title\": {\"standoff\": 15}, \"zerolinecolor\": \"white\", \"zerolinewidth\": 2}, \"yaxis\": {\"automargin\": true, \"gridcolor\": \"white\", \"linecolor\": \"white\", \"ticks\": \"\", \"title\": {\"standoff\": 15}, \"zerolinecolor\": \"white\", \"zerolinewidth\": 2}}}, \"title\": {\"font\": {\"color\": \"#4D5663\"}}, \"xaxis\": {\"gridcolor\": \"#E1E5ED\", \"showgrid\": true, \"tickfont\": {\"color\": \"#4D5663\"}, \"title\": {\"font\": {\"color\": \"#4D5663\"}, \"text\": \"\"}, \"zerolinecolor\": \"#E1E5ED\"}, \"yaxis\": {\"gridcolor\": \"#E1E5ED\", \"showgrid\": true, \"tickfont\": {\"color\": \"#4D5663\"}, \"title\": {\"font\": {\"color\": \"#4D5663\"}, \"text\": \"\"}, \"zerolinecolor\": \"#E1E5ED\"}},\n",
       "                        {\"showLink\": true, \"linkText\": \"Export to plot.ly\", \"plotlyServerURL\": \"https://plot.ly\", \"responsive\": true}\n",
       "                    ).then(function(){\n",
       "                            \n",
       "var gd = document.getElementById('891551a0-d864-4db8-9e40-09e6506cf207');\n",
       "var x = new MutationObserver(function (mutations, observer) {{\n",
       "        var display = window.getComputedStyle(gd).display;\n",
       "        if (!display || display === 'none') {{\n",
       "            console.log([gd, 'removed!']);\n",
       "            Plotly.purge(gd);\n",
       "            observer.disconnect();\n",
       "        }}\n",
       "}});\n",
       "\n",
       "// Listen for the removal of the full notebook cells\n",
       "var notebookContainer = gd.closest('#notebook-container');\n",
       "if (notebookContainer) {{\n",
       "    x.observe(notebookContainer, {childList: true});\n",
       "}}\n",
       "\n",
       "// Listen for the clearing of the current output cell\n",
       "var outputEl = gd.closest('.output');\n",
       "if (outputEl) {{\n",
       "    x.observe(outputEl, {childList: true});\n",
       "}}\n",
       "\n",
       "                        })\n",
       "                };\n",
       "                });\n",
       "            </script>\n",
       "        </div>"
      ]
     },
     "metadata": {},
     "output_type": "display_data"
    }
   ],
   "source": [
    "df.iplot(kind='box')"
   ]
  },
  {
   "cell_type": "markdown",
   "metadata": {},
   "source": [
    "## 3d Surface"
   ]
  },
  {
   "cell_type": "code",
   "execution_count": 14,
   "metadata": {},
   "outputs": [
    {
     "data": {
      "application/vnd.plotly.v1+json": {
       "config": {
        "linkText": "Export to plot.ly",
        "plotlyServerURL": "https://plot.ly",
        "showLink": true
       },
       "data": [
        {
         "colorscale": [
          [
           0,
           "rgb(165,0,38)"
          ],
          [
           0.1,
           "rgb(215,48,39)"
          ],
          [
           0.2,
           "rgb(244,109,67)"
          ],
          [
           0.3,
           "rgb(253,174,97)"
          ],
          [
           0.4,
           "rgb(254,224,144)"
          ],
          [
           0.5,
           "rgb(255,255,191)"
          ],
          [
           0.6,
           "rgb(224,243,248)"
          ],
          [
           0.7,
           "rgb(171,217,233)"
          ],
          [
           0.8,
           "rgb(116,173,209)"
          ],
          [
           0.9,
           "rgb(69,117,180)"
          ],
          [
           1,
           "rgb(49,54,149)"
          ]
         ],
         "type": "surface",
         "x": [
          0,
          1,
          2,
          3,
          4
         ],
         "y": [
          "x",
          "y",
          "z"
         ],
         "z": [
          [
           1,
           2,
           3,
           4,
           5
          ],
          [
           10,
           20,
           30,
           20,
           10
          ],
          [
           5,
           4,
           3,
           2,
           1
          ]
         ]
        }
       ],
       "layout": {
        "legend": {
         "bgcolor": "#F5F6F9",
         "font": {
          "color": "#4D5663"
         }
        },
        "paper_bgcolor": "#F5F6F9",
        "plot_bgcolor": "#F5F6F9",
        "template": {
         "data": {
          "bar": [
           {
            "error_x": {
             "color": "#2a3f5f"
            },
            "error_y": {
             "color": "#2a3f5f"
            },
            "marker": {
             "line": {
              "color": "#E5ECF6",
              "width": 0.5
             }
            },
            "type": "bar"
           }
          ],
          "barpolar": [
           {
            "marker": {
             "line": {
              "color": "#E5ECF6",
              "width": 0.5
             }
            },
            "type": "barpolar"
           }
          ],
          "carpet": [
           {
            "aaxis": {
             "endlinecolor": "#2a3f5f",
             "gridcolor": "white",
             "linecolor": "white",
             "minorgridcolor": "white",
             "startlinecolor": "#2a3f5f"
            },
            "baxis": {
             "endlinecolor": "#2a3f5f",
             "gridcolor": "white",
             "linecolor": "white",
             "minorgridcolor": "white",
             "startlinecolor": "#2a3f5f"
            },
            "type": "carpet"
           }
          ],
          "choropleth": [
           {
            "colorbar": {
             "outlinewidth": 0,
             "ticks": ""
            },
            "type": "choropleth"
           }
          ],
          "contour": [
           {
            "colorbar": {
             "outlinewidth": 0,
             "ticks": ""
            },
            "colorscale": [
             [
              0,
              "#0d0887"
             ],
             [
              0.1111111111111111,
              "#46039f"
             ],
             [
              0.2222222222222222,
              "#7201a8"
             ],
             [
              0.3333333333333333,
              "#9c179e"
             ],
             [
              0.4444444444444444,
              "#bd3786"
             ],
             [
              0.5555555555555556,
              "#d8576b"
             ],
             [
              0.6666666666666666,
              "#ed7953"
             ],
             [
              0.7777777777777778,
              "#fb9f3a"
             ],
             [
              0.8888888888888888,
              "#fdca26"
             ],
             [
              1,
              "#f0f921"
             ]
            ],
            "type": "contour"
           }
          ],
          "contourcarpet": [
           {
            "colorbar": {
             "outlinewidth": 0,
             "ticks": ""
            },
            "type": "contourcarpet"
           }
          ],
          "heatmap": [
           {
            "colorbar": {
             "outlinewidth": 0,
             "ticks": ""
            },
            "colorscale": [
             [
              0,
              "#0d0887"
             ],
             [
              0.1111111111111111,
              "#46039f"
             ],
             [
              0.2222222222222222,
              "#7201a8"
             ],
             [
              0.3333333333333333,
              "#9c179e"
             ],
             [
              0.4444444444444444,
              "#bd3786"
             ],
             [
              0.5555555555555556,
              "#d8576b"
             ],
             [
              0.6666666666666666,
              "#ed7953"
             ],
             [
              0.7777777777777778,
              "#fb9f3a"
             ],
             [
              0.8888888888888888,
              "#fdca26"
             ],
             [
              1,
              "#f0f921"
             ]
            ],
            "type": "heatmap"
           }
          ],
          "heatmapgl": [
           {
            "colorbar": {
             "outlinewidth": 0,
             "ticks": ""
            },
            "colorscale": [
             [
              0,
              "#0d0887"
             ],
             [
              0.1111111111111111,
              "#46039f"
             ],
             [
              0.2222222222222222,
              "#7201a8"
             ],
             [
              0.3333333333333333,
              "#9c179e"
             ],
             [
              0.4444444444444444,
              "#bd3786"
             ],
             [
              0.5555555555555556,
              "#d8576b"
             ],
             [
              0.6666666666666666,
              "#ed7953"
             ],
             [
              0.7777777777777778,
              "#fb9f3a"
             ],
             [
              0.8888888888888888,
              "#fdca26"
             ],
             [
              1,
              "#f0f921"
             ]
            ],
            "type": "heatmapgl"
           }
          ],
          "histogram": [
           {
            "marker": {
             "colorbar": {
              "outlinewidth": 0,
              "ticks": ""
             }
            },
            "type": "histogram"
           }
          ],
          "histogram2d": [
           {
            "colorbar": {
             "outlinewidth": 0,
             "ticks": ""
            },
            "colorscale": [
             [
              0,
              "#0d0887"
             ],
             [
              0.1111111111111111,
              "#46039f"
             ],
             [
              0.2222222222222222,
              "#7201a8"
             ],
             [
              0.3333333333333333,
              "#9c179e"
             ],
             [
              0.4444444444444444,
              "#bd3786"
             ],
             [
              0.5555555555555556,
              "#d8576b"
             ],
             [
              0.6666666666666666,
              "#ed7953"
             ],
             [
              0.7777777777777778,
              "#fb9f3a"
             ],
             [
              0.8888888888888888,
              "#fdca26"
             ],
             [
              1,
              "#f0f921"
             ]
            ],
            "type": "histogram2d"
           }
          ],
          "histogram2dcontour": [
           {
            "colorbar": {
             "outlinewidth": 0,
             "ticks": ""
            },
            "colorscale": [
             [
              0,
              "#0d0887"
             ],
             [
              0.1111111111111111,
              "#46039f"
             ],
             [
              0.2222222222222222,
              "#7201a8"
             ],
             [
              0.3333333333333333,
              "#9c179e"
             ],
             [
              0.4444444444444444,
              "#bd3786"
             ],
             [
              0.5555555555555556,
              "#d8576b"
             ],
             [
              0.6666666666666666,
              "#ed7953"
             ],
             [
              0.7777777777777778,
              "#fb9f3a"
             ],
             [
              0.8888888888888888,
              "#fdca26"
             ],
             [
              1,
              "#f0f921"
             ]
            ],
            "type": "histogram2dcontour"
           }
          ],
          "mesh3d": [
           {
            "colorbar": {
             "outlinewidth": 0,
             "ticks": ""
            },
            "type": "mesh3d"
           }
          ],
          "parcoords": [
           {
            "line": {
             "colorbar": {
              "outlinewidth": 0,
              "ticks": ""
             }
            },
            "type": "parcoords"
           }
          ],
          "pie": [
           {
            "automargin": true,
            "type": "pie"
           }
          ],
          "scatter": [
           {
            "marker": {
             "colorbar": {
              "outlinewidth": 0,
              "ticks": ""
             }
            },
            "type": "scatter"
           }
          ],
          "scatter3d": [
           {
            "line": {
             "colorbar": {
              "outlinewidth": 0,
              "ticks": ""
             }
            },
            "marker": {
             "colorbar": {
              "outlinewidth": 0,
              "ticks": ""
             }
            },
            "type": "scatter3d"
           }
          ],
          "scattercarpet": [
           {
            "marker": {
             "colorbar": {
              "outlinewidth": 0,
              "ticks": ""
             }
            },
            "type": "scattercarpet"
           }
          ],
          "scattergeo": [
           {
            "marker": {
             "colorbar": {
              "outlinewidth": 0,
              "ticks": ""
             }
            },
            "type": "scattergeo"
           }
          ],
          "scattergl": [
           {
            "marker": {
             "colorbar": {
              "outlinewidth": 0,
              "ticks": ""
             }
            },
            "type": "scattergl"
           }
          ],
          "scattermapbox": [
           {
            "marker": {
             "colorbar": {
              "outlinewidth": 0,
              "ticks": ""
             }
            },
            "type": "scattermapbox"
           }
          ],
          "scatterpolar": [
           {
            "marker": {
             "colorbar": {
              "outlinewidth": 0,
              "ticks": ""
             }
            },
            "type": "scatterpolar"
           }
          ],
          "scatterpolargl": [
           {
            "marker": {
             "colorbar": {
              "outlinewidth": 0,
              "ticks": ""
             }
            },
            "type": "scatterpolargl"
           }
          ],
          "scatterternary": [
           {
            "marker": {
             "colorbar": {
              "outlinewidth": 0,
              "ticks": ""
             }
            },
            "type": "scatterternary"
           }
          ],
          "surface": [
           {
            "colorbar": {
             "outlinewidth": 0,
             "ticks": ""
            },
            "colorscale": [
             [
              0,
              "#0d0887"
             ],
             [
              0.1111111111111111,
              "#46039f"
             ],
             [
              0.2222222222222222,
              "#7201a8"
             ],
             [
              0.3333333333333333,
              "#9c179e"
             ],
             [
              0.4444444444444444,
              "#bd3786"
             ],
             [
              0.5555555555555556,
              "#d8576b"
             ],
             [
              0.6666666666666666,
              "#ed7953"
             ],
             [
              0.7777777777777778,
              "#fb9f3a"
             ],
             [
              0.8888888888888888,
              "#fdca26"
             ],
             [
              1,
              "#f0f921"
             ]
            ],
            "type": "surface"
           }
          ],
          "table": [
           {
            "cells": {
             "fill": {
              "color": "#EBF0F8"
             },
             "line": {
              "color": "white"
             }
            },
            "header": {
             "fill": {
              "color": "#C8D4E3"
             },
             "line": {
              "color": "white"
             }
            },
            "type": "table"
           }
          ]
         },
         "layout": {
          "annotationdefaults": {
           "arrowcolor": "#2a3f5f",
           "arrowhead": 0,
           "arrowwidth": 1
          },
          "coloraxis": {
           "colorbar": {
            "outlinewidth": 0,
            "ticks": ""
           }
          },
          "colorscale": {
           "diverging": [
            [
             0,
             "#8e0152"
            ],
            [
             0.1,
             "#c51b7d"
            ],
            [
             0.2,
             "#de77ae"
            ],
            [
             0.3,
             "#f1b6da"
            ],
            [
             0.4,
             "#fde0ef"
            ],
            [
             0.5,
             "#f7f7f7"
            ],
            [
             0.6,
             "#e6f5d0"
            ],
            [
             0.7,
             "#b8e186"
            ],
            [
             0.8,
             "#7fbc41"
            ],
            [
             0.9,
             "#4d9221"
            ],
            [
             1,
             "#276419"
            ]
           ],
           "sequential": [
            [
             0,
             "#0d0887"
            ],
            [
             0.1111111111111111,
             "#46039f"
            ],
            [
             0.2222222222222222,
             "#7201a8"
            ],
            [
             0.3333333333333333,
             "#9c179e"
            ],
            [
             0.4444444444444444,
             "#bd3786"
            ],
            [
             0.5555555555555556,
             "#d8576b"
            ],
            [
             0.6666666666666666,
             "#ed7953"
            ],
            [
             0.7777777777777778,
             "#fb9f3a"
            ],
            [
             0.8888888888888888,
             "#fdca26"
            ],
            [
             1,
             "#f0f921"
            ]
           ],
           "sequentialminus": [
            [
             0,
             "#0d0887"
            ],
            [
             0.1111111111111111,
             "#46039f"
            ],
            [
             0.2222222222222222,
             "#7201a8"
            ],
            [
             0.3333333333333333,
             "#9c179e"
            ],
            [
             0.4444444444444444,
             "#bd3786"
            ],
            [
             0.5555555555555556,
             "#d8576b"
            ],
            [
             0.6666666666666666,
             "#ed7953"
            ],
            [
             0.7777777777777778,
             "#fb9f3a"
            ],
            [
             0.8888888888888888,
             "#fdca26"
            ],
            [
             1,
             "#f0f921"
            ]
           ]
          },
          "colorway": [
           "#636efa",
           "#EF553B",
           "#00cc96",
           "#ab63fa",
           "#FFA15A",
           "#19d3f3",
           "#FF6692",
           "#B6E880",
           "#FF97FF",
           "#FECB52"
          ],
          "font": {
           "color": "#2a3f5f"
          },
          "geo": {
           "bgcolor": "white",
           "lakecolor": "white",
           "landcolor": "#E5ECF6",
           "showlakes": true,
           "showland": true,
           "subunitcolor": "white"
          },
          "hoverlabel": {
           "align": "left"
          },
          "hovermode": "closest",
          "mapbox": {
           "style": "light"
          },
          "paper_bgcolor": "white",
          "plot_bgcolor": "#E5ECF6",
          "polar": {
           "angularaxis": {
            "gridcolor": "white",
            "linecolor": "white",
            "ticks": ""
           },
           "bgcolor": "#E5ECF6",
           "radialaxis": {
            "gridcolor": "white",
            "linecolor": "white",
            "ticks": ""
           }
          },
          "scene": {
           "xaxis": {
            "backgroundcolor": "#E5ECF6",
            "gridcolor": "white",
            "gridwidth": 2,
            "linecolor": "white",
            "showbackground": true,
            "ticks": "",
            "zerolinecolor": "white"
           },
           "yaxis": {
            "backgroundcolor": "#E5ECF6",
            "gridcolor": "white",
            "gridwidth": 2,
            "linecolor": "white",
            "showbackground": true,
            "ticks": "",
            "zerolinecolor": "white"
           },
           "zaxis": {
            "backgroundcolor": "#E5ECF6",
            "gridcolor": "white",
            "gridwidth": 2,
            "linecolor": "white",
            "showbackground": true,
            "ticks": "",
            "zerolinecolor": "white"
           }
          },
          "shapedefaults": {
           "line": {
            "color": "#2a3f5f"
           }
          },
          "ternary": {
           "aaxis": {
            "gridcolor": "white",
            "linecolor": "white",
            "ticks": ""
           },
           "baxis": {
            "gridcolor": "white",
            "linecolor": "white",
            "ticks": ""
           },
           "bgcolor": "#E5ECF6",
           "caxis": {
            "gridcolor": "white",
            "linecolor": "white",
            "ticks": ""
           }
          },
          "title": {
           "x": 0.05
          },
          "xaxis": {
           "automargin": true,
           "gridcolor": "white",
           "linecolor": "white",
           "ticks": "",
           "title": {
            "standoff": 15
           },
           "zerolinecolor": "white",
           "zerolinewidth": 2
          },
          "yaxis": {
           "automargin": true,
           "gridcolor": "white",
           "linecolor": "white",
           "ticks": "",
           "title": {
            "standoff": 15
           },
           "zerolinecolor": "white",
           "zerolinewidth": 2
          }
         }
        },
        "title": {
         "font": {
          "color": "#4D5663"
         }
        },
        "xaxis": {
         "gridcolor": "#E1E5ED",
         "showgrid": true,
         "tickfont": {
          "color": "#4D5663"
         },
         "title": {
          "font": {
           "color": "#4D5663"
          },
          "text": ""
         },
         "zerolinecolor": "#E1E5ED"
        },
        "yaxis": {
         "gridcolor": "#E1E5ED",
         "showgrid": true,
         "tickfont": {
          "color": "#4D5663"
         },
         "title": {
          "font": {
           "color": "#4D5663"
          },
          "text": ""
         },
         "zerolinecolor": "#E1E5ED"
        }
       }
      },
      "text/html": [
       "<div>\n",
       "        \n",
       "        \n",
       "            <div id=\"e5815350-6aba-46e8-8e0f-980f05b00117\" class=\"plotly-graph-div\" style=\"height:525px; width:100%;\"></div>\n",
       "            <script type=\"text/javascript\">\n",
       "                require([\"plotly\"], function(Plotly) {\n",
       "                    window.PLOTLYENV=window.PLOTLYENV || {};\n",
       "                    window.PLOTLYENV.BASE_URL='https://plot.ly';\n",
       "                    \n",
       "                if (document.getElementById(\"e5815350-6aba-46e8-8e0f-980f05b00117\")) {\n",
       "                    Plotly.newPlot(\n",
       "                        'e5815350-6aba-46e8-8e0f-980f05b00117',\n",
       "                        [{\"colorscale\": [[0.0, \"rgb(165,0,38)\"], [0.1, \"rgb(215,48,39)\"], [0.2, \"rgb(244,109,67)\"], [0.3, \"rgb(253,174,97)\"], [0.4, \"rgb(254,224,144)\"], [0.5, \"rgb(255,255,191)\"], [0.6, \"rgb(224,243,248)\"], [0.7, \"rgb(171,217,233)\"], [0.8, \"rgb(116,173,209)\"], [0.9, \"rgb(69,117,180)\"], [1.0, \"rgb(49,54,149)\"]], \"type\": \"surface\", \"x\": [0, 1, 2, 3, 4], \"y\": [\"x\", \"y\", \"z\"], \"z\": [[1, 2, 3, 4, 5], [10, 20, 30, 20, 10], [5, 4, 3, 2, 1]]}],\n",
       "                        {\"legend\": {\"bgcolor\": \"#F5F6F9\", \"font\": {\"color\": \"#4D5663\"}}, \"paper_bgcolor\": \"#F5F6F9\", \"plot_bgcolor\": \"#F5F6F9\", \"template\": {\"data\": {\"bar\": [{\"error_x\": {\"color\": \"#2a3f5f\"}, \"error_y\": {\"color\": \"#2a3f5f\"}, \"marker\": {\"line\": {\"color\": \"#E5ECF6\", \"width\": 0.5}}, \"type\": \"bar\"}], \"barpolar\": [{\"marker\": {\"line\": {\"color\": \"#E5ECF6\", \"width\": 0.5}}, \"type\": \"barpolar\"}], \"carpet\": [{\"aaxis\": {\"endlinecolor\": \"#2a3f5f\", \"gridcolor\": \"white\", \"linecolor\": \"white\", \"minorgridcolor\": \"white\", \"startlinecolor\": \"#2a3f5f\"}, \"baxis\": {\"endlinecolor\": \"#2a3f5f\", \"gridcolor\": \"white\", \"linecolor\": \"white\", \"minorgridcolor\": \"white\", \"startlinecolor\": \"#2a3f5f\"}, \"type\": \"carpet\"}], \"choropleth\": [{\"colorbar\": {\"outlinewidth\": 0, \"ticks\": \"\"}, \"type\": \"choropleth\"}], \"contour\": [{\"colorbar\": {\"outlinewidth\": 0, \"ticks\": \"\"}, \"colorscale\": [[0.0, \"#0d0887\"], [0.1111111111111111, \"#46039f\"], [0.2222222222222222, \"#7201a8\"], [0.3333333333333333, \"#9c179e\"], [0.4444444444444444, \"#bd3786\"], [0.5555555555555556, \"#d8576b\"], [0.6666666666666666, \"#ed7953\"], [0.7777777777777778, \"#fb9f3a\"], [0.8888888888888888, \"#fdca26\"], [1.0, \"#f0f921\"]], \"type\": \"contour\"}], \"contourcarpet\": [{\"colorbar\": {\"outlinewidth\": 0, \"ticks\": \"\"}, \"type\": \"contourcarpet\"}], \"heatmap\": [{\"colorbar\": {\"outlinewidth\": 0, \"ticks\": \"\"}, \"colorscale\": [[0.0, \"#0d0887\"], [0.1111111111111111, \"#46039f\"], [0.2222222222222222, \"#7201a8\"], [0.3333333333333333, \"#9c179e\"], [0.4444444444444444, \"#bd3786\"], [0.5555555555555556, \"#d8576b\"], [0.6666666666666666, \"#ed7953\"], [0.7777777777777778, \"#fb9f3a\"], [0.8888888888888888, \"#fdca26\"], [1.0, \"#f0f921\"]], \"type\": \"heatmap\"}], \"heatmapgl\": [{\"colorbar\": {\"outlinewidth\": 0, \"ticks\": \"\"}, \"colorscale\": [[0.0, \"#0d0887\"], [0.1111111111111111, \"#46039f\"], [0.2222222222222222, \"#7201a8\"], [0.3333333333333333, \"#9c179e\"], [0.4444444444444444, \"#bd3786\"], [0.5555555555555556, \"#d8576b\"], [0.6666666666666666, \"#ed7953\"], [0.7777777777777778, \"#fb9f3a\"], [0.8888888888888888, \"#fdca26\"], [1.0, \"#f0f921\"]], \"type\": \"heatmapgl\"}], \"histogram\": [{\"marker\": {\"colorbar\": {\"outlinewidth\": 0, \"ticks\": \"\"}}, \"type\": \"histogram\"}], \"histogram2d\": [{\"colorbar\": {\"outlinewidth\": 0, \"ticks\": \"\"}, \"colorscale\": [[0.0, \"#0d0887\"], [0.1111111111111111, \"#46039f\"], [0.2222222222222222, \"#7201a8\"], [0.3333333333333333, \"#9c179e\"], [0.4444444444444444, \"#bd3786\"], [0.5555555555555556, \"#d8576b\"], [0.6666666666666666, \"#ed7953\"], [0.7777777777777778, \"#fb9f3a\"], [0.8888888888888888, \"#fdca26\"], [1.0, \"#f0f921\"]], \"type\": \"histogram2d\"}], \"histogram2dcontour\": [{\"colorbar\": {\"outlinewidth\": 0, \"ticks\": \"\"}, \"colorscale\": [[0.0, \"#0d0887\"], [0.1111111111111111, \"#46039f\"], [0.2222222222222222, \"#7201a8\"], [0.3333333333333333, \"#9c179e\"], [0.4444444444444444, \"#bd3786\"], [0.5555555555555556, \"#d8576b\"], [0.6666666666666666, \"#ed7953\"], [0.7777777777777778, \"#fb9f3a\"], [0.8888888888888888, \"#fdca26\"], [1.0, \"#f0f921\"]], \"type\": \"histogram2dcontour\"}], \"mesh3d\": [{\"colorbar\": {\"outlinewidth\": 0, \"ticks\": \"\"}, \"type\": \"mesh3d\"}], \"parcoords\": [{\"line\": {\"colorbar\": {\"outlinewidth\": 0, \"ticks\": \"\"}}, \"type\": \"parcoords\"}], \"pie\": [{\"automargin\": true, \"type\": \"pie\"}], \"scatter\": [{\"marker\": {\"colorbar\": {\"outlinewidth\": 0, \"ticks\": \"\"}}, \"type\": \"scatter\"}], \"scatter3d\": [{\"line\": {\"colorbar\": {\"outlinewidth\": 0, \"ticks\": \"\"}}, \"marker\": {\"colorbar\": {\"outlinewidth\": 0, \"ticks\": \"\"}}, \"type\": \"scatter3d\"}], \"scattercarpet\": [{\"marker\": {\"colorbar\": {\"outlinewidth\": 0, \"ticks\": \"\"}}, \"type\": \"scattercarpet\"}], \"scattergeo\": [{\"marker\": {\"colorbar\": {\"outlinewidth\": 0, \"ticks\": \"\"}}, \"type\": \"scattergeo\"}], \"scattergl\": [{\"marker\": {\"colorbar\": {\"outlinewidth\": 0, \"ticks\": \"\"}}, \"type\": \"scattergl\"}], \"scattermapbox\": [{\"marker\": {\"colorbar\": {\"outlinewidth\": 0, \"ticks\": \"\"}}, \"type\": \"scattermapbox\"}], \"scatterpolar\": [{\"marker\": {\"colorbar\": {\"outlinewidth\": 0, \"ticks\": \"\"}}, \"type\": \"scatterpolar\"}], \"scatterpolargl\": [{\"marker\": {\"colorbar\": {\"outlinewidth\": 0, \"ticks\": \"\"}}, \"type\": \"scatterpolargl\"}], \"scatterternary\": [{\"marker\": {\"colorbar\": {\"outlinewidth\": 0, \"ticks\": \"\"}}, \"type\": \"scatterternary\"}], \"surface\": [{\"colorbar\": {\"outlinewidth\": 0, \"ticks\": \"\"}, \"colorscale\": [[0.0, \"#0d0887\"], [0.1111111111111111, \"#46039f\"], [0.2222222222222222, \"#7201a8\"], [0.3333333333333333, \"#9c179e\"], [0.4444444444444444, \"#bd3786\"], [0.5555555555555556, \"#d8576b\"], [0.6666666666666666, \"#ed7953\"], [0.7777777777777778, \"#fb9f3a\"], [0.8888888888888888, \"#fdca26\"], [1.0, \"#f0f921\"]], \"type\": \"surface\"}], \"table\": [{\"cells\": {\"fill\": {\"color\": \"#EBF0F8\"}, \"line\": {\"color\": \"white\"}}, \"header\": {\"fill\": {\"color\": \"#C8D4E3\"}, \"line\": {\"color\": \"white\"}}, \"type\": \"table\"}]}, \"layout\": {\"annotationdefaults\": {\"arrowcolor\": \"#2a3f5f\", \"arrowhead\": 0, \"arrowwidth\": 1}, \"coloraxis\": {\"colorbar\": {\"outlinewidth\": 0, \"ticks\": \"\"}}, \"colorscale\": {\"diverging\": [[0, \"#8e0152\"], [0.1, \"#c51b7d\"], [0.2, \"#de77ae\"], [0.3, \"#f1b6da\"], [0.4, \"#fde0ef\"], [0.5, \"#f7f7f7\"], [0.6, \"#e6f5d0\"], [0.7, \"#b8e186\"], [0.8, \"#7fbc41\"], [0.9, \"#4d9221\"], [1, \"#276419\"]], \"sequential\": [[0.0, \"#0d0887\"], [0.1111111111111111, \"#46039f\"], [0.2222222222222222, \"#7201a8\"], [0.3333333333333333, \"#9c179e\"], [0.4444444444444444, \"#bd3786\"], [0.5555555555555556, \"#d8576b\"], [0.6666666666666666, \"#ed7953\"], [0.7777777777777778, \"#fb9f3a\"], [0.8888888888888888, \"#fdca26\"], [1.0, \"#f0f921\"]], \"sequentialminus\": [[0.0, \"#0d0887\"], [0.1111111111111111, \"#46039f\"], [0.2222222222222222, \"#7201a8\"], [0.3333333333333333, \"#9c179e\"], [0.4444444444444444, \"#bd3786\"], [0.5555555555555556, \"#d8576b\"], [0.6666666666666666, \"#ed7953\"], [0.7777777777777778, \"#fb9f3a\"], [0.8888888888888888, \"#fdca26\"], [1.0, \"#f0f921\"]]}, \"colorway\": [\"#636efa\", \"#EF553B\", \"#00cc96\", \"#ab63fa\", \"#FFA15A\", \"#19d3f3\", \"#FF6692\", \"#B6E880\", \"#FF97FF\", \"#FECB52\"], \"font\": {\"color\": \"#2a3f5f\"}, \"geo\": {\"bgcolor\": \"white\", \"lakecolor\": \"white\", \"landcolor\": \"#E5ECF6\", \"showlakes\": true, \"showland\": true, \"subunitcolor\": \"white\"}, \"hoverlabel\": {\"align\": \"left\"}, \"hovermode\": \"closest\", \"mapbox\": {\"style\": \"light\"}, \"paper_bgcolor\": \"white\", \"plot_bgcolor\": \"#E5ECF6\", \"polar\": {\"angularaxis\": {\"gridcolor\": \"white\", \"linecolor\": \"white\", \"ticks\": \"\"}, \"bgcolor\": \"#E5ECF6\", \"radialaxis\": {\"gridcolor\": \"white\", \"linecolor\": \"white\", \"ticks\": \"\"}}, \"scene\": {\"xaxis\": {\"backgroundcolor\": \"#E5ECF6\", \"gridcolor\": \"white\", \"gridwidth\": 2, \"linecolor\": \"white\", \"showbackground\": true, \"ticks\": \"\", \"zerolinecolor\": \"white\"}, \"yaxis\": {\"backgroundcolor\": \"#E5ECF6\", \"gridcolor\": \"white\", \"gridwidth\": 2, \"linecolor\": \"white\", \"showbackground\": true, \"ticks\": \"\", \"zerolinecolor\": \"white\"}, \"zaxis\": {\"backgroundcolor\": \"#E5ECF6\", \"gridcolor\": \"white\", \"gridwidth\": 2, \"linecolor\": \"white\", \"showbackground\": true, \"ticks\": \"\", \"zerolinecolor\": \"white\"}}, \"shapedefaults\": {\"line\": {\"color\": \"#2a3f5f\"}}, \"ternary\": {\"aaxis\": {\"gridcolor\": \"white\", \"linecolor\": \"white\", \"ticks\": \"\"}, \"baxis\": {\"gridcolor\": \"white\", \"linecolor\": \"white\", \"ticks\": \"\"}, \"bgcolor\": \"#E5ECF6\", \"caxis\": {\"gridcolor\": \"white\", \"linecolor\": \"white\", \"ticks\": \"\"}}, \"title\": {\"x\": 0.05}, \"xaxis\": {\"automargin\": true, \"gridcolor\": \"white\", \"linecolor\": \"white\", \"ticks\": \"\", \"title\": {\"standoff\": 15}, \"zerolinecolor\": \"white\", \"zerolinewidth\": 2}, \"yaxis\": {\"automargin\": true, \"gridcolor\": \"white\", \"linecolor\": \"white\", \"ticks\": \"\", \"title\": {\"standoff\": 15}, \"zerolinecolor\": \"white\", \"zerolinewidth\": 2}}}, \"title\": {\"font\": {\"color\": \"#4D5663\"}}, \"xaxis\": {\"gridcolor\": \"#E1E5ED\", \"showgrid\": true, \"tickfont\": {\"color\": \"#4D5663\"}, \"title\": {\"font\": {\"color\": \"#4D5663\"}, \"text\": \"\"}, \"zerolinecolor\": \"#E1E5ED\"}, \"yaxis\": {\"gridcolor\": \"#E1E5ED\", \"showgrid\": true, \"tickfont\": {\"color\": \"#4D5663\"}, \"title\": {\"font\": {\"color\": \"#4D5663\"}, \"text\": \"\"}, \"zerolinecolor\": \"#E1E5ED\"}},\n",
       "                        {\"showLink\": true, \"linkText\": \"Export to plot.ly\", \"plotlyServerURL\": \"https://plot.ly\", \"responsive\": true}\n",
       "                    ).then(function(){\n",
       "                            \n",
       "var gd = document.getElementById('e5815350-6aba-46e8-8e0f-980f05b00117');\n",
       "var x = new MutationObserver(function (mutations, observer) {{\n",
       "        var display = window.getComputedStyle(gd).display;\n",
       "        if (!display || display === 'none') {{\n",
       "            console.log([gd, 'removed!']);\n",
       "            Plotly.purge(gd);\n",
       "            observer.disconnect();\n",
       "        }}\n",
       "}});\n",
       "\n",
       "// Listen for the removal of the full notebook cells\n",
       "var notebookContainer = gd.closest('#notebook-container');\n",
       "if (notebookContainer) {{\n",
       "    x.observe(notebookContainer, {childList: true});\n",
       "}}\n",
       "\n",
       "// Listen for the clearing of the current output cell\n",
       "var outputEl = gd.closest('.output');\n",
       "if (outputEl) {{\n",
       "    x.observe(outputEl, {childList: true});\n",
       "}}\n",
       "\n",
       "                        })\n",
       "                };\n",
       "                });\n",
       "            </script>\n",
       "        </div>"
      ]
     },
     "metadata": {},
     "output_type": "display_data"
    }
   ],
   "source": [
    "df3 = pd.DataFrame({'x':[1,2,3,4,5],'y':[10,20,30,20,10],'z':[5,4,3,2,1]})\n",
    "df3.iplot(kind='surface',colorscale='rdylbu')"
   ]
  },
  {
   "cell_type": "markdown",
   "metadata": {},
   "source": [
    "## Spread"
   ]
  },
  {
   "cell_type": "code",
   "execution_count": 15,
   "metadata": {},
   "outputs": [
    {
     "name": "stderr",
     "output_type": "stream",
     "text": [
      "/home/shouvick/anaconda3/lib/python3.7/site-packages/cufflinks/plotlytools.py:849: FutureWarning:\n",
      "\n",
      "The pandas.np module is deprecated and will be removed from pandas in a future version. Import numpy directly instead\n",
      "\n",
      "/home/shouvick/anaconda3/lib/python3.7/site-packages/cufflinks/plotlytools.py:850: FutureWarning:\n",
      "\n",
      "The pandas.np module is deprecated and will be removed from pandas in a future version. Import numpy directly instead\n",
      "\n"
     ]
    },
    {
     "data": {
      "application/vnd.plotly.v1+json": {
       "config": {
        "linkText": "Export to plot.ly",
        "plotlyServerURL": "https://plot.ly",
        "showLink": true
       },
       "data": [
        {
         "line": {
          "color": "rgba(255, 153, 51, 1.0)",
          "dash": "solid",
          "shape": "linear",
          "width": 1.3
         },
         "mode": "lines",
         "name": "A",
         "text": "",
         "type": "scatter",
         "x": [
          0,
          1,
          2,
          3,
          4,
          5,
          6,
          7,
          8,
          9,
          10,
          11,
          12,
          13,
          14,
          15,
          16,
          17,
          18,
          19,
          20,
          21,
          22,
          23,
          24,
          25,
          26,
          27,
          28,
          29,
          30,
          31,
          32,
          33,
          34,
          35,
          36,
          37,
          38,
          39,
          40,
          41,
          42,
          43,
          44,
          45,
          46,
          47,
          48,
          49,
          50,
          51,
          52,
          53,
          54,
          55,
          56,
          57,
          58,
          59,
          60,
          61,
          62,
          63,
          64,
          65,
          66,
          67,
          68,
          69,
          70,
          71,
          72,
          73,
          74,
          75,
          76,
          77,
          78,
          79,
          80,
          81,
          82,
          83,
          84,
          85,
          86,
          87,
          88,
          89,
          90,
          91,
          92,
          93,
          94,
          95,
          96,
          97,
          98,
          99
         ],
         "y": [
          0.1939937172428786,
          0.01198709357479974,
          -0.9197269033255341,
          -0.5438327088373623,
          0.7834803322226556,
          -0.6708218107355405,
          -1.2270086594013148,
          -1.5945161544505293,
          -0.9907976523527117,
          -1.1899911221168242,
          1.06555728983655,
          2.094349657907453,
          -0.7653286352163223,
          1.433977366346678,
          0.1025579048479289,
          0.5415168750971099,
          0.6220415367131382,
          -0.04484554676772563,
          0.6955404172357864,
          -0.11957780741457012,
          1.0271108203907722,
          0.6507373589725515,
          -0.7063755562214526,
          1.6571952496589455,
          1.146856945684601,
          -0.49529121555876104,
          1.1840268798212865,
          -0.7724289536911138,
          0.2527295692748135,
          -0.7889106018528703,
          0.23066964593224856,
          -1.8073249839624868,
          0.772958272740142,
          -0.63828408764981,
          0.04419548834580432,
          -0.42033677316336115,
          0.40624489606208614,
          0.5656080556659431,
          -0.6145851682752206,
          -0.6778165800450257,
          -0.8857667081316852,
          0.23543865663786595,
          -0.64751953126351,
          -1.6272795581357524,
          -0.6442866082721088,
          0.1598415091526614,
          -1.5846278315156788,
          -0.7362655278450032,
          -0.7776486911955109,
          -1.1613864726504064,
          0.23645653791656362,
          -0.046116737128403223,
          -0.029034089438273472,
          -0.8685421833611577,
          0.2935712096704209,
          -0.8739308445678745,
          1.2397302903491216,
          -1.0913376504437429,
          -0.6048710523781545,
          0.08859006580896896,
          -1.0303228102801352,
          -1.7636878381657142,
          -0.14365995147603303,
          0.14903229630509462,
          -0.6075544438387713,
          -1.9829405790562238,
          0.40415777675319375,
          0.9457361120828759,
          -0.6755714235167501,
          0.8713559375981939,
          0.4739137310744739,
          0.3147522180127868,
          -0.2046546098406741,
          0.14490624189352064,
          -1.5887453539495555,
          0.9561067061253106,
          1.730784322102986,
          0.9641936369270744,
          0.18758257018712607,
          -1.468477230522763,
          -1.396553080753436,
          -0.15851043767701425,
          0.25171776094821763,
          0.39175943173832994,
          1.0017592643824145,
          0.21353478370158163,
          0.17203759000931104,
          -0.6589458788707,
          1.1948069902329483,
          1.5726935605570183,
          0.17965639147172213,
          1.1752864388876985,
          0.017479947472017726,
          -1.196331042019884,
          -0.12445553401560037,
          -0.5533379425308373,
          -0.5705664103816233,
          0.7525227768380952,
          -0.15743217857562775,
          -1.4831723894832922
         ]
        },
        {
         "line": {
          "color": "rgba(55, 128, 191, 1.0)",
          "dash": "solid",
          "shape": "linear",
          "width": 1.3
         },
         "mode": "lines",
         "name": "B",
         "text": "",
         "type": "scatter",
         "x": [
          0,
          1,
          2,
          3,
          4,
          5,
          6,
          7,
          8,
          9,
          10,
          11,
          12,
          13,
          14,
          15,
          16,
          17,
          18,
          19,
          20,
          21,
          22,
          23,
          24,
          25,
          26,
          27,
          28,
          29,
          30,
          31,
          32,
          33,
          34,
          35,
          36,
          37,
          38,
          39,
          40,
          41,
          42,
          43,
          44,
          45,
          46,
          47,
          48,
          49,
          50,
          51,
          52,
          53,
          54,
          55,
          56,
          57,
          58,
          59,
          60,
          61,
          62,
          63,
          64,
          65,
          66,
          67,
          68,
          69,
          70,
          71,
          72,
          73,
          74,
          75,
          76,
          77,
          78,
          79,
          80,
          81,
          82,
          83,
          84,
          85,
          86,
          87,
          88,
          89,
          90,
          91,
          92,
          93,
          94,
          95,
          96,
          97,
          98,
          99
         ],
         "y": [
          0.23368246569060097,
          -0.9442522999075037,
          1.4757508350619062,
          0.6583319804969867,
          0.15258406889106102,
          1.3158552472659093,
          -1.1185223279965273,
          -0.39158046812888286,
          0.4227492695302025,
          -0.4909341004421402,
          0.7128455728079772,
          -0.15126225022666062,
          -1.2023222572617485,
          -0.8598471122662901,
          0.37748366577390813,
          -0.37771219854476956,
          -1.0151406391317663,
          -0.14193643232479458,
          0.8809736707630573,
          -0.23316113463568516,
          -0.5983997236376914,
          0.03792582797495273,
          -0.32118370929148204,
          -0.8462980786265933,
          0.7903198321341133,
          0.11392102390425404,
          -0.16772724666873615,
          0.1829803492254897,
          -0.24904256392431023,
          0.29629447097116984,
          0.26853531155525406,
          0.3436911031362945,
          -0.46546772335101344,
          -1.9565340522664583,
          -0.48789908862859693,
          0.5750153580790885,
          1.2110326819337072,
          -0.009798274879315942,
          0.12101713494682781,
          1.0030236847193514,
          0.03861309294556079,
          -0.2495541588401459,
          1.7273514293487122,
          1.3084028742436131,
          0.4305763232394022,
          -0.7869084257361719,
          0.8254293478530841,
          -0.43502106798764056,
          -0.13354688307494209,
          0.6219701085364925,
          -1.8580516396037385,
          1.1286789826664125,
          -1.0625405436631963,
          -0.9365892727376878,
          0.6806982847756373,
          -0.1946403985222004,
          0.4761758840675131,
          -1.0088981756190227,
          -0.7992768349220223,
          -0.35794293507930447,
          -0.17325042991865502,
          -0.4230132705446578,
          0.1427484128576023,
          -0.7004909250080186,
          1.774090400681258,
          -1.2169058705918558,
          0.46261600529206226,
          -0.34851608304004095,
          -0.4817134781062881,
          0.46460131852352665,
          -1.869064937974819,
          0.834009784941836,
          -0.9559119847388752,
          0.20920885600486094,
          0.39019270359429936,
          0.39307707529506475,
          0.3343726549154573,
          -0.684670668616076,
          -0.8048142809658069,
          0.88284740018694,
          -0.3087500230206805,
          0.46458735139030743,
          -1.490421224828702,
          1.0168255723243191,
          -3.036278794878397,
          -0.5567832667949063,
          0.3044588029679682,
          -1.3675017563132523,
          -1.0363699333245238,
          0.20591239093078306,
          -0.34700208542240774,
          -1.1698183128242192,
          -1.6901164485187143,
          -0.19161696321123506,
          -0.8388321875453237,
          0.22335717569772506,
          1.2499142008432396,
          0.8903687204778106,
          0.9098245017412132,
          -1.4504571813426723
         ]
        },
        {
         "connectgaps": false,
         "fill": "tozeroy",
         "line": {
          "color": "green",
          "dash": "solid",
          "shape": "linear",
          "width": 0.5
         },
         "mode": "lines",
         "name": "Spread",
         "showlegend": false,
         "type": "scatter",
         "x": [
          0,
          1,
          2,
          3,
          4,
          5,
          6,
          7,
          8,
          9,
          10,
          11,
          12,
          13,
          14,
          15,
          16,
          17,
          18,
          19,
          20,
          21,
          22,
          23,
          24,
          25,
          26,
          27,
          28,
          29,
          30,
          31,
          32,
          33,
          34,
          35,
          36,
          37,
          38,
          39,
          40,
          41,
          42,
          43,
          44,
          45,
          46,
          47,
          48,
          49,
          50,
          51,
          52,
          53,
          54,
          55,
          56,
          57,
          58,
          59,
          60,
          61,
          62,
          63,
          64,
          65,
          66,
          67,
          68,
          69,
          70,
          71,
          72,
          73,
          74,
          75,
          76,
          77,
          78,
          79,
          80,
          81,
          82,
          83,
          84,
          85,
          86,
          87,
          88,
          89,
          90,
          91,
          92,
          93,
          94,
          95,
          96,
          97,
          98,
          99
         ],
         "xaxis": "x2",
         "y": [
          "",
          0.9562393934823035,
          "",
          "",
          0.6308962633315945,
          "",
          "",
          "",
          "",
          "",
          0.35271171702857274,
          2.245611908134114,
          0.43699362204542613,
          2.293824478612968,
          "",
          0.9192290736418794,
          1.6371821758449046,
          0.09709088555706895,
          "",
          0.11358332722111504,
          1.6255105440284636,
          0.6128115309975988,
          "",
          2.503493328285539,
          0.35653711355048767,
          "",
          1.3517541264900226,
          "",
          0.5017721331991237,
          "",
          "",
          "",
          1.2384259960911554,
          1.3182499646166481,
          0.5320945769744012,
          "",
          "",
          0.575406330545259,
          "",
          "",
          "",
          0.4849928154780119,
          "",
          "",
          "",
          0.9467499348888333,
          "",
          "",
          "",
          "",
          2.0945081775203023,
          "",
          1.0335064542249228,
          0.06804708937653003,
          "",
          "",
          0.7635544062816085,
          "",
          0.19440578254386776,
          0.4465330008882734,
          "",
          "",
          "",
          0.8495232213131132,
          "",
          "",
          "",
          1.294252195122917,
          "",
          0.4067546190746672,
          2.342978669049293,
          "",
          0.7512573748982011,
          "",
          "",
          0.5630296308302458,
          1.3964116671875286,
          1.6488643055431504,
          0.992396851152933,
          "",
          "",
          "",
          1.7421389857769198,
          "",
          4.038038059260812,
          0.7703180504964879,
          "",
          0.7085558774425523,
          2.231176923557472,
          1.3667811696262353,
          0.5266584768941298,
          2.3451047517119177,
          1.707596395990732,
          "",
          0.7143766535297233,
          "",
          "",
          "",
          "",
          ""
         ],
         "yaxis": "y2"
        },
        {
         "connectgaps": false,
         "fill": "tozeroy",
         "line": {
          "color": "red",
          "dash": "solid",
          "shape": "linear",
          "width": 0.5
         },
         "mode": "lines",
         "name": "Spread",
         "showlegend": false,
         "type": "scatter",
         "x": [
          0,
          1,
          2,
          3,
          4,
          5,
          6,
          7,
          8,
          9,
          10,
          11,
          12,
          13,
          14,
          15,
          16,
          17,
          18,
          19,
          20,
          21,
          22,
          23,
          24,
          25,
          26,
          27,
          28,
          29,
          30,
          31,
          32,
          33,
          34,
          35,
          36,
          37,
          38,
          39,
          40,
          41,
          42,
          43,
          44,
          45,
          46,
          47,
          48,
          49,
          50,
          51,
          52,
          53,
          54,
          55,
          56,
          57,
          58,
          59,
          60,
          61,
          62,
          63,
          64,
          65,
          66,
          67,
          68,
          69,
          70,
          71,
          72,
          73,
          74,
          75,
          76,
          77,
          78,
          79,
          80,
          81,
          82,
          83,
          84,
          85,
          86,
          87,
          88,
          89,
          90,
          91,
          92,
          93,
          94,
          95,
          96,
          97,
          98,
          99
         ],
         "xaxis": "x2",
         "y": [
          -0.03968874844772238,
          "",
          -2.39547773838744,
          -1.202164689334349,
          "",
          -1.9866770580014497,
          -0.10848633140478747,
          -1.2029356863216465,
          -1.4135469218829142,
          -0.6990570216746841,
          "",
          "",
          "",
          "",
          -0.2749257609259792,
          "",
          "",
          "",
          -0.1854332535272709,
          "",
          "",
          "",
          -0.3851918469299706,
          "",
          "",
          -0.6092122394630151,
          "",
          -0.9554093029166034,
          "",
          -1.08520507282404,
          -0.0378656656230055,
          -2.1510160870987813,
          "",
          "",
          "",
          -0.9953521312424497,
          -0.804787785871621,
          "",
          -0.7356023032220484,
          -1.680840264764377,
          -0.924379801077246,
          "",
          -2.3748709606122222,
          -2.9356824323793655,
          -1.074862931511511,
          "",
          -2.4100571793687626,
          -0.30124445985736265,
          -0.6441018081205688,
          -1.783356581186899,
          "",
          -1.1747957197948158,
          "",
          "",
          -0.38712707510521643,
          -0.6792904460456741,
          "",
          -0.08243947482472014,
          "",
          "",
          -0.8570723803614801,
          -1.3406745676210563,
          -0.28640836433363537,
          "",
          -2.381644844520029,
          -0.7660347084643679,
          -0.058458228538868506,
          "",
          -0.19385794541046203,
          "",
          "",
          -0.5192575669290491,
          "",
          -0.0643026141113403,
          -1.9789380575438549,
          "",
          "",
          "",
          "",
          -2.351324630709703,
          -1.0878030577327555,
          -0.6230977890673217,
          "",
          -0.6250661405859892,
          "",
          "",
          -0.13242121295865714,
          "",
          "",
          "",
          "",
          "",
          "",
          -1.004714078808649,
          "",
          -0.7766951182285624,
          -1.8204806112248628,
          -0.13784594363971536,
          -1.067256680316841,
          -0.0327152081406199
         ],
         "yaxis": "y2"
        }
       ],
       "layout": {
        "hovermode": "x",
        "legend": {
         "bgcolor": "#F5F6F9",
         "font": {
          "color": "#4D5663"
         }
        },
        "paper_bgcolor": "#F5F6F9",
        "plot_bgcolor": "#F5F6F9",
        "template": {
         "data": {
          "bar": [
           {
            "error_x": {
             "color": "#2a3f5f"
            },
            "error_y": {
             "color": "#2a3f5f"
            },
            "marker": {
             "line": {
              "color": "#E5ECF6",
              "width": 0.5
             }
            },
            "type": "bar"
           }
          ],
          "barpolar": [
           {
            "marker": {
             "line": {
              "color": "#E5ECF6",
              "width": 0.5
             }
            },
            "type": "barpolar"
           }
          ],
          "carpet": [
           {
            "aaxis": {
             "endlinecolor": "#2a3f5f",
             "gridcolor": "white",
             "linecolor": "white",
             "minorgridcolor": "white",
             "startlinecolor": "#2a3f5f"
            },
            "baxis": {
             "endlinecolor": "#2a3f5f",
             "gridcolor": "white",
             "linecolor": "white",
             "minorgridcolor": "white",
             "startlinecolor": "#2a3f5f"
            },
            "type": "carpet"
           }
          ],
          "choropleth": [
           {
            "colorbar": {
             "outlinewidth": 0,
             "ticks": ""
            },
            "type": "choropleth"
           }
          ],
          "contour": [
           {
            "colorbar": {
             "outlinewidth": 0,
             "ticks": ""
            },
            "colorscale": [
             [
              0,
              "#0d0887"
             ],
             [
              0.1111111111111111,
              "#46039f"
             ],
             [
              0.2222222222222222,
              "#7201a8"
             ],
             [
              0.3333333333333333,
              "#9c179e"
             ],
             [
              0.4444444444444444,
              "#bd3786"
             ],
             [
              0.5555555555555556,
              "#d8576b"
             ],
             [
              0.6666666666666666,
              "#ed7953"
             ],
             [
              0.7777777777777778,
              "#fb9f3a"
             ],
             [
              0.8888888888888888,
              "#fdca26"
             ],
             [
              1,
              "#f0f921"
             ]
            ],
            "type": "contour"
           }
          ],
          "contourcarpet": [
           {
            "colorbar": {
             "outlinewidth": 0,
             "ticks": ""
            },
            "type": "contourcarpet"
           }
          ],
          "heatmap": [
           {
            "colorbar": {
             "outlinewidth": 0,
             "ticks": ""
            },
            "colorscale": [
             [
              0,
              "#0d0887"
             ],
             [
              0.1111111111111111,
              "#46039f"
             ],
             [
              0.2222222222222222,
              "#7201a8"
             ],
             [
              0.3333333333333333,
              "#9c179e"
             ],
             [
              0.4444444444444444,
              "#bd3786"
             ],
             [
              0.5555555555555556,
              "#d8576b"
             ],
             [
              0.6666666666666666,
              "#ed7953"
             ],
             [
              0.7777777777777778,
              "#fb9f3a"
             ],
             [
              0.8888888888888888,
              "#fdca26"
             ],
             [
              1,
              "#f0f921"
             ]
            ],
            "type": "heatmap"
           }
          ],
          "heatmapgl": [
           {
            "colorbar": {
             "outlinewidth": 0,
             "ticks": ""
            },
            "colorscale": [
             [
              0,
              "#0d0887"
             ],
             [
              0.1111111111111111,
              "#46039f"
             ],
             [
              0.2222222222222222,
              "#7201a8"
             ],
             [
              0.3333333333333333,
              "#9c179e"
             ],
             [
              0.4444444444444444,
              "#bd3786"
             ],
             [
              0.5555555555555556,
              "#d8576b"
             ],
             [
              0.6666666666666666,
              "#ed7953"
             ],
             [
              0.7777777777777778,
              "#fb9f3a"
             ],
             [
              0.8888888888888888,
              "#fdca26"
             ],
             [
              1,
              "#f0f921"
             ]
            ],
            "type": "heatmapgl"
           }
          ],
          "histogram": [
           {
            "marker": {
             "colorbar": {
              "outlinewidth": 0,
              "ticks": ""
             }
            },
            "type": "histogram"
           }
          ],
          "histogram2d": [
           {
            "colorbar": {
             "outlinewidth": 0,
             "ticks": ""
            },
            "colorscale": [
             [
              0,
              "#0d0887"
             ],
             [
              0.1111111111111111,
              "#46039f"
             ],
             [
              0.2222222222222222,
              "#7201a8"
             ],
             [
              0.3333333333333333,
              "#9c179e"
             ],
             [
              0.4444444444444444,
              "#bd3786"
             ],
             [
              0.5555555555555556,
              "#d8576b"
             ],
             [
              0.6666666666666666,
              "#ed7953"
             ],
             [
              0.7777777777777778,
              "#fb9f3a"
             ],
             [
              0.8888888888888888,
              "#fdca26"
             ],
             [
              1,
              "#f0f921"
             ]
            ],
            "type": "histogram2d"
           }
          ],
          "histogram2dcontour": [
           {
            "colorbar": {
             "outlinewidth": 0,
             "ticks": ""
            },
            "colorscale": [
             [
              0,
              "#0d0887"
             ],
             [
              0.1111111111111111,
              "#46039f"
             ],
             [
              0.2222222222222222,
              "#7201a8"
             ],
             [
              0.3333333333333333,
              "#9c179e"
             ],
             [
              0.4444444444444444,
              "#bd3786"
             ],
             [
              0.5555555555555556,
              "#d8576b"
             ],
             [
              0.6666666666666666,
              "#ed7953"
             ],
             [
              0.7777777777777778,
              "#fb9f3a"
             ],
             [
              0.8888888888888888,
              "#fdca26"
             ],
             [
              1,
              "#f0f921"
             ]
            ],
            "type": "histogram2dcontour"
           }
          ],
          "mesh3d": [
           {
            "colorbar": {
             "outlinewidth": 0,
             "ticks": ""
            },
            "type": "mesh3d"
           }
          ],
          "parcoords": [
           {
            "line": {
             "colorbar": {
              "outlinewidth": 0,
              "ticks": ""
             }
            },
            "type": "parcoords"
           }
          ],
          "pie": [
           {
            "automargin": true,
            "type": "pie"
           }
          ],
          "scatter": [
           {
            "marker": {
             "colorbar": {
              "outlinewidth": 0,
              "ticks": ""
             }
            },
            "type": "scatter"
           }
          ],
          "scatter3d": [
           {
            "line": {
             "colorbar": {
              "outlinewidth": 0,
              "ticks": ""
             }
            },
            "marker": {
             "colorbar": {
              "outlinewidth": 0,
              "ticks": ""
             }
            },
            "type": "scatter3d"
           }
          ],
          "scattercarpet": [
           {
            "marker": {
             "colorbar": {
              "outlinewidth": 0,
              "ticks": ""
             }
            },
            "type": "scattercarpet"
           }
          ],
          "scattergeo": [
           {
            "marker": {
             "colorbar": {
              "outlinewidth": 0,
              "ticks": ""
             }
            },
            "type": "scattergeo"
           }
          ],
          "scattergl": [
           {
            "marker": {
             "colorbar": {
              "outlinewidth": 0,
              "ticks": ""
             }
            },
            "type": "scattergl"
           }
          ],
          "scattermapbox": [
           {
            "marker": {
             "colorbar": {
              "outlinewidth": 0,
              "ticks": ""
             }
            },
            "type": "scattermapbox"
           }
          ],
          "scatterpolar": [
           {
            "marker": {
             "colorbar": {
              "outlinewidth": 0,
              "ticks": ""
             }
            },
            "type": "scatterpolar"
           }
          ],
          "scatterpolargl": [
           {
            "marker": {
             "colorbar": {
              "outlinewidth": 0,
              "ticks": ""
             }
            },
            "type": "scatterpolargl"
           }
          ],
          "scatterternary": [
           {
            "marker": {
             "colorbar": {
              "outlinewidth": 0,
              "ticks": ""
             }
            },
            "type": "scatterternary"
           }
          ],
          "surface": [
           {
            "colorbar": {
             "outlinewidth": 0,
             "ticks": ""
            },
            "colorscale": [
             [
              0,
              "#0d0887"
             ],
             [
              0.1111111111111111,
              "#46039f"
             ],
             [
              0.2222222222222222,
              "#7201a8"
             ],
             [
              0.3333333333333333,
              "#9c179e"
             ],
             [
              0.4444444444444444,
              "#bd3786"
             ],
             [
              0.5555555555555556,
              "#d8576b"
             ],
             [
              0.6666666666666666,
              "#ed7953"
             ],
             [
              0.7777777777777778,
              "#fb9f3a"
             ],
             [
              0.8888888888888888,
              "#fdca26"
             ],
             [
              1,
              "#f0f921"
             ]
            ],
            "type": "surface"
           }
          ],
          "table": [
           {
            "cells": {
             "fill": {
              "color": "#EBF0F8"
             },
             "line": {
              "color": "white"
             }
            },
            "header": {
             "fill": {
              "color": "#C8D4E3"
             },
             "line": {
              "color": "white"
             }
            },
            "type": "table"
           }
          ]
         },
         "layout": {
          "annotationdefaults": {
           "arrowcolor": "#2a3f5f",
           "arrowhead": 0,
           "arrowwidth": 1
          },
          "coloraxis": {
           "colorbar": {
            "outlinewidth": 0,
            "ticks": ""
           }
          },
          "colorscale": {
           "diverging": [
            [
             0,
             "#8e0152"
            ],
            [
             0.1,
             "#c51b7d"
            ],
            [
             0.2,
             "#de77ae"
            ],
            [
             0.3,
             "#f1b6da"
            ],
            [
             0.4,
             "#fde0ef"
            ],
            [
             0.5,
             "#f7f7f7"
            ],
            [
             0.6,
             "#e6f5d0"
            ],
            [
             0.7,
             "#b8e186"
            ],
            [
             0.8,
             "#7fbc41"
            ],
            [
             0.9,
             "#4d9221"
            ],
            [
             1,
             "#276419"
            ]
           ],
           "sequential": [
            [
             0,
             "#0d0887"
            ],
            [
             0.1111111111111111,
             "#46039f"
            ],
            [
             0.2222222222222222,
             "#7201a8"
            ],
            [
             0.3333333333333333,
             "#9c179e"
            ],
            [
             0.4444444444444444,
             "#bd3786"
            ],
            [
             0.5555555555555556,
             "#d8576b"
            ],
            [
             0.6666666666666666,
             "#ed7953"
            ],
            [
             0.7777777777777778,
             "#fb9f3a"
            ],
            [
             0.8888888888888888,
             "#fdca26"
            ],
            [
             1,
             "#f0f921"
            ]
           ],
           "sequentialminus": [
            [
             0,
             "#0d0887"
            ],
            [
             0.1111111111111111,
             "#46039f"
            ],
            [
             0.2222222222222222,
             "#7201a8"
            ],
            [
             0.3333333333333333,
             "#9c179e"
            ],
            [
             0.4444444444444444,
             "#bd3786"
            ],
            [
             0.5555555555555556,
             "#d8576b"
            ],
            [
             0.6666666666666666,
             "#ed7953"
            ],
            [
             0.7777777777777778,
             "#fb9f3a"
            ],
            [
             0.8888888888888888,
             "#fdca26"
            ],
            [
             1,
             "#f0f921"
            ]
           ]
          },
          "colorway": [
           "#636efa",
           "#EF553B",
           "#00cc96",
           "#ab63fa",
           "#FFA15A",
           "#19d3f3",
           "#FF6692",
           "#B6E880",
           "#FF97FF",
           "#FECB52"
          ],
          "font": {
           "color": "#2a3f5f"
          },
          "geo": {
           "bgcolor": "white",
           "lakecolor": "white",
           "landcolor": "#E5ECF6",
           "showlakes": true,
           "showland": true,
           "subunitcolor": "white"
          },
          "hoverlabel": {
           "align": "left"
          },
          "hovermode": "closest",
          "mapbox": {
           "style": "light"
          },
          "paper_bgcolor": "white",
          "plot_bgcolor": "#E5ECF6",
          "polar": {
           "angularaxis": {
            "gridcolor": "white",
            "linecolor": "white",
            "ticks": ""
           },
           "bgcolor": "#E5ECF6",
           "radialaxis": {
            "gridcolor": "white",
            "linecolor": "white",
            "ticks": ""
           }
          },
          "scene": {
           "xaxis": {
            "backgroundcolor": "#E5ECF6",
            "gridcolor": "white",
            "gridwidth": 2,
            "linecolor": "white",
            "showbackground": true,
            "ticks": "",
            "zerolinecolor": "white"
           },
           "yaxis": {
            "backgroundcolor": "#E5ECF6",
            "gridcolor": "white",
            "gridwidth": 2,
            "linecolor": "white",
            "showbackground": true,
            "ticks": "",
            "zerolinecolor": "white"
           },
           "zaxis": {
            "backgroundcolor": "#E5ECF6",
            "gridcolor": "white",
            "gridwidth": 2,
            "linecolor": "white",
            "showbackground": true,
            "ticks": "",
            "zerolinecolor": "white"
           }
          },
          "shapedefaults": {
           "line": {
            "color": "#2a3f5f"
           }
          },
          "ternary": {
           "aaxis": {
            "gridcolor": "white",
            "linecolor": "white",
            "ticks": ""
           },
           "baxis": {
            "gridcolor": "white",
            "linecolor": "white",
            "ticks": ""
           },
           "bgcolor": "#E5ECF6",
           "caxis": {
            "gridcolor": "white",
            "linecolor": "white",
            "ticks": ""
           }
          },
          "title": {
           "x": 0.05
          },
          "xaxis": {
           "automargin": true,
           "gridcolor": "white",
           "linecolor": "white",
           "ticks": "",
           "title": {
            "standoff": 15
           },
           "zerolinecolor": "white",
           "zerolinewidth": 2
          },
          "yaxis": {
           "automargin": true,
           "gridcolor": "white",
           "linecolor": "white",
           "ticks": "",
           "title": {
            "standoff": 15
           },
           "zerolinecolor": "white",
           "zerolinewidth": 2
          }
         }
        },
        "title": {
         "font": {
          "color": "#4D5663"
         }
        },
        "xaxis": {
         "gridcolor": "#E1E5ED",
         "showgrid": true,
         "tickfont": {
          "color": "#4D5663"
         },
         "title": {
          "font": {
           "color": "#4D5663"
          },
          "text": ""
         },
         "zerolinecolor": "#E1E5ED"
        },
        "xaxis2": {
         "anchor": "y2",
         "gridcolor": "#E1E5ED",
         "showgrid": true,
         "showticklabels": false,
         "tickfont": {
          "color": "#4D5663"
         },
         "title": {
          "font": {
           "color": "#4D5663"
          },
          "text": ""
         },
         "zerolinecolor": "#E1E5ED"
        },
        "yaxis": {
         "domain": [
          0.3,
          1
         ],
         "gridcolor": "#E1E5ED",
         "showgrid": true,
         "tickfont": {
          "color": "#4D5663"
         },
         "title": {
          "font": {
           "color": "#4D5663"
          },
          "text": ""
         },
         "zerolinecolor": "#E1E5ED"
        },
        "yaxis2": {
         "domain": [
          0,
          0.25
         ],
         "gridcolor": "#E1E5ED",
         "showgrid": true,
         "tickfont": {
          "color": "#4D5663"
         },
         "title": {
          "font": {
           "color": "#4D5663"
          },
          "text": "Spread"
         },
         "zerolinecolor": "#E1E5ED"
        }
       }
      },
      "text/html": [
       "<div>\n",
       "        \n",
       "        \n",
       "            <div id=\"79e1ea99-22bf-4c03-805e-3dbe0fc6542e\" class=\"plotly-graph-div\" style=\"height:525px; width:100%;\"></div>\n",
       "            <script type=\"text/javascript\">\n",
       "                require([\"plotly\"], function(Plotly) {\n",
       "                    window.PLOTLYENV=window.PLOTLYENV || {};\n",
       "                    window.PLOTLYENV.BASE_URL='https://plot.ly';\n",
       "                    \n",
       "                if (document.getElementById(\"79e1ea99-22bf-4c03-805e-3dbe0fc6542e\")) {\n",
       "                    Plotly.newPlot(\n",
       "                        '79e1ea99-22bf-4c03-805e-3dbe0fc6542e',\n",
       "                        [{\"line\": {\"color\": \"rgba(255, 153, 51, 1.0)\", \"dash\": \"solid\", \"shape\": \"linear\", \"width\": 1.3}, \"mode\": \"lines\", \"name\": \"A\", \"text\": \"\", \"type\": \"scatter\", \"x\": [0, 1, 2, 3, 4, 5, 6, 7, 8, 9, 10, 11, 12, 13, 14, 15, 16, 17, 18, 19, 20, 21, 22, 23, 24, 25, 26, 27, 28, 29, 30, 31, 32, 33, 34, 35, 36, 37, 38, 39, 40, 41, 42, 43, 44, 45, 46, 47, 48, 49, 50, 51, 52, 53, 54, 55, 56, 57, 58, 59, 60, 61, 62, 63, 64, 65, 66, 67, 68, 69, 70, 71, 72, 73, 74, 75, 76, 77, 78, 79, 80, 81, 82, 83, 84, 85, 86, 87, 88, 89, 90, 91, 92, 93, 94, 95, 96, 97, 98, 99], \"y\": [0.1939937172428786, 0.01198709357479974, -0.9197269033255341, -0.5438327088373623, 0.7834803322226556, -0.6708218107355405, -1.2270086594013148, -1.5945161544505293, -0.9907976523527117, -1.1899911221168242, 1.06555728983655, 2.094349657907453, -0.7653286352163223, 1.433977366346678, 0.1025579048479289, 0.5415168750971099, 0.6220415367131382, -0.04484554676772563, 0.6955404172357864, -0.11957780741457012, 1.0271108203907722, 0.6507373589725515, -0.7063755562214526, 1.6571952496589455, 1.146856945684601, -0.49529121555876104, 1.1840268798212865, -0.7724289536911138, 0.2527295692748135, -0.7889106018528703, 0.23066964593224856, -1.8073249839624868, 0.772958272740142, -0.63828408764981, 0.04419548834580432, -0.42033677316336115, 0.40624489606208614, 0.5656080556659431, -0.6145851682752206, -0.6778165800450257, -0.8857667081316852, 0.23543865663786595, -0.64751953126351, -1.6272795581357524, -0.6442866082721088, 0.1598415091526614, -1.5846278315156788, -0.7362655278450032, -0.7776486911955109, -1.1613864726504064, 0.23645653791656362, -0.046116737128403223, -0.029034089438273472, -0.8685421833611577, 0.2935712096704209, -0.8739308445678745, 1.2397302903491216, -1.0913376504437429, -0.6048710523781545, 0.08859006580896896, -1.0303228102801352, -1.7636878381657142, -0.14365995147603303, 0.14903229630509462, -0.6075544438387713, -1.9829405790562238, 0.40415777675319375, 0.9457361120828759, -0.6755714235167501, 0.8713559375981939, 0.4739137310744739, 0.3147522180127868, -0.2046546098406741, 0.14490624189352064, -1.5887453539495555, 0.9561067061253106, 1.730784322102986, 0.9641936369270744, 0.18758257018712607, -1.468477230522763, -1.396553080753436, -0.15851043767701425, 0.25171776094821763, 0.39175943173832994, 1.0017592643824145, 0.21353478370158163, 0.17203759000931104, -0.6589458788707, 1.1948069902329483, 1.5726935605570183, 0.17965639147172213, 1.1752864388876985, 0.017479947472017726, -1.196331042019884, -0.12445553401560037, -0.5533379425308373, -0.5705664103816233, 0.7525227768380952, -0.15743217857562775, -1.4831723894832922]}, {\"line\": {\"color\": \"rgba(55, 128, 191, 1.0)\", \"dash\": \"solid\", \"shape\": \"linear\", \"width\": 1.3}, \"mode\": \"lines\", \"name\": \"B\", \"text\": \"\", \"type\": \"scatter\", \"x\": [0, 1, 2, 3, 4, 5, 6, 7, 8, 9, 10, 11, 12, 13, 14, 15, 16, 17, 18, 19, 20, 21, 22, 23, 24, 25, 26, 27, 28, 29, 30, 31, 32, 33, 34, 35, 36, 37, 38, 39, 40, 41, 42, 43, 44, 45, 46, 47, 48, 49, 50, 51, 52, 53, 54, 55, 56, 57, 58, 59, 60, 61, 62, 63, 64, 65, 66, 67, 68, 69, 70, 71, 72, 73, 74, 75, 76, 77, 78, 79, 80, 81, 82, 83, 84, 85, 86, 87, 88, 89, 90, 91, 92, 93, 94, 95, 96, 97, 98, 99], \"y\": [0.23368246569060097, -0.9442522999075037, 1.4757508350619062, 0.6583319804969867, 0.15258406889106102, 1.3158552472659093, -1.1185223279965273, -0.39158046812888286, 0.4227492695302025, -0.4909341004421402, 0.7128455728079772, -0.15126225022666062, -1.2023222572617485, -0.8598471122662901, 0.37748366577390813, -0.37771219854476956, -1.0151406391317663, -0.14193643232479458, 0.8809736707630573, -0.23316113463568516, -0.5983997236376914, 0.03792582797495273, -0.32118370929148204, -0.8462980786265933, 0.7903198321341133, 0.11392102390425404, -0.16772724666873615, 0.1829803492254897, -0.24904256392431023, 0.29629447097116984, 0.26853531155525406, 0.3436911031362945, -0.46546772335101344, -1.9565340522664583, -0.48789908862859693, 0.5750153580790885, 1.2110326819337072, -0.009798274879315942, 0.12101713494682781, 1.0030236847193514, 0.03861309294556079, -0.2495541588401459, 1.7273514293487122, 1.3084028742436131, 0.4305763232394022, -0.7869084257361719, 0.8254293478530841, -0.43502106798764056, -0.13354688307494209, 0.6219701085364925, -1.8580516396037385, 1.1286789826664125, -1.0625405436631963, -0.9365892727376878, 0.6806982847756373, -0.1946403985222004, 0.4761758840675131, -1.0088981756190227, -0.7992768349220223, -0.35794293507930447, -0.17325042991865502, -0.4230132705446578, 0.1427484128576023, -0.7004909250080186, 1.774090400681258, -1.2169058705918558, 0.46261600529206226, -0.34851608304004095, -0.4817134781062881, 0.46460131852352665, -1.869064937974819, 0.834009784941836, -0.9559119847388752, 0.20920885600486094, 0.39019270359429936, 0.39307707529506475, 0.3343726549154573, -0.684670668616076, -0.8048142809658069, 0.88284740018694, -0.3087500230206805, 0.46458735139030743, -1.490421224828702, 1.0168255723243191, -3.036278794878397, -0.5567832667949063, 0.3044588029679682, -1.3675017563132523, -1.0363699333245238, 0.20591239093078306, -0.34700208542240774, -1.1698183128242192, -1.6901164485187143, -0.19161696321123506, -0.8388321875453237, 0.22335717569772506, 1.2499142008432396, 0.8903687204778106, 0.9098245017412132, -1.4504571813426723]}, {\"connectgaps\": false, \"fill\": \"tozeroy\", \"line\": {\"color\": \"green\", \"dash\": \"solid\", \"shape\": \"linear\", \"width\": 0.5}, \"mode\": \"lines\", \"name\": \"Spread\", \"showlegend\": false, \"type\": \"scatter\", \"x\": [0, 1, 2, 3, 4, 5, 6, 7, 8, 9, 10, 11, 12, 13, 14, 15, 16, 17, 18, 19, 20, 21, 22, 23, 24, 25, 26, 27, 28, 29, 30, 31, 32, 33, 34, 35, 36, 37, 38, 39, 40, 41, 42, 43, 44, 45, 46, 47, 48, 49, 50, 51, 52, 53, 54, 55, 56, 57, 58, 59, 60, 61, 62, 63, 64, 65, 66, 67, 68, 69, 70, 71, 72, 73, 74, 75, 76, 77, 78, 79, 80, 81, 82, 83, 84, 85, 86, 87, 88, 89, 90, 91, 92, 93, 94, 95, 96, 97, 98, 99], \"xaxis\": \"x2\", \"y\": [\"\", 0.9562393934823035, \"\", \"\", 0.6308962633315945, \"\", \"\", \"\", \"\", \"\", 0.35271171702857274, 2.245611908134114, 0.43699362204542613, 2.293824478612968, \"\", 0.9192290736418794, 1.6371821758449046, 0.09709088555706895, \"\", 0.11358332722111504, 1.6255105440284636, 0.6128115309975988, \"\", 2.503493328285539, 0.35653711355048767, \"\", 1.3517541264900226, \"\", 0.5017721331991237, \"\", \"\", \"\", 1.2384259960911554, 1.3182499646166481, 0.5320945769744012, \"\", \"\", 0.575406330545259, \"\", \"\", \"\", 0.4849928154780119, \"\", \"\", \"\", 0.9467499348888333, \"\", \"\", \"\", \"\", 2.0945081775203023, \"\", 1.0335064542249228, 0.06804708937653003, \"\", \"\", 0.7635544062816085, \"\", 0.19440578254386776, 0.4465330008882734, \"\", \"\", \"\", 0.8495232213131132, \"\", \"\", \"\", 1.294252195122917, \"\", 0.4067546190746672, 2.342978669049293, \"\", 0.7512573748982011, \"\", \"\", 0.5630296308302458, 1.3964116671875286, 1.6488643055431504, 0.992396851152933, \"\", \"\", \"\", 1.7421389857769198, \"\", 4.038038059260812, 0.7703180504964879, \"\", 0.7085558774425523, 2.231176923557472, 1.3667811696262353, 0.5266584768941298, 2.3451047517119177, 1.707596395990732, \"\", 0.7143766535297233, \"\", \"\", \"\", \"\", \"\"], \"yaxis\": \"y2\"}, {\"connectgaps\": false, \"fill\": \"tozeroy\", \"line\": {\"color\": \"red\", \"dash\": \"solid\", \"shape\": \"linear\", \"width\": 0.5}, \"mode\": \"lines\", \"name\": \"Spread\", \"showlegend\": false, \"type\": \"scatter\", \"x\": [0, 1, 2, 3, 4, 5, 6, 7, 8, 9, 10, 11, 12, 13, 14, 15, 16, 17, 18, 19, 20, 21, 22, 23, 24, 25, 26, 27, 28, 29, 30, 31, 32, 33, 34, 35, 36, 37, 38, 39, 40, 41, 42, 43, 44, 45, 46, 47, 48, 49, 50, 51, 52, 53, 54, 55, 56, 57, 58, 59, 60, 61, 62, 63, 64, 65, 66, 67, 68, 69, 70, 71, 72, 73, 74, 75, 76, 77, 78, 79, 80, 81, 82, 83, 84, 85, 86, 87, 88, 89, 90, 91, 92, 93, 94, 95, 96, 97, 98, 99], \"xaxis\": \"x2\", \"y\": [-0.03968874844772238, \"\", -2.39547773838744, -1.202164689334349, \"\", -1.9866770580014497, -0.10848633140478747, -1.2029356863216465, -1.4135469218829142, -0.6990570216746841, \"\", \"\", \"\", \"\", -0.2749257609259792, \"\", \"\", \"\", -0.1854332535272709, \"\", \"\", \"\", -0.3851918469299706, \"\", \"\", -0.6092122394630151, \"\", -0.9554093029166034, \"\", -1.08520507282404, -0.0378656656230055, -2.1510160870987813, \"\", \"\", \"\", -0.9953521312424497, -0.804787785871621, \"\", -0.7356023032220484, -1.680840264764377, -0.924379801077246, \"\", -2.3748709606122222, -2.9356824323793655, -1.074862931511511, \"\", -2.4100571793687626, -0.30124445985736265, -0.6441018081205688, -1.783356581186899, \"\", -1.1747957197948158, \"\", \"\", -0.38712707510521643, -0.6792904460456741, \"\", -0.08243947482472014, \"\", \"\", -0.8570723803614801, -1.3406745676210563, -0.28640836433363537, \"\", -2.381644844520029, -0.7660347084643679, -0.058458228538868506, \"\", -0.19385794541046203, \"\", \"\", -0.5192575669290491, \"\", -0.0643026141113403, -1.9789380575438549, \"\", \"\", \"\", \"\", -2.351324630709703, -1.0878030577327555, -0.6230977890673217, \"\", -0.6250661405859892, \"\", \"\", -0.13242121295865714, \"\", \"\", \"\", \"\", \"\", \"\", -1.004714078808649, \"\", -0.7766951182285624, -1.8204806112248628, -0.13784594363971536, -1.067256680316841, -0.0327152081406199], \"yaxis\": \"y2\"}],\n",
       "                        {\"hovermode\": \"x\", \"legend\": {\"bgcolor\": \"#F5F6F9\", \"font\": {\"color\": \"#4D5663\"}}, \"paper_bgcolor\": \"#F5F6F9\", \"plot_bgcolor\": \"#F5F6F9\", \"template\": {\"data\": {\"bar\": [{\"error_x\": {\"color\": \"#2a3f5f\"}, \"error_y\": {\"color\": \"#2a3f5f\"}, \"marker\": {\"line\": {\"color\": \"#E5ECF6\", \"width\": 0.5}}, \"type\": \"bar\"}], \"barpolar\": [{\"marker\": {\"line\": {\"color\": \"#E5ECF6\", \"width\": 0.5}}, \"type\": \"barpolar\"}], \"carpet\": [{\"aaxis\": {\"endlinecolor\": \"#2a3f5f\", \"gridcolor\": \"white\", \"linecolor\": \"white\", \"minorgridcolor\": \"white\", \"startlinecolor\": \"#2a3f5f\"}, \"baxis\": {\"endlinecolor\": \"#2a3f5f\", \"gridcolor\": \"white\", \"linecolor\": \"white\", \"minorgridcolor\": \"white\", \"startlinecolor\": \"#2a3f5f\"}, \"type\": \"carpet\"}], \"choropleth\": [{\"colorbar\": {\"outlinewidth\": 0, \"ticks\": \"\"}, \"type\": \"choropleth\"}], \"contour\": [{\"colorbar\": {\"outlinewidth\": 0, \"ticks\": \"\"}, \"colorscale\": [[0.0, \"#0d0887\"], [0.1111111111111111, \"#46039f\"], [0.2222222222222222, \"#7201a8\"], [0.3333333333333333, \"#9c179e\"], [0.4444444444444444, \"#bd3786\"], [0.5555555555555556, \"#d8576b\"], [0.6666666666666666, \"#ed7953\"], [0.7777777777777778, \"#fb9f3a\"], [0.8888888888888888, \"#fdca26\"], [1.0, \"#f0f921\"]], \"type\": \"contour\"}], \"contourcarpet\": [{\"colorbar\": {\"outlinewidth\": 0, \"ticks\": \"\"}, \"type\": \"contourcarpet\"}], \"heatmap\": [{\"colorbar\": {\"outlinewidth\": 0, \"ticks\": \"\"}, \"colorscale\": [[0.0, \"#0d0887\"], [0.1111111111111111, \"#46039f\"], [0.2222222222222222, \"#7201a8\"], [0.3333333333333333, \"#9c179e\"], [0.4444444444444444, \"#bd3786\"], [0.5555555555555556, \"#d8576b\"], [0.6666666666666666, \"#ed7953\"], [0.7777777777777778, \"#fb9f3a\"], [0.8888888888888888, \"#fdca26\"], [1.0, \"#f0f921\"]], \"type\": \"heatmap\"}], \"heatmapgl\": [{\"colorbar\": {\"outlinewidth\": 0, \"ticks\": \"\"}, \"colorscale\": [[0.0, \"#0d0887\"], [0.1111111111111111, \"#46039f\"], [0.2222222222222222, \"#7201a8\"], [0.3333333333333333, \"#9c179e\"], [0.4444444444444444, \"#bd3786\"], [0.5555555555555556, \"#d8576b\"], [0.6666666666666666, \"#ed7953\"], [0.7777777777777778, \"#fb9f3a\"], [0.8888888888888888, \"#fdca26\"], [1.0, \"#f0f921\"]], \"type\": \"heatmapgl\"}], \"histogram\": [{\"marker\": {\"colorbar\": {\"outlinewidth\": 0, \"ticks\": \"\"}}, \"type\": \"histogram\"}], \"histogram2d\": [{\"colorbar\": {\"outlinewidth\": 0, \"ticks\": \"\"}, \"colorscale\": [[0.0, \"#0d0887\"], [0.1111111111111111, \"#46039f\"], [0.2222222222222222, \"#7201a8\"], [0.3333333333333333, \"#9c179e\"], [0.4444444444444444, \"#bd3786\"], [0.5555555555555556, \"#d8576b\"], [0.6666666666666666, \"#ed7953\"], [0.7777777777777778, \"#fb9f3a\"], [0.8888888888888888, \"#fdca26\"], [1.0, \"#f0f921\"]], \"type\": \"histogram2d\"}], \"histogram2dcontour\": [{\"colorbar\": {\"outlinewidth\": 0, \"ticks\": \"\"}, \"colorscale\": [[0.0, \"#0d0887\"], [0.1111111111111111, \"#46039f\"], [0.2222222222222222, \"#7201a8\"], [0.3333333333333333, \"#9c179e\"], [0.4444444444444444, \"#bd3786\"], [0.5555555555555556, \"#d8576b\"], [0.6666666666666666, \"#ed7953\"], [0.7777777777777778, \"#fb9f3a\"], [0.8888888888888888, \"#fdca26\"], [1.0, \"#f0f921\"]], \"type\": \"histogram2dcontour\"}], \"mesh3d\": [{\"colorbar\": {\"outlinewidth\": 0, \"ticks\": \"\"}, \"type\": \"mesh3d\"}], \"parcoords\": [{\"line\": {\"colorbar\": {\"outlinewidth\": 0, \"ticks\": \"\"}}, \"type\": \"parcoords\"}], \"pie\": [{\"automargin\": true, \"type\": \"pie\"}], \"scatter\": [{\"marker\": {\"colorbar\": {\"outlinewidth\": 0, \"ticks\": \"\"}}, \"type\": \"scatter\"}], \"scatter3d\": [{\"line\": {\"colorbar\": {\"outlinewidth\": 0, \"ticks\": \"\"}}, \"marker\": {\"colorbar\": {\"outlinewidth\": 0, \"ticks\": \"\"}}, \"type\": \"scatter3d\"}], \"scattercarpet\": [{\"marker\": {\"colorbar\": {\"outlinewidth\": 0, \"ticks\": \"\"}}, \"type\": \"scattercarpet\"}], \"scattergeo\": [{\"marker\": {\"colorbar\": {\"outlinewidth\": 0, \"ticks\": \"\"}}, \"type\": \"scattergeo\"}], \"scattergl\": [{\"marker\": {\"colorbar\": {\"outlinewidth\": 0, \"ticks\": \"\"}}, \"type\": \"scattergl\"}], \"scattermapbox\": [{\"marker\": {\"colorbar\": {\"outlinewidth\": 0, \"ticks\": \"\"}}, \"type\": \"scattermapbox\"}], \"scatterpolar\": [{\"marker\": {\"colorbar\": {\"outlinewidth\": 0, \"ticks\": \"\"}}, \"type\": \"scatterpolar\"}], \"scatterpolargl\": [{\"marker\": {\"colorbar\": {\"outlinewidth\": 0, \"ticks\": \"\"}}, \"type\": \"scatterpolargl\"}], \"scatterternary\": [{\"marker\": {\"colorbar\": {\"outlinewidth\": 0, \"ticks\": \"\"}}, \"type\": \"scatterternary\"}], \"surface\": [{\"colorbar\": {\"outlinewidth\": 0, \"ticks\": \"\"}, \"colorscale\": [[0.0, \"#0d0887\"], [0.1111111111111111, \"#46039f\"], [0.2222222222222222, \"#7201a8\"], [0.3333333333333333, \"#9c179e\"], [0.4444444444444444, \"#bd3786\"], [0.5555555555555556, \"#d8576b\"], [0.6666666666666666, \"#ed7953\"], [0.7777777777777778, \"#fb9f3a\"], [0.8888888888888888, \"#fdca26\"], [1.0, \"#f0f921\"]], \"type\": \"surface\"}], \"table\": [{\"cells\": {\"fill\": {\"color\": \"#EBF0F8\"}, \"line\": {\"color\": \"white\"}}, \"header\": {\"fill\": {\"color\": \"#C8D4E3\"}, \"line\": {\"color\": \"white\"}}, \"type\": \"table\"}]}, \"layout\": {\"annotationdefaults\": {\"arrowcolor\": \"#2a3f5f\", \"arrowhead\": 0, \"arrowwidth\": 1}, \"coloraxis\": {\"colorbar\": {\"outlinewidth\": 0, \"ticks\": \"\"}}, \"colorscale\": {\"diverging\": [[0, \"#8e0152\"], [0.1, \"#c51b7d\"], [0.2, \"#de77ae\"], [0.3, \"#f1b6da\"], [0.4, \"#fde0ef\"], [0.5, \"#f7f7f7\"], [0.6, \"#e6f5d0\"], [0.7, \"#b8e186\"], [0.8, \"#7fbc41\"], [0.9, \"#4d9221\"], [1, \"#276419\"]], \"sequential\": [[0.0, \"#0d0887\"], [0.1111111111111111, \"#46039f\"], [0.2222222222222222, \"#7201a8\"], [0.3333333333333333, \"#9c179e\"], [0.4444444444444444, \"#bd3786\"], [0.5555555555555556, \"#d8576b\"], [0.6666666666666666, \"#ed7953\"], [0.7777777777777778, \"#fb9f3a\"], [0.8888888888888888, \"#fdca26\"], [1.0, \"#f0f921\"]], \"sequentialminus\": [[0.0, \"#0d0887\"], [0.1111111111111111, \"#46039f\"], [0.2222222222222222, \"#7201a8\"], [0.3333333333333333, \"#9c179e\"], [0.4444444444444444, \"#bd3786\"], [0.5555555555555556, \"#d8576b\"], [0.6666666666666666, \"#ed7953\"], [0.7777777777777778, \"#fb9f3a\"], [0.8888888888888888, \"#fdca26\"], [1.0, \"#f0f921\"]]}, \"colorway\": [\"#636efa\", \"#EF553B\", \"#00cc96\", \"#ab63fa\", \"#FFA15A\", \"#19d3f3\", \"#FF6692\", \"#B6E880\", \"#FF97FF\", \"#FECB52\"], \"font\": {\"color\": \"#2a3f5f\"}, \"geo\": {\"bgcolor\": \"white\", \"lakecolor\": \"white\", \"landcolor\": \"#E5ECF6\", \"showlakes\": true, \"showland\": true, \"subunitcolor\": \"white\"}, \"hoverlabel\": {\"align\": \"left\"}, \"hovermode\": \"closest\", \"mapbox\": {\"style\": \"light\"}, \"paper_bgcolor\": \"white\", \"plot_bgcolor\": \"#E5ECF6\", \"polar\": {\"angularaxis\": {\"gridcolor\": \"white\", \"linecolor\": \"white\", \"ticks\": \"\"}, \"bgcolor\": \"#E5ECF6\", \"radialaxis\": {\"gridcolor\": \"white\", \"linecolor\": \"white\", \"ticks\": \"\"}}, \"scene\": {\"xaxis\": {\"backgroundcolor\": \"#E5ECF6\", \"gridcolor\": \"white\", \"gridwidth\": 2, \"linecolor\": \"white\", \"showbackground\": true, \"ticks\": \"\", \"zerolinecolor\": \"white\"}, \"yaxis\": {\"backgroundcolor\": \"#E5ECF6\", \"gridcolor\": \"white\", \"gridwidth\": 2, \"linecolor\": \"white\", \"showbackground\": true, \"ticks\": \"\", \"zerolinecolor\": \"white\"}, \"zaxis\": {\"backgroundcolor\": \"#E5ECF6\", \"gridcolor\": \"white\", \"gridwidth\": 2, \"linecolor\": \"white\", \"showbackground\": true, \"ticks\": \"\", \"zerolinecolor\": \"white\"}}, \"shapedefaults\": {\"line\": {\"color\": \"#2a3f5f\"}}, \"ternary\": {\"aaxis\": {\"gridcolor\": \"white\", \"linecolor\": \"white\", \"ticks\": \"\"}, \"baxis\": {\"gridcolor\": \"white\", \"linecolor\": \"white\", \"ticks\": \"\"}, \"bgcolor\": \"#E5ECF6\", \"caxis\": {\"gridcolor\": \"white\", \"linecolor\": \"white\", \"ticks\": \"\"}}, \"title\": {\"x\": 0.05}, \"xaxis\": {\"automargin\": true, \"gridcolor\": \"white\", \"linecolor\": \"white\", \"ticks\": \"\", \"title\": {\"standoff\": 15}, \"zerolinecolor\": \"white\", \"zerolinewidth\": 2}, \"yaxis\": {\"automargin\": true, \"gridcolor\": \"white\", \"linecolor\": \"white\", \"ticks\": \"\", \"title\": {\"standoff\": 15}, \"zerolinecolor\": \"white\", \"zerolinewidth\": 2}}}, \"title\": {\"font\": {\"color\": \"#4D5663\"}}, \"xaxis\": {\"gridcolor\": \"#E1E5ED\", \"showgrid\": true, \"tickfont\": {\"color\": \"#4D5663\"}, \"title\": {\"font\": {\"color\": \"#4D5663\"}, \"text\": \"\"}, \"zerolinecolor\": \"#E1E5ED\"}, \"xaxis2\": {\"anchor\": \"y2\", \"gridcolor\": \"#E1E5ED\", \"showgrid\": true, \"showticklabels\": false, \"tickfont\": {\"color\": \"#4D5663\"}, \"title\": {\"font\": {\"color\": \"#4D5663\"}, \"text\": \"\"}, \"zerolinecolor\": \"#E1E5ED\"}, \"yaxis\": {\"domain\": [0.3, 1], \"gridcolor\": \"#E1E5ED\", \"showgrid\": true, \"tickfont\": {\"color\": \"#4D5663\"}, \"title\": {\"font\": {\"color\": \"#4D5663\"}, \"text\": \"\"}, \"zerolinecolor\": \"#E1E5ED\"}, \"yaxis2\": {\"domain\": [0, 0.25], \"gridcolor\": \"#E1E5ED\", \"showgrid\": true, \"tickfont\": {\"color\": \"#4D5663\"}, \"title\": {\"font\": {\"color\": \"#4D5663\"}, \"text\": \"Spread\"}, \"zerolinecolor\": \"#E1E5ED\"}},\n",
       "                        {\"showLink\": true, \"linkText\": \"Export to plot.ly\", \"plotlyServerURL\": \"https://plot.ly\", \"responsive\": true}\n",
       "                    ).then(function(){\n",
       "                            \n",
       "var gd = document.getElementById('79e1ea99-22bf-4c03-805e-3dbe0fc6542e');\n",
       "var x = new MutationObserver(function (mutations, observer) {{\n",
       "        var display = window.getComputedStyle(gd).display;\n",
       "        if (!display || display === 'none') {{\n",
       "            console.log([gd, 'removed!']);\n",
       "            Plotly.purge(gd);\n",
       "            observer.disconnect();\n",
       "        }}\n",
       "}});\n",
       "\n",
       "// Listen for the removal of the full notebook cells\n",
       "var notebookContainer = gd.closest('#notebook-container');\n",
       "if (notebookContainer) {{\n",
       "    x.observe(notebookContainer, {childList: true});\n",
       "}}\n",
       "\n",
       "// Listen for the clearing of the current output cell\n",
       "var outputEl = gd.closest('.output');\n",
       "if (outputEl) {{\n",
       "    x.observe(outputEl, {childList: true});\n",
       "}}\n",
       "\n",
       "                        })\n",
       "                };\n",
       "                });\n",
       "            </script>\n",
       "        </div>"
      ]
     },
     "metadata": {},
     "output_type": "display_data"
    }
   ],
   "source": [
    "df[['A','B']].iplot(kind='spread')"
   ]
  },
  {
   "cell_type": "markdown",
   "metadata": {},
   "source": [
    "## histogram"
   ]
  },
  {
   "cell_type": "code",
   "execution_count": 16,
   "metadata": {},
   "outputs": [
    {
     "data": {
      "application/vnd.plotly.v1+json": {
       "config": {
        "linkText": "Export to plot.ly",
        "plotlyServerURL": "https://plot.ly",
        "showLink": true
       },
       "data": [
        {
         "histfunc": "count",
         "histnorm": "",
         "marker": {
          "color": "rgba(255, 153, 51, 1.0)",
          "line": {
           "color": "#4D5663",
           "width": 1.3
          }
         },
         "name": "A",
         "nbinsx": 25,
         "opacity": 0.8,
         "orientation": "v",
         "type": "histogram",
         "x": [
          0.1939937172428786,
          0.01198709357479974,
          -0.9197269033255341,
          -0.5438327088373623,
          0.7834803322226556,
          -0.6708218107355405,
          -1.2270086594013148,
          -1.5945161544505293,
          -0.9907976523527117,
          -1.1899911221168242,
          1.06555728983655,
          2.094349657907453,
          -0.7653286352163223,
          1.433977366346678,
          0.1025579048479289,
          0.5415168750971099,
          0.6220415367131382,
          -0.04484554676772563,
          0.6955404172357864,
          -0.11957780741457012,
          1.0271108203907722,
          0.6507373589725515,
          -0.7063755562214526,
          1.6571952496589455,
          1.146856945684601,
          -0.49529121555876104,
          1.1840268798212865,
          -0.7724289536911138,
          0.2527295692748135,
          -0.7889106018528703,
          0.23066964593224856,
          -1.8073249839624868,
          0.772958272740142,
          -0.63828408764981,
          0.04419548834580432,
          -0.42033677316336115,
          0.40624489606208614,
          0.5656080556659431,
          -0.6145851682752206,
          -0.6778165800450257,
          -0.8857667081316852,
          0.23543865663786595,
          -0.64751953126351,
          -1.6272795581357524,
          -0.6442866082721088,
          0.1598415091526614,
          -1.5846278315156788,
          -0.7362655278450032,
          -0.7776486911955109,
          -1.1613864726504064,
          0.23645653791656362,
          -0.046116737128403223,
          -0.029034089438273472,
          -0.8685421833611577,
          0.2935712096704209,
          -0.8739308445678745,
          1.2397302903491216,
          -1.0913376504437429,
          -0.6048710523781545,
          0.08859006580896896,
          -1.0303228102801352,
          -1.7636878381657142,
          -0.14365995147603303,
          0.14903229630509462,
          -0.6075544438387713,
          -1.9829405790562238,
          0.40415777675319375,
          0.9457361120828759,
          -0.6755714235167501,
          0.8713559375981939,
          0.4739137310744739,
          0.3147522180127868,
          -0.2046546098406741,
          0.14490624189352064,
          -1.5887453539495555,
          0.9561067061253106,
          1.730784322102986,
          0.9641936369270744,
          0.18758257018712607,
          -1.468477230522763,
          -1.396553080753436,
          -0.15851043767701425,
          0.25171776094821763,
          0.39175943173832994,
          1.0017592643824145,
          0.21353478370158163,
          0.17203759000931104,
          -0.6589458788707,
          1.1948069902329483,
          1.5726935605570183,
          0.17965639147172213,
          1.1752864388876985,
          0.017479947472017726,
          -1.196331042019884,
          -0.12445553401560037,
          -0.5533379425308373,
          -0.5705664103816233,
          0.7525227768380952,
          -0.15743217857562775,
          -1.4831723894832922
         ]
        }
       ],
       "layout": {
        "barmode": "overlay",
        "legend": {
         "bgcolor": "#F5F6F9",
         "font": {
          "color": "#4D5663"
         }
        },
        "paper_bgcolor": "#F5F6F9",
        "plot_bgcolor": "#F5F6F9",
        "template": {
         "data": {
          "bar": [
           {
            "error_x": {
             "color": "#2a3f5f"
            },
            "error_y": {
             "color": "#2a3f5f"
            },
            "marker": {
             "line": {
              "color": "#E5ECF6",
              "width": 0.5
             }
            },
            "type": "bar"
           }
          ],
          "barpolar": [
           {
            "marker": {
             "line": {
              "color": "#E5ECF6",
              "width": 0.5
             }
            },
            "type": "barpolar"
           }
          ],
          "carpet": [
           {
            "aaxis": {
             "endlinecolor": "#2a3f5f",
             "gridcolor": "white",
             "linecolor": "white",
             "minorgridcolor": "white",
             "startlinecolor": "#2a3f5f"
            },
            "baxis": {
             "endlinecolor": "#2a3f5f",
             "gridcolor": "white",
             "linecolor": "white",
             "minorgridcolor": "white",
             "startlinecolor": "#2a3f5f"
            },
            "type": "carpet"
           }
          ],
          "choropleth": [
           {
            "colorbar": {
             "outlinewidth": 0,
             "ticks": ""
            },
            "type": "choropleth"
           }
          ],
          "contour": [
           {
            "colorbar": {
             "outlinewidth": 0,
             "ticks": ""
            },
            "colorscale": [
             [
              0,
              "#0d0887"
             ],
             [
              0.1111111111111111,
              "#46039f"
             ],
             [
              0.2222222222222222,
              "#7201a8"
             ],
             [
              0.3333333333333333,
              "#9c179e"
             ],
             [
              0.4444444444444444,
              "#bd3786"
             ],
             [
              0.5555555555555556,
              "#d8576b"
             ],
             [
              0.6666666666666666,
              "#ed7953"
             ],
             [
              0.7777777777777778,
              "#fb9f3a"
             ],
             [
              0.8888888888888888,
              "#fdca26"
             ],
             [
              1,
              "#f0f921"
             ]
            ],
            "type": "contour"
           }
          ],
          "contourcarpet": [
           {
            "colorbar": {
             "outlinewidth": 0,
             "ticks": ""
            },
            "type": "contourcarpet"
           }
          ],
          "heatmap": [
           {
            "colorbar": {
             "outlinewidth": 0,
             "ticks": ""
            },
            "colorscale": [
             [
              0,
              "#0d0887"
             ],
             [
              0.1111111111111111,
              "#46039f"
             ],
             [
              0.2222222222222222,
              "#7201a8"
             ],
             [
              0.3333333333333333,
              "#9c179e"
             ],
             [
              0.4444444444444444,
              "#bd3786"
             ],
             [
              0.5555555555555556,
              "#d8576b"
             ],
             [
              0.6666666666666666,
              "#ed7953"
             ],
             [
              0.7777777777777778,
              "#fb9f3a"
             ],
             [
              0.8888888888888888,
              "#fdca26"
             ],
             [
              1,
              "#f0f921"
             ]
            ],
            "type": "heatmap"
           }
          ],
          "heatmapgl": [
           {
            "colorbar": {
             "outlinewidth": 0,
             "ticks": ""
            },
            "colorscale": [
             [
              0,
              "#0d0887"
             ],
             [
              0.1111111111111111,
              "#46039f"
             ],
             [
              0.2222222222222222,
              "#7201a8"
             ],
             [
              0.3333333333333333,
              "#9c179e"
             ],
             [
              0.4444444444444444,
              "#bd3786"
             ],
             [
              0.5555555555555556,
              "#d8576b"
             ],
             [
              0.6666666666666666,
              "#ed7953"
             ],
             [
              0.7777777777777778,
              "#fb9f3a"
             ],
             [
              0.8888888888888888,
              "#fdca26"
             ],
             [
              1,
              "#f0f921"
             ]
            ],
            "type": "heatmapgl"
           }
          ],
          "histogram": [
           {
            "marker": {
             "colorbar": {
              "outlinewidth": 0,
              "ticks": ""
             }
            },
            "type": "histogram"
           }
          ],
          "histogram2d": [
           {
            "colorbar": {
             "outlinewidth": 0,
             "ticks": ""
            },
            "colorscale": [
             [
              0,
              "#0d0887"
             ],
             [
              0.1111111111111111,
              "#46039f"
             ],
             [
              0.2222222222222222,
              "#7201a8"
             ],
             [
              0.3333333333333333,
              "#9c179e"
             ],
             [
              0.4444444444444444,
              "#bd3786"
             ],
             [
              0.5555555555555556,
              "#d8576b"
             ],
             [
              0.6666666666666666,
              "#ed7953"
             ],
             [
              0.7777777777777778,
              "#fb9f3a"
             ],
             [
              0.8888888888888888,
              "#fdca26"
             ],
             [
              1,
              "#f0f921"
             ]
            ],
            "type": "histogram2d"
           }
          ],
          "histogram2dcontour": [
           {
            "colorbar": {
             "outlinewidth": 0,
             "ticks": ""
            },
            "colorscale": [
             [
              0,
              "#0d0887"
             ],
             [
              0.1111111111111111,
              "#46039f"
             ],
             [
              0.2222222222222222,
              "#7201a8"
             ],
             [
              0.3333333333333333,
              "#9c179e"
             ],
             [
              0.4444444444444444,
              "#bd3786"
             ],
             [
              0.5555555555555556,
              "#d8576b"
             ],
             [
              0.6666666666666666,
              "#ed7953"
             ],
             [
              0.7777777777777778,
              "#fb9f3a"
             ],
             [
              0.8888888888888888,
              "#fdca26"
             ],
             [
              1,
              "#f0f921"
             ]
            ],
            "type": "histogram2dcontour"
           }
          ],
          "mesh3d": [
           {
            "colorbar": {
             "outlinewidth": 0,
             "ticks": ""
            },
            "type": "mesh3d"
           }
          ],
          "parcoords": [
           {
            "line": {
             "colorbar": {
              "outlinewidth": 0,
              "ticks": ""
             }
            },
            "type": "parcoords"
           }
          ],
          "pie": [
           {
            "automargin": true,
            "type": "pie"
           }
          ],
          "scatter": [
           {
            "marker": {
             "colorbar": {
              "outlinewidth": 0,
              "ticks": ""
             }
            },
            "type": "scatter"
           }
          ],
          "scatter3d": [
           {
            "line": {
             "colorbar": {
              "outlinewidth": 0,
              "ticks": ""
             }
            },
            "marker": {
             "colorbar": {
              "outlinewidth": 0,
              "ticks": ""
             }
            },
            "type": "scatter3d"
           }
          ],
          "scattercarpet": [
           {
            "marker": {
             "colorbar": {
              "outlinewidth": 0,
              "ticks": ""
             }
            },
            "type": "scattercarpet"
           }
          ],
          "scattergeo": [
           {
            "marker": {
             "colorbar": {
              "outlinewidth": 0,
              "ticks": ""
             }
            },
            "type": "scattergeo"
           }
          ],
          "scattergl": [
           {
            "marker": {
             "colorbar": {
              "outlinewidth": 0,
              "ticks": ""
             }
            },
            "type": "scattergl"
           }
          ],
          "scattermapbox": [
           {
            "marker": {
             "colorbar": {
              "outlinewidth": 0,
              "ticks": ""
             }
            },
            "type": "scattermapbox"
           }
          ],
          "scatterpolar": [
           {
            "marker": {
             "colorbar": {
              "outlinewidth": 0,
              "ticks": ""
             }
            },
            "type": "scatterpolar"
           }
          ],
          "scatterpolargl": [
           {
            "marker": {
             "colorbar": {
              "outlinewidth": 0,
              "ticks": ""
             }
            },
            "type": "scatterpolargl"
           }
          ],
          "scatterternary": [
           {
            "marker": {
             "colorbar": {
              "outlinewidth": 0,
              "ticks": ""
             }
            },
            "type": "scatterternary"
           }
          ],
          "surface": [
           {
            "colorbar": {
             "outlinewidth": 0,
             "ticks": ""
            },
            "colorscale": [
             [
              0,
              "#0d0887"
             ],
             [
              0.1111111111111111,
              "#46039f"
             ],
             [
              0.2222222222222222,
              "#7201a8"
             ],
             [
              0.3333333333333333,
              "#9c179e"
             ],
             [
              0.4444444444444444,
              "#bd3786"
             ],
             [
              0.5555555555555556,
              "#d8576b"
             ],
             [
              0.6666666666666666,
              "#ed7953"
             ],
             [
              0.7777777777777778,
              "#fb9f3a"
             ],
             [
              0.8888888888888888,
              "#fdca26"
             ],
             [
              1,
              "#f0f921"
             ]
            ],
            "type": "surface"
           }
          ],
          "table": [
           {
            "cells": {
             "fill": {
              "color": "#EBF0F8"
             },
             "line": {
              "color": "white"
             }
            },
            "header": {
             "fill": {
              "color": "#C8D4E3"
             },
             "line": {
              "color": "white"
             }
            },
            "type": "table"
           }
          ]
         },
         "layout": {
          "annotationdefaults": {
           "arrowcolor": "#2a3f5f",
           "arrowhead": 0,
           "arrowwidth": 1
          },
          "coloraxis": {
           "colorbar": {
            "outlinewidth": 0,
            "ticks": ""
           }
          },
          "colorscale": {
           "diverging": [
            [
             0,
             "#8e0152"
            ],
            [
             0.1,
             "#c51b7d"
            ],
            [
             0.2,
             "#de77ae"
            ],
            [
             0.3,
             "#f1b6da"
            ],
            [
             0.4,
             "#fde0ef"
            ],
            [
             0.5,
             "#f7f7f7"
            ],
            [
             0.6,
             "#e6f5d0"
            ],
            [
             0.7,
             "#b8e186"
            ],
            [
             0.8,
             "#7fbc41"
            ],
            [
             0.9,
             "#4d9221"
            ],
            [
             1,
             "#276419"
            ]
           ],
           "sequential": [
            [
             0,
             "#0d0887"
            ],
            [
             0.1111111111111111,
             "#46039f"
            ],
            [
             0.2222222222222222,
             "#7201a8"
            ],
            [
             0.3333333333333333,
             "#9c179e"
            ],
            [
             0.4444444444444444,
             "#bd3786"
            ],
            [
             0.5555555555555556,
             "#d8576b"
            ],
            [
             0.6666666666666666,
             "#ed7953"
            ],
            [
             0.7777777777777778,
             "#fb9f3a"
            ],
            [
             0.8888888888888888,
             "#fdca26"
            ],
            [
             1,
             "#f0f921"
            ]
           ],
           "sequentialminus": [
            [
             0,
             "#0d0887"
            ],
            [
             0.1111111111111111,
             "#46039f"
            ],
            [
             0.2222222222222222,
             "#7201a8"
            ],
            [
             0.3333333333333333,
             "#9c179e"
            ],
            [
             0.4444444444444444,
             "#bd3786"
            ],
            [
             0.5555555555555556,
             "#d8576b"
            ],
            [
             0.6666666666666666,
             "#ed7953"
            ],
            [
             0.7777777777777778,
             "#fb9f3a"
            ],
            [
             0.8888888888888888,
             "#fdca26"
            ],
            [
             1,
             "#f0f921"
            ]
           ]
          },
          "colorway": [
           "#636efa",
           "#EF553B",
           "#00cc96",
           "#ab63fa",
           "#FFA15A",
           "#19d3f3",
           "#FF6692",
           "#B6E880",
           "#FF97FF",
           "#FECB52"
          ],
          "font": {
           "color": "#2a3f5f"
          },
          "geo": {
           "bgcolor": "white",
           "lakecolor": "white",
           "landcolor": "#E5ECF6",
           "showlakes": true,
           "showland": true,
           "subunitcolor": "white"
          },
          "hoverlabel": {
           "align": "left"
          },
          "hovermode": "closest",
          "mapbox": {
           "style": "light"
          },
          "paper_bgcolor": "white",
          "plot_bgcolor": "#E5ECF6",
          "polar": {
           "angularaxis": {
            "gridcolor": "white",
            "linecolor": "white",
            "ticks": ""
           },
           "bgcolor": "#E5ECF6",
           "radialaxis": {
            "gridcolor": "white",
            "linecolor": "white",
            "ticks": ""
           }
          },
          "scene": {
           "xaxis": {
            "backgroundcolor": "#E5ECF6",
            "gridcolor": "white",
            "gridwidth": 2,
            "linecolor": "white",
            "showbackground": true,
            "ticks": "",
            "zerolinecolor": "white"
           },
           "yaxis": {
            "backgroundcolor": "#E5ECF6",
            "gridcolor": "white",
            "gridwidth": 2,
            "linecolor": "white",
            "showbackground": true,
            "ticks": "",
            "zerolinecolor": "white"
           },
           "zaxis": {
            "backgroundcolor": "#E5ECF6",
            "gridcolor": "white",
            "gridwidth": 2,
            "linecolor": "white",
            "showbackground": true,
            "ticks": "",
            "zerolinecolor": "white"
           }
          },
          "shapedefaults": {
           "line": {
            "color": "#2a3f5f"
           }
          },
          "ternary": {
           "aaxis": {
            "gridcolor": "white",
            "linecolor": "white",
            "ticks": ""
           },
           "baxis": {
            "gridcolor": "white",
            "linecolor": "white",
            "ticks": ""
           },
           "bgcolor": "#E5ECF6",
           "caxis": {
            "gridcolor": "white",
            "linecolor": "white",
            "ticks": ""
           }
          },
          "title": {
           "x": 0.05
          },
          "xaxis": {
           "automargin": true,
           "gridcolor": "white",
           "linecolor": "white",
           "ticks": "",
           "title": {
            "standoff": 15
           },
           "zerolinecolor": "white",
           "zerolinewidth": 2
          },
          "yaxis": {
           "automargin": true,
           "gridcolor": "white",
           "linecolor": "white",
           "ticks": "",
           "title": {
            "standoff": 15
           },
           "zerolinecolor": "white",
           "zerolinewidth": 2
          }
         }
        },
        "title": {
         "font": {
          "color": "#4D5663"
         }
        },
        "xaxis": {
         "gridcolor": "#E1E5ED",
         "showgrid": true,
         "tickfont": {
          "color": "#4D5663"
         },
         "title": {
          "font": {
           "color": "#4D5663"
          },
          "text": ""
         },
         "zerolinecolor": "#E1E5ED"
        },
        "yaxis": {
         "gridcolor": "#E1E5ED",
         "showgrid": true,
         "tickfont": {
          "color": "#4D5663"
         },
         "title": {
          "font": {
           "color": "#4D5663"
          },
          "text": ""
         },
         "zerolinecolor": "#E1E5ED"
        }
       }
      },
      "text/html": [
       "<div>\n",
       "        \n",
       "        \n",
       "            <div id=\"32aeefaf-bdf0-4d16-81de-5751e7214e7d\" class=\"plotly-graph-div\" style=\"height:525px; width:100%;\"></div>\n",
       "            <script type=\"text/javascript\">\n",
       "                require([\"plotly\"], function(Plotly) {\n",
       "                    window.PLOTLYENV=window.PLOTLYENV || {};\n",
       "                    window.PLOTLYENV.BASE_URL='https://plot.ly';\n",
       "                    \n",
       "                if (document.getElementById(\"32aeefaf-bdf0-4d16-81de-5751e7214e7d\")) {\n",
       "                    Plotly.newPlot(\n",
       "                        '32aeefaf-bdf0-4d16-81de-5751e7214e7d',\n",
       "                        [{\"histfunc\": \"count\", \"histnorm\": \"\", \"marker\": {\"color\": \"rgba(255, 153, 51, 1.0)\", \"line\": {\"color\": \"#4D5663\", \"width\": 1.3}}, \"name\": \"A\", \"nbinsx\": 25, \"opacity\": 0.8, \"orientation\": \"v\", \"type\": \"histogram\", \"x\": [0.1939937172428786, 0.01198709357479974, -0.9197269033255341, -0.5438327088373623, 0.7834803322226556, -0.6708218107355405, -1.2270086594013148, -1.5945161544505293, -0.9907976523527117, -1.1899911221168242, 1.06555728983655, 2.094349657907453, -0.7653286352163223, 1.433977366346678, 0.1025579048479289, 0.5415168750971099, 0.6220415367131382, -0.04484554676772563, 0.6955404172357864, -0.11957780741457012, 1.0271108203907722, 0.6507373589725515, -0.7063755562214526, 1.6571952496589455, 1.146856945684601, -0.49529121555876104, 1.1840268798212865, -0.7724289536911138, 0.2527295692748135, -0.7889106018528703, 0.23066964593224856, -1.8073249839624868, 0.772958272740142, -0.63828408764981, 0.04419548834580432, -0.42033677316336115, 0.40624489606208614, 0.5656080556659431, -0.6145851682752206, -0.6778165800450257, -0.8857667081316852, 0.23543865663786595, -0.64751953126351, -1.6272795581357524, -0.6442866082721088, 0.1598415091526614, -1.5846278315156788, -0.7362655278450032, -0.7776486911955109, -1.1613864726504064, 0.23645653791656362, -0.046116737128403223, -0.029034089438273472, -0.8685421833611577, 0.2935712096704209, -0.8739308445678745, 1.2397302903491216, -1.0913376504437429, -0.6048710523781545, 0.08859006580896896, -1.0303228102801352, -1.7636878381657142, -0.14365995147603303, 0.14903229630509462, -0.6075544438387713, -1.9829405790562238, 0.40415777675319375, 0.9457361120828759, -0.6755714235167501, 0.8713559375981939, 0.4739137310744739, 0.3147522180127868, -0.2046546098406741, 0.14490624189352064, -1.5887453539495555, 0.9561067061253106, 1.730784322102986, 0.9641936369270744, 0.18758257018712607, -1.468477230522763, -1.396553080753436, -0.15851043767701425, 0.25171776094821763, 0.39175943173832994, 1.0017592643824145, 0.21353478370158163, 0.17203759000931104, -0.6589458788707, 1.1948069902329483, 1.5726935605570183, 0.17965639147172213, 1.1752864388876985, 0.017479947472017726, -1.196331042019884, -0.12445553401560037, -0.5533379425308373, -0.5705664103816233, 0.7525227768380952, -0.15743217857562775, -1.4831723894832922]}],\n",
       "                        {\"barmode\": \"overlay\", \"legend\": {\"bgcolor\": \"#F5F6F9\", \"font\": {\"color\": \"#4D5663\"}}, \"paper_bgcolor\": \"#F5F6F9\", \"plot_bgcolor\": \"#F5F6F9\", \"template\": {\"data\": {\"bar\": [{\"error_x\": {\"color\": \"#2a3f5f\"}, \"error_y\": {\"color\": \"#2a3f5f\"}, \"marker\": {\"line\": {\"color\": \"#E5ECF6\", \"width\": 0.5}}, \"type\": \"bar\"}], \"barpolar\": [{\"marker\": {\"line\": {\"color\": \"#E5ECF6\", \"width\": 0.5}}, \"type\": \"barpolar\"}], \"carpet\": [{\"aaxis\": {\"endlinecolor\": \"#2a3f5f\", \"gridcolor\": \"white\", \"linecolor\": \"white\", \"minorgridcolor\": \"white\", \"startlinecolor\": \"#2a3f5f\"}, \"baxis\": {\"endlinecolor\": \"#2a3f5f\", \"gridcolor\": \"white\", \"linecolor\": \"white\", \"minorgridcolor\": \"white\", \"startlinecolor\": \"#2a3f5f\"}, \"type\": \"carpet\"}], \"choropleth\": [{\"colorbar\": {\"outlinewidth\": 0, \"ticks\": \"\"}, \"type\": \"choropleth\"}], \"contour\": [{\"colorbar\": {\"outlinewidth\": 0, \"ticks\": \"\"}, \"colorscale\": [[0.0, \"#0d0887\"], [0.1111111111111111, \"#46039f\"], [0.2222222222222222, \"#7201a8\"], [0.3333333333333333, \"#9c179e\"], [0.4444444444444444, \"#bd3786\"], [0.5555555555555556, \"#d8576b\"], [0.6666666666666666, \"#ed7953\"], [0.7777777777777778, \"#fb9f3a\"], [0.8888888888888888, \"#fdca26\"], [1.0, \"#f0f921\"]], \"type\": \"contour\"}], \"contourcarpet\": [{\"colorbar\": {\"outlinewidth\": 0, \"ticks\": \"\"}, \"type\": \"contourcarpet\"}], \"heatmap\": [{\"colorbar\": {\"outlinewidth\": 0, \"ticks\": \"\"}, \"colorscale\": [[0.0, \"#0d0887\"], [0.1111111111111111, \"#46039f\"], [0.2222222222222222, \"#7201a8\"], [0.3333333333333333, \"#9c179e\"], [0.4444444444444444, \"#bd3786\"], [0.5555555555555556, \"#d8576b\"], [0.6666666666666666, \"#ed7953\"], [0.7777777777777778, \"#fb9f3a\"], [0.8888888888888888, \"#fdca26\"], [1.0, \"#f0f921\"]], \"type\": \"heatmap\"}], \"heatmapgl\": [{\"colorbar\": {\"outlinewidth\": 0, \"ticks\": \"\"}, \"colorscale\": [[0.0, \"#0d0887\"], [0.1111111111111111, \"#46039f\"], [0.2222222222222222, \"#7201a8\"], [0.3333333333333333, \"#9c179e\"], [0.4444444444444444, \"#bd3786\"], [0.5555555555555556, \"#d8576b\"], [0.6666666666666666, \"#ed7953\"], [0.7777777777777778, \"#fb9f3a\"], [0.8888888888888888, \"#fdca26\"], [1.0, \"#f0f921\"]], \"type\": \"heatmapgl\"}], \"histogram\": [{\"marker\": {\"colorbar\": {\"outlinewidth\": 0, \"ticks\": \"\"}}, \"type\": \"histogram\"}], \"histogram2d\": [{\"colorbar\": {\"outlinewidth\": 0, \"ticks\": \"\"}, \"colorscale\": [[0.0, \"#0d0887\"], [0.1111111111111111, \"#46039f\"], [0.2222222222222222, \"#7201a8\"], [0.3333333333333333, \"#9c179e\"], [0.4444444444444444, \"#bd3786\"], [0.5555555555555556, \"#d8576b\"], [0.6666666666666666, \"#ed7953\"], [0.7777777777777778, \"#fb9f3a\"], [0.8888888888888888, \"#fdca26\"], [1.0, \"#f0f921\"]], \"type\": \"histogram2d\"}], \"histogram2dcontour\": [{\"colorbar\": {\"outlinewidth\": 0, \"ticks\": \"\"}, \"colorscale\": [[0.0, \"#0d0887\"], [0.1111111111111111, \"#46039f\"], [0.2222222222222222, \"#7201a8\"], [0.3333333333333333, \"#9c179e\"], [0.4444444444444444, \"#bd3786\"], [0.5555555555555556, \"#d8576b\"], [0.6666666666666666, \"#ed7953\"], [0.7777777777777778, \"#fb9f3a\"], [0.8888888888888888, \"#fdca26\"], [1.0, \"#f0f921\"]], \"type\": \"histogram2dcontour\"}], \"mesh3d\": [{\"colorbar\": {\"outlinewidth\": 0, \"ticks\": \"\"}, \"type\": \"mesh3d\"}], \"parcoords\": [{\"line\": {\"colorbar\": {\"outlinewidth\": 0, \"ticks\": \"\"}}, \"type\": \"parcoords\"}], \"pie\": [{\"automargin\": true, \"type\": \"pie\"}], \"scatter\": [{\"marker\": {\"colorbar\": {\"outlinewidth\": 0, \"ticks\": \"\"}}, \"type\": \"scatter\"}], \"scatter3d\": [{\"line\": {\"colorbar\": {\"outlinewidth\": 0, \"ticks\": \"\"}}, \"marker\": {\"colorbar\": {\"outlinewidth\": 0, \"ticks\": \"\"}}, \"type\": \"scatter3d\"}], \"scattercarpet\": [{\"marker\": {\"colorbar\": {\"outlinewidth\": 0, \"ticks\": \"\"}}, \"type\": \"scattercarpet\"}], \"scattergeo\": [{\"marker\": {\"colorbar\": {\"outlinewidth\": 0, \"ticks\": \"\"}}, \"type\": \"scattergeo\"}], \"scattergl\": [{\"marker\": {\"colorbar\": {\"outlinewidth\": 0, \"ticks\": \"\"}}, \"type\": \"scattergl\"}], \"scattermapbox\": [{\"marker\": {\"colorbar\": {\"outlinewidth\": 0, \"ticks\": \"\"}}, \"type\": \"scattermapbox\"}], \"scatterpolar\": [{\"marker\": {\"colorbar\": {\"outlinewidth\": 0, \"ticks\": \"\"}}, \"type\": \"scatterpolar\"}], \"scatterpolargl\": [{\"marker\": {\"colorbar\": {\"outlinewidth\": 0, \"ticks\": \"\"}}, \"type\": \"scatterpolargl\"}], \"scatterternary\": [{\"marker\": {\"colorbar\": {\"outlinewidth\": 0, \"ticks\": \"\"}}, \"type\": \"scatterternary\"}], \"surface\": [{\"colorbar\": {\"outlinewidth\": 0, \"ticks\": \"\"}, \"colorscale\": [[0.0, \"#0d0887\"], [0.1111111111111111, \"#46039f\"], [0.2222222222222222, \"#7201a8\"], [0.3333333333333333, \"#9c179e\"], [0.4444444444444444, \"#bd3786\"], [0.5555555555555556, \"#d8576b\"], [0.6666666666666666, \"#ed7953\"], [0.7777777777777778, \"#fb9f3a\"], [0.8888888888888888, \"#fdca26\"], [1.0, \"#f0f921\"]], \"type\": \"surface\"}], \"table\": [{\"cells\": {\"fill\": {\"color\": \"#EBF0F8\"}, \"line\": {\"color\": \"white\"}}, \"header\": {\"fill\": {\"color\": \"#C8D4E3\"}, \"line\": {\"color\": \"white\"}}, \"type\": \"table\"}]}, \"layout\": {\"annotationdefaults\": {\"arrowcolor\": \"#2a3f5f\", \"arrowhead\": 0, \"arrowwidth\": 1}, \"coloraxis\": {\"colorbar\": {\"outlinewidth\": 0, \"ticks\": \"\"}}, \"colorscale\": {\"diverging\": [[0, \"#8e0152\"], [0.1, \"#c51b7d\"], [0.2, \"#de77ae\"], [0.3, \"#f1b6da\"], [0.4, \"#fde0ef\"], [0.5, \"#f7f7f7\"], [0.6, \"#e6f5d0\"], [0.7, \"#b8e186\"], [0.8, \"#7fbc41\"], [0.9, \"#4d9221\"], [1, \"#276419\"]], \"sequential\": [[0.0, \"#0d0887\"], [0.1111111111111111, \"#46039f\"], [0.2222222222222222, \"#7201a8\"], [0.3333333333333333, \"#9c179e\"], [0.4444444444444444, \"#bd3786\"], [0.5555555555555556, \"#d8576b\"], [0.6666666666666666, \"#ed7953\"], [0.7777777777777778, \"#fb9f3a\"], [0.8888888888888888, \"#fdca26\"], [1.0, \"#f0f921\"]], \"sequentialminus\": [[0.0, \"#0d0887\"], [0.1111111111111111, \"#46039f\"], [0.2222222222222222, \"#7201a8\"], [0.3333333333333333, \"#9c179e\"], [0.4444444444444444, \"#bd3786\"], [0.5555555555555556, \"#d8576b\"], [0.6666666666666666, \"#ed7953\"], [0.7777777777777778, \"#fb9f3a\"], [0.8888888888888888, \"#fdca26\"], [1.0, \"#f0f921\"]]}, \"colorway\": [\"#636efa\", \"#EF553B\", \"#00cc96\", \"#ab63fa\", \"#FFA15A\", \"#19d3f3\", \"#FF6692\", \"#B6E880\", \"#FF97FF\", \"#FECB52\"], \"font\": {\"color\": \"#2a3f5f\"}, \"geo\": {\"bgcolor\": \"white\", \"lakecolor\": \"white\", \"landcolor\": \"#E5ECF6\", \"showlakes\": true, \"showland\": true, \"subunitcolor\": \"white\"}, \"hoverlabel\": {\"align\": \"left\"}, \"hovermode\": \"closest\", \"mapbox\": {\"style\": \"light\"}, \"paper_bgcolor\": \"white\", \"plot_bgcolor\": \"#E5ECF6\", \"polar\": {\"angularaxis\": {\"gridcolor\": \"white\", \"linecolor\": \"white\", \"ticks\": \"\"}, \"bgcolor\": \"#E5ECF6\", \"radialaxis\": {\"gridcolor\": \"white\", \"linecolor\": \"white\", \"ticks\": \"\"}}, \"scene\": {\"xaxis\": {\"backgroundcolor\": \"#E5ECF6\", \"gridcolor\": \"white\", \"gridwidth\": 2, \"linecolor\": \"white\", \"showbackground\": true, \"ticks\": \"\", \"zerolinecolor\": \"white\"}, \"yaxis\": {\"backgroundcolor\": \"#E5ECF6\", \"gridcolor\": \"white\", \"gridwidth\": 2, \"linecolor\": \"white\", \"showbackground\": true, \"ticks\": \"\", \"zerolinecolor\": \"white\"}, \"zaxis\": {\"backgroundcolor\": \"#E5ECF6\", \"gridcolor\": \"white\", \"gridwidth\": 2, \"linecolor\": \"white\", \"showbackground\": true, \"ticks\": \"\", \"zerolinecolor\": \"white\"}}, \"shapedefaults\": {\"line\": {\"color\": \"#2a3f5f\"}}, \"ternary\": {\"aaxis\": {\"gridcolor\": \"white\", \"linecolor\": \"white\", \"ticks\": \"\"}, \"baxis\": {\"gridcolor\": \"white\", \"linecolor\": \"white\", \"ticks\": \"\"}, \"bgcolor\": \"#E5ECF6\", \"caxis\": {\"gridcolor\": \"white\", \"linecolor\": \"white\", \"ticks\": \"\"}}, \"title\": {\"x\": 0.05}, \"xaxis\": {\"automargin\": true, \"gridcolor\": \"white\", \"linecolor\": \"white\", \"ticks\": \"\", \"title\": {\"standoff\": 15}, \"zerolinecolor\": \"white\", \"zerolinewidth\": 2}, \"yaxis\": {\"automargin\": true, \"gridcolor\": \"white\", \"linecolor\": \"white\", \"ticks\": \"\", \"title\": {\"standoff\": 15}, \"zerolinecolor\": \"white\", \"zerolinewidth\": 2}}}, \"title\": {\"font\": {\"color\": \"#4D5663\"}}, \"xaxis\": {\"gridcolor\": \"#E1E5ED\", \"showgrid\": true, \"tickfont\": {\"color\": \"#4D5663\"}, \"title\": {\"font\": {\"color\": \"#4D5663\"}, \"text\": \"\"}, \"zerolinecolor\": \"#E1E5ED\"}, \"yaxis\": {\"gridcolor\": \"#E1E5ED\", \"showgrid\": true, \"tickfont\": {\"color\": \"#4D5663\"}, \"title\": {\"font\": {\"color\": \"#4D5663\"}, \"text\": \"\"}, \"zerolinecolor\": \"#E1E5ED\"}},\n",
       "                        {\"showLink\": true, \"linkText\": \"Export to plot.ly\", \"plotlyServerURL\": \"https://plot.ly\", \"responsive\": true}\n",
       "                    ).then(function(){\n",
       "                            \n",
       "var gd = document.getElementById('32aeefaf-bdf0-4d16-81de-5751e7214e7d');\n",
       "var x = new MutationObserver(function (mutations, observer) {{\n",
       "        var display = window.getComputedStyle(gd).display;\n",
       "        if (!display || display === 'none') {{\n",
       "            console.log([gd, 'removed!']);\n",
       "            Plotly.purge(gd);\n",
       "            observer.disconnect();\n",
       "        }}\n",
       "}});\n",
       "\n",
       "// Listen for the removal of the full notebook cells\n",
       "var notebookContainer = gd.closest('#notebook-container');\n",
       "if (notebookContainer) {{\n",
       "    x.observe(notebookContainer, {childList: true});\n",
       "}}\n",
       "\n",
       "// Listen for the clearing of the current output cell\n",
       "var outputEl = gd.closest('.output');\n",
       "if (outputEl) {{\n",
       "    x.observe(outputEl, {childList: true});\n",
       "}}\n",
       "\n",
       "                        })\n",
       "                };\n",
       "                });\n",
       "            </script>\n",
       "        </div>"
      ]
     },
     "metadata": {},
     "output_type": "display_data"
    }
   ],
   "source": [
    "df['A'].iplot(kind='hist',bins=25)"
   ]
  },
  {
   "cell_type": "code",
   "execution_count": 17,
   "metadata": {},
   "outputs": [
    {
     "data": {
      "application/vnd.plotly.v1+json": {
       "config": {
        "linkText": "Export to plot.ly",
        "plotlyServerURL": "https://plot.ly",
        "showLink": true
       },
       "data": [
        {
         "marker": {
          "color": [
           "rgb(255, 153, 51)",
           "rgb(55, 128, 191)",
           "rgb(50, 171, 96)",
           "rgb(128, 0, 128)",
           "rgb(219, 64, 82)",
           "rgb(0, 128, 128)",
           "rgb(255, 255, 51)",
           "rgb(128, 128, 0)",
           "rgb(251, 128, 114)",
           "rgb(128, 177, 211)"
          ],
          "line": {
           "width": 1.3
          },
          "size": [
           56,
           22,
           30,
           56,
           75,
           78,
           74,
           85,
           48,
           66,
           48,
           51,
           67,
           96,
           72,
           96,
           54,
           68,
           87,
           44,
           110,
           96,
           62,
           40,
           62,
           68,
           74,
           66,
           50,
           54,
           95,
           58,
           23,
           54,
           75,
           69,
           57,
           39,
           91,
           106,
           77,
           97,
           71,
           56,
           35,
           32,
           12,
           66,
           30,
           76,
           71,
           74,
           16,
           78,
           75,
           84,
           88,
           51,
           83,
           64,
           28,
           103,
           54,
           66,
           74,
           69,
           50,
           62,
           61,
           60,
           80,
           98,
           65,
           81,
           73,
           72,
           65,
           52,
           50,
           53,
           69,
           47,
           79,
           32,
           66,
           82,
           63,
           21,
           47,
           106,
           65,
           112,
           84,
           75,
           79,
           42,
           79,
           63,
           87,
           67
          ],
          "symbol": "circle"
         },
         "mode": "markers",
         "text": "",
         "type": "scatter",
         "x": [
          0.1939937172428786,
          0.01198709357479974,
          -0.9197269033255341,
          -0.5438327088373623,
          0.7834803322226556,
          -0.6708218107355405,
          -1.2270086594013148,
          -1.5945161544505293,
          -0.9907976523527117,
          -1.1899911221168242,
          1.06555728983655,
          2.094349657907453,
          -0.7653286352163223,
          1.433977366346678,
          0.1025579048479289,
          0.5415168750971099,
          0.6220415367131382,
          -0.04484554676772563,
          0.6955404172357864,
          -0.11957780741457012,
          1.0271108203907722,
          0.6507373589725515,
          -0.7063755562214526,
          1.6571952496589455,
          1.146856945684601,
          -0.49529121555876104,
          1.1840268798212865,
          -0.7724289536911138,
          0.2527295692748135,
          -0.7889106018528703,
          0.23066964593224856,
          -1.8073249839624868,
          0.772958272740142,
          -0.63828408764981,
          0.04419548834580432,
          -0.42033677316336115,
          0.40624489606208614,
          0.5656080556659431,
          -0.6145851682752206,
          -0.6778165800450257,
          -0.8857667081316852,
          0.23543865663786595,
          -0.64751953126351,
          -1.6272795581357524,
          -0.6442866082721088,
          0.1598415091526614,
          -1.5846278315156788,
          -0.7362655278450032,
          -0.7776486911955109,
          -1.1613864726504064,
          0.23645653791656362,
          -0.046116737128403223,
          -0.029034089438273472,
          -0.8685421833611577,
          0.2935712096704209,
          -0.8739308445678745,
          1.2397302903491216,
          -1.0913376504437429,
          -0.6048710523781545,
          0.08859006580896896,
          -1.0303228102801352,
          -1.7636878381657142,
          -0.14365995147603303,
          0.14903229630509462,
          -0.6075544438387713,
          -1.9829405790562238,
          0.40415777675319375,
          0.9457361120828759,
          -0.6755714235167501,
          0.8713559375981939,
          0.4739137310744739,
          0.3147522180127868,
          -0.2046546098406741,
          0.14490624189352064,
          -1.5887453539495555,
          0.9561067061253106,
          1.730784322102986,
          0.9641936369270744,
          0.18758257018712607,
          -1.468477230522763,
          -1.396553080753436,
          -0.15851043767701425,
          0.25171776094821763,
          0.39175943173832994,
          1.0017592643824145,
          0.21353478370158163,
          0.17203759000931104,
          -0.6589458788707,
          1.1948069902329483,
          1.5726935605570183,
          0.17965639147172213,
          1.1752864388876985,
          0.017479947472017726,
          -1.196331042019884,
          -0.12445553401560037,
          -0.5533379425308373,
          -0.5705664103816233,
          0.7525227768380952,
          -0.15743217857562775,
          -1.4831723894832922
         ],
         "y": [
          0.23368246569060097,
          -0.9442522999075037,
          1.4757508350619062,
          0.6583319804969867,
          0.15258406889106102,
          1.3158552472659093,
          -1.1185223279965273,
          -0.39158046812888286,
          0.4227492695302025,
          -0.4909341004421402,
          0.7128455728079772,
          -0.15126225022666062,
          -1.2023222572617485,
          -0.8598471122662901,
          0.37748366577390813,
          -0.37771219854476956,
          -1.0151406391317663,
          -0.14193643232479458,
          0.8809736707630573,
          -0.23316113463568516,
          -0.5983997236376914,
          0.03792582797495273,
          -0.32118370929148204,
          -0.8462980786265933,
          0.7903198321341133,
          0.11392102390425404,
          -0.16772724666873615,
          0.1829803492254897,
          -0.24904256392431023,
          0.29629447097116984,
          0.26853531155525406,
          0.3436911031362945,
          -0.46546772335101344,
          -1.9565340522664583,
          -0.48789908862859693,
          0.5750153580790885,
          1.2110326819337072,
          -0.009798274879315942,
          0.12101713494682781,
          1.0030236847193514,
          0.03861309294556079,
          -0.2495541588401459,
          1.7273514293487122,
          1.3084028742436131,
          0.4305763232394022,
          -0.7869084257361719,
          0.8254293478530841,
          -0.43502106798764056,
          -0.13354688307494209,
          0.6219701085364925,
          -1.8580516396037385,
          1.1286789826664125,
          -1.0625405436631963,
          -0.9365892727376878,
          0.6806982847756373,
          -0.1946403985222004,
          0.4761758840675131,
          -1.0088981756190227,
          -0.7992768349220223,
          -0.35794293507930447,
          -0.17325042991865502,
          -0.4230132705446578,
          0.1427484128576023,
          -0.7004909250080186,
          1.774090400681258,
          -1.2169058705918558,
          0.46261600529206226,
          -0.34851608304004095,
          -0.4817134781062881,
          0.46460131852352665,
          -1.869064937974819,
          0.834009784941836,
          -0.9559119847388752,
          0.20920885600486094,
          0.39019270359429936,
          0.39307707529506475,
          0.3343726549154573,
          -0.684670668616076,
          -0.8048142809658069,
          0.88284740018694,
          -0.3087500230206805,
          0.46458735139030743,
          -1.490421224828702,
          1.0168255723243191,
          -3.036278794878397,
          -0.5567832667949063,
          0.3044588029679682,
          -1.3675017563132523,
          -1.0363699333245238,
          0.20591239093078306,
          -0.34700208542240774,
          -1.1698183128242192,
          -1.6901164485187143,
          -0.19161696321123506,
          -0.8388321875453237,
          0.22335717569772506,
          1.2499142008432396,
          0.8903687204778106,
          0.9098245017412132,
          -1.4504571813426723
         ]
        }
       ],
       "layout": {
        "legend": {
         "bgcolor": "#F5F6F9",
         "font": {
          "color": "#4D5663"
         }
        },
        "paper_bgcolor": "#F5F6F9",
        "plot_bgcolor": "#F5F6F9",
        "template": {
         "data": {
          "bar": [
           {
            "error_x": {
             "color": "#2a3f5f"
            },
            "error_y": {
             "color": "#2a3f5f"
            },
            "marker": {
             "line": {
              "color": "#E5ECF6",
              "width": 0.5
             }
            },
            "type": "bar"
           }
          ],
          "barpolar": [
           {
            "marker": {
             "line": {
              "color": "#E5ECF6",
              "width": 0.5
             }
            },
            "type": "barpolar"
           }
          ],
          "carpet": [
           {
            "aaxis": {
             "endlinecolor": "#2a3f5f",
             "gridcolor": "white",
             "linecolor": "white",
             "minorgridcolor": "white",
             "startlinecolor": "#2a3f5f"
            },
            "baxis": {
             "endlinecolor": "#2a3f5f",
             "gridcolor": "white",
             "linecolor": "white",
             "minorgridcolor": "white",
             "startlinecolor": "#2a3f5f"
            },
            "type": "carpet"
           }
          ],
          "choropleth": [
           {
            "colorbar": {
             "outlinewidth": 0,
             "ticks": ""
            },
            "type": "choropleth"
           }
          ],
          "contour": [
           {
            "colorbar": {
             "outlinewidth": 0,
             "ticks": ""
            },
            "colorscale": [
             [
              0,
              "#0d0887"
             ],
             [
              0.1111111111111111,
              "#46039f"
             ],
             [
              0.2222222222222222,
              "#7201a8"
             ],
             [
              0.3333333333333333,
              "#9c179e"
             ],
             [
              0.4444444444444444,
              "#bd3786"
             ],
             [
              0.5555555555555556,
              "#d8576b"
             ],
             [
              0.6666666666666666,
              "#ed7953"
             ],
             [
              0.7777777777777778,
              "#fb9f3a"
             ],
             [
              0.8888888888888888,
              "#fdca26"
             ],
             [
              1,
              "#f0f921"
             ]
            ],
            "type": "contour"
           }
          ],
          "contourcarpet": [
           {
            "colorbar": {
             "outlinewidth": 0,
             "ticks": ""
            },
            "type": "contourcarpet"
           }
          ],
          "heatmap": [
           {
            "colorbar": {
             "outlinewidth": 0,
             "ticks": ""
            },
            "colorscale": [
             [
              0,
              "#0d0887"
             ],
             [
              0.1111111111111111,
              "#46039f"
             ],
             [
              0.2222222222222222,
              "#7201a8"
             ],
             [
              0.3333333333333333,
              "#9c179e"
             ],
             [
              0.4444444444444444,
              "#bd3786"
             ],
             [
              0.5555555555555556,
              "#d8576b"
             ],
             [
              0.6666666666666666,
              "#ed7953"
             ],
             [
              0.7777777777777778,
              "#fb9f3a"
             ],
             [
              0.8888888888888888,
              "#fdca26"
             ],
             [
              1,
              "#f0f921"
             ]
            ],
            "type": "heatmap"
           }
          ],
          "heatmapgl": [
           {
            "colorbar": {
             "outlinewidth": 0,
             "ticks": ""
            },
            "colorscale": [
             [
              0,
              "#0d0887"
             ],
             [
              0.1111111111111111,
              "#46039f"
             ],
             [
              0.2222222222222222,
              "#7201a8"
             ],
             [
              0.3333333333333333,
              "#9c179e"
             ],
             [
              0.4444444444444444,
              "#bd3786"
             ],
             [
              0.5555555555555556,
              "#d8576b"
             ],
             [
              0.6666666666666666,
              "#ed7953"
             ],
             [
              0.7777777777777778,
              "#fb9f3a"
             ],
             [
              0.8888888888888888,
              "#fdca26"
             ],
             [
              1,
              "#f0f921"
             ]
            ],
            "type": "heatmapgl"
           }
          ],
          "histogram": [
           {
            "marker": {
             "colorbar": {
              "outlinewidth": 0,
              "ticks": ""
             }
            },
            "type": "histogram"
           }
          ],
          "histogram2d": [
           {
            "colorbar": {
             "outlinewidth": 0,
             "ticks": ""
            },
            "colorscale": [
             [
              0,
              "#0d0887"
             ],
             [
              0.1111111111111111,
              "#46039f"
             ],
             [
              0.2222222222222222,
              "#7201a8"
             ],
             [
              0.3333333333333333,
              "#9c179e"
             ],
             [
              0.4444444444444444,
              "#bd3786"
             ],
             [
              0.5555555555555556,
              "#d8576b"
             ],
             [
              0.6666666666666666,
              "#ed7953"
             ],
             [
              0.7777777777777778,
              "#fb9f3a"
             ],
             [
              0.8888888888888888,
              "#fdca26"
             ],
             [
              1,
              "#f0f921"
             ]
            ],
            "type": "histogram2d"
           }
          ],
          "histogram2dcontour": [
           {
            "colorbar": {
             "outlinewidth": 0,
             "ticks": ""
            },
            "colorscale": [
             [
              0,
              "#0d0887"
             ],
             [
              0.1111111111111111,
              "#46039f"
             ],
             [
              0.2222222222222222,
              "#7201a8"
             ],
             [
              0.3333333333333333,
              "#9c179e"
             ],
             [
              0.4444444444444444,
              "#bd3786"
             ],
             [
              0.5555555555555556,
              "#d8576b"
             ],
             [
              0.6666666666666666,
              "#ed7953"
             ],
             [
              0.7777777777777778,
              "#fb9f3a"
             ],
             [
              0.8888888888888888,
              "#fdca26"
             ],
             [
              1,
              "#f0f921"
             ]
            ],
            "type": "histogram2dcontour"
           }
          ],
          "mesh3d": [
           {
            "colorbar": {
             "outlinewidth": 0,
             "ticks": ""
            },
            "type": "mesh3d"
           }
          ],
          "parcoords": [
           {
            "line": {
             "colorbar": {
              "outlinewidth": 0,
              "ticks": ""
             }
            },
            "type": "parcoords"
           }
          ],
          "pie": [
           {
            "automargin": true,
            "type": "pie"
           }
          ],
          "scatter": [
           {
            "marker": {
             "colorbar": {
              "outlinewidth": 0,
              "ticks": ""
             }
            },
            "type": "scatter"
           }
          ],
          "scatter3d": [
           {
            "line": {
             "colorbar": {
              "outlinewidth": 0,
              "ticks": ""
             }
            },
            "marker": {
             "colorbar": {
              "outlinewidth": 0,
              "ticks": ""
             }
            },
            "type": "scatter3d"
           }
          ],
          "scattercarpet": [
           {
            "marker": {
             "colorbar": {
              "outlinewidth": 0,
              "ticks": ""
             }
            },
            "type": "scattercarpet"
           }
          ],
          "scattergeo": [
           {
            "marker": {
             "colorbar": {
              "outlinewidth": 0,
              "ticks": ""
             }
            },
            "type": "scattergeo"
           }
          ],
          "scattergl": [
           {
            "marker": {
             "colorbar": {
              "outlinewidth": 0,
              "ticks": ""
             }
            },
            "type": "scattergl"
           }
          ],
          "scattermapbox": [
           {
            "marker": {
             "colorbar": {
              "outlinewidth": 0,
              "ticks": ""
             }
            },
            "type": "scattermapbox"
           }
          ],
          "scatterpolar": [
           {
            "marker": {
             "colorbar": {
              "outlinewidth": 0,
              "ticks": ""
             }
            },
            "type": "scatterpolar"
           }
          ],
          "scatterpolargl": [
           {
            "marker": {
             "colorbar": {
              "outlinewidth": 0,
              "ticks": ""
             }
            },
            "type": "scatterpolargl"
           }
          ],
          "scatterternary": [
           {
            "marker": {
             "colorbar": {
              "outlinewidth": 0,
              "ticks": ""
             }
            },
            "type": "scatterternary"
           }
          ],
          "surface": [
           {
            "colorbar": {
             "outlinewidth": 0,
             "ticks": ""
            },
            "colorscale": [
             [
              0,
              "#0d0887"
             ],
             [
              0.1111111111111111,
              "#46039f"
             ],
             [
              0.2222222222222222,
              "#7201a8"
             ],
             [
              0.3333333333333333,
              "#9c179e"
             ],
             [
              0.4444444444444444,
              "#bd3786"
             ],
             [
              0.5555555555555556,
              "#d8576b"
             ],
             [
              0.6666666666666666,
              "#ed7953"
             ],
             [
              0.7777777777777778,
              "#fb9f3a"
             ],
             [
              0.8888888888888888,
              "#fdca26"
             ],
             [
              1,
              "#f0f921"
             ]
            ],
            "type": "surface"
           }
          ],
          "table": [
           {
            "cells": {
             "fill": {
              "color": "#EBF0F8"
             },
             "line": {
              "color": "white"
             }
            },
            "header": {
             "fill": {
              "color": "#C8D4E3"
             },
             "line": {
              "color": "white"
             }
            },
            "type": "table"
           }
          ]
         },
         "layout": {
          "annotationdefaults": {
           "arrowcolor": "#2a3f5f",
           "arrowhead": 0,
           "arrowwidth": 1
          },
          "coloraxis": {
           "colorbar": {
            "outlinewidth": 0,
            "ticks": ""
           }
          },
          "colorscale": {
           "diverging": [
            [
             0,
             "#8e0152"
            ],
            [
             0.1,
             "#c51b7d"
            ],
            [
             0.2,
             "#de77ae"
            ],
            [
             0.3,
             "#f1b6da"
            ],
            [
             0.4,
             "#fde0ef"
            ],
            [
             0.5,
             "#f7f7f7"
            ],
            [
             0.6,
             "#e6f5d0"
            ],
            [
             0.7,
             "#b8e186"
            ],
            [
             0.8,
             "#7fbc41"
            ],
            [
             0.9,
             "#4d9221"
            ],
            [
             1,
             "#276419"
            ]
           ],
           "sequential": [
            [
             0,
             "#0d0887"
            ],
            [
             0.1111111111111111,
             "#46039f"
            ],
            [
             0.2222222222222222,
             "#7201a8"
            ],
            [
             0.3333333333333333,
             "#9c179e"
            ],
            [
             0.4444444444444444,
             "#bd3786"
            ],
            [
             0.5555555555555556,
             "#d8576b"
            ],
            [
             0.6666666666666666,
             "#ed7953"
            ],
            [
             0.7777777777777778,
             "#fb9f3a"
            ],
            [
             0.8888888888888888,
             "#fdca26"
            ],
            [
             1,
             "#f0f921"
            ]
           ],
           "sequentialminus": [
            [
             0,
             "#0d0887"
            ],
            [
             0.1111111111111111,
             "#46039f"
            ],
            [
             0.2222222222222222,
             "#7201a8"
            ],
            [
             0.3333333333333333,
             "#9c179e"
            ],
            [
             0.4444444444444444,
             "#bd3786"
            ],
            [
             0.5555555555555556,
             "#d8576b"
            ],
            [
             0.6666666666666666,
             "#ed7953"
            ],
            [
             0.7777777777777778,
             "#fb9f3a"
            ],
            [
             0.8888888888888888,
             "#fdca26"
            ],
            [
             1,
             "#f0f921"
            ]
           ]
          },
          "colorway": [
           "#636efa",
           "#EF553B",
           "#00cc96",
           "#ab63fa",
           "#FFA15A",
           "#19d3f3",
           "#FF6692",
           "#B6E880",
           "#FF97FF",
           "#FECB52"
          ],
          "font": {
           "color": "#2a3f5f"
          },
          "geo": {
           "bgcolor": "white",
           "lakecolor": "white",
           "landcolor": "#E5ECF6",
           "showlakes": true,
           "showland": true,
           "subunitcolor": "white"
          },
          "hoverlabel": {
           "align": "left"
          },
          "hovermode": "closest",
          "mapbox": {
           "style": "light"
          },
          "paper_bgcolor": "white",
          "plot_bgcolor": "#E5ECF6",
          "polar": {
           "angularaxis": {
            "gridcolor": "white",
            "linecolor": "white",
            "ticks": ""
           },
           "bgcolor": "#E5ECF6",
           "radialaxis": {
            "gridcolor": "white",
            "linecolor": "white",
            "ticks": ""
           }
          },
          "scene": {
           "xaxis": {
            "backgroundcolor": "#E5ECF6",
            "gridcolor": "white",
            "gridwidth": 2,
            "linecolor": "white",
            "showbackground": true,
            "ticks": "",
            "zerolinecolor": "white"
           },
           "yaxis": {
            "backgroundcolor": "#E5ECF6",
            "gridcolor": "white",
            "gridwidth": 2,
            "linecolor": "white",
            "showbackground": true,
            "ticks": "",
            "zerolinecolor": "white"
           },
           "zaxis": {
            "backgroundcolor": "#E5ECF6",
            "gridcolor": "white",
            "gridwidth": 2,
            "linecolor": "white",
            "showbackground": true,
            "ticks": "",
            "zerolinecolor": "white"
           }
          },
          "shapedefaults": {
           "line": {
            "color": "#2a3f5f"
           }
          },
          "ternary": {
           "aaxis": {
            "gridcolor": "white",
            "linecolor": "white",
            "ticks": ""
           },
           "baxis": {
            "gridcolor": "white",
            "linecolor": "white",
            "ticks": ""
           },
           "bgcolor": "#E5ECF6",
           "caxis": {
            "gridcolor": "white",
            "linecolor": "white",
            "ticks": ""
           }
          },
          "title": {
           "x": 0.05
          },
          "xaxis": {
           "automargin": true,
           "gridcolor": "white",
           "linecolor": "white",
           "ticks": "",
           "title": {
            "standoff": 15
           },
           "zerolinecolor": "white",
           "zerolinewidth": 2
          },
          "yaxis": {
           "automargin": true,
           "gridcolor": "white",
           "linecolor": "white",
           "ticks": "",
           "title": {
            "standoff": 15
           },
           "zerolinecolor": "white",
           "zerolinewidth": 2
          }
         }
        },
        "title": {
         "font": {
          "color": "#4D5663"
         }
        },
        "xaxis": {
         "gridcolor": "#E1E5ED",
         "showgrid": true,
         "tickfont": {
          "color": "#4D5663"
         },
         "title": {
          "font": {
           "color": "#4D5663"
          },
          "text": ""
         },
         "zerolinecolor": "#E1E5ED"
        },
        "yaxis": {
         "gridcolor": "#E1E5ED",
         "showgrid": true,
         "tickfont": {
          "color": "#4D5663"
         },
         "title": {
          "font": {
           "color": "#4D5663"
          },
          "text": ""
         },
         "zerolinecolor": "#E1E5ED"
        }
       }
      },
      "text/html": [
       "<div>\n",
       "        \n",
       "        \n",
       "            <div id=\"a0027aa6-c66d-4032-84e7-9e512fdf610f\" class=\"plotly-graph-div\" style=\"height:525px; width:100%;\"></div>\n",
       "            <script type=\"text/javascript\">\n",
       "                require([\"plotly\"], function(Plotly) {\n",
       "                    window.PLOTLYENV=window.PLOTLYENV || {};\n",
       "                    window.PLOTLYENV.BASE_URL='https://plot.ly';\n",
       "                    \n",
       "                if (document.getElementById(\"a0027aa6-c66d-4032-84e7-9e512fdf610f\")) {\n",
       "                    Plotly.newPlot(\n",
       "                        'a0027aa6-c66d-4032-84e7-9e512fdf610f',\n",
       "                        [{\"marker\": {\"color\": [\"rgb(255, 153, 51)\", \"rgb(55, 128, 191)\", \"rgb(50, 171, 96)\", \"rgb(128, 0, 128)\", \"rgb(219, 64, 82)\", \"rgb(0, 128, 128)\", \"rgb(255, 255, 51)\", \"rgb(128, 128, 0)\", \"rgb(251, 128, 114)\", \"rgb(128, 177, 211)\"], \"line\": {\"width\": 1.3}, \"size\": [56, 22, 30, 56, 75, 78, 74, 85, 48, 66, 48, 51, 67, 96, 72, 96, 54, 68, 87, 44, 110, 96, 62, 40, 62, 68, 74, 66, 50, 54, 95, 58, 23, 54, 75, 69, 57, 39, 91, 106, 77, 97, 71, 56, 35, 32, 12, 66, 30, 76, 71, 74, 16, 78, 75, 84, 88, 51, 83, 64, 28, 103, 54, 66, 74, 69, 50, 62, 61, 60, 80, 98, 65, 81, 73, 72, 65, 52, 50, 53, 69, 47, 79, 32, 66, 82, 63, 21, 47, 106, 65, 112, 84, 75, 79, 42, 79, 63, 87, 67], \"symbol\": \"circle\"}, \"mode\": \"markers\", \"text\": \"\", \"type\": \"scatter\", \"x\": [0.1939937172428786, 0.01198709357479974, -0.9197269033255341, -0.5438327088373623, 0.7834803322226556, -0.6708218107355405, -1.2270086594013148, -1.5945161544505293, -0.9907976523527117, -1.1899911221168242, 1.06555728983655, 2.094349657907453, -0.7653286352163223, 1.433977366346678, 0.1025579048479289, 0.5415168750971099, 0.6220415367131382, -0.04484554676772563, 0.6955404172357864, -0.11957780741457012, 1.0271108203907722, 0.6507373589725515, -0.7063755562214526, 1.6571952496589455, 1.146856945684601, -0.49529121555876104, 1.1840268798212865, -0.7724289536911138, 0.2527295692748135, -0.7889106018528703, 0.23066964593224856, -1.8073249839624868, 0.772958272740142, -0.63828408764981, 0.04419548834580432, -0.42033677316336115, 0.40624489606208614, 0.5656080556659431, -0.6145851682752206, -0.6778165800450257, -0.8857667081316852, 0.23543865663786595, -0.64751953126351, -1.6272795581357524, -0.6442866082721088, 0.1598415091526614, -1.5846278315156788, -0.7362655278450032, -0.7776486911955109, -1.1613864726504064, 0.23645653791656362, -0.046116737128403223, -0.029034089438273472, -0.8685421833611577, 0.2935712096704209, -0.8739308445678745, 1.2397302903491216, -1.0913376504437429, -0.6048710523781545, 0.08859006580896896, -1.0303228102801352, -1.7636878381657142, -0.14365995147603303, 0.14903229630509462, -0.6075544438387713, -1.9829405790562238, 0.40415777675319375, 0.9457361120828759, -0.6755714235167501, 0.8713559375981939, 0.4739137310744739, 0.3147522180127868, -0.2046546098406741, 0.14490624189352064, -1.5887453539495555, 0.9561067061253106, 1.730784322102986, 0.9641936369270744, 0.18758257018712607, -1.468477230522763, -1.396553080753436, -0.15851043767701425, 0.25171776094821763, 0.39175943173832994, 1.0017592643824145, 0.21353478370158163, 0.17203759000931104, -0.6589458788707, 1.1948069902329483, 1.5726935605570183, 0.17965639147172213, 1.1752864388876985, 0.017479947472017726, -1.196331042019884, -0.12445553401560037, -0.5533379425308373, -0.5705664103816233, 0.7525227768380952, -0.15743217857562775, -1.4831723894832922], \"y\": [0.23368246569060097, -0.9442522999075037, 1.4757508350619062, 0.6583319804969867, 0.15258406889106102, 1.3158552472659093, -1.1185223279965273, -0.39158046812888286, 0.4227492695302025, -0.4909341004421402, 0.7128455728079772, -0.15126225022666062, -1.2023222572617485, -0.8598471122662901, 0.37748366577390813, -0.37771219854476956, -1.0151406391317663, -0.14193643232479458, 0.8809736707630573, -0.23316113463568516, -0.5983997236376914, 0.03792582797495273, -0.32118370929148204, -0.8462980786265933, 0.7903198321341133, 0.11392102390425404, -0.16772724666873615, 0.1829803492254897, -0.24904256392431023, 0.29629447097116984, 0.26853531155525406, 0.3436911031362945, -0.46546772335101344, -1.9565340522664583, -0.48789908862859693, 0.5750153580790885, 1.2110326819337072, -0.009798274879315942, 0.12101713494682781, 1.0030236847193514, 0.03861309294556079, -0.2495541588401459, 1.7273514293487122, 1.3084028742436131, 0.4305763232394022, -0.7869084257361719, 0.8254293478530841, -0.43502106798764056, -0.13354688307494209, 0.6219701085364925, -1.8580516396037385, 1.1286789826664125, -1.0625405436631963, -0.9365892727376878, 0.6806982847756373, -0.1946403985222004, 0.4761758840675131, -1.0088981756190227, -0.7992768349220223, -0.35794293507930447, -0.17325042991865502, -0.4230132705446578, 0.1427484128576023, -0.7004909250080186, 1.774090400681258, -1.2169058705918558, 0.46261600529206226, -0.34851608304004095, -0.4817134781062881, 0.46460131852352665, -1.869064937974819, 0.834009784941836, -0.9559119847388752, 0.20920885600486094, 0.39019270359429936, 0.39307707529506475, 0.3343726549154573, -0.684670668616076, -0.8048142809658069, 0.88284740018694, -0.3087500230206805, 0.46458735139030743, -1.490421224828702, 1.0168255723243191, -3.036278794878397, -0.5567832667949063, 0.3044588029679682, -1.3675017563132523, -1.0363699333245238, 0.20591239093078306, -0.34700208542240774, -1.1698183128242192, -1.6901164485187143, -0.19161696321123506, -0.8388321875453237, 0.22335717569772506, 1.2499142008432396, 0.8903687204778106, 0.9098245017412132, -1.4504571813426723]}],\n",
       "                        {\"legend\": {\"bgcolor\": \"#F5F6F9\", \"font\": {\"color\": \"#4D5663\"}}, \"paper_bgcolor\": \"#F5F6F9\", \"plot_bgcolor\": \"#F5F6F9\", \"template\": {\"data\": {\"bar\": [{\"error_x\": {\"color\": \"#2a3f5f\"}, \"error_y\": {\"color\": \"#2a3f5f\"}, \"marker\": {\"line\": {\"color\": \"#E5ECF6\", \"width\": 0.5}}, \"type\": \"bar\"}], \"barpolar\": [{\"marker\": {\"line\": {\"color\": \"#E5ECF6\", \"width\": 0.5}}, \"type\": \"barpolar\"}], \"carpet\": [{\"aaxis\": {\"endlinecolor\": \"#2a3f5f\", \"gridcolor\": \"white\", \"linecolor\": \"white\", \"minorgridcolor\": \"white\", \"startlinecolor\": \"#2a3f5f\"}, \"baxis\": {\"endlinecolor\": \"#2a3f5f\", \"gridcolor\": \"white\", \"linecolor\": \"white\", \"minorgridcolor\": \"white\", \"startlinecolor\": \"#2a3f5f\"}, \"type\": \"carpet\"}], \"choropleth\": [{\"colorbar\": {\"outlinewidth\": 0, \"ticks\": \"\"}, \"type\": \"choropleth\"}], \"contour\": [{\"colorbar\": {\"outlinewidth\": 0, \"ticks\": \"\"}, \"colorscale\": [[0.0, \"#0d0887\"], [0.1111111111111111, \"#46039f\"], [0.2222222222222222, \"#7201a8\"], [0.3333333333333333, \"#9c179e\"], [0.4444444444444444, \"#bd3786\"], [0.5555555555555556, \"#d8576b\"], [0.6666666666666666, \"#ed7953\"], [0.7777777777777778, \"#fb9f3a\"], [0.8888888888888888, \"#fdca26\"], [1.0, \"#f0f921\"]], \"type\": \"contour\"}], \"contourcarpet\": [{\"colorbar\": {\"outlinewidth\": 0, \"ticks\": \"\"}, \"type\": \"contourcarpet\"}], \"heatmap\": [{\"colorbar\": {\"outlinewidth\": 0, \"ticks\": \"\"}, \"colorscale\": [[0.0, \"#0d0887\"], [0.1111111111111111, \"#46039f\"], [0.2222222222222222, \"#7201a8\"], [0.3333333333333333, \"#9c179e\"], [0.4444444444444444, \"#bd3786\"], [0.5555555555555556, \"#d8576b\"], [0.6666666666666666, \"#ed7953\"], [0.7777777777777778, \"#fb9f3a\"], [0.8888888888888888, \"#fdca26\"], [1.0, \"#f0f921\"]], \"type\": \"heatmap\"}], \"heatmapgl\": [{\"colorbar\": {\"outlinewidth\": 0, \"ticks\": \"\"}, \"colorscale\": [[0.0, \"#0d0887\"], [0.1111111111111111, \"#46039f\"], [0.2222222222222222, \"#7201a8\"], [0.3333333333333333, \"#9c179e\"], [0.4444444444444444, \"#bd3786\"], [0.5555555555555556, \"#d8576b\"], [0.6666666666666666, \"#ed7953\"], [0.7777777777777778, \"#fb9f3a\"], [0.8888888888888888, \"#fdca26\"], [1.0, \"#f0f921\"]], \"type\": \"heatmapgl\"}], \"histogram\": [{\"marker\": {\"colorbar\": {\"outlinewidth\": 0, \"ticks\": \"\"}}, \"type\": \"histogram\"}], \"histogram2d\": [{\"colorbar\": {\"outlinewidth\": 0, \"ticks\": \"\"}, \"colorscale\": [[0.0, \"#0d0887\"], [0.1111111111111111, \"#46039f\"], [0.2222222222222222, \"#7201a8\"], [0.3333333333333333, \"#9c179e\"], [0.4444444444444444, \"#bd3786\"], [0.5555555555555556, \"#d8576b\"], [0.6666666666666666, \"#ed7953\"], [0.7777777777777778, \"#fb9f3a\"], [0.8888888888888888, \"#fdca26\"], [1.0, \"#f0f921\"]], \"type\": \"histogram2d\"}], \"histogram2dcontour\": [{\"colorbar\": {\"outlinewidth\": 0, \"ticks\": \"\"}, \"colorscale\": [[0.0, \"#0d0887\"], [0.1111111111111111, \"#46039f\"], [0.2222222222222222, \"#7201a8\"], [0.3333333333333333, \"#9c179e\"], [0.4444444444444444, \"#bd3786\"], [0.5555555555555556, \"#d8576b\"], [0.6666666666666666, \"#ed7953\"], [0.7777777777777778, \"#fb9f3a\"], [0.8888888888888888, \"#fdca26\"], [1.0, \"#f0f921\"]], \"type\": \"histogram2dcontour\"}], \"mesh3d\": [{\"colorbar\": {\"outlinewidth\": 0, \"ticks\": \"\"}, \"type\": \"mesh3d\"}], \"parcoords\": [{\"line\": {\"colorbar\": {\"outlinewidth\": 0, \"ticks\": \"\"}}, \"type\": \"parcoords\"}], \"pie\": [{\"automargin\": true, \"type\": \"pie\"}], \"scatter\": [{\"marker\": {\"colorbar\": {\"outlinewidth\": 0, \"ticks\": \"\"}}, \"type\": \"scatter\"}], \"scatter3d\": [{\"line\": {\"colorbar\": {\"outlinewidth\": 0, \"ticks\": \"\"}}, \"marker\": {\"colorbar\": {\"outlinewidth\": 0, \"ticks\": \"\"}}, \"type\": \"scatter3d\"}], \"scattercarpet\": [{\"marker\": {\"colorbar\": {\"outlinewidth\": 0, \"ticks\": \"\"}}, \"type\": \"scattercarpet\"}], \"scattergeo\": [{\"marker\": {\"colorbar\": {\"outlinewidth\": 0, \"ticks\": \"\"}}, \"type\": \"scattergeo\"}], \"scattergl\": [{\"marker\": {\"colorbar\": {\"outlinewidth\": 0, \"ticks\": \"\"}}, \"type\": \"scattergl\"}], \"scattermapbox\": [{\"marker\": {\"colorbar\": {\"outlinewidth\": 0, \"ticks\": \"\"}}, \"type\": \"scattermapbox\"}], \"scatterpolar\": [{\"marker\": {\"colorbar\": {\"outlinewidth\": 0, \"ticks\": \"\"}}, \"type\": \"scatterpolar\"}], \"scatterpolargl\": [{\"marker\": {\"colorbar\": {\"outlinewidth\": 0, \"ticks\": \"\"}}, \"type\": \"scatterpolargl\"}], \"scatterternary\": [{\"marker\": {\"colorbar\": {\"outlinewidth\": 0, \"ticks\": \"\"}}, \"type\": \"scatterternary\"}], \"surface\": [{\"colorbar\": {\"outlinewidth\": 0, \"ticks\": \"\"}, \"colorscale\": [[0.0, \"#0d0887\"], [0.1111111111111111, \"#46039f\"], [0.2222222222222222, \"#7201a8\"], [0.3333333333333333, \"#9c179e\"], [0.4444444444444444, \"#bd3786\"], [0.5555555555555556, \"#d8576b\"], [0.6666666666666666, \"#ed7953\"], [0.7777777777777778, \"#fb9f3a\"], [0.8888888888888888, \"#fdca26\"], [1.0, \"#f0f921\"]], \"type\": \"surface\"}], \"table\": [{\"cells\": {\"fill\": {\"color\": \"#EBF0F8\"}, \"line\": {\"color\": \"white\"}}, \"header\": {\"fill\": {\"color\": \"#C8D4E3\"}, \"line\": {\"color\": \"white\"}}, \"type\": \"table\"}]}, \"layout\": {\"annotationdefaults\": {\"arrowcolor\": \"#2a3f5f\", \"arrowhead\": 0, \"arrowwidth\": 1}, \"coloraxis\": {\"colorbar\": {\"outlinewidth\": 0, \"ticks\": \"\"}}, \"colorscale\": {\"diverging\": [[0, \"#8e0152\"], [0.1, \"#c51b7d\"], [0.2, \"#de77ae\"], [0.3, \"#f1b6da\"], [0.4, \"#fde0ef\"], [0.5, \"#f7f7f7\"], [0.6, \"#e6f5d0\"], [0.7, \"#b8e186\"], [0.8, \"#7fbc41\"], [0.9, \"#4d9221\"], [1, \"#276419\"]], \"sequential\": [[0.0, \"#0d0887\"], [0.1111111111111111, \"#46039f\"], [0.2222222222222222, \"#7201a8\"], [0.3333333333333333, \"#9c179e\"], [0.4444444444444444, \"#bd3786\"], [0.5555555555555556, \"#d8576b\"], [0.6666666666666666, \"#ed7953\"], [0.7777777777777778, \"#fb9f3a\"], [0.8888888888888888, \"#fdca26\"], [1.0, \"#f0f921\"]], \"sequentialminus\": [[0.0, \"#0d0887\"], [0.1111111111111111, \"#46039f\"], [0.2222222222222222, \"#7201a8\"], [0.3333333333333333, \"#9c179e\"], [0.4444444444444444, \"#bd3786\"], [0.5555555555555556, \"#d8576b\"], [0.6666666666666666, \"#ed7953\"], [0.7777777777777778, \"#fb9f3a\"], [0.8888888888888888, \"#fdca26\"], [1.0, \"#f0f921\"]]}, \"colorway\": [\"#636efa\", \"#EF553B\", \"#00cc96\", \"#ab63fa\", \"#FFA15A\", \"#19d3f3\", \"#FF6692\", \"#B6E880\", \"#FF97FF\", \"#FECB52\"], \"font\": {\"color\": \"#2a3f5f\"}, \"geo\": {\"bgcolor\": \"white\", \"lakecolor\": \"white\", \"landcolor\": \"#E5ECF6\", \"showlakes\": true, \"showland\": true, \"subunitcolor\": \"white\"}, \"hoverlabel\": {\"align\": \"left\"}, \"hovermode\": \"closest\", \"mapbox\": {\"style\": \"light\"}, \"paper_bgcolor\": \"white\", \"plot_bgcolor\": \"#E5ECF6\", \"polar\": {\"angularaxis\": {\"gridcolor\": \"white\", \"linecolor\": \"white\", \"ticks\": \"\"}, \"bgcolor\": \"#E5ECF6\", \"radialaxis\": {\"gridcolor\": \"white\", \"linecolor\": \"white\", \"ticks\": \"\"}}, \"scene\": {\"xaxis\": {\"backgroundcolor\": \"#E5ECF6\", \"gridcolor\": \"white\", \"gridwidth\": 2, \"linecolor\": \"white\", \"showbackground\": true, \"ticks\": \"\", \"zerolinecolor\": \"white\"}, \"yaxis\": {\"backgroundcolor\": \"#E5ECF6\", \"gridcolor\": \"white\", \"gridwidth\": 2, \"linecolor\": \"white\", \"showbackground\": true, \"ticks\": \"\", \"zerolinecolor\": \"white\"}, \"zaxis\": {\"backgroundcolor\": \"#E5ECF6\", \"gridcolor\": \"white\", \"gridwidth\": 2, \"linecolor\": \"white\", \"showbackground\": true, \"ticks\": \"\", \"zerolinecolor\": \"white\"}}, \"shapedefaults\": {\"line\": {\"color\": \"#2a3f5f\"}}, \"ternary\": {\"aaxis\": {\"gridcolor\": \"white\", \"linecolor\": \"white\", \"ticks\": \"\"}, \"baxis\": {\"gridcolor\": \"white\", \"linecolor\": \"white\", \"ticks\": \"\"}, \"bgcolor\": \"#E5ECF6\", \"caxis\": {\"gridcolor\": \"white\", \"linecolor\": \"white\", \"ticks\": \"\"}}, \"title\": {\"x\": 0.05}, \"xaxis\": {\"automargin\": true, \"gridcolor\": \"white\", \"linecolor\": \"white\", \"ticks\": \"\", \"title\": {\"standoff\": 15}, \"zerolinecolor\": \"white\", \"zerolinewidth\": 2}, \"yaxis\": {\"automargin\": true, \"gridcolor\": \"white\", \"linecolor\": \"white\", \"ticks\": \"\", \"title\": {\"standoff\": 15}, \"zerolinecolor\": \"white\", \"zerolinewidth\": 2}}}, \"title\": {\"font\": {\"color\": \"#4D5663\"}}, \"xaxis\": {\"gridcolor\": \"#E1E5ED\", \"showgrid\": true, \"tickfont\": {\"color\": \"#4D5663\"}, \"title\": {\"font\": {\"color\": \"#4D5663\"}, \"text\": \"\"}, \"zerolinecolor\": \"#E1E5ED\"}, \"yaxis\": {\"gridcolor\": \"#E1E5ED\", \"showgrid\": true, \"tickfont\": {\"color\": \"#4D5663\"}, \"title\": {\"font\": {\"color\": \"#4D5663\"}, \"text\": \"\"}, \"zerolinecolor\": \"#E1E5ED\"}},\n",
       "                        {\"showLink\": true, \"linkText\": \"Export to plot.ly\", \"plotlyServerURL\": \"https://plot.ly\", \"responsive\": true}\n",
       "                    ).then(function(){\n",
       "                            \n",
       "var gd = document.getElementById('a0027aa6-c66d-4032-84e7-9e512fdf610f');\n",
       "var x = new MutationObserver(function (mutations, observer) {{\n",
       "        var display = window.getComputedStyle(gd).display;\n",
       "        if (!display || display === 'none') {{\n",
       "            console.log([gd, 'removed!']);\n",
       "            Plotly.purge(gd);\n",
       "            observer.disconnect();\n",
       "        }}\n",
       "}});\n",
       "\n",
       "// Listen for the removal of the full notebook cells\n",
       "var notebookContainer = gd.closest('#notebook-container');\n",
       "if (notebookContainer) {{\n",
       "    x.observe(notebookContainer, {childList: true});\n",
       "}}\n",
       "\n",
       "// Listen for the clearing of the current output cell\n",
       "var outputEl = gd.closest('.output');\n",
       "if (outputEl) {{\n",
       "    x.observe(outputEl, {childList: true});\n",
       "}}\n",
       "\n",
       "                        })\n",
       "                };\n",
       "                });\n",
       "            </script>\n",
       "        </div>"
      ]
     },
     "metadata": {},
     "output_type": "display_data"
    }
   ],
   "source": [
    "df.iplot(kind='bubble',x='A',y='B',size='C')"
   ]
  },
  {
   "cell_type": "markdown",
   "metadata": {},
   "source": [
    "## scatter_matrix()\n",
    "\n",
    "Similar to sns.pairplot()"
   ]
  },
  {
   "cell_type": "code",
   "execution_count": 18,
   "metadata": {},
   "outputs": [
    {
     "data": {
      "application/vnd.plotly.v1+json": {
       "config": {
        "linkText": "Export to plot.ly",
        "plotlyServerURL": "https://plot.ly",
        "showLink": true
       },
       "data": [
        {
         "histfunc": "count",
         "histnorm": "",
         "marker": {
          "color": "rgba(255, 153, 51, 1.0)",
          "line": {
           "color": "#4D5663",
           "width": 1.3
          }
         },
         "name": "A",
         "nbinsx": 10,
         "opacity": 0.8,
         "orientation": "v",
         "type": "histogram",
         "x": [
          0.1939937172428786,
          0.01198709357479974,
          -0.9197269033255341,
          -0.5438327088373623,
          0.7834803322226556,
          -0.6708218107355405,
          -1.2270086594013148,
          -1.5945161544505293,
          -0.9907976523527117,
          -1.1899911221168242,
          1.06555728983655,
          2.094349657907453,
          -0.7653286352163223,
          1.433977366346678,
          0.1025579048479289,
          0.5415168750971099,
          0.6220415367131382,
          -0.04484554676772563,
          0.6955404172357864,
          -0.11957780741457012,
          1.0271108203907722,
          0.6507373589725515,
          -0.7063755562214526,
          1.6571952496589455,
          1.146856945684601,
          -0.49529121555876104,
          1.1840268798212865,
          -0.7724289536911138,
          0.2527295692748135,
          -0.7889106018528703,
          0.23066964593224856,
          -1.8073249839624868,
          0.772958272740142,
          -0.63828408764981,
          0.04419548834580432,
          -0.42033677316336115,
          0.40624489606208614,
          0.5656080556659431,
          -0.6145851682752206,
          -0.6778165800450257,
          -0.8857667081316852,
          0.23543865663786595,
          -0.64751953126351,
          -1.6272795581357524,
          -0.6442866082721088,
          0.1598415091526614,
          -1.5846278315156788,
          -0.7362655278450032,
          -0.7776486911955109,
          -1.1613864726504064,
          0.23645653791656362,
          -0.046116737128403223,
          -0.029034089438273472,
          -0.8685421833611577,
          0.2935712096704209,
          -0.8739308445678745,
          1.2397302903491216,
          -1.0913376504437429,
          -0.6048710523781545,
          0.08859006580896896,
          -1.0303228102801352,
          -1.7636878381657142,
          -0.14365995147603303,
          0.14903229630509462,
          -0.6075544438387713,
          -1.9829405790562238,
          0.40415777675319375,
          0.9457361120828759,
          -0.6755714235167501,
          0.8713559375981939,
          0.4739137310744739,
          0.3147522180127868,
          -0.2046546098406741,
          0.14490624189352064,
          -1.5887453539495555,
          0.9561067061253106,
          1.730784322102986,
          0.9641936369270744,
          0.18758257018712607,
          -1.468477230522763,
          -1.396553080753436,
          -0.15851043767701425,
          0.25171776094821763,
          0.39175943173832994,
          1.0017592643824145,
          0.21353478370158163,
          0.17203759000931104,
          -0.6589458788707,
          1.1948069902329483,
          1.5726935605570183,
          0.17965639147172213,
          1.1752864388876985,
          0.017479947472017726,
          -1.196331042019884,
          -0.12445553401560037,
          -0.5533379425308373,
          -0.5705664103816233,
          0.7525227768380952,
          -0.15743217857562775,
          -1.4831723894832922
         ],
         "xaxis": "x",
         "yaxis": "y"
        },
        {
         "line": {
          "color": "rgba(128, 128, 128, 1.0)",
          "dash": "solid",
          "shape": "linear",
          "width": 1.3
         },
         "marker": {
          "size": 2,
          "symbol": "circle"
         },
         "mode": "markers",
         "name": "A",
         "text": "",
         "type": "scatter",
         "x": [
          0.23368246569060097,
          -0.9442522999075037,
          1.4757508350619062,
          0.6583319804969867,
          0.15258406889106102,
          1.3158552472659093,
          -1.1185223279965273,
          -0.39158046812888286,
          0.4227492695302025,
          -0.4909341004421402,
          0.7128455728079772,
          -0.15126225022666062,
          -1.2023222572617485,
          -0.8598471122662901,
          0.37748366577390813,
          -0.37771219854476956,
          -1.0151406391317663,
          -0.14193643232479458,
          0.8809736707630573,
          -0.23316113463568516,
          -0.5983997236376914,
          0.03792582797495273,
          -0.32118370929148204,
          -0.8462980786265933,
          0.7903198321341133,
          0.11392102390425404,
          -0.16772724666873615,
          0.1829803492254897,
          -0.24904256392431023,
          0.29629447097116984,
          0.26853531155525406,
          0.3436911031362945,
          -0.46546772335101344,
          -1.9565340522664583,
          -0.48789908862859693,
          0.5750153580790885,
          1.2110326819337072,
          -0.009798274879315942,
          0.12101713494682781,
          1.0030236847193514,
          0.03861309294556079,
          -0.2495541588401459,
          1.7273514293487122,
          1.3084028742436131,
          0.4305763232394022,
          -0.7869084257361719,
          0.8254293478530841,
          -0.43502106798764056,
          -0.13354688307494209,
          0.6219701085364925,
          -1.8580516396037385,
          1.1286789826664125,
          -1.0625405436631963,
          -0.9365892727376878,
          0.6806982847756373,
          -0.1946403985222004,
          0.4761758840675131,
          -1.0088981756190227,
          -0.7992768349220223,
          -0.35794293507930447,
          -0.17325042991865502,
          -0.4230132705446578,
          0.1427484128576023,
          -0.7004909250080186,
          1.774090400681258,
          -1.2169058705918558,
          0.46261600529206226,
          -0.34851608304004095,
          -0.4817134781062881,
          0.46460131852352665,
          -1.869064937974819,
          0.834009784941836,
          -0.9559119847388752,
          0.20920885600486094,
          0.39019270359429936,
          0.39307707529506475,
          0.3343726549154573,
          -0.684670668616076,
          -0.8048142809658069,
          0.88284740018694,
          -0.3087500230206805,
          0.46458735139030743,
          -1.490421224828702,
          1.0168255723243191,
          -3.036278794878397,
          -0.5567832667949063,
          0.3044588029679682,
          -1.3675017563132523,
          -1.0363699333245238,
          0.20591239093078306,
          -0.34700208542240774,
          -1.1698183128242192,
          -1.6901164485187143,
          -0.19161696321123506,
          -0.8388321875453237,
          0.22335717569772506,
          1.2499142008432396,
          0.8903687204778106,
          0.9098245017412132,
          -1.4504571813426723
         ],
         "xaxis": "x2",
         "y": [
          0.1939937172428786,
          0.01198709357479974,
          -0.9197269033255341,
          -0.5438327088373623,
          0.7834803322226556,
          -0.6708218107355405,
          -1.2270086594013148,
          -1.5945161544505293,
          -0.9907976523527117,
          -1.1899911221168242,
          1.06555728983655,
          2.094349657907453,
          -0.7653286352163223,
          1.433977366346678,
          0.1025579048479289,
          0.5415168750971099,
          0.6220415367131382,
          -0.04484554676772563,
          0.6955404172357864,
          -0.11957780741457012,
          1.0271108203907722,
          0.6507373589725515,
          -0.7063755562214526,
          1.6571952496589455,
          1.146856945684601,
          -0.49529121555876104,
          1.1840268798212865,
          -0.7724289536911138,
          0.2527295692748135,
          -0.7889106018528703,
          0.23066964593224856,
          -1.8073249839624868,
          0.772958272740142,
          -0.63828408764981,
          0.04419548834580432,
          -0.42033677316336115,
          0.40624489606208614,
          0.5656080556659431,
          -0.6145851682752206,
          -0.6778165800450257,
          -0.8857667081316852,
          0.23543865663786595,
          -0.64751953126351,
          -1.6272795581357524,
          -0.6442866082721088,
          0.1598415091526614,
          -1.5846278315156788,
          -0.7362655278450032,
          -0.7776486911955109,
          -1.1613864726504064,
          0.23645653791656362,
          -0.046116737128403223,
          -0.029034089438273472,
          -0.8685421833611577,
          0.2935712096704209,
          -0.8739308445678745,
          1.2397302903491216,
          -1.0913376504437429,
          -0.6048710523781545,
          0.08859006580896896,
          -1.0303228102801352,
          -1.7636878381657142,
          -0.14365995147603303,
          0.14903229630509462,
          -0.6075544438387713,
          -1.9829405790562238,
          0.40415777675319375,
          0.9457361120828759,
          -0.6755714235167501,
          0.8713559375981939,
          0.4739137310744739,
          0.3147522180127868,
          -0.2046546098406741,
          0.14490624189352064,
          -1.5887453539495555,
          0.9561067061253106,
          1.730784322102986,
          0.9641936369270744,
          0.18758257018712607,
          -1.468477230522763,
          -1.396553080753436,
          -0.15851043767701425,
          0.25171776094821763,
          0.39175943173832994,
          1.0017592643824145,
          0.21353478370158163,
          0.17203759000931104,
          -0.6589458788707,
          1.1948069902329483,
          1.5726935605570183,
          0.17965639147172213,
          1.1752864388876985,
          0.017479947472017726,
          -1.196331042019884,
          -0.12445553401560037,
          -0.5533379425308373,
          -0.5705664103816233,
          0.7525227768380952,
          -0.15743217857562775,
          -1.4831723894832922
         ],
         "yaxis": "y2"
        },
        {
         "line": {
          "color": "rgba(128, 128, 128, 1.0)",
          "dash": "solid",
          "shape": "linear",
          "width": 1.3
         },
         "marker": {
          "size": 2,
          "symbol": "circle"
         },
         "mode": "markers",
         "name": "A",
         "text": "",
         "type": "scatter",
         "x": [
          -0.5823318668595059,
          -2.2744390497068423,
          -1.906731684066569,
          -0.5513626957689196,
          0.39461559398348384,
          0.5169557830810106,
          0.3524635608606682,
          0.8838233919332499,
          -0.9565056955075907,
          -0.06626286694589308,
          -0.9949897683336856,
          -0.8114487497753088,
          -0.003611303468121072,
          1.4439900082178663,
          0.25259676770267625,
          1.436767726788771,
          -0.6983892124871132,
          0.03295140473258938,
          0.9986876498500851,
          -1.1556967497895592,
          2.170722286974381,
          1.4371682813771784,
          -0.28244660314940956,
          -1.3858165266831945,
          -0.2620935832632944,
          0.039256262195485274,
          0.3199692367596603,
          -0.07790630284312257,
          -0.8772462483074769,
          -0.6695576897033452,
          1.3996588303797524,
          -0.4947858149389341,
          -2.26364754779272,
          -0.6594437655734753,
          0.3740796902269732,
          0.08546519253792723,
          -0.5055110130412841,
          -1.4191416958465077,
          1.1728109436156933,
          1.9242658964640063,
          0.5056021772828239,
          1.491502004375118,
          0.19343249977380636,
          -0.5864658225634096,
          -1.6588010408843623,
          -1.7985416792154787,
          -2.820276919138482,
          -0.057583079537563996,
          -1.8798165898369268,
          0.4293906413553994,
          0.17560072627186077,
          0.3576250802671046,
          -2.570017173163602,
          0.5186523551042922,
          0.3621391236055714,
          0.8324656339682126,
          1.05778631950617,
          -0.8336869272989357,
          0.7973931283101809,
          -0.18699756312895932,
          -2.012942411479047,
          1.7948381927488994,
          -0.6842670310653491,
          -0.07919451609291259,
          0.33788377122791946,
          0.0903456079965252,
          -0.8895364171066543,
          -0.2751921958953291,
          -0.3326684917711887,
          -0.3942876119758109,
          0.631373441701931,
          1.5496128562258553,
          -0.13331197337348852,
          0.6899646151891254,
          0.30469680752622524,
          0.24308493339135556,
          -0.12943965174181088,
          -0.7800032361107118,
          -0.8783481698550101,
          -0.7054519797774306,
          0.08021136554396247,
          -1.0263799714847834,
          0.5977895131309707,
          -1.7923753370544435,
          -0.04622365646082162,
          0.7184618314374265,
          -0.20269335022881463,
          -2.340939254625209,
          -1.0335525621928099,
          1.9345183882945527,
          -0.11336257793230811,
          2.2240868174359325,
          0.8208714718747483,
          0.40311481334749866,
          0.5730111938241931,
          -1.3057206207429375,
          0.5688944979554517,
          -0.21735671990339317,
          0.9815807455421307,
          -0.0009467706880349636
         ],
         "xaxis": "x3",
         "y": [
          0.1939937172428786,
          0.01198709357479974,
          -0.9197269033255341,
          -0.5438327088373623,
          0.7834803322226556,
          -0.6708218107355405,
          -1.2270086594013148,
          -1.5945161544505293,
          -0.9907976523527117,
          -1.1899911221168242,
          1.06555728983655,
          2.094349657907453,
          -0.7653286352163223,
          1.433977366346678,
          0.1025579048479289,
          0.5415168750971099,
          0.6220415367131382,
          -0.04484554676772563,
          0.6955404172357864,
          -0.11957780741457012,
          1.0271108203907722,
          0.6507373589725515,
          -0.7063755562214526,
          1.6571952496589455,
          1.146856945684601,
          -0.49529121555876104,
          1.1840268798212865,
          -0.7724289536911138,
          0.2527295692748135,
          -0.7889106018528703,
          0.23066964593224856,
          -1.8073249839624868,
          0.772958272740142,
          -0.63828408764981,
          0.04419548834580432,
          -0.42033677316336115,
          0.40624489606208614,
          0.5656080556659431,
          -0.6145851682752206,
          -0.6778165800450257,
          -0.8857667081316852,
          0.23543865663786595,
          -0.64751953126351,
          -1.6272795581357524,
          -0.6442866082721088,
          0.1598415091526614,
          -1.5846278315156788,
          -0.7362655278450032,
          -0.7776486911955109,
          -1.1613864726504064,
          0.23645653791656362,
          -0.046116737128403223,
          -0.029034089438273472,
          -0.8685421833611577,
          0.2935712096704209,
          -0.8739308445678745,
          1.2397302903491216,
          -1.0913376504437429,
          -0.6048710523781545,
          0.08859006580896896,
          -1.0303228102801352,
          -1.7636878381657142,
          -0.14365995147603303,
          0.14903229630509462,
          -0.6075544438387713,
          -1.9829405790562238,
          0.40415777675319375,
          0.9457361120828759,
          -0.6755714235167501,
          0.8713559375981939,
          0.4739137310744739,
          0.3147522180127868,
          -0.2046546098406741,
          0.14490624189352064,
          -1.5887453539495555,
          0.9561067061253106,
          1.730784322102986,
          0.9641936369270744,
          0.18758257018712607,
          -1.468477230522763,
          -1.396553080753436,
          -0.15851043767701425,
          0.25171776094821763,
          0.39175943173832994,
          1.0017592643824145,
          0.21353478370158163,
          0.17203759000931104,
          -0.6589458788707,
          1.1948069902329483,
          1.5726935605570183,
          0.17965639147172213,
          1.1752864388876985,
          0.017479947472017726,
          -1.196331042019884,
          -0.12445553401560037,
          -0.5533379425308373,
          -0.5705664103816233,
          0.7525227768380952,
          -0.15743217857562775,
          -1.4831723894832922
         ],
         "yaxis": "y3"
        },
        {
         "line": {
          "color": "rgba(128, 128, 128, 1.0)",
          "dash": "solid",
          "shape": "linear",
          "width": 1.3
         },
         "marker": {
          "size": 2,
          "symbol": "circle"
         },
         "mode": "markers",
         "name": "A",
         "text": "",
         "type": "scatter",
         "x": [
          1.0878727562733148,
          -3.183927786856656,
          -1.2165418882272248,
          -1.3457994021245334,
          0.9796888777980709,
          -0.004563121440714167,
          -0.2720919414808995,
          -0.6638683939536272,
          0.12364146389699673,
          0.6034715091070327,
          0.33636797507278166,
          0.42828327424050344,
          0.0017875921304598538,
          -0.11655090245395314,
          -0.4905668967494036,
          -1.1228432825026469,
          1.8182016041619795,
          -1.557761621470184,
          1.3015184095723158,
          -0.23159573583333876,
          -0.5449093217377119,
          1.43897008476746,
          -1.3279397081636455,
          0.6363903550833581,
          0.4528072186529549,
          -1.7851712670535906,
          0.7141057067757112,
          -0.33187492626306025,
          1.6681190790510114,
          -0.2874854367747743,
          -0.3051688103397385,
          -2.2474495565578483,
          0.4034404594463374,
          0.4382216865108747,
          0.648433721742599,
          2.2186868229500787,
          -1.3007667444019895,
          0.06908194556571537,
          0.4522968994949464,
          0.4872506422408174,
          -1.0332493480778895,
          -0.8338401193489707,
          -0.6220533909107981,
          0.3960332251302076,
          1.6237147524901696,
          1.2839441830578537,
          -1.2126410107229466,
          -0.10708756206816038,
          0.5355882897590875,
          -0.08800878713645252,
          -2.0491215702767405,
          0.7424848191920586,
          0.21909262912962196,
          -0.01329429205396815,
          -0.30507888382212034,
          -0.6083931749155976,
          0.5793327852314085,
          -0.6788460963212135,
          -0.35715528392672263,
          -0.43100296914054503,
          0.4389483611219654,
          2.0422730375873615,
          0.6837020976175603,
          -0.8157273479828914,
          0.09952685283822336,
          -0.8975465471609441,
          0.30767147339422135,
          0.9313098495234367,
          -0.54996762165125,
          -0.1068594139868996,
          -0.0735659096516236,
          -0.3525281035878319,
          0.005575500583184326,
          0.320020017431672,
          1.1573354676002396,
          0.07550246336219645,
          1.4178103667627282,
          -1.0643989547726969,
          0.17920942756504474,
          0.5502517757105804,
          0.7234226346520044,
          -0.9850425699073619,
          1.3515111964856776,
          -1.3312573536536412,
          1.7905474971217765,
          0.6921233996157161,
          0.7100851792907438,
          1.4043641058376857,
          -1.2715327414470388,
          0.04570143515143198,
          0.35970537984361617,
          -1.6000354300743447,
          0.42646418128191177,
          0.04335104436134634,
          1.595242456889686,
          -1.6025233439761826,
          0.43763450200717935,
          0.5434222223220884,
          0.7707172929606991,
          0.5759401939779326
         ],
         "xaxis": "x4",
         "y": [
          0.1939937172428786,
          0.01198709357479974,
          -0.9197269033255341,
          -0.5438327088373623,
          0.7834803322226556,
          -0.6708218107355405,
          -1.2270086594013148,
          -1.5945161544505293,
          -0.9907976523527117,
          -1.1899911221168242,
          1.06555728983655,
          2.094349657907453,
          -0.7653286352163223,
          1.433977366346678,
          0.1025579048479289,
          0.5415168750971099,
          0.6220415367131382,
          -0.04484554676772563,
          0.6955404172357864,
          -0.11957780741457012,
          1.0271108203907722,
          0.6507373589725515,
          -0.7063755562214526,
          1.6571952496589455,
          1.146856945684601,
          -0.49529121555876104,
          1.1840268798212865,
          -0.7724289536911138,
          0.2527295692748135,
          -0.7889106018528703,
          0.23066964593224856,
          -1.8073249839624868,
          0.772958272740142,
          -0.63828408764981,
          0.04419548834580432,
          -0.42033677316336115,
          0.40624489606208614,
          0.5656080556659431,
          -0.6145851682752206,
          -0.6778165800450257,
          -0.8857667081316852,
          0.23543865663786595,
          -0.64751953126351,
          -1.6272795581357524,
          -0.6442866082721088,
          0.1598415091526614,
          -1.5846278315156788,
          -0.7362655278450032,
          -0.7776486911955109,
          -1.1613864726504064,
          0.23645653791656362,
          -0.046116737128403223,
          -0.029034089438273472,
          -0.8685421833611577,
          0.2935712096704209,
          -0.8739308445678745,
          1.2397302903491216,
          -1.0913376504437429,
          -0.6048710523781545,
          0.08859006580896896,
          -1.0303228102801352,
          -1.7636878381657142,
          -0.14365995147603303,
          0.14903229630509462,
          -0.6075544438387713,
          -1.9829405790562238,
          0.40415777675319375,
          0.9457361120828759,
          -0.6755714235167501,
          0.8713559375981939,
          0.4739137310744739,
          0.3147522180127868,
          -0.2046546098406741,
          0.14490624189352064,
          -1.5887453539495555,
          0.9561067061253106,
          1.730784322102986,
          0.9641936369270744,
          0.18758257018712607,
          -1.468477230522763,
          -1.396553080753436,
          -0.15851043767701425,
          0.25171776094821763,
          0.39175943173832994,
          1.0017592643824145,
          0.21353478370158163,
          0.17203759000931104,
          -0.6589458788707,
          1.1948069902329483,
          1.5726935605570183,
          0.17965639147172213,
          1.1752864388876985,
          0.017479947472017726,
          -1.196331042019884,
          -0.12445553401560037,
          -0.5533379425308373,
          -0.5705664103816233,
          0.7525227768380952,
          -0.15743217857562775,
          -1.4831723894832922
         ],
         "yaxis": "y4"
        },
        {
         "line": {
          "color": "rgba(128, 128, 128, 1.0)",
          "dash": "solid",
          "shape": "linear",
          "width": 1.3
         },
         "marker": {
          "size": 2,
          "symbol": "circle"
         },
         "mode": "markers",
         "name": "B",
         "text": "",
         "type": "scatter",
         "x": [
          0.1939937172428786,
          0.01198709357479974,
          -0.9197269033255341,
          -0.5438327088373623,
          0.7834803322226556,
          -0.6708218107355405,
          -1.2270086594013148,
          -1.5945161544505293,
          -0.9907976523527117,
          -1.1899911221168242,
          1.06555728983655,
          2.094349657907453,
          -0.7653286352163223,
          1.433977366346678,
          0.1025579048479289,
          0.5415168750971099,
          0.6220415367131382,
          -0.04484554676772563,
          0.6955404172357864,
          -0.11957780741457012,
          1.0271108203907722,
          0.6507373589725515,
          -0.7063755562214526,
          1.6571952496589455,
          1.146856945684601,
          -0.49529121555876104,
          1.1840268798212865,
          -0.7724289536911138,
          0.2527295692748135,
          -0.7889106018528703,
          0.23066964593224856,
          -1.8073249839624868,
          0.772958272740142,
          -0.63828408764981,
          0.04419548834580432,
          -0.42033677316336115,
          0.40624489606208614,
          0.5656080556659431,
          -0.6145851682752206,
          -0.6778165800450257,
          -0.8857667081316852,
          0.23543865663786595,
          -0.64751953126351,
          -1.6272795581357524,
          -0.6442866082721088,
          0.1598415091526614,
          -1.5846278315156788,
          -0.7362655278450032,
          -0.7776486911955109,
          -1.1613864726504064,
          0.23645653791656362,
          -0.046116737128403223,
          -0.029034089438273472,
          -0.8685421833611577,
          0.2935712096704209,
          -0.8739308445678745,
          1.2397302903491216,
          -1.0913376504437429,
          -0.6048710523781545,
          0.08859006580896896,
          -1.0303228102801352,
          -1.7636878381657142,
          -0.14365995147603303,
          0.14903229630509462,
          -0.6075544438387713,
          -1.9829405790562238,
          0.40415777675319375,
          0.9457361120828759,
          -0.6755714235167501,
          0.8713559375981939,
          0.4739137310744739,
          0.3147522180127868,
          -0.2046546098406741,
          0.14490624189352064,
          -1.5887453539495555,
          0.9561067061253106,
          1.730784322102986,
          0.9641936369270744,
          0.18758257018712607,
          -1.468477230522763,
          -1.396553080753436,
          -0.15851043767701425,
          0.25171776094821763,
          0.39175943173832994,
          1.0017592643824145,
          0.21353478370158163,
          0.17203759000931104,
          -0.6589458788707,
          1.1948069902329483,
          1.5726935605570183,
          0.17965639147172213,
          1.1752864388876985,
          0.017479947472017726,
          -1.196331042019884,
          -0.12445553401560037,
          -0.5533379425308373,
          -0.5705664103816233,
          0.7525227768380952,
          -0.15743217857562775,
          -1.4831723894832922
         ],
         "xaxis": "x5",
         "y": [
          0.23368246569060097,
          -0.9442522999075037,
          1.4757508350619062,
          0.6583319804969867,
          0.15258406889106102,
          1.3158552472659093,
          -1.1185223279965273,
          -0.39158046812888286,
          0.4227492695302025,
          -0.4909341004421402,
          0.7128455728079772,
          -0.15126225022666062,
          -1.2023222572617485,
          -0.8598471122662901,
          0.37748366577390813,
          -0.37771219854476956,
          -1.0151406391317663,
          -0.14193643232479458,
          0.8809736707630573,
          -0.23316113463568516,
          -0.5983997236376914,
          0.03792582797495273,
          -0.32118370929148204,
          -0.8462980786265933,
          0.7903198321341133,
          0.11392102390425404,
          -0.16772724666873615,
          0.1829803492254897,
          -0.24904256392431023,
          0.29629447097116984,
          0.26853531155525406,
          0.3436911031362945,
          -0.46546772335101344,
          -1.9565340522664583,
          -0.48789908862859693,
          0.5750153580790885,
          1.2110326819337072,
          -0.009798274879315942,
          0.12101713494682781,
          1.0030236847193514,
          0.03861309294556079,
          -0.2495541588401459,
          1.7273514293487122,
          1.3084028742436131,
          0.4305763232394022,
          -0.7869084257361719,
          0.8254293478530841,
          -0.43502106798764056,
          -0.13354688307494209,
          0.6219701085364925,
          -1.8580516396037385,
          1.1286789826664125,
          -1.0625405436631963,
          -0.9365892727376878,
          0.6806982847756373,
          -0.1946403985222004,
          0.4761758840675131,
          -1.0088981756190227,
          -0.7992768349220223,
          -0.35794293507930447,
          -0.17325042991865502,
          -0.4230132705446578,
          0.1427484128576023,
          -0.7004909250080186,
          1.774090400681258,
          -1.2169058705918558,
          0.46261600529206226,
          -0.34851608304004095,
          -0.4817134781062881,
          0.46460131852352665,
          -1.869064937974819,
          0.834009784941836,
          -0.9559119847388752,
          0.20920885600486094,
          0.39019270359429936,
          0.39307707529506475,
          0.3343726549154573,
          -0.684670668616076,
          -0.8048142809658069,
          0.88284740018694,
          -0.3087500230206805,
          0.46458735139030743,
          -1.490421224828702,
          1.0168255723243191,
          -3.036278794878397,
          -0.5567832667949063,
          0.3044588029679682,
          -1.3675017563132523,
          -1.0363699333245238,
          0.20591239093078306,
          -0.34700208542240774,
          -1.1698183128242192,
          -1.6901164485187143,
          -0.19161696321123506,
          -0.8388321875453237,
          0.22335717569772506,
          1.2499142008432396,
          0.8903687204778106,
          0.9098245017412132,
          -1.4504571813426723
         ],
         "yaxis": "y5"
        },
        {
         "histfunc": "count",
         "histnorm": "",
         "marker": {
          "color": "rgba(55, 128, 191, 1.0)",
          "line": {
           "color": "#4D5663",
           "width": 1.3
          }
         },
         "name": "B",
         "nbinsx": 10,
         "opacity": 0.8,
         "orientation": "v",
         "type": "histogram",
         "x": [
          0.23368246569060097,
          -0.9442522999075037,
          1.4757508350619062,
          0.6583319804969867,
          0.15258406889106102,
          1.3158552472659093,
          -1.1185223279965273,
          -0.39158046812888286,
          0.4227492695302025,
          -0.4909341004421402,
          0.7128455728079772,
          -0.15126225022666062,
          -1.2023222572617485,
          -0.8598471122662901,
          0.37748366577390813,
          -0.37771219854476956,
          -1.0151406391317663,
          -0.14193643232479458,
          0.8809736707630573,
          -0.23316113463568516,
          -0.5983997236376914,
          0.03792582797495273,
          -0.32118370929148204,
          -0.8462980786265933,
          0.7903198321341133,
          0.11392102390425404,
          -0.16772724666873615,
          0.1829803492254897,
          -0.24904256392431023,
          0.29629447097116984,
          0.26853531155525406,
          0.3436911031362945,
          -0.46546772335101344,
          -1.9565340522664583,
          -0.48789908862859693,
          0.5750153580790885,
          1.2110326819337072,
          -0.009798274879315942,
          0.12101713494682781,
          1.0030236847193514,
          0.03861309294556079,
          -0.2495541588401459,
          1.7273514293487122,
          1.3084028742436131,
          0.4305763232394022,
          -0.7869084257361719,
          0.8254293478530841,
          -0.43502106798764056,
          -0.13354688307494209,
          0.6219701085364925,
          -1.8580516396037385,
          1.1286789826664125,
          -1.0625405436631963,
          -0.9365892727376878,
          0.6806982847756373,
          -0.1946403985222004,
          0.4761758840675131,
          -1.0088981756190227,
          -0.7992768349220223,
          -0.35794293507930447,
          -0.17325042991865502,
          -0.4230132705446578,
          0.1427484128576023,
          -0.7004909250080186,
          1.774090400681258,
          -1.2169058705918558,
          0.46261600529206226,
          -0.34851608304004095,
          -0.4817134781062881,
          0.46460131852352665,
          -1.869064937974819,
          0.834009784941836,
          -0.9559119847388752,
          0.20920885600486094,
          0.39019270359429936,
          0.39307707529506475,
          0.3343726549154573,
          -0.684670668616076,
          -0.8048142809658069,
          0.88284740018694,
          -0.3087500230206805,
          0.46458735139030743,
          -1.490421224828702,
          1.0168255723243191,
          -3.036278794878397,
          -0.5567832667949063,
          0.3044588029679682,
          -1.3675017563132523,
          -1.0363699333245238,
          0.20591239093078306,
          -0.34700208542240774,
          -1.1698183128242192,
          -1.6901164485187143,
          -0.19161696321123506,
          -0.8388321875453237,
          0.22335717569772506,
          1.2499142008432396,
          0.8903687204778106,
          0.9098245017412132,
          -1.4504571813426723
         ],
         "xaxis": "x6",
         "yaxis": "y6"
        },
        {
         "line": {
          "color": "rgba(128, 128, 128, 1.0)",
          "dash": "solid",
          "shape": "linear",
          "width": 1.3
         },
         "marker": {
          "size": 2,
          "symbol": "circle"
         },
         "mode": "markers",
         "name": "B",
         "text": "",
         "type": "scatter",
         "x": [
          -0.5823318668595059,
          -2.2744390497068423,
          -1.906731684066569,
          -0.5513626957689196,
          0.39461559398348384,
          0.5169557830810106,
          0.3524635608606682,
          0.8838233919332499,
          -0.9565056955075907,
          -0.06626286694589308,
          -0.9949897683336856,
          -0.8114487497753088,
          -0.003611303468121072,
          1.4439900082178663,
          0.25259676770267625,
          1.436767726788771,
          -0.6983892124871132,
          0.03295140473258938,
          0.9986876498500851,
          -1.1556967497895592,
          2.170722286974381,
          1.4371682813771784,
          -0.28244660314940956,
          -1.3858165266831945,
          -0.2620935832632944,
          0.039256262195485274,
          0.3199692367596603,
          -0.07790630284312257,
          -0.8772462483074769,
          -0.6695576897033452,
          1.3996588303797524,
          -0.4947858149389341,
          -2.26364754779272,
          -0.6594437655734753,
          0.3740796902269732,
          0.08546519253792723,
          -0.5055110130412841,
          -1.4191416958465077,
          1.1728109436156933,
          1.9242658964640063,
          0.5056021772828239,
          1.491502004375118,
          0.19343249977380636,
          -0.5864658225634096,
          -1.6588010408843623,
          -1.7985416792154787,
          -2.820276919138482,
          -0.057583079537563996,
          -1.8798165898369268,
          0.4293906413553994,
          0.17560072627186077,
          0.3576250802671046,
          -2.570017173163602,
          0.5186523551042922,
          0.3621391236055714,
          0.8324656339682126,
          1.05778631950617,
          -0.8336869272989357,
          0.7973931283101809,
          -0.18699756312895932,
          -2.012942411479047,
          1.7948381927488994,
          -0.6842670310653491,
          -0.07919451609291259,
          0.33788377122791946,
          0.0903456079965252,
          -0.8895364171066543,
          -0.2751921958953291,
          -0.3326684917711887,
          -0.3942876119758109,
          0.631373441701931,
          1.5496128562258553,
          -0.13331197337348852,
          0.6899646151891254,
          0.30469680752622524,
          0.24308493339135556,
          -0.12943965174181088,
          -0.7800032361107118,
          -0.8783481698550101,
          -0.7054519797774306,
          0.08021136554396247,
          -1.0263799714847834,
          0.5977895131309707,
          -1.7923753370544435,
          -0.04622365646082162,
          0.7184618314374265,
          -0.20269335022881463,
          -2.340939254625209,
          -1.0335525621928099,
          1.9345183882945527,
          -0.11336257793230811,
          2.2240868174359325,
          0.8208714718747483,
          0.40311481334749866,
          0.5730111938241931,
          -1.3057206207429375,
          0.5688944979554517,
          -0.21735671990339317,
          0.9815807455421307,
          -0.0009467706880349636
         ],
         "xaxis": "x7",
         "y": [
          0.23368246569060097,
          -0.9442522999075037,
          1.4757508350619062,
          0.6583319804969867,
          0.15258406889106102,
          1.3158552472659093,
          -1.1185223279965273,
          -0.39158046812888286,
          0.4227492695302025,
          -0.4909341004421402,
          0.7128455728079772,
          -0.15126225022666062,
          -1.2023222572617485,
          -0.8598471122662901,
          0.37748366577390813,
          -0.37771219854476956,
          -1.0151406391317663,
          -0.14193643232479458,
          0.8809736707630573,
          -0.23316113463568516,
          -0.5983997236376914,
          0.03792582797495273,
          -0.32118370929148204,
          -0.8462980786265933,
          0.7903198321341133,
          0.11392102390425404,
          -0.16772724666873615,
          0.1829803492254897,
          -0.24904256392431023,
          0.29629447097116984,
          0.26853531155525406,
          0.3436911031362945,
          -0.46546772335101344,
          -1.9565340522664583,
          -0.48789908862859693,
          0.5750153580790885,
          1.2110326819337072,
          -0.009798274879315942,
          0.12101713494682781,
          1.0030236847193514,
          0.03861309294556079,
          -0.2495541588401459,
          1.7273514293487122,
          1.3084028742436131,
          0.4305763232394022,
          -0.7869084257361719,
          0.8254293478530841,
          -0.43502106798764056,
          -0.13354688307494209,
          0.6219701085364925,
          -1.8580516396037385,
          1.1286789826664125,
          -1.0625405436631963,
          -0.9365892727376878,
          0.6806982847756373,
          -0.1946403985222004,
          0.4761758840675131,
          -1.0088981756190227,
          -0.7992768349220223,
          -0.35794293507930447,
          -0.17325042991865502,
          -0.4230132705446578,
          0.1427484128576023,
          -0.7004909250080186,
          1.774090400681258,
          -1.2169058705918558,
          0.46261600529206226,
          -0.34851608304004095,
          -0.4817134781062881,
          0.46460131852352665,
          -1.869064937974819,
          0.834009784941836,
          -0.9559119847388752,
          0.20920885600486094,
          0.39019270359429936,
          0.39307707529506475,
          0.3343726549154573,
          -0.684670668616076,
          -0.8048142809658069,
          0.88284740018694,
          -0.3087500230206805,
          0.46458735139030743,
          -1.490421224828702,
          1.0168255723243191,
          -3.036278794878397,
          -0.5567832667949063,
          0.3044588029679682,
          -1.3675017563132523,
          -1.0363699333245238,
          0.20591239093078306,
          -0.34700208542240774,
          -1.1698183128242192,
          -1.6901164485187143,
          -0.19161696321123506,
          -0.8388321875453237,
          0.22335717569772506,
          1.2499142008432396,
          0.8903687204778106,
          0.9098245017412132,
          -1.4504571813426723
         ],
         "yaxis": "y7"
        },
        {
         "line": {
          "color": "rgba(128, 128, 128, 1.0)",
          "dash": "solid",
          "shape": "linear",
          "width": 1.3
         },
         "marker": {
          "size": 2,
          "symbol": "circle"
         },
         "mode": "markers",
         "name": "B",
         "text": "",
         "type": "scatter",
         "x": [
          1.0878727562733148,
          -3.183927786856656,
          -1.2165418882272248,
          -1.3457994021245334,
          0.9796888777980709,
          -0.004563121440714167,
          -0.2720919414808995,
          -0.6638683939536272,
          0.12364146389699673,
          0.6034715091070327,
          0.33636797507278166,
          0.42828327424050344,
          0.0017875921304598538,
          -0.11655090245395314,
          -0.4905668967494036,
          -1.1228432825026469,
          1.8182016041619795,
          -1.557761621470184,
          1.3015184095723158,
          -0.23159573583333876,
          -0.5449093217377119,
          1.43897008476746,
          -1.3279397081636455,
          0.6363903550833581,
          0.4528072186529549,
          -1.7851712670535906,
          0.7141057067757112,
          -0.33187492626306025,
          1.6681190790510114,
          -0.2874854367747743,
          -0.3051688103397385,
          -2.2474495565578483,
          0.4034404594463374,
          0.4382216865108747,
          0.648433721742599,
          2.2186868229500787,
          -1.3007667444019895,
          0.06908194556571537,
          0.4522968994949464,
          0.4872506422408174,
          -1.0332493480778895,
          -0.8338401193489707,
          -0.6220533909107981,
          0.3960332251302076,
          1.6237147524901696,
          1.2839441830578537,
          -1.2126410107229466,
          -0.10708756206816038,
          0.5355882897590875,
          -0.08800878713645252,
          -2.0491215702767405,
          0.7424848191920586,
          0.21909262912962196,
          -0.01329429205396815,
          -0.30507888382212034,
          -0.6083931749155976,
          0.5793327852314085,
          -0.6788460963212135,
          -0.35715528392672263,
          -0.43100296914054503,
          0.4389483611219654,
          2.0422730375873615,
          0.6837020976175603,
          -0.8157273479828914,
          0.09952685283822336,
          -0.8975465471609441,
          0.30767147339422135,
          0.9313098495234367,
          -0.54996762165125,
          -0.1068594139868996,
          -0.0735659096516236,
          -0.3525281035878319,
          0.005575500583184326,
          0.320020017431672,
          1.1573354676002396,
          0.07550246336219645,
          1.4178103667627282,
          -1.0643989547726969,
          0.17920942756504474,
          0.5502517757105804,
          0.7234226346520044,
          -0.9850425699073619,
          1.3515111964856776,
          -1.3312573536536412,
          1.7905474971217765,
          0.6921233996157161,
          0.7100851792907438,
          1.4043641058376857,
          -1.2715327414470388,
          0.04570143515143198,
          0.35970537984361617,
          -1.6000354300743447,
          0.42646418128191177,
          0.04335104436134634,
          1.595242456889686,
          -1.6025233439761826,
          0.43763450200717935,
          0.5434222223220884,
          0.7707172929606991,
          0.5759401939779326
         ],
         "xaxis": "x8",
         "y": [
          0.23368246569060097,
          -0.9442522999075037,
          1.4757508350619062,
          0.6583319804969867,
          0.15258406889106102,
          1.3158552472659093,
          -1.1185223279965273,
          -0.39158046812888286,
          0.4227492695302025,
          -0.4909341004421402,
          0.7128455728079772,
          -0.15126225022666062,
          -1.2023222572617485,
          -0.8598471122662901,
          0.37748366577390813,
          -0.37771219854476956,
          -1.0151406391317663,
          -0.14193643232479458,
          0.8809736707630573,
          -0.23316113463568516,
          -0.5983997236376914,
          0.03792582797495273,
          -0.32118370929148204,
          -0.8462980786265933,
          0.7903198321341133,
          0.11392102390425404,
          -0.16772724666873615,
          0.1829803492254897,
          -0.24904256392431023,
          0.29629447097116984,
          0.26853531155525406,
          0.3436911031362945,
          -0.46546772335101344,
          -1.9565340522664583,
          -0.48789908862859693,
          0.5750153580790885,
          1.2110326819337072,
          -0.009798274879315942,
          0.12101713494682781,
          1.0030236847193514,
          0.03861309294556079,
          -0.2495541588401459,
          1.7273514293487122,
          1.3084028742436131,
          0.4305763232394022,
          -0.7869084257361719,
          0.8254293478530841,
          -0.43502106798764056,
          -0.13354688307494209,
          0.6219701085364925,
          -1.8580516396037385,
          1.1286789826664125,
          -1.0625405436631963,
          -0.9365892727376878,
          0.6806982847756373,
          -0.1946403985222004,
          0.4761758840675131,
          -1.0088981756190227,
          -0.7992768349220223,
          -0.35794293507930447,
          -0.17325042991865502,
          -0.4230132705446578,
          0.1427484128576023,
          -0.7004909250080186,
          1.774090400681258,
          -1.2169058705918558,
          0.46261600529206226,
          -0.34851608304004095,
          -0.4817134781062881,
          0.46460131852352665,
          -1.869064937974819,
          0.834009784941836,
          -0.9559119847388752,
          0.20920885600486094,
          0.39019270359429936,
          0.39307707529506475,
          0.3343726549154573,
          -0.684670668616076,
          -0.8048142809658069,
          0.88284740018694,
          -0.3087500230206805,
          0.46458735139030743,
          -1.490421224828702,
          1.0168255723243191,
          -3.036278794878397,
          -0.5567832667949063,
          0.3044588029679682,
          -1.3675017563132523,
          -1.0363699333245238,
          0.20591239093078306,
          -0.34700208542240774,
          -1.1698183128242192,
          -1.6901164485187143,
          -0.19161696321123506,
          -0.8388321875453237,
          0.22335717569772506,
          1.2499142008432396,
          0.8903687204778106,
          0.9098245017412132,
          -1.4504571813426723
         ],
         "yaxis": "y8"
        },
        {
         "line": {
          "color": "rgba(128, 128, 128, 1.0)",
          "dash": "solid",
          "shape": "linear",
          "width": 1.3
         },
         "marker": {
          "size": 2,
          "symbol": "circle"
         },
         "mode": "markers",
         "name": "C",
         "text": "",
         "type": "scatter",
         "x": [
          0.1939937172428786,
          0.01198709357479974,
          -0.9197269033255341,
          -0.5438327088373623,
          0.7834803322226556,
          -0.6708218107355405,
          -1.2270086594013148,
          -1.5945161544505293,
          -0.9907976523527117,
          -1.1899911221168242,
          1.06555728983655,
          2.094349657907453,
          -0.7653286352163223,
          1.433977366346678,
          0.1025579048479289,
          0.5415168750971099,
          0.6220415367131382,
          -0.04484554676772563,
          0.6955404172357864,
          -0.11957780741457012,
          1.0271108203907722,
          0.6507373589725515,
          -0.7063755562214526,
          1.6571952496589455,
          1.146856945684601,
          -0.49529121555876104,
          1.1840268798212865,
          -0.7724289536911138,
          0.2527295692748135,
          -0.7889106018528703,
          0.23066964593224856,
          -1.8073249839624868,
          0.772958272740142,
          -0.63828408764981,
          0.04419548834580432,
          -0.42033677316336115,
          0.40624489606208614,
          0.5656080556659431,
          -0.6145851682752206,
          -0.6778165800450257,
          -0.8857667081316852,
          0.23543865663786595,
          -0.64751953126351,
          -1.6272795581357524,
          -0.6442866082721088,
          0.1598415091526614,
          -1.5846278315156788,
          -0.7362655278450032,
          -0.7776486911955109,
          -1.1613864726504064,
          0.23645653791656362,
          -0.046116737128403223,
          -0.029034089438273472,
          -0.8685421833611577,
          0.2935712096704209,
          -0.8739308445678745,
          1.2397302903491216,
          -1.0913376504437429,
          -0.6048710523781545,
          0.08859006580896896,
          -1.0303228102801352,
          -1.7636878381657142,
          -0.14365995147603303,
          0.14903229630509462,
          -0.6075544438387713,
          -1.9829405790562238,
          0.40415777675319375,
          0.9457361120828759,
          -0.6755714235167501,
          0.8713559375981939,
          0.4739137310744739,
          0.3147522180127868,
          -0.2046546098406741,
          0.14490624189352064,
          -1.5887453539495555,
          0.9561067061253106,
          1.730784322102986,
          0.9641936369270744,
          0.18758257018712607,
          -1.468477230522763,
          -1.396553080753436,
          -0.15851043767701425,
          0.25171776094821763,
          0.39175943173832994,
          1.0017592643824145,
          0.21353478370158163,
          0.17203759000931104,
          -0.6589458788707,
          1.1948069902329483,
          1.5726935605570183,
          0.17965639147172213,
          1.1752864388876985,
          0.017479947472017726,
          -1.196331042019884,
          -0.12445553401560037,
          -0.5533379425308373,
          -0.5705664103816233,
          0.7525227768380952,
          -0.15743217857562775,
          -1.4831723894832922
         ],
         "xaxis": "x9",
         "y": [
          -0.5823318668595059,
          -2.2744390497068423,
          -1.906731684066569,
          -0.5513626957689196,
          0.39461559398348384,
          0.5169557830810106,
          0.3524635608606682,
          0.8838233919332499,
          -0.9565056955075907,
          -0.06626286694589308,
          -0.9949897683336856,
          -0.8114487497753088,
          -0.003611303468121072,
          1.4439900082178663,
          0.25259676770267625,
          1.436767726788771,
          -0.6983892124871132,
          0.03295140473258938,
          0.9986876498500851,
          -1.1556967497895592,
          2.170722286974381,
          1.4371682813771784,
          -0.28244660314940956,
          -1.3858165266831945,
          -0.2620935832632944,
          0.039256262195485274,
          0.3199692367596603,
          -0.07790630284312257,
          -0.8772462483074769,
          -0.6695576897033452,
          1.3996588303797524,
          -0.4947858149389341,
          -2.26364754779272,
          -0.6594437655734753,
          0.3740796902269732,
          0.08546519253792723,
          -0.5055110130412841,
          -1.4191416958465077,
          1.1728109436156933,
          1.9242658964640063,
          0.5056021772828239,
          1.491502004375118,
          0.19343249977380636,
          -0.5864658225634096,
          -1.6588010408843623,
          -1.7985416792154787,
          -2.820276919138482,
          -0.057583079537563996,
          -1.8798165898369268,
          0.4293906413553994,
          0.17560072627186077,
          0.3576250802671046,
          -2.570017173163602,
          0.5186523551042922,
          0.3621391236055714,
          0.8324656339682126,
          1.05778631950617,
          -0.8336869272989357,
          0.7973931283101809,
          -0.18699756312895932,
          -2.012942411479047,
          1.7948381927488994,
          -0.6842670310653491,
          -0.07919451609291259,
          0.33788377122791946,
          0.0903456079965252,
          -0.8895364171066543,
          -0.2751921958953291,
          -0.3326684917711887,
          -0.3942876119758109,
          0.631373441701931,
          1.5496128562258553,
          -0.13331197337348852,
          0.6899646151891254,
          0.30469680752622524,
          0.24308493339135556,
          -0.12943965174181088,
          -0.7800032361107118,
          -0.8783481698550101,
          -0.7054519797774306,
          0.08021136554396247,
          -1.0263799714847834,
          0.5977895131309707,
          -1.7923753370544435,
          -0.04622365646082162,
          0.7184618314374265,
          -0.20269335022881463,
          -2.340939254625209,
          -1.0335525621928099,
          1.9345183882945527,
          -0.11336257793230811,
          2.2240868174359325,
          0.8208714718747483,
          0.40311481334749866,
          0.5730111938241931,
          -1.3057206207429375,
          0.5688944979554517,
          -0.21735671990339317,
          0.9815807455421307,
          -0.0009467706880349636
         ],
         "yaxis": "y9"
        },
        {
         "line": {
          "color": "rgba(128, 128, 128, 1.0)",
          "dash": "solid",
          "shape": "linear",
          "width": 1.3
         },
         "marker": {
          "size": 2,
          "symbol": "circle"
         },
         "mode": "markers",
         "name": "C",
         "text": "",
         "type": "scatter",
         "x": [
          0.23368246569060097,
          -0.9442522999075037,
          1.4757508350619062,
          0.6583319804969867,
          0.15258406889106102,
          1.3158552472659093,
          -1.1185223279965273,
          -0.39158046812888286,
          0.4227492695302025,
          -0.4909341004421402,
          0.7128455728079772,
          -0.15126225022666062,
          -1.2023222572617485,
          -0.8598471122662901,
          0.37748366577390813,
          -0.37771219854476956,
          -1.0151406391317663,
          -0.14193643232479458,
          0.8809736707630573,
          -0.23316113463568516,
          -0.5983997236376914,
          0.03792582797495273,
          -0.32118370929148204,
          -0.8462980786265933,
          0.7903198321341133,
          0.11392102390425404,
          -0.16772724666873615,
          0.1829803492254897,
          -0.24904256392431023,
          0.29629447097116984,
          0.26853531155525406,
          0.3436911031362945,
          -0.46546772335101344,
          -1.9565340522664583,
          -0.48789908862859693,
          0.5750153580790885,
          1.2110326819337072,
          -0.009798274879315942,
          0.12101713494682781,
          1.0030236847193514,
          0.03861309294556079,
          -0.2495541588401459,
          1.7273514293487122,
          1.3084028742436131,
          0.4305763232394022,
          -0.7869084257361719,
          0.8254293478530841,
          -0.43502106798764056,
          -0.13354688307494209,
          0.6219701085364925,
          -1.8580516396037385,
          1.1286789826664125,
          -1.0625405436631963,
          -0.9365892727376878,
          0.6806982847756373,
          -0.1946403985222004,
          0.4761758840675131,
          -1.0088981756190227,
          -0.7992768349220223,
          -0.35794293507930447,
          -0.17325042991865502,
          -0.4230132705446578,
          0.1427484128576023,
          -0.7004909250080186,
          1.774090400681258,
          -1.2169058705918558,
          0.46261600529206226,
          -0.34851608304004095,
          -0.4817134781062881,
          0.46460131852352665,
          -1.869064937974819,
          0.834009784941836,
          -0.9559119847388752,
          0.20920885600486094,
          0.39019270359429936,
          0.39307707529506475,
          0.3343726549154573,
          -0.684670668616076,
          -0.8048142809658069,
          0.88284740018694,
          -0.3087500230206805,
          0.46458735139030743,
          -1.490421224828702,
          1.0168255723243191,
          -3.036278794878397,
          -0.5567832667949063,
          0.3044588029679682,
          -1.3675017563132523,
          -1.0363699333245238,
          0.20591239093078306,
          -0.34700208542240774,
          -1.1698183128242192,
          -1.6901164485187143,
          -0.19161696321123506,
          -0.8388321875453237,
          0.22335717569772506,
          1.2499142008432396,
          0.8903687204778106,
          0.9098245017412132,
          -1.4504571813426723
         ],
         "xaxis": "x10",
         "y": [
          -0.5823318668595059,
          -2.2744390497068423,
          -1.906731684066569,
          -0.5513626957689196,
          0.39461559398348384,
          0.5169557830810106,
          0.3524635608606682,
          0.8838233919332499,
          -0.9565056955075907,
          -0.06626286694589308,
          -0.9949897683336856,
          -0.8114487497753088,
          -0.003611303468121072,
          1.4439900082178663,
          0.25259676770267625,
          1.436767726788771,
          -0.6983892124871132,
          0.03295140473258938,
          0.9986876498500851,
          -1.1556967497895592,
          2.170722286974381,
          1.4371682813771784,
          -0.28244660314940956,
          -1.3858165266831945,
          -0.2620935832632944,
          0.039256262195485274,
          0.3199692367596603,
          -0.07790630284312257,
          -0.8772462483074769,
          -0.6695576897033452,
          1.3996588303797524,
          -0.4947858149389341,
          -2.26364754779272,
          -0.6594437655734753,
          0.3740796902269732,
          0.08546519253792723,
          -0.5055110130412841,
          -1.4191416958465077,
          1.1728109436156933,
          1.9242658964640063,
          0.5056021772828239,
          1.491502004375118,
          0.19343249977380636,
          -0.5864658225634096,
          -1.6588010408843623,
          -1.7985416792154787,
          -2.820276919138482,
          -0.057583079537563996,
          -1.8798165898369268,
          0.4293906413553994,
          0.17560072627186077,
          0.3576250802671046,
          -2.570017173163602,
          0.5186523551042922,
          0.3621391236055714,
          0.8324656339682126,
          1.05778631950617,
          -0.8336869272989357,
          0.7973931283101809,
          -0.18699756312895932,
          -2.012942411479047,
          1.7948381927488994,
          -0.6842670310653491,
          -0.07919451609291259,
          0.33788377122791946,
          0.0903456079965252,
          -0.8895364171066543,
          -0.2751921958953291,
          -0.3326684917711887,
          -0.3942876119758109,
          0.631373441701931,
          1.5496128562258553,
          -0.13331197337348852,
          0.6899646151891254,
          0.30469680752622524,
          0.24308493339135556,
          -0.12943965174181088,
          -0.7800032361107118,
          -0.8783481698550101,
          -0.7054519797774306,
          0.08021136554396247,
          -1.0263799714847834,
          0.5977895131309707,
          -1.7923753370544435,
          -0.04622365646082162,
          0.7184618314374265,
          -0.20269335022881463,
          -2.340939254625209,
          -1.0335525621928099,
          1.9345183882945527,
          -0.11336257793230811,
          2.2240868174359325,
          0.8208714718747483,
          0.40311481334749866,
          0.5730111938241931,
          -1.3057206207429375,
          0.5688944979554517,
          -0.21735671990339317,
          0.9815807455421307,
          -0.0009467706880349636
         ],
         "yaxis": "y10"
        },
        {
         "histfunc": "count",
         "histnorm": "",
         "marker": {
          "color": "rgba(50, 171, 96, 1.0)",
          "line": {
           "color": "#4D5663",
           "width": 1.3
          }
         },
         "name": "C",
         "nbinsx": 10,
         "opacity": 0.8,
         "orientation": "v",
         "type": "histogram",
         "x": [
          -0.5823318668595059,
          -2.2744390497068423,
          -1.906731684066569,
          -0.5513626957689196,
          0.39461559398348384,
          0.5169557830810106,
          0.3524635608606682,
          0.8838233919332499,
          -0.9565056955075907,
          -0.06626286694589308,
          -0.9949897683336856,
          -0.8114487497753088,
          -0.003611303468121072,
          1.4439900082178663,
          0.25259676770267625,
          1.436767726788771,
          -0.6983892124871132,
          0.03295140473258938,
          0.9986876498500851,
          -1.1556967497895592,
          2.170722286974381,
          1.4371682813771784,
          -0.28244660314940956,
          -1.3858165266831945,
          -0.2620935832632944,
          0.039256262195485274,
          0.3199692367596603,
          -0.07790630284312257,
          -0.8772462483074769,
          -0.6695576897033452,
          1.3996588303797524,
          -0.4947858149389341,
          -2.26364754779272,
          -0.6594437655734753,
          0.3740796902269732,
          0.08546519253792723,
          -0.5055110130412841,
          -1.4191416958465077,
          1.1728109436156933,
          1.9242658964640063,
          0.5056021772828239,
          1.491502004375118,
          0.19343249977380636,
          -0.5864658225634096,
          -1.6588010408843623,
          -1.7985416792154787,
          -2.820276919138482,
          -0.057583079537563996,
          -1.8798165898369268,
          0.4293906413553994,
          0.17560072627186077,
          0.3576250802671046,
          -2.570017173163602,
          0.5186523551042922,
          0.3621391236055714,
          0.8324656339682126,
          1.05778631950617,
          -0.8336869272989357,
          0.7973931283101809,
          -0.18699756312895932,
          -2.012942411479047,
          1.7948381927488994,
          -0.6842670310653491,
          -0.07919451609291259,
          0.33788377122791946,
          0.0903456079965252,
          -0.8895364171066543,
          -0.2751921958953291,
          -0.3326684917711887,
          -0.3942876119758109,
          0.631373441701931,
          1.5496128562258553,
          -0.13331197337348852,
          0.6899646151891254,
          0.30469680752622524,
          0.24308493339135556,
          -0.12943965174181088,
          -0.7800032361107118,
          -0.8783481698550101,
          -0.7054519797774306,
          0.08021136554396247,
          -1.0263799714847834,
          0.5977895131309707,
          -1.7923753370544435,
          -0.04622365646082162,
          0.7184618314374265,
          -0.20269335022881463,
          -2.340939254625209,
          -1.0335525621928099,
          1.9345183882945527,
          -0.11336257793230811,
          2.2240868174359325,
          0.8208714718747483,
          0.40311481334749866,
          0.5730111938241931,
          -1.3057206207429375,
          0.5688944979554517,
          -0.21735671990339317,
          0.9815807455421307,
          -0.0009467706880349636
         ],
         "xaxis": "x11",
         "yaxis": "y11"
        },
        {
         "line": {
          "color": "rgba(128, 128, 128, 1.0)",
          "dash": "solid",
          "shape": "linear",
          "width": 1.3
         },
         "marker": {
          "size": 2,
          "symbol": "circle"
         },
         "mode": "markers",
         "name": "C",
         "text": "",
         "type": "scatter",
         "x": [
          1.0878727562733148,
          -3.183927786856656,
          -1.2165418882272248,
          -1.3457994021245334,
          0.9796888777980709,
          -0.004563121440714167,
          -0.2720919414808995,
          -0.6638683939536272,
          0.12364146389699673,
          0.6034715091070327,
          0.33636797507278166,
          0.42828327424050344,
          0.0017875921304598538,
          -0.11655090245395314,
          -0.4905668967494036,
          -1.1228432825026469,
          1.8182016041619795,
          -1.557761621470184,
          1.3015184095723158,
          -0.23159573583333876,
          -0.5449093217377119,
          1.43897008476746,
          -1.3279397081636455,
          0.6363903550833581,
          0.4528072186529549,
          -1.7851712670535906,
          0.7141057067757112,
          -0.33187492626306025,
          1.6681190790510114,
          -0.2874854367747743,
          -0.3051688103397385,
          -2.2474495565578483,
          0.4034404594463374,
          0.4382216865108747,
          0.648433721742599,
          2.2186868229500787,
          -1.3007667444019895,
          0.06908194556571537,
          0.4522968994949464,
          0.4872506422408174,
          -1.0332493480778895,
          -0.8338401193489707,
          -0.6220533909107981,
          0.3960332251302076,
          1.6237147524901696,
          1.2839441830578537,
          -1.2126410107229466,
          -0.10708756206816038,
          0.5355882897590875,
          -0.08800878713645252,
          -2.0491215702767405,
          0.7424848191920586,
          0.21909262912962196,
          -0.01329429205396815,
          -0.30507888382212034,
          -0.6083931749155976,
          0.5793327852314085,
          -0.6788460963212135,
          -0.35715528392672263,
          -0.43100296914054503,
          0.4389483611219654,
          2.0422730375873615,
          0.6837020976175603,
          -0.8157273479828914,
          0.09952685283822336,
          -0.8975465471609441,
          0.30767147339422135,
          0.9313098495234367,
          -0.54996762165125,
          -0.1068594139868996,
          -0.0735659096516236,
          -0.3525281035878319,
          0.005575500583184326,
          0.320020017431672,
          1.1573354676002396,
          0.07550246336219645,
          1.4178103667627282,
          -1.0643989547726969,
          0.17920942756504474,
          0.5502517757105804,
          0.7234226346520044,
          -0.9850425699073619,
          1.3515111964856776,
          -1.3312573536536412,
          1.7905474971217765,
          0.6921233996157161,
          0.7100851792907438,
          1.4043641058376857,
          -1.2715327414470388,
          0.04570143515143198,
          0.35970537984361617,
          -1.6000354300743447,
          0.42646418128191177,
          0.04335104436134634,
          1.595242456889686,
          -1.6025233439761826,
          0.43763450200717935,
          0.5434222223220884,
          0.7707172929606991,
          0.5759401939779326
         ],
         "xaxis": "x12",
         "y": [
          -0.5823318668595059,
          -2.2744390497068423,
          -1.906731684066569,
          -0.5513626957689196,
          0.39461559398348384,
          0.5169557830810106,
          0.3524635608606682,
          0.8838233919332499,
          -0.9565056955075907,
          -0.06626286694589308,
          -0.9949897683336856,
          -0.8114487497753088,
          -0.003611303468121072,
          1.4439900082178663,
          0.25259676770267625,
          1.436767726788771,
          -0.6983892124871132,
          0.03295140473258938,
          0.9986876498500851,
          -1.1556967497895592,
          2.170722286974381,
          1.4371682813771784,
          -0.28244660314940956,
          -1.3858165266831945,
          -0.2620935832632944,
          0.039256262195485274,
          0.3199692367596603,
          -0.07790630284312257,
          -0.8772462483074769,
          -0.6695576897033452,
          1.3996588303797524,
          -0.4947858149389341,
          -2.26364754779272,
          -0.6594437655734753,
          0.3740796902269732,
          0.08546519253792723,
          -0.5055110130412841,
          -1.4191416958465077,
          1.1728109436156933,
          1.9242658964640063,
          0.5056021772828239,
          1.491502004375118,
          0.19343249977380636,
          -0.5864658225634096,
          -1.6588010408843623,
          -1.7985416792154787,
          -2.820276919138482,
          -0.057583079537563996,
          -1.8798165898369268,
          0.4293906413553994,
          0.17560072627186077,
          0.3576250802671046,
          -2.570017173163602,
          0.5186523551042922,
          0.3621391236055714,
          0.8324656339682126,
          1.05778631950617,
          -0.8336869272989357,
          0.7973931283101809,
          -0.18699756312895932,
          -2.012942411479047,
          1.7948381927488994,
          -0.6842670310653491,
          -0.07919451609291259,
          0.33788377122791946,
          0.0903456079965252,
          -0.8895364171066543,
          -0.2751921958953291,
          -0.3326684917711887,
          -0.3942876119758109,
          0.631373441701931,
          1.5496128562258553,
          -0.13331197337348852,
          0.6899646151891254,
          0.30469680752622524,
          0.24308493339135556,
          -0.12943965174181088,
          -0.7800032361107118,
          -0.8783481698550101,
          -0.7054519797774306,
          0.08021136554396247,
          -1.0263799714847834,
          0.5977895131309707,
          -1.7923753370544435,
          -0.04622365646082162,
          0.7184618314374265,
          -0.20269335022881463,
          -2.340939254625209,
          -1.0335525621928099,
          1.9345183882945527,
          -0.11336257793230811,
          2.2240868174359325,
          0.8208714718747483,
          0.40311481334749866,
          0.5730111938241931,
          -1.3057206207429375,
          0.5688944979554517,
          -0.21735671990339317,
          0.9815807455421307,
          -0.0009467706880349636
         ],
         "yaxis": "y12"
        },
        {
         "line": {
          "color": "rgba(128, 128, 128, 1.0)",
          "dash": "solid",
          "shape": "linear",
          "width": 1.3
         },
         "marker": {
          "size": 2,
          "symbol": "circle"
         },
         "mode": "markers",
         "name": "D",
         "text": "",
         "type": "scatter",
         "x": [
          0.1939937172428786,
          0.01198709357479974,
          -0.9197269033255341,
          -0.5438327088373623,
          0.7834803322226556,
          -0.6708218107355405,
          -1.2270086594013148,
          -1.5945161544505293,
          -0.9907976523527117,
          -1.1899911221168242,
          1.06555728983655,
          2.094349657907453,
          -0.7653286352163223,
          1.433977366346678,
          0.1025579048479289,
          0.5415168750971099,
          0.6220415367131382,
          -0.04484554676772563,
          0.6955404172357864,
          -0.11957780741457012,
          1.0271108203907722,
          0.6507373589725515,
          -0.7063755562214526,
          1.6571952496589455,
          1.146856945684601,
          -0.49529121555876104,
          1.1840268798212865,
          -0.7724289536911138,
          0.2527295692748135,
          -0.7889106018528703,
          0.23066964593224856,
          -1.8073249839624868,
          0.772958272740142,
          -0.63828408764981,
          0.04419548834580432,
          -0.42033677316336115,
          0.40624489606208614,
          0.5656080556659431,
          -0.6145851682752206,
          -0.6778165800450257,
          -0.8857667081316852,
          0.23543865663786595,
          -0.64751953126351,
          -1.6272795581357524,
          -0.6442866082721088,
          0.1598415091526614,
          -1.5846278315156788,
          -0.7362655278450032,
          -0.7776486911955109,
          -1.1613864726504064,
          0.23645653791656362,
          -0.046116737128403223,
          -0.029034089438273472,
          -0.8685421833611577,
          0.2935712096704209,
          -0.8739308445678745,
          1.2397302903491216,
          -1.0913376504437429,
          -0.6048710523781545,
          0.08859006580896896,
          -1.0303228102801352,
          -1.7636878381657142,
          -0.14365995147603303,
          0.14903229630509462,
          -0.6075544438387713,
          -1.9829405790562238,
          0.40415777675319375,
          0.9457361120828759,
          -0.6755714235167501,
          0.8713559375981939,
          0.4739137310744739,
          0.3147522180127868,
          -0.2046546098406741,
          0.14490624189352064,
          -1.5887453539495555,
          0.9561067061253106,
          1.730784322102986,
          0.9641936369270744,
          0.18758257018712607,
          -1.468477230522763,
          -1.396553080753436,
          -0.15851043767701425,
          0.25171776094821763,
          0.39175943173832994,
          1.0017592643824145,
          0.21353478370158163,
          0.17203759000931104,
          -0.6589458788707,
          1.1948069902329483,
          1.5726935605570183,
          0.17965639147172213,
          1.1752864388876985,
          0.017479947472017726,
          -1.196331042019884,
          -0.12445553401560037,
          -0.5533379425308373,
          -0.5705664103816233,
          0.7525227768380952,
          -0.15743217857562775,
          -1.4831723894832922
         ],
         "xaxis": "x13",
         "y": [
          1.0878727562733148,
          -3.183927786856656,
          -1.2165418882272248,
          -1.3457994021245334,
          0.9796888777980709,
          -0.004563121440714167,
          -0.2720919414808995,
          -0.6638683939536272,
          0.12364146389699673,
          0.6034715091070327,
          0.33636797507278166,
          0.42828327424050344,
          0.0017875921304598538,
          -0.11655090245395314,
          -0.4905668967494036,
          -1.1228432825026469,
          1.8182016041619795,
          -1.557761621470184,
          1.3015184095723158,
          -0.23159573583333876,
          -0.5449093217377119,
          1.43897008476746,
          -1.3279397081636455,
          0.6363903550833581,
          0.4528072186529549,
          -1.7851712670535906,
          0.7141057067757112,
          -0.33187492626306025,
          1.6681190790510114,
          -0.2874854367747743,
          -0.3051688103397385,
          -2.2474495565578483,
          0.4034404594463374,
          0.4382216865108747,
          0.648433721742599,
          2.2186868229500787,
          -1.3007667444019895,
          0.06908194556571537,
          0.4522968994949464,
          0.4872506422408174,
          -1.0332493480778895,
          -0.8338401193489707,
          -0.6220533909107981,
          0.3960332251302076,
          1.6237147524901696,
          1.2839441830578537,
          -1.2126410107229466,
          -0.10708756206816038,
          0.5355882897590875,
          -0.08800878713645252,
          -2.0491215702767405,
          0.7424848191920586,
          0.21909262912962196,
          -0.01329429205396815,
          -0.30507888382212034,
          -0.6083931749155976,
          0.5793327852314085,
          -0.6788460963212135,
          -0.35715528392672263,
          -0.43100296914054503,
          0.4389483611219654,
          2.0422730375873615,
          0.6837020976175603,
          -0.8157273479828914,
          0.09952685283822336,
          -0.8975465471609441,
          0.30767147339422135,
          0.9313098495234367,
          -0.54996762165125,
          -0.1068594139868996,
          -0.0735659096516236,
          -0.3525281035878319,
          0.005575500583184326,
          0.320020017431672,
          1.1573354676002396,
          0.07550246336219645,
          1.4178103667627282,
          -1.0643989547726969,
          0.17920942756504474,
          0.5502517757105804,
          0.7234226346520044,
          -0.9850425699073619,
          1.3515111964856776,
          -1.3312573536536412,
          1.7905474971217765,
          0.6921233996157161,
          0.7100851792907438,
          1.4043641058376857,
          -1.2715327414470388,
          0.04570143515143198,
          0.35970537984361617,
          -1.6000354300743447,
          0.42646418128191177,
          0.04335104436134634,
          1.595242456889686,
          -1.6025233439761826,
          0.43763450200717935,
          0.5434222223220884,
          0.7707172929606991,
          0.5759401939779326
         ],
         "yaxis": "y13"
        },
        {
         "line": {
          "color": "rgba(128, 128, 128, 1.0)",
          "dash": "solid",
          "shape": "linear",
          "width": 1.3
         },
         "marker": {
          "size": 2,
          "symbol": "circle"
         },
         "mode": "markers",
         "name": "D",
         "text": "",
         "type": "scatter",
         "x": [
          0.23368246569060097,
          -0.9442522999075037,
          1.4757508350619062,
          0.6583319804969867,
          0.15258406889106102,
          1.3158552472659093,
          -1.1185223279965273,
          -0.39158046812888286,
          0.4227492695302025,
          -0.4909341004421402,
          0.7128455728079772,
          -0.15126225022666062,
          -1.2023222572617485,
          -0.8598471122662901,
          0.37748366577390813,
          -0.37771219854476956,
          -1.0151406391317663,
          -0.14193643232479458,
          0.8809736707630573,
          -0.23316113463568516,
          -0.5983997236376914,
          0.03792582797495273,
          -0.32118370929148204,
          -0.8462980786265933,
          0.7903198321341133,
          0.11392102390425404,
          -0.16772724666873615,
          0.1829803492254897,
          -0.24904256392431023,
          0.29629447097116984,
          0.26853531155525406,
          0.3436911031362945,
          -0.46546772335101344,
          -1.9565340522664583,
          -0.48789908862859693,
          0.5750153580790885,
          1.2110326819337072,
          -0.009798274879315942,
          0.12101713494682781,
          1.0030236847193514,
          0.03861309294556079,
          -0.2495541588401459,
          1.7273514293487122,
          1.3084028742436131,
          0.4305763232394022,
          -0.7869084257361719,
          0.8254293478530841,
          -0.43502106798764056,
          -0.13354688307494209,
          0.6219701085364925,
          -1.8580516396037385,
          1.1286789826664125,
          -1.0625405436631963,
          -0.9365892727376878,
          0.6806982847756373,
          -0.1946403985222004,
          0.4761758840675131,
          -1.0088981756190227,
          -0.7992768349220223,
          -0.35794293507930447,
          -0.17325042991865502,
          -0.4230132705446578,
          0.1427484128576023,
          -0.7004909250080186,
          1.774090400681258,
          -1.2169058705918558,
          0.46261600529206226,
          -0.34851608304004095,
          -0.4817134781062881,
          0.46460131852352665,
          -1.869064937974819,
          0.834009784941836,
          -0.9559119847388752,
          0.20920885600486094,
          0.39019270359429936,
          0.39307707529506475,
          0.3343726549154573,
          -0.684670668616076,
          -0.8048142809658069,
          0.88284740018694,
          -0.3087500230206805,
          0.46458735139030743,
          -1.490421224828702,
          1.0168255723243191,
          -3.036278794878397,
          -0.5567832667949063,
          0.3044588029679682,
          -1.3675017563132523,
          -1.0363699333245238,
          0.20591239093078306,
          -0.34700208542240774,
          -1.1698183128242192,
          -1.6901164485187143,
          -0.19161696321123506,
          -0.8388321875453237,
          0.22335717569772506,
          1.2499142008432396,
          0.8903687204778106,
          0.9098245017412132,
          -1.4504571813426723
         ],
         "xaxis": "x14",
         "y": [
          1.0878727562733148,
          -3.183927786856656,
          -1.2165418882272248,
          -1.3457994021245334,
          0.9796888777980709,
          -0.004563121440714167,
          -0.2720919414808995,
          -0.6638683939536272,
          0.12364146389699673,
          0.6034715091070327,
          0.33636797507278166,
          0.42828327424050344,
          0.0017875921304598538,
          -0.11655090245395314,
          -0.4905668967494036,
          -1.1228432825026469,
          1.8182016041619795,
          -1.557761621470184,
          1.3015184095723158,
          -0.23159573583333876,
          -0.5449093217377119,
          1.43897008476746,
          -1.3279397081636455,
          0.6363903550833581,
          0.4528072186529549,
          -1.7851712670535906,
          0.7141057067757112,
          -0.33187492626306025,
          1.6681190790510114,
          -0.2874854367747743,
          -0.3051688103397385,
          -2.2474495565578483,
          0.4034404594463374,
          0.4382216865108747,
          0.648433721742599,
          2.2186868229500787,
          -1.3007667444019895,
          0.06908194556571537,
          0.4522968994949464,
          0.4872506422408174,
          -1.0332493480778895,
          -0.8338401193489707,
          -0.6220533909107981,
          0.3960332251302076,
          1.6237147524901696,
          1.2839441830578537,
          -1.2126410107229466,
          -0.10708756206816038,
          0.5355882897590875,
          -0.08800878713645252,
          -2.0491215702767405,
          0.7424848191920586,
          0.21909262912962196,
          -0.01329429205396815,
          -0.30507888382212034,
          -0.6083931749155976,
          0.5793327852314085,
          -0.6788460963212135,
          -0.35715528392672263,
          -0.43100296914054503,
          0.4389483611219654,
          2.0422730375873615,
          0.6837020976175603,
          -0.8157273479828914,
          0.09952685283822336,
          -0.8975465471609441,
          0.30767147339422135,
          0.9313098495234367,
          -0.54996762165125,
          -0.1068594139868996,
          -0.0735659096516236,
          -0.3525281035878319,
          0.005575500583184326,
          0.320020017431672,
          1.1573354676002396,
          0.07550246336219645,
          1.4178103667627282,
          -1.0643989547726969,
          0.17920942756504474,
          0.5502517757105804,
          0.7234226346520044,
          -0.9850425699073619,
          1.3515111964856776,
          -1.3312573536536412,
          1.7905474971217765,
          0.6921233996157161,
          0.7100851792907438,
          1.4043641058376857,
          -1.2715327414470388,
          0.04570143515143198,
          0.35970537984361617,
          -1.6000354300743447,
          0.42646418128191177,
          0.04335104436134634,
          1.595242456889686,
          -1.6025233439761826,
          0.43763450200717935,
          0.5434222223220884,
          0.7707172929606991,
          0.5759401939779326
         ],
         "yaxis": "y14"
        },
        {
         "line": {
          "color": "rgba(128, 128, 128, 1.0)",
          "dash": "solid",
          "shape": "linear",
          "width": 1.3
         },
         "marker": {
          "size": 2,
          "symbol": "circle"
         },
         "mode": "markers",
         "name": "D",
         "text": "",
         "type": "scatter",
         "x": [
          -0.5823318668595059,
          -2.2744390497068423,
          -1.906731684066569,
          -0.5513626957689196,
          0.39461559398348384,
          0.5169557830810106,
          0.3524635608606682,
          0.8838233919332499,
          -0.9565056955075907,
          -0.06626286694589308,
          -0.9949897683336856,
          -0.8114487497753088,
          -0.003611303468121072,
          1.4439900082178663,
          0.25259676770267625,
          1.436767726788771,
          -0.6983892124871132,
          0.03295140473258938,
          0.9986876498500851,
          -1.1556967497895592,
          2.170722286974381,
          1.4371682813771784,
          -0.28244660314940956,
          -1.3858165266831945,
          -0.2620935832632944,
          0.039256262195485274,
          0.3199692367596603,
          -0.07790630284312257,
          -0.8772462483074769,
          -0.6695576897033452,
          1.3996588303797524,
          -0.4947858149389341,
          -2.26364754779272,
          -0.6594437655734753,
          0.3740796902269732,
          0.08546519253792723,
          -0.5055110130412841,
          -1.4191416958465077,
          1.1728109436156933,
          1.9242658964640063,
          0.5056021772828239,
          1.491502004375118,
          0.19343249977380636,
          -0.5864658225634096,
          -1.6588010408843623,
          -1.7985416792154787,
          -2.820276919138482,
          -0.057583079537563996,
          -1.8798165898369268,
          0.4293906413553994,
          0.17560072627186077,
          0.3576250802671046,
          -2.570017173163602,
          0.5186523551042922,
          0.3621391236055714,
          0.8324656339682126,
          1.05778631950617,
          -0.8336869272989357,
          0.7973931283101809,
          -0.18699756312895932,
          -2.012942411479047,
          1.7948381927488994,
          -0.6842670310653491,
          -0.07919451609291259,
          0.33788377122791946,
          0.0903456079965252,
          -0.8895364171066543,
          -0.2751921958953291,
          -0.3326684917711887,
          -0.3942876119758109,
          0.631373441701931,
          1.5496128562258553,
          -0.13331197337348852,
          0.6899646151891254,
          0.30469680752622524,
          0.24308493339135556,
          -0.12943965174181088,
          -0.7800032361107118,
          -0.8783481698550101,
          -0.7054519797774306,
          0.08021136554396247,
          -1.0263799714847834,
          0.5977895131309707,
          -1.7923753370544435,
          -0.04622365646082162,
          0.7184618314374265,
          -0.20269335022881463,
          -2.340939254625209,
          -1.0335525621928099,
          1.9345183882945527,
          -0.11336257793230811,
          2.2240868174359325,
          0.8208714718747483,
          0.40311481334749866,
          0.5730111938241931,
          -1.3057206207429375,
          0.5688944979554517,
          -0.21735671990339317,
          0.9815807455421307,
          -0.0009467706880349636
         ],
         "xaxis": "x15",
         "y": [
          1.0878727562733148,
          -3.183927786856656,
          -1.2165418882272248,
          -1.3457994021245334,
          0.9796888777980709,
          -0.004563121440714167,
          -0.2720919414808995,
          -0.6638683939536272,
          0.12364146389699673,
          0.6034715091070327,
          0.33636797507278166,
          0.42828327424050344,
          0.0017875921304598538,
          -0.11655090245395314,
          -0.4905668967494036,
          -1.1228432825026469,
          1.8182016041619795,
          -1.557761621470184,
          1.3015184095723158,
          -0.23159573583333876,
          -0.5449093217377119,
          1.43897008476746,
          -1.3279397081636455,
          0.6363903550833581,
          0.4528072186529549,
          -1.7851712670535906,
          0.7141057067757112,
          -0.33187492626306025,
          1.6681190790510114,
          -0.2874854367747743,
          -0.3051688103397385,
          -2.2474495565578483,
          0.4034404594463374,
          0.4382216865108747,
          0.648433721742599,
          2.2186868229500787,
          -1.3007667444019895,
          0.06908194556571537,
          0.4522968994949464,
          0.4872506422408174,
          -1.0332493480778895,
          -0.8338401193489707,
          -0.6220533909107981,
          0.3960332251302076,
          1.6237147524901696,
          1.2839441830578537,
          -1.2126410107229466,
          -0.10708756206816038,
          0.5355882897590875,
          -0.08800878713645252,
          -2.0491215702767405,
          0.7424848191920586,
          0.21909262912962196,
          -0.01329429205396815,
          -0.30507888382212034,
          -0.6083931749155976,
          0.5793327852314085,
          -0.6788460963212135,
          -0.35715528392672263,
          -0.43100296914054503,
          0.4389483611219654,
          2.0422730375873615,
          0.6837020976175603,
          -0.8157273479828914,
          0.09952685283822336,
          -0.8975465471609441,
          0.30767147339422135,
          0.9313098495234367,
          -0.54996762165125,
          -0.1068594139868996,
          -0.0735659096516236,
          -0.3525281035878319,
          0.005575500583184326,
          0.320020017431672,
          1.1573354676002396,
          0.07550246336219645,
          1.4178103667627282,
          -1.0643989547726969,
          0.17920942756504474,
          0.5502517757105804,
          0.7234226346520044,
          -0.9850425699073619,
          1.3515111964856776,
          -1.3312573536536412,
          1.7905474971217765,
          0.6921233996157161,
          0.7100851792907438,
          1.4043641058376857,
          -1.2715327414470388,
          0.04570143515143198,
          0.35970537984361617,
          -1.6000354300743447,
          0.42646418128191177,
          0.04335104436134634,
          1.595242456889686,
          -1.6025233439761826,
          0.43763450200717935,
          0.5434222223220884,
          0.7707172929606991,
          0.5759401939779326
         ],
         "yaxis": "y15"
        },
        {
         "histfunc": "count",
         "histnorm": "",
         "marker": {
          "color": "rgba(128, 0, 128, 1.0)",
          "line": {
           "color": "#4D5663",
           "width": 1.3
          }
         },
         "name": "D",
         "nbinsx": 10,
         "opacity": 0.8,
         "orientation": "v",
         "type": "histogram",
         "x": [
          1.0878727562733148,
          -3.183927786856656,
          -1.2165418882272248,
          -1.3457994021245334,
          0.9796888777980709,
          -0.004563121440714167,
          -0.2720919414808995,
          -0.6638683939536272,
          0.12364146389699673,
          0.6034715091070327,
          0.33636797507278166,
          0.42828327424050344,
          0.0017875921304598538,
          -0.11655090245395314,
          -0.4905668967494036,
          -1.1228432825026469,
          1.8182016041619795,
          -1.557761621470184,
          1.3015184095723158,
          -0.23159573583333876,
          -0.5449093217377119,
          1.43897008476746,
          -1.3279397081636455,
          0.6363903550833581,
          0.4528072186529549,
          -1.7851712670535906,
          0.7141057067757112,
          -0.33187492626306025,
          1.6681190790510114,
          -0.2874854367747743,
          -0.3051688103397385,
          -2.2474495565578483,
          0.4034404594463374,
          0.4382216865108747,
          0.648433721742599,
          2.2186868229500787,
          -1.3007667444019895,
          0.06908194556571537,
          0.4522968994949464,
          0.4872506422408174,
          -1.0332493480778895,
          -0.8338401193489707,
          -0.6220533909107981,
          0.3960332251302076,
          1.6237147524901696,
          1.2839441830578537,
          -1.2126410107229466,
          -0.10708756206816038,
          0.5355882897590875,
          -0.08800878713645252,
          -2.0491215702767405,
          0.7424848191920586,
          0.21909262912962196,
          -0.01329429205396815,
          -0.30507888382212034,
          -0.6083931749155976,
          0.5793327852314085,
          -0.6788460963212135,
          -0.35715528392672263,
          -0.43100296914054503,
          0.4389483611219654,
          2.0422730375873615,
          0.6837020976175603,
          -0.8157273479828914,
          0.09952685283822336,
          -0.8975465471609441,
          0.30767147339422135,
          0.9313098495234367,
          -0.54996762165125,
          -0.1068594139868996,
          -0.0735659096516236,
          -0.3525281035878319,
          0.005575500583184326,
          0.320020017431672,
          1.1573354676002396,
          0.07550246336219645,
          1.4178103667627282,
          -1.0643989547726969,
          0.17920942756504474,
          0.5502517757105804,
          0.7234226346520044,
          -0.9850425699073619,
          1.3515111964856776,
          -1.3312573536536412,
          1.7905474971217765,
          0.6921233996157161,
          0.7100851792907438,
          1.4043641058376857,
          -1.2715327414470388,
          0.04570143515143198,
          0.35970537984361617,
          -1.6000354300743447,
          0.42646418128191177,
          0.04335104436134634,
          1.595242456889686,
          -1.6025233439761826,
          0.43763450200717935,
          0.5434222223220884,
          0.7707172929606991,
          0.5759401939779326
         ],
         "xaxis": "x16",
         "yaxis": "y16"
        }
       ],
       "layout": {
        "bargap": 0.02,
        "legend": {
         "bgcolor": "#F5F6F9",
         "font": {
          "color": "#4D5663"
         }
        },
        "paper_bgcolor": "#F5F6F9",
        "plot_bgcolor": "#F5F6F9",
        "showlegend": false,
        "template": {
         "data": {
          "bar": [
           {
            "error_x": {
             "color": "#2a3f5f"
            },
            "error_y": {
             "color": "#2a3f5f"
            },
            "marker": {
             "line": {
              "color": "#E5ECF6",
              "width": 0.5
             }
            },
            "type": "bar"
           }
          ],
          "barpolar": [
           {
            "marker": {
             "line": {
              "color": "#E5ECF6",
              "width": 0.5
             }
            },
            "type": "barpolar"
           }
          ],
          "carpet": [
           {
            "aaxis": {
             "endlinecolor": "#2a3f5f",
             "gridcolor": "white",
             "linecolor": "white",
             "minorgridcolor": "white",
             "startlinecolor": "#2a3f5f"
            },
            "baxis": {
             "endlinecolor": "#2a3f5f",
             "gridcolor": "white",
             "linecolor": "white",
             "minorgridcolor": "white",
             "startlinecolor": "#2a3f5f"
            },
            "type": "carpet"
           }
          ],
          "choropleth": [
           {
            "colorbar": {
             "outlinewidth": 0,
             "ticks": ""
            },
            "type": "choropleth"
           }
          ],
          "contour": [
           {
            "colorbar": {
             "outlinewidth": 0,
             "ticks": ""
            },
            "colorscale": [
             [
              0,
              "#0d0887"
             ],
             [
              0.1111111111111111,
              "#46039f"
             ],
             [
              0.2222222222222222,
              "#7201a8"
             ],
             [
              0.3333333333333333,
              "#9c179e"
             ],
             [
              0.4444444444444444,
              "#bd3786"
             ],
             [
              0.5555555555555556,
              "#d8576b"
             ],
             [
              0.6666666666666666,
              "#ed7953"
             ],
             [
              0.7777777777777778,
              "#fb9f3a"
             ],
             [
              0.8888888888888888,
              "#fdca26"
             ],
             [
              1,
              "#f0f921"
             ]
            ],
            "type": "contour"
           }
          ],
          "contourcarpet": [
           {
            "colorbar": {
             "outlinewidth": 0,
             "ticks": ""
            },
            "type": "contourcarpet"
           }
          ],
          "heatmap": [
           {
            "colorbar": {
             "outlinewidth": 0,
             "ticks": ""
            },
            "colorscale": [
             [
              0,
              "#0d0887"
             ],
             [
              0.1111111111111111,
              "#46039f"
             ],
             [
              0.2222222222222222,
              "#7201a8"
             ],
             [
              0.3333333333333333,
              "#9c179e"
             ],
             [
              0.4444444444444444,
              "#bd3786"
             ],
             [
              0.5555555555555556,
              "#d8576b"
             ],
             [
              0.6666666666666666,
              "#ed7953"
             ],
             [
              0.7777777777777778,
              "#fb9f3a"
             ],
             [
              0.8888888888888888,
              "#fdca26"
             ],
             [
              1,
              "#f0f921"
             ]
            ],
            "type": "heatmap"
           }
          ],
          "heatmapgl": [
           {
            "colorbar": {
             "outlinewidth": 0,
             "ticks": ""
            },
            "colorscale": [
             [
              0,
              "#0d0887"
             ],
             [
              0.1111111111111111,
              "#46039f"
             ],
             [
              0.2222222222222222,
              "#7201a8"
             ],
             [
              0.3333333333333333,
              "#9c179e"
             ],
             [
              0.4444444444444444,
              "#bd3786"
             ],
             [
              0.5555555555555556,
              "#d8576b"
             ],
             [
              0.6666666666666666,
              "#ed7953"
             ],
             [
              0.7777777777777778,
              "#fb9f3a"
             ],
             [
              0.8888888888888888,
              "#fdca26"
             ],
             [
              1,
              "#f0f921"
             ]
            ],
            "type": "heatmapgl"
           }
          ],
          "histogram": [
           {
            "marker": {
             "colorbar": {
              "outlinewidth": 0,
              "ticks": ""
             }
            },
            "type": "histogram"
           }
          ],
          "histogram2d": [
           {
            "colorbar": {
             "outlinewidth": 0,
             "ticks": ""
            },
            "colorscale": [
             [
              0,
              "#0d0887"
             ],
             [
              0.1111111111111111,
              "#46039f"
             ],
             [
              0.2222222222222222,
              "#7201a8"
             ],
             [
              0.3333333333333333,
              "#9c179e"
             ],
             [
              0.4444444444444444,
              "#bd3786"
             ],
             [
              0.5555555555555556,
              "#d8576b"
             ],
             [
              0.6666666666666666,
              "#ed7953"
             ],
             [
              0.7777777777777778,
              "#fb9f3a"
             ],
             [
              0.8888888888888888,
              "#fdca26"
             ],
             [
              1,
              "#f0f921"
             ]
            ],
            "type": "histogram2d"
           }
          ],
          "histogram2dcontour": [
           {
            "colorbar": {
             "outlinewidth": 0,
             "ticks": ""
            },
            "colorscale": [
             [
              0,
              "#0d0887"
             ],
             [
              0.1111111111111111,
              "#46039f"
             ],
             [
              0.2222222222222222,
              "#7201a8"
             ],
             [
              0.3333333333333333,
              "#9c179e"
             ],
             [
              0.4444444444444444,
              "#bd3786"
             ],
             [
              0.5555555555555556,
              "#d8576b"
             ],
             [
              0.6666666666666666,
              "#ed7953"
             ],
             [
              0.7777777777777778,
              "#fb9f3a"
             ],
             [
              0.8888888888888888,
              "#fdca26"
             ],
             [
              1,
              "#f0f921"
             ]
            ],
            "type": "histogram2dcontour"
           }
          ],
          "mesh3d": [
           {
            "colorbar": {
             "outlinewidth": 0,
             "ticks": ""
            },
            "type": "mesh3d"
           }
          ],
          "parcoords": [
           {
            "line": {
             "colorbar": {
              "outlinewidth": 0,
              "ticks": ""
             }
            },
            "type": "parcoords"
           }
          ],
          "pie": [
           {
            "automargin": true,
            "type": "pie"
           }
          ],
          "scatter": [
           {
            "marker": {
             "colorbar": {
              "outlinewidth": 0,
              "ticks": ""
             }
            },
            "type": "scatter"
           }
          ],
          "scatter3d": [
           {
            "line": {
             "colorbar": {
              "outlinewidth": 0,
              "ticks": ""
             }
            },
            "marker": {
             "colorbar": {
              "outlinewidth": 0,
              "ticks": ""
             }
            },
            "type": "scatter3d"
           }
          ],
          "scattercarpet": [
           {
            "marker": {
             "colorbar": {
              "outlinewidth": 0,
              "ticks": ""
             }
            },
            "type": "scattercarpet"
           }
          ],
          "scattergeo": [
           {
            "marker": {
             "colorbar": {
              "outlinewidth": 0,
              "ticks": ""
             }
            },
            "type": "scattergeo"
           }
          ],
          "scattergl": [
           {
            "marker": {
             "colorbar": {
              "outlinewidth": 0,
              "ticks": ""
             }
            },
            "type": "scattergl"
           }
          ],
          "scattermapbox": [
           {
            "marker": {
             "colorbar": {
              "outlinewidth": 0,
              "ticks": ""
             }
            },
            "type": "scattermapbox"
           }
          ],
          "scatterpolar": [
           {
            "marker": {
             "colorbar": {
              "outlinewidth": 0,
              "ticks": ""
             }
            },
            "type": "scatterpolar"
           }
          ],
          "scatterpolargl": [
           {
            "marker": {
             "colorbar": {
              "outlinewidth": 0,
              "ticks": ""
             }
            },
            "type": "scatterpolargl"
           }
          ],
          "scatterternary": [
           {
            "marker": {
             "colorbar": {
              "outlinewidth": 0,
              "ticks": ""
             }
            },
            "type": "scatterternary"
           }
          ],
          "surface": [
           {
            "colorbar": {
             "outlinewidth": 0,
             "ticks": ""
            },
            "colorscale": [
             [
              0,
              "#0d0887"
             ],
             [
              0.1111111111111111,
              "#46039f"
             ],
             [
              0.2222222222222222,
              "#7201a8"
             ],
             [
              0.3333333333333333,
              "#9c179e"
             ],
             [
              0.4444444444444444,
              "#bd3786"
             ],
             [
              0.5555555555555556,
              "#d8576b"
             ],
             [
              0.6666666666666666,
              "#ed7953"
             ],
             [
              0.7777777777777778,
              "#fb9f3a"
             ],
             [
              0.8888888888888888,
              "#fdca26"
             ],
             [
              1,
              "#f0f921"
             ]
            ],
            "type": "surface"
           }
          ],
          "table": [
           {
            "cells": {
             "fill": {
              "color": "#EBF0F8"
             },
             "line": {
              "color": "white"
             }
            },
            "header": {
             "fill": {
              "color": "#C8D4E3"
             },
             "line": {
              "color": "white"
             }
            },
            "type": "table"
           }
          ]
         },
         "layout": {
          "annotationdefaults": {
           "arrowcolor": "#2a3f5f",
           "arrowhead": 0,
           "arrowwidth": 1
          },
          "coloraxis": {
           "colorbar": {
            "outlinewidth": 0,
            "ticks": ""
           }
          },
          "colorscale": {
           "diverging": [
            [
             0,
             "#8e0152"
            ],
            [
             0.1,
             "#c51b7d"
            ],
            [
             0.2,
             "#de77ae"
            ],
            [
             0.3,
             "#f1b6da"
            ],
            [
             0.4,
             "#fde0ef"
            ],
            [
             0.5,
             "#f7f7f7"
            ],
            [
             0.6,
             "#e6f5d0"
            ],
            [
             0.7,
             "#b8e186"
            ],
            [
             0.8,
             "#7fbc41"
            ],
            [
             0.9,
             "#4d9221"
            ],
            [
             1,
             "#276419"
            ]
           ],
           "sequential": [
            [
             0,
             "#0d0887"
            ],
            [
             0.1111111111111111,
             "#46039f"
            ],
            [
             0.2222222222222222,
             "#7201a8"
            ],
            [
             0.3333333333333333,
             "#9c179e"
            ],
            [
             0.4444444444444444,
             "#bd3786"
            ],
            [
             0.5555555555555556,
             "#d8576b"
            ],
            [
             0.6666666666666666,
             "#ed7953"
            ],
            [
             0.7777777777777778,
             "#fb9f3a"
            ],
            [
             0.8888888888888888,
             "#fdca26"
            ],
            [
             1,
             "#f0f921"
            ]
           ],
           "sequentialminus": [
            [
             0,
             "#0d0887"
            ],
            [
             0.1111111111111111,
             "#46039f"
            ],
            [
             0.2222222222222222,
             "#7201a8"
            ],
            [
             0.3333333333333333,
             "#9c179e"
            ],
            [
             0.4444444444444444,
             "#bd3786"
            ],
            [
             0.5555555555555556,
             "#d8576b"
            ],
            [
             0.6666666666666666,
             "#ed7953"
            ],
            [
             0.7777777777777778,
             "#fb9f3a"
            ],
            [
             0.8888888888888888,
             "#fdca26"
            ],
            [
             1,
             "#f0f921"
            ]
           ]
          },
          "colorway": [
           "#636efa",
           "#EF553B",
           "#00cc96",
           "#ab63fa",
           "#FFA15A",
           "#19d3f3",
           "#FF6692",
           "#B6E880",
           "#FF97FF",
           "#FECB52"
          ],
          "font": {
           "color": "#2a3f5f"
          },
          "geo": {
           "bgcolor": "white",
           "lakecolor": "white",
           "landcolor": "#E5ECF6",
           "showlakes": true,
           "showland": true,
           "subunitcolor": "white"
          },
          "hoverlabel": {
           "align": "left"
          },
          "hovermode": "closest",
          "mapbox": {
           "style": "light"
          },
          "paper_bgcolor": "white",
          "plot_bgcolor": "#E5ECF6",
          "polar": {
           "angularaxis": {
            "gridcolor": "white",
            "linecolor": "white",
            "ticks": ""
           },
           "bgcolor": "#E5ECF6",
           "radialaxis": {
            "gridcolor": "white",
            "linecolor": "white",
            "ticks": ""
           }
          },
          "scene": {
           "xaxis": {
            "backgroundcolor": "#E5ECF6",
            "gridcolor": "white",
            "gridwidth": 2,
            "linecolor": "white",
            "showbackground": true,
            "ticks": "",
            "zerolinecolor": "white"
           },
           "yaxis": {
            "backgroundcolor": "#E5ECF6",
            "gridcolor": "white",
            "gridwidth": 2,
            "linecolor": "white",
            "showbackground": true,
            "ticks": "",
            "zerolinecolor": "white"
           },
           "zaxis": {
            "backgroundcolor": "#E5ECF6",
            "gridcolor": "white",
            "gridwidth": 2,
            "linecolor": "white",
            "showbackground": true,
            "ticks": "",
            "zerolinecolor": "white"
           }
          },
          "shapedefaults": {
           "line": {
            "color": "#2a3f5f"
           }
          },
          "ternary": {
           "aaxis": {
            "gridcolor": "white",
            "linecolor": "white",
            "ticks": ""
           },
           "baxis": {
            "gridcolor": "white",
            "linecolor": "white",
            "ticks": ""
           },
           "bgcolor": "#E5ECF6",
           "caxis": {
            "gridcolor": "white",
            "linecolor": "white",
            "ticks": ""
           }
          },
          "title": {
           "x": 0.05
          },
          "xaxis": {
           "automargin": true,
           "gridcolor": "white",
           "linecolor": "white",
           "ticks": "",
           "title": {
            "standoff": 15
           },
           "zerolinecolor": "white",
           "zerolinewidth": 2
          },
          "yaxis": {
           "automargin": true,
           "gridcolor": "white",
           "linecolor": "white",
           "ticks": "",
           "title": {
            "standoff": 15
           },
           "zerolinecolor": "white",
           "zerolinewidth": 2
          }
         }
        },
        "title": {
         "font": {
          "color": "#4D5663"
         }
        },
        "xaxis": {
         "anchor": "y",
         "domain": [
          0,
          0.2125
         ],
         "gridcolor": "#E1E5ED",
         "showgrid": false,
         "tickfont": {
          "color": "#4D5663"
         },
         "title": {
          "font": {
           "color": "#4D5663"
          },
          "text": ""
         },
         "zerolinecolor": "#E1E5ED"
        },
        "xaxis10": {
         "anchor": "y10",
         "domain": [
          0.2625,
          0.475
         ],
         "gridcolor": "#E1E5ED",
         "showgrid": false,
         "tickfont": {
          "color": "#4D5663"
         },
         "title": {
          "font": {
           "color": "#4D5663"
          },
          "text": ""
         },
         "zerolinecolor": "#E1E5ED"
        },
        "xaxis11": {
         "anchor": "y11",
         "domain": [
          0.525,
          0.7375
         ],
         "gridcolor": "#E1E5ED",
         "showgrid": false,
         "tickfont": {
          "color": "#4D5663"
         },
         "title": {
          "font": {
           "color": "#4D5663"
          },
          "text": ""
         },
         "zerolinecolor": "#E1E5ED"
        },
        "xaxis12": {
         "anchor": "y12",
         "domain": [
          0.7875,
          1
         ],
         "gridcolor": "#E1E5ED",
         "showgrid": false,
         "tickfont": {
          "color": "#4D5663"
         },
         "title": {
          "font": {
           "color": "#4D5663"
          },
          "text": ""
         },
         "zerolinecolor": "#E1E5ED"
        },
        "xaxis13": {
         "anchor": "y13",
         "domain": [
          0,
          0.2125
         ],
         "gridcolor": "#E1E5ED",
         "showgrid": false,
         "tickfont": {
          "color": "#4D5663"
         },
         "title": {
          "font": {
           "color": "#4D5663"
          },
          "text": ""
         },
         "zerolinecolor": "#E1E5ED"
        },
        "xaxis14": {
         "anchor": "y14",
         "domain": [
          0.2625,
          0.475
         ],
         "gridcolor": "#E1E5ED",
         "showgrid": false,
         "tickfont": {
          "color": "#4D5663"
         },
         "title": {
          "font": {
           "color": "#4D5663"
          },
          "text": ""
         },
         "zerolinecolor": "#E1E5ED"
        },
        "xaxis15": {
         "anchor": "y15",
         "domain": [
          0.525,
          0.7375
         ],
         "gridcolor": "#E1E5ED",
         "showgrid": false,
         "tickfont": {
          "color": "#4D5663"
         },
         "title": {
          "font": {
           "color": "#4D5663"
          },
          "text": ""
         },
         "zerolinecolor": "#E1E5ED"
        },
        "xaxis16": {
         "anchor": "y16",
         "domain": [
          0.7875,
          1
         ],
         "gridcolor": "#E1E5ED",
         "showgrid": false,
         "tickfont": {
          "color": "#4D5663"
         },
         "title": {
          "font": {
           "color": "#4D5663"
          },
          "text": ""
         },
         "zerolinecolor": "#E1E5ED"
        },
        "xaxis2": {
         "anchor": "y2",
         "domain": [
          0.2625,
          0.475
         ],
         "gridcolor": "#E1E5ED",
         "showgrid": false,
         "tickfont": {
          "color": "#4D5663"
         },
         "title": {
          "font": {
           "color": "#4D5663"
          },
          "text": ""
         },
         "zerolinecolor": "#E1E5ED"
        },
        "xaxis3": {
         "anchor": "y3",
         "domain": [
          0.525,
          0.7375
         ],
         "gridcolor": "#E1E5ED",
         "showgrid": false,
         "tickfont": {
          "color": "#4D5663"
         },
         "title": {
          "font": {
           "color": "#4D5663"
          },
          "text": ""
         },
         "zerolinecolor": "#E1E5ED"
        },
        "xaxis4": {
         "anchor": "y4",
         "domain": [
          0.7875,
          1
         ],
         "gridcolor": "#E1E5ED",
         "showgrid": false,
         "tickfont": {
          "color": "#4D5663"
         },
         "title": {
          "font": {
           "color": "#4D5663"
          },
          "text": ""
         },
         "zerolinecolor": "#E1E5ED"
        },
        "xaxis5": {
         "anchor": "y5",
         "domain": [
          0,
          0.2125
         ],
         "gridcolor": "#E1E5ED",
         "showgrid": false,
         "tickfont": {
          "color": "#4D5663"
         },
         "title": {
          "font": {
           "color": "#4D5663"
          },
          "text": ""
         },
         "zerolinecolor": "#E1E5ED"
        },
        "xaxis6": {
         "anchor": "y6",
         "domain": [
          0.2625,
          0.475
         ],
         "gridcolor": "#E1E5ED",
         "showgrid": false,
         "tickfont": {
          "color": "#4D5663"
         },
         "title": {
          "font": {
           "color": "#4D5663"
          },
          "text": ""
         },
         "zerolinecolor": "#E1E5ED"
        },
        "xaxis7": {
         "anchor": "y7",
         "domain": [
          0.525,
          0.7375
         ],
         "gridcolor": "#E1E5ED",
         "showgrid": false,
         "tickfont": {
          "color": "#4D5663"
         },
         "title": {
          "font": {
           "color": "#4D5663"
          },
          "text": ""
         },
         "zerolinecolor": "#E1E5ED"
        },
        "xaxis8": {
         "anchor": "y8",
         "domain": [
          0.7875,
          1
         ],
         "gridcolor": "#E1E5ED",
         "showgrid": false,
         "tickfont": {
          "color": "#4D5663"
         },
         "title": {
          "font": {
           "color": "#4D5663"
          },
          "text": ""
         },
         "zerolinecolor": "#E1E5ED"
        },
        "xaxis9": {
         "anchor": "y9",
         "domain": [
          0,
          0.2125
         ],
         "gridcolor": "#E1E5ED",
         "showgrid": false,
         "tickfont": {
          "color": "#4D5663"
         },
         "title": {
          "font": {
           "color": "#4D5663"
          },
          "text": ""
         },
         "zerolinecolor": "#E1E5ED"
        },
        "yaxis": {
         "anchor": "x",
         "domain": [
          0.8025,
          1
         ],
         "gridcolor": "#E1E5ED",
         "showgrid": false,
         "tickfont": {
          "color": "#4D5663"
         },
         "title": {
          "font": {
           "color": "#4D5663"
          },
          "text": ""
         },
         "zerolinecolor": "#E1E5ED"
        },
        "yaxis10": {
         "anchor": "x10",
         "domain": [
          0.2675,
          0.465
         ],
         "gridcolor": "#E1E5ED",
         "showgrid": false,
         "tickfont": {
          "color": "#4D5663"
         },
         "title": {
          "font": {
           "color": "#4D5663"
          },
          "text": ""
         },
         "zerolinecolor": "#E1E5ED"
        },
        "yaxis11": {
         "anchor": "x11",
         "domain": [
          0.2675,
          0.465
         ],
         "gridcolor": "#E1E5ED",
         "showgrid": false,
         "tickfont": {
          "color": "#4D5663"
         },
         "title": {
          "font": {
           "color": "#4D5663"
          },
          "text": ""
         },
         "zerolinecolor": "#E1E5ED"
        },
        "yaxis12": {
         "anchor": "x12",
         "domain": [
          0.2675,
          0.465
         ],
         "gridcolor": "#E1E5ED",
         "showgrid": false,
         "tickfont": {
          "color": "#4D5663"
         },
         "title": {
          "font": {
           "color": "#4D5663"
          },
          "text": ""
         },
         "zerolinecolor": "#E1E5ED"
        },
        "yaxis13": {
         "anchor": "x13",
         "domain": [
          0,
          0.1975
         ],
         "gridcolor": "#E1E5ED",
         "showgrid": false,
         "tickfont": {
          "color": "#4D5663"
         },
         "title": {
          "font": {
           "color": "#4D5663"
          },
          "text": ""
         },
         "zerolinecolor": "#E1E5ED"
        },
        "yaxis14": {
         "anchor": "x14",
         "domain": [
          0,
          0.1975
         ],
         "gridcolor": "#E1E5ED",
         "showgrid": false,
         "tickfont": {
          "color": "#4D5663"
         },
         "title": {
          "font": {
           "color": "#4D5663"
          },
          "text": ""
         },
         "zerolinecolor": "#E1E5ED"
        },
        "yaxis15": {
         "anchor": "x15",
         "domain": [
          0,
          0.1975
         ],
         "gridcolor": "#E1E5ED",
         "showgrid": false,
         "tickfont": {
          "color": "#4D5663"
         },
         "title": {
          "font": {
           "color": "#4D5663"
          },
          "text": ""
         },
         "zerolinecolor": "#E1E5ED"
        },
        "yaxis16": {
         "anchor": "x16",
         "domain": [
          0,
          0.1975
         ],
         "gridcolor": "#E1E5ED",
         "showgrid": false,
         "tickfont": {
          "color": "#4D5663"
         },
         "title": {
          "font": {
           "color": "#4D5663"
          },
          "text": ""
         },
         "zerolinecolor": "#E1E5ED"
        },
        "yaxis2": {
         "anchor": "x2",
         "domain": [
          0.8025,
          1
         ],
         "gridcolor": "#E1E5ED",
         "showgrid": false,
         "tickfont": {
          "color": "#4D5663"
         },
         "title": {
          "font": {
           "color": "#4D5663"
          },
          "text": ""
         },
         "zerolinecolor": "#E1E5ED"
        },
        "yaxis3": {
         "anchor": "x3",
         "domain": [
          0.8025,
          1
         ],
         "gridcolor": "#E1E5ED",
         "showgrid": false,
         "tickfont": {
          "color": "#4D5663"
         },
         "title": {
          "font": {
           "color": "#4D5663"
          },
          "text": ""
         },
         "zerolinecolor": "#E1E5ED"
        },
        "yaxis4": {
         "anchor": "x4",
         "domain": [
          0.8025,
          1
         ],
         "gridcolor": "#E1E5ED",
         "showgrid": false,
         "tickfont": {
          "color": "#4D5663"
         },
         "title": {
          "font": {
           "color": "#4D5663"
          },
          "text": ""
         },
         "zerolinecolor": "#E1E5ED"
        },
        "yaxis5": {
         "anchor": "x5",
         "domain": [
          0.535,
          0.7325
         ],
         "gridcolor": "#E1E5ED",
         "showgrid": false,
         "tickfont": {
          "color": "#4D5663"
         },
         "title": {
          "font": {
           "color": "#4D5663"
          },
          "text": ""
         },
         "zerolinecolor": "#E1E5ED"
        },
        "yaxis6": {
         "anchor": "x6",
         "domain": [
          0.535,
          0.7325
         ],
         "gridcolor": "#E1E5ED",
         "showgrid": false,
         "tickfont": {
          "color": "#4D5663"
         },
         "title": {
          "font": {
           "color": "#4D5663"
          },
          "text": ""
         },
         "zerolinecolor": "#E1E5ED"
        },
        "yaxis7": {
         "anchor": "x7",
         "domain": [
          0.535,
          0.7325
         ],
         "gridcolor": "#E1E5ED",
         "showgrid": false,
         "tickfont": {
          "color": "#4D5663"
         },
         "title": {
          "font": {
           "color": "#4D5663"
          },
          "text": ""
         },
         "zerolinecolor": "#E1E5ED"
        },
        "yaxis8": {
         "anchor": "x8",
         "domain": [
          0.535,
          0.7325
         ],
         "gridcolor": "#E1E5ED",
         "showgrid": false,
         "tickfont": {
          "color": "#4D5663"
         },
         "title": {
          "font": {
           "color": "#4D5663"
          },
          "text": ""
         },
         "zerolinecolor": "#E1E5ED"
        },
        "yaxis9": {
         "anchor": "x9",
         "domain": [
          0.2675,
          0.465
         ],
         "gridcolor": "#E1E5ED",
         "showgrid": false,
         "tickfont": {
          "color": "#4D5663"
         },
         "title": {
          "font": {
           "color": "#4D5663"
          },
          "text": ""
         },
         "zerolinecolor": "#E1E5ED"
        }
       }
      },
      "text/html": [
       "<div>\n",
       "        \n",
       "        \n",
       "            <div id=\"a77b6408-9fc1-4079-80d3-9ce728d3397a\" class=\"plotly-graph-div\" style=\"height:525px; width:100%;\"></div>\n",
       "            <script type=\"text/javascript\">\n",
       "                require([\"plotly\"], function(Plotly) {\n",
       "                    window.PLOTLYENV=window.PLOTLYENV || {};\n",
       "                    window.PLOTLYENV.BASE_URL='https://plot.ly';\n",
       "                    \n",
       "                if (document.getElementById(\"a77b6408-9fc1-4079-80d3-9ce728d3397a\")) {\n",
       "                    Plotly.newPlot(\n",
       "                        'a77b6408-9fc1-4079-80d3-9ce728d3397a',\n",
       "                        [{\"histfunc\": \"count\", \"histnorm\": \"\", \"marker\": {\"color\": \"rgba(255, 153, 51, 1.0)\", \"line\": {\"color\": \"#4D5663\", \"width\": 1.3}}, \"name\": \"A\", \"nbinsx\": 10, \"opacity\": 0.8, \"orientation\": \"v\", \"type\": \"histogram\", \"x\": [0.1939937172428786, 0.01198709357479974, -0.9197269033255341, -0.5438327088373623, 0.7834803322226556, -0.6708218107355405, -1.2270086594013148, -1.5945161544505293, -0.9907976523527117, -1.1899911221168242, 1.06555728983655, 2.094349657907453, -0.7653286352163223, 1.433977366346678, 0.1025579048479289, 0.5415168750971099, 0.6220415367131382, -0.04484554676772563, 0.6955404172357864, -0.11957780741457012, 1.0271108203907722, 0.6507373589725515, -0.7063755562214526, 1.6571952496589455, 1.146856945684601, -0.49529121555876104, 1.1840268798212865, -0.7724289536911138, 0.2527295692748135, -0.7889106018528703, 0.23066964593224856, -1.8073249839624868, 0.772958272740142, -0.63828408764981, 0.04419548834580432, -0.42033677316336115, 0.40624489606208614, 0.5656080556659431, -0.6145851682752206, -0.6778165800450257, -0.8857667081316852, 0.23543865663786595, -0.64751953126351, -1.6272795581357524, -0.6442866082721088, 0.1598415091526614, -1.5846278315156788, -0.7362655278450032, -0.7776486911955109, -1.1613864726504064, 0.23645653791656362, -0.046116737128403223, -0.029034089438273472, -0.8685421833611577, 0.2935712096704209, -0.8739308445678745, 1.2397302903491216, -1.0913376504437429, -0.6048710523781545, 0.08859006580896896, -1.0303228102801352, -1.7636878381657142, -0.14365995147603303, 0.14903229630509462, -0.6075544438387713, -1.9829405790562238, 0.40415777675319375, 0.9457361120828759, -0.6755714235167501, 0.8713559375981939, 0.4739137310744739, 0.3147522180127868, -0.2046546098406741, 0.14490624189352064, -1.5887453539495555, 0.9561067061253106, 1.730784322102986, 0.9641936369270744, 0.18758257018712607, -1.468477230522763, -1.396553080753436, -0.15851043767701425, 0.25171776094821763, 0.39175943173832994, 1.0017592643824145, 0.21353478370158163, 0.17203759000931104, -0.6589458788707, 1.1948069902329483, 1.5726935605570183, 0.17965639147172213, 1.1752864388876985, 0.017479947472017726, -1.196331042019884, -0.12445553401560037, -0.5533379425308373, -0.5705664103816233, 0.7525227768380952, -0.15743217857562775, -1.4831723894832922], \"xaxis\": \"x\", \"yaxis\": \"y\"}, {\"line\": {\"color\": \"rgba(128, 128, 128, 1.0)\", \"dash\": \"solid\", \"shape\": \"linear\", \"width\": 1.3}, \"marker\": {\"size\": 2, \"symbol\": \"circle\"}, \"mode\": \"markers\", \"name\": \"A\", \"text\": \"\", \"type\": \"scatter\", \"x\": [0.23368246569060097, -0.9442522999075037, 1.4757508350619062, 0.6583319804969867, 0.15258406889106102, 1.3158552472659093, -1.1185223279965273, -0.39158046812888286, 0.4227492695302025, -0.4909341004421402, 0.7128455728079772, -0.15126225022666062, -1.2023222572617485, -0.8598471122662901, 0.37748366577390813, -0.37771219854476956, -1.0151406391317663, -0.14193643232479458, 0.8809736707630573, -0.23316113463568516, -0.5983997236376914, 0.03792582797495273, -0.32118370929148204, -0.8462980786265933, 0.7903198321341133, 0.11392102390425404, -0.16772724666873615, 0.1829803492254897, -0.24904256392431023, 0.29629447097116984, 0.26853531155525406, 0.3436911031362945, -0.46546772335101344, -1.9565340522664583, -0.48789908862859693, 0.5750153580790885, 1.2110326819337072, -0.009798274879315942, 0.12101713494682781, 1.0030236847193514, 0.03861309294556079, -0.2495541588401459, 1.7273514293487122, 1.3084028742436131, 0.4305763232394022, -0.7869084257361719, 0.8254293478530841, -0.43502106798764056, -0.13354688307494209, 0.6219701085364925, -1.8580516396037385, 1.1286789826664125, -1.0625405436631963, -0.9365892727376878, 0.6806982847756373, -0.1946403985222004, 0.4761758840675131, -1.0088981756190227, -0.7992768349220223, -0.35794293507930447, -0.17325042991865502, -0.4230132705446578, 0.1427484128576023, -0.7004909250080186, 1.774090400681258, -1.2169058705918558, 0.46261600529206226, -0.34851608304004095, -0.4817134781062881, 0.46460131852352665, -1.869064937974819, 0.834009784941836, -0.9559119847388752, 0.20920885600486094, 0.39019270359429936, 0.39307707529506475, 0.3343726549154573, -0.684670668616076, -0.8048142809658069, 0.88284740018694, -0.3087500230206805, 0.46458735139030743, -1.490421224828702, 1.0168255723243191, -3.036278794878397, -0.5567832667949063, 0.3044588029679682, -1.3675017563132523, -1.0363699333245238, 0.20591239093078306, -0.34700208542240774, -1.1698183128242192, -1.6901164485187143, -0.19161696321123506, -0.8388321875453237, 0.22335717569772506, 1.2499142008432396, 0.8903687204778106, 0.9098245017412132, -1.4504571813426723], \"xaxis\": \"x2\", \"y\": [0.1939937172428786, 0.01198709357479974, -0.9197269033255341, -0.5438327088373623, 0.7834803322226556, -0.6708218107355405, -1.2270086594013148, -1.5945161544505293, -0.9907976523527117, -1.1899911221168242, 1.06555728983655, 2.094349657907453, -0.7653286352163223, 1.433977366346678, 0.1025579048479289, 0.5415168750971099, 0.6220415367131382, -0.04484554676772563, 0.6955404172357864, -0.11957780741457012, 1.0271108203907722, 0.6507373589725515, -0.7063755562214526, 1.6571952496589455, 1.146856945684601, -0.49529121555876104, 1.1840268798212865, -0.7724289536911138, 0.2527295692748135, -0.7889106018528703, 0.23066964593224856, -1.8073249839624868, 0.772958272740142, -0.63828408764981, 0.04419548834580432, -0.42033677316336115, 0.40624489606208614, 0.5656080556659431, -0.6145851682752206, -0.6778165800450257, -0.8857667081316852, 0.23543865663786595, -0.64751953126351, -1.6272795581357524, -0.6442866082721088, 0.1598415091526614, -1.5846278315156788, -0.7362655278450032, -0.7776486911955109, -1.1613864726504064, 0.23645653791656362, -0.046116737128403223, -0.029034089438273472, -0.8685421833611577, 0.2935712096704209, -0.8739308445678745, 1.2397302903491216, -1.0913376504437429, -0.6048710523781545, 0.08859006580896896, -1.0303228102801352, -1.7636878381657142, -0.14365995147603303, 0.14903229630509462, -0.6075544438387713, -1.9829405790562238, 0.40415777675319375, 0.9457361120828759, -0.6755714235167501, 0.8713559375981939, 0.4739137310744739, 0.3147522180127868, -0.2046546098406741, 0.14490624189352064, -1.5887453539495555, 0.9561067061253106, 1.730784322102986, 0.9641936369270744, 0.18758257018712607, -1.468477230522763, -1.396553080753436, -0.15851043767701425, 0.25171776094821763, 0.39175943173832994, 1.0017592643824145, 0.21353478370158163, 0.17203759000931104, -0.6589458788707, 1.1948069902329483, 1.5726935605570183, 0.17965639147172213, 1.1752864388876985, 0.017479947472017726, -1.196331042019884, -0.12445553401560037, -0.5533379425308373, -0.5705664103816233, 0.7525227768380952, -0.15743217857562775, -1.4831723894832922], \"yaxis\": \"y2\"}, {\"line\": {\"color\": \"rgba(128, 128, 128, 1.0)\", \"dash\": \"solid\", \"shape\": \"linear\", \"width\": 1.3}, \"marker\": {\"size\": 2, \"symbol\": \"circle\"}, \"mode\": \"markers\", \"name\": \"A\", \"text\": \"\", \"type\": \"scatter\", \"x\": [-0.5823318668595059, -2.2744390497068423, -1.906731684066569, -0.5513626957689196, 0.39461559398348384, 0.5169557830810106, 0.3524635608606682, 0.8838233919332499, -0.9565056955075907, -0.06626286694589308, -0.9949897683336856, -0.8114487497753088, -0.003611303468121072, 1.4439900082178663, 0.25259676770267625, 1.436767726788771, -0.6983892124871132, 0.03295140473258938, 0.9986876498500851, -1.1556967497895592, 2.170722286974381, 1.4371682813771784, -0.28244660314940956, -1.3858165266831945, -0.2620935832632944, 0.039256262195485274, 0.3199692367596603, -0.07790630284312257, -0.8772462483074769, -0.6695576897033452, 1.3996588303797524, -0.4947858149389341, -2.26364754779272, -0.6594437655734753, 0.3740796902269732, 0.08546519253792723, -0.5055110130412841, -1.4191416958465077, 1.1728109436156933, 1.9242658964640063, 0.5056021772828239, 1.491502004375118, 0.19343249977380636, -0.5864658225634096, -1.6588010408843623, -1.7985416792154787, -2.820276919138482, -0.057583079537563996, -1.8798165898369268, 0.4293906413553994, 0.17560072627186077, 0.3576250802671046, -2.570017173163602, 0.5186523551042922, 0.3621391236055714, 0.8324656339682126, 1.05778631950617, -0.8336869272989357, 0.7973931283101809, -0.18699756312895932, -2.012942411479047, 1.7948381927488994, -0.6842670310653491, -0.07919451609291259, 0.33788377122791946, 0.0903456079965252, -0.8895364171066543, -0.2751921958953291, -0.3326684917711887, -0.3942876119758109, 0.631373441701931, 1.5496128562258553, -0.13331197337348852, 0.6899646151891254, 0.30469680752622524, 0.24308493339135556, -0.12943965174181088, -0.7800032361107118, -0.8783481698550101, -0.7054519797774306, 0.08021136554396247, -1.0263799714847834, 0.5977895131309707, -1.7923753370544435, -0.04622365646082162, 0.7184618314374265, -0.20269335022881463, -2.340939254625209, -1.0335525621928099, 1.9345183882945527, -0.11336257793230811, 2.2240868174359325, 0.8208714718747483, 0.40311481334749866, 0.5730111938241931, -1.3057206207429375, 0.5688944979554517, -0.21735671990339317, 0.9815807455421307, -0.0009467706880349636], \"xaxis\": \"x3\", \"y\": [0.1939937172428786, 0.01198709357479974, -0.9197269033255341, -0.5438327088373623, 0.7834803322226556, -0.6708218107355405, -1.2270086594013148, -1.5945161544505293, -0.9907976523527117, -1.1899911221168242, 1.06555728983655, 2.094349657907453, -0.7653286352163223, 1.433977366346678, 0.1025579048479289, 0.5415168750971099, 0.6220415367131382, -0.04484554676772563, 0.6955404172357864, -0.11957780741457012, 1.0271108203907722, 0.6507373589725515, -0.7063755562214526, 1.6571952496589455, 1.146856945684601, -0.49529121555876104, 1.1840268798212865, -0.7724289536911138, 0.2527295692748135, -0.7889106018528703, 0.23066964593224856, -1.8073249839624868, 0.772958272740142, -0.63828408764981, 0.04419548834580432, -0.42033677316336115, 0.40624489606208614, 0.5656080556659431, -0.6145851682752206, -0.6778165800450257, -0.8857667081316852, 0.23543865663786595, -0.64751953126351, -1.6272795581357524, -0.6442866082721088, 0.1598415091526614, -1.5846278315156788, -0.7362655278450032, -0.7776486911955109, -1.1613864726504064, 0.23645653791656362, -0.046116737128403223, -0.029034089438273472, -0.8685421833611577, 0.2935712096704209, -0.8739308445678745, 1.2397302903491216, -1.0913376504437429, -0.6048710523781545, 0.08859006580896896, -1.0303228102801352, -1.7636878381657142, -0.14365995147603303, 0.14903229630509462, -0.6075544438387713, -1.9829405790562238, 0.40415777675319375, 0.9457361120828759, -0.6755714235167501, 0.8713559375981939, 0.4739137310744739, 0.3147522180127868, -0.2046546098406741, 0.14490624189352064, -1.5887453539495555, 0.9561067061253106, 1.730784322102986, 0.9641936369270744, 0.18758257018712607, -1.468477230522763, -1.396553080753436, -0.15851043767701425, 0.25171776094821763, 0.39175943173832994, 1.0017592643824145, 0.21353478370158163, 0.17203759000931104, -0.6589458788707, 1.1948069902329483, 1.5726935605570183, 0.17965639147172213, 1.1752864388876985, 0.017479947472017726, -1.196331042019884, -0.12445553401560037, -0.5533379425308373, -0.5705664103816233, 0.7525227768380952, -0.15743217857562775, -1.4831723894832922], \"yaxis\": \"y3\"}, {\"line\": {\"color\": \"rgba(128, 128, 128, 1.0)\", \"dash\": \"solid\", \"shape\": \"linear\", \"width\": 1.3}, \"marker\": {\"size\": 2, \"symbol\": \"circle\"}, \"mode\": \"markers\", \"name\": \"A\", \"text\": \"\", \"type\": \"scatter\", \"x\": [1.0878727562733148, -3.183927786856656, -1.2165418882272248, -1.3457994021245334, 0.9796888777980709, -0.004563121440714167, -0.2720919414808995, -0.6638683939536272, 0.12364146389699673, 0.6034715091070327, 0.33636797507278166, 0.42828327424050344, 0.0017875921304598538, -0.11655090245395314, -0.4905668967494036, -1.1228432825026469, 1.8182016041619795, -1.557761621470184, 1.3015184095723158, -0.23159573583333876, -0.5449093217377119, 1.43897008476746, -1.3279397081636455, 0.6363903550833581, 0.4528072186529549, -1.7851712670535906, 0.7141057067757112, -0.33187492626306025, 1.6681190790510114, -0.2874854367747743, -0.3051688103397385, -2.2474495565578483, 0.4034404594463374, 0.4382216865108747, 0.648433721742599, 2.2186868229500787, -1.3007667444019895, 0.06908194556571537, 0.4522968994949464, 0.4872506422408174, -1.0332493480778895, -0.8338401193489707, -0.6220533909107981, 0.3960332251302076, 1.6237147524901696, 1.2839441830578537, -1.2126410107229466, -0.10708756206816038, 0.5355882897590875, -0.08800878713645252, -2.0491215702767405, 0.7424848191920586, 0.21909262912962196, -0.01329429205396815, -0.30507888382212034, -0.6083931749155976, 0.5793327852314085, -0.6788460963212135, -0.35715528392672263, -0.43100296914054503, 0.4389483611219654, 2.0422730375873615, 0.6837020976175603, -0.8157273479828914, 0.09952685283822336, -0.8975465471609441, 0.30767147339422135, 0.9313098495234367, -0.54996762165125, -0.1068594139868996, -0.0735659096516236, -0.3525281035878319, 0.005575500583184326, 0.320020017431672, 1.1573354676002396, 0.07550246336219645, 1.4178103667627282, -1.0643989547726969, 0.17920942756504474, 0.5502517757105804, 0.7234226346520044, -0.9850425699073619, 1.3515111964856776, -1.3312573536536412, 1.7905474971217765, 0.6921233996157161, 0.7100851792907438, 1.4043641058376857, -1.2715327414470388, 0.04570143515143198, 0.35970537984361617, -1.6000354300743447, 0.42646418128191177, 0.04335104436134634, 1.595242456889686, -1.6025233439761826, 0.43763450200717935, 0.5434222223220884, 0.7707172929606991, 0.5759401939779326], \"xaxis\": \"x4\", \"y\": [0.1939937172428786, 0.01198709357479974, -0.9197269033255341, -0.5438327088373623, 0.7834803322226556, -0.6708218107355405, -1.2270086594013148, -1.5945161544505293, -0.9907976523527117, -1.1899911221168242, 1.06555728983655, 2.094349657907453, -0.7653286352163223, 1.433977366346678, 0.1025579048479289, 0.5415168750971099, 0.6220415367131382, -0.04484554676772563, 0.6955404172357864, -0.11957780741457012, 1.0271108203907722, 0.6507373589725515, -0.7063755562214526, 1.6571952496589455, 1.146856945684601, -0.49529121555876104, 1.1840268798212865, -0.7724289536911138, 0.2527295692748135, -0.7889106018528703, 0.23066964593224856, -1.8073249839624868, 0.772958272740142, -0.63828408764981, 0.04419548834580432, -0.42033677316336115, 0.40624489606208614, 0.5656080556659431, -0.6145851682752206, -0.6778165800450257, -0.8857667081316852, 0.23543865663786595, -0.64751953126351, -1.6272795581357524, -0.6442866082721088, 0.1598415091526614, -1.5846278315156788, -0.7362655278450032, -0.7776486911955109, -1.1613864726504064, 0.23645653791656362, -0.046116737128403223, -0.029034089438273472, -0.8685421833611577, 0.2935712096704209, -0.8739308445678745, 1.2397302903491216, -1.0913376504437429, -0.6048710523781545, 0.08859006580896896, -1.0303228102801352, -1.7636878381657142, -0.14365995147603303, 0.14903229630509462, -0.6075544438387713, -1.9829405790562238, 0.40415777675319375, 0.9457361120828759, -0.6755714235167501, 0.8713559375981939, 0.4739137310744739, 0.3147522180127868, -0.2046546098406741, 0.14490624189352064, -1.5887453539495555, 0.9561067061253106, 1.730784322102986, 0.9641936369270744, 0.18758257018712607, -1.468477230522763, -1.396553080753436, -0.15851043767701425, 0.25171776094821763, 0.39175943173832994, 1.0017592643824145, 0.21353478370158163, 0.17203759000931104, -0.6589458788707, 1.1948069902329483, 1.5726935605570183, 0.17965639147172213, 1.1752864388876985, 0.017479947472017726, -1.196331042019884, -0.12445553401560037, -0.5533379425308373, -0.5705664103816233, 0.7525227768380952, -0.15743217857562775, -1.4831723894832922], \"yaxis\": \"y4\"}, {\"line\": {\"color\": \"rgba(128, 128, 128, 1.0)\", \"dash\": \"solid\", \"shape\": \"linear\", \"width\": 1.3}, \"marker\": {\"size\": 2, \"symbol\": \"circle\"}, \"mode\": \"markers\", \"name\": \"B\", \"text\": \"\", \"type\": \"scatter\", \"x\": [0.1939937172428786, 0.01198709357479974, -0.9197269033255341, -0.5438327088373623, 0.7834803322226556, -0.6708218107355405, -1.2270086594013148, -1.5945161544505293, -0.9907976523527117, -1.1899911221168242, 1.06555728983655, 2.094349657907453, -0.7653286352163223, 1.433977366346678, 0.1025579048479289, 0.5415168750971099, 0.6220415367131382, -0.04484554676772563, 0.6955404172357864, -0.11957780741457012, 1.0271108203907722, 0.6507373589725515, -0.7063755562214526, 1.6571952496589455, 1.146856945684601, -0.49529121555876104, 1.1840268798212865, -0.7724289536911138, 0.2527295692748135, -0.7889106018528703, 0.23066964593224856, -1.8073249839624868, 0.772958272740142, -0.63828408764981, 0.04419548834580432, -0.42033677316336115, 0.40624489606208614, 0.5656080556659431, -0.6145851682752206, -0.6778165800450257, -0.8857667081316852, 0.23543865663786595, -0.64751953126351, -1.6272795581357524, -0.6442866082721088, 0.1598415091526614, -1.5846278315156788, -0.7362655278450032, -0.7776486911955109, -1.1613864726504064, 0.23645653791656362, -0.046116737128403223, -0.029034089438273472, -0.8685421833611577, 0.2935712096704209, -0.8739308445678745, 1.2397302903491216, -1.0913376504437429, -0.6048710523781545, 0.08859006580896896, -1.0303228102801352, -1.7636878381657142, -0.14365995147603303, 0.14903229630509462, -0.6075544438387713, -1.9829405790562238, 0.40415777675319375, 0.9457361120828759, -0.6755714235167501, 0.8713559375981939, 0.4739137310744739, 0.3147522180127868, -0.2046546098406741, 0.14490624189352064, -1.5887453539495555, 0.9561067061253106, 1.730784322102986, 0.9641936369270744, 0.18758257018712607, -1.468477230522763, -1.396553080753436, -0.15851043767701425, 0.25171776094821763, 0.39175943173832994, 1.0017592643824145, 0.21353478370158163, 0.17203759000931104, -0.6589458788707, 1.1948069902329483, 1.5726935605570183, 0.17965639147172213, 1.1752864388876985, 0.017479947472017726, -1.196331042019884, -0.12445553401560037, -0.5533379425308373, -0.5705664103816233, 0.7525227768380952, -0.15743217857562775, -1.4831723894832922], \"xaxis\": \"x5\", \"y\": [0.23368246569060097, -0.9442522999075037, 1.4757508350619062, 0.6583319804969867, 0.15258406889106102, 1.3158552472659093, -1.1185223279965273, -0.39158046812888286, 0.4227492695302025, -0.4909341004421402, 0.7128455728079772, -0.15126225022666062, -1.2023222572617485, -0.8598471122662901, 0.37748366577390813, -0.37771219854476956, -1.0151406391317663, -0.14193643232479458, 0.8809736707630573, -0.23316113463568516, -0.5983997236376914, 0.03792582797495273, -0.32118370929148204, -0.8462980786265933, 0.7903198321341133, 0.11392102390425404, -0.16772724666873615, 0.1829803492254897, -0.24904256392431023, 0.29629447097116984, 0.26853531155525406, 0.3436911031362945, -0.46546772335101344, -1.9565340522664583, -0.48789908862859693, 0.5750153580790885, 1.2110326819337072, -0.009798274879315942, 0.12101713494682781, 1.0030236847193514, 0.03861309294556079, -0.2495541588401459, 1.7273514293487122, 1.3084028742436131, 0.4305763232394022, -0.7869084257361719, 0.8254293478530841, -0.43502106798764056, -0.13354688307494209, 0.6219701085364925, -1.8580516396037385, 1.1286789826664125, -1.0625405436631963, -0.9365892727376878, 0.6806982847756373, -0.1946403985222004, 0.4761758840675131, -1.0088981756190227, -0.7992768349220223, -0.35794293507930447, -0.17325042991865502, -0.4230132705446578, 0.1427484128576023, -0.7004909250080186, 1.774090400681258, -1.2169058705918558, 0.46261600529206226, -0.34851608304004095, -0.4817134781062881, 0.46460131852352665, -1.869064937974819, 0.834009784941836, -0.9559119847388752, 0.20920885600486094, 0.39019270359429936, 0.39307707529506475, 0.3343726549154573, -0.684670668616076, -0.8048142809658069, 0.88284740018694, -0.3087500230206805, 0.46458735139030743, -1.490421224828702, 1.0168255723243191, -3.036278794878397, -0.5567832667949063, 0.3044588029679682, -1.3675017563132523, -1.0363699333245238, 0.20591239093078306, -0.34700208542240774, -1.1698183128242192, -1.6901164485187143, -0.19161696321123506, -0.8388321875453237, 0.22335717569772506, 1.2499142008432396, 0.8903687204778106, 0.9098245017412132, -1.4504571813426723], \"yaxis\": \"y5\"}, {\"histfunc\": \"count\", \"histnorm\": \"\", \"marker\": {\"color\": \"rgba(55, 128, 191, 1.0)\", \"line\": {\"color\": \"#4D5663\", \"width\": 1.3}}, \"name\": \"B\", \"nbinsx\": 10, \"opacity\": 0.8, \"orientation\": \"v\", \"type\": \"histogram\", \"x\": [0.23368246569060097, -0.9442522999075037, 1.4757508350619062, 0.6583319804969867, 0.15258406889106102, 1.3158552472659093, -1.1185223279965273, -0.39158046812888286, 0.4227492695302025, -0.4909341004421402, 0.7128455728079772, -0.15126225022666062, -1.2023222572617485, -0.8598471122662901, 0.37748366577390813, -0.37771219854476956, -1.0151406391317663, -0.14193643232479458, 0.8809736707630573, -0.23316113463568516, -0.5983997236376914, 0.03792582797495273, -0.32118370929148204, -0.8462980786265933, 0.7903198321341133, 0.11392102390425404, -0.16772724666873615, 0.1829803492254897, -0.24904256392431023, 0.29629447097116984, 0.26853531155525406, 0.3436911031362945, -0.46546772335101344, -1.9565340522664583, -0.48789908862859693, 0.5750153580790885, 1.2110326819337072, -0.009798274879315942, 0.12101713494682781, 1.0030236847193514, 0.03861309294556079, -0.2495541588401459, 1.7273514293487122, 1.3084028742436131, 0.4305763232394022, -0.7869084257361719, 0.8254293478530841, -0.43502106798764056, -0.13354688307494209, 0.6219701085364925, -1.8580516396037385, 1.1286789826664125, -1.0625405436631963, -0.9365892727376878, 0.6806982847756373, -0.1946403985222004, 0.4761758840675131, -1.0088981756190227, -0.7992768349220223, -0.35794293507930447, -0.17325042991865502, -0.4230132705446578, 0.1427484128576023, -0.7004909250080186, 1.774090400681258, -1.2169058705918558, 0.46261600529206226, -0.34851608304004095, -0.4817134781062881, 0.46460131852352665, -1.869064937974819, 0.834009784941836, -0.9559119847388752, 0.20920885600486094, 0.39019270359429936, 0.39307707529506475, 0.3343726549154573, -0.684670668616076, -0.8048142809658069, 0.88284740018694, -0.3087500230206805, 0.46458735139030743, -1.490421224828702, 1.0168255723243191, -3.036278794878397, -0.5567832667949063, 0.3044588029679682, -1.3675017563132523, -1.0363699333245238, 0.20591239093078306, -0.34700208542240774, -1.1698183128242192, -1.6901164485187143, -0.19161696321123506, -0.8388321875453237, 0.22335717569772506, 1.2499142008432396, 0.8903687204778106, 0.9098245017412132, -1.4504571813426723], \"xaxis\": \"x6\", \"yaxis\": \"y6\"}, {\"line\": {\"color\": \"rgba(128, 128, 128, 1.0)\", \"dash\": \"solid\", \"shape\": \"linear\", \"width\": 1.3}, \"marker\": {\"size\": 2, \"symbol\": \"circle\"}, \"mode\": \"markers\", \"name\": \"B\", \"text\": \"\", \"type\": \"scatter\", \"x\": [-0.5823318668595059, -2.2744390497068423, -1.906731684066569, -0.5513626957689196, 0.39461559398348384, 0.5169557830810106, 0.3524635608606682, 0.8838233919332499, -0.9565056955075907, -0.06626286694589308, -0.9949897683336856, -0.8114487497753088, -0.003611303468121072, 1.4439900082178663, 0.25259676770267625, 1.436767726788771, -0.6983892124871132, 0.03295140473258938, 0.9986876498500851, -1.1556967497895592, 2.170722286974381, 1.4371682813771784, -0.28244660314940956, -1.3858165266831945, -0.2620935832632944, 0.039256262195485274, 0.3199692367596603, -0.07790630284312257, -0.8772462483074769, -0.6695576897033452, 1.3996588303797524, -0.4947858149389341, -2.26364754779272, -0.6594437655734753, 0.3740796902269732, 0.08546519253792723, -0.5055110130412841, -1.4191416958465077, 1.1728109436156933, 1.9242658964640063, 0.5056021772828239, 1.491502004375118, 0.19343249977380636, -0.5864658225634096, -1.6588010408843623, -1.7985416792154787, -2.820276919138482, -0.057583079537563996, -1.8798165898369268, 0.4293906413553994, 0.17560072627186077, 0.3576250802671046, -2.570017173163602, 0.5186523551042922, 0.3621391236055714, 0.8324656339682126, 1.05778631950617, -0.8336869272989357, 0.7973931283101809, -0.18699756312895932, -2.012942411479047, 1.7948381927488994, -0.6842670310653491, -0.07919451609291259, 0.33788377122791946, 0.0903456079965252, -0.8895364171066543, -0.2751921958953291, -0.3326684917711887, -0.3942876119758109, 0.631373441701931, 1.5496128562258553, -0.13331197337348852, 0.6899646151891254, 0.30469680752622524, 0.24308493339135556, -0.12943965174181088, -0.7800032361107118, -0.8783481698550101, -0.7054519797774306, 0.08021136554396247, -1.0263799714847834, 0.5977895131309707, -1.7923753370544435, -0.04622365646082162, 0.7184618314374265, -0.20269335022881463, -2.340939254625209, -1.0335525621928099, 1.9345183882945527, -0.11336257793230811, 2.2240868174359325, 0.8208714718747483, 0.40311481334749866, 0.5730111938241931, -1.3057206207429375, 0.5688944979554517, -0.21735671990339317, 0.9815807455421307, -0.0009467706880349636], \"xaxis\": \"x7\", \"y\": [0.23368246569060097, -0.9442522999075037, 1.4757508350619062, 0.6583319804969867, 0.15258406889106102, 1.3158552472659093, -1.1185223279965273, -0.39158046812888286, 0.4227492695302025, -0.4909341004421402, 0.7128455728079772, -0.15126225022666062, -1.2023222572617485, -0.8598471122662901, 0.37748366577390813, -0.37771219854476956, -1.0151406391317663, -0.14193643232479458, 0.8809736707630573, -0.23316113463568516, -0.5983997236376914, 0.03792582797495273, -0.32118370929148204, -0.8462980786265933, 0.7903198321341133, 0.11392102390425404, -0.16772724666873615, 0.1829803492254897, -0.24904256392431023, 0.29629447097116984, 0.26853531155525406, 0.3436911031362945, -0.46546772335101344, -1.9565340522664583, -0.48789908862859693, 0.5750153580790885, 1.2110326819337072, -0.009798274879315942, 0.12101713494682781, 1.0030236847193514, 0.03861309294556079, -0.2495541588401459, 1.7273514293487122, 1.3084028742436131, 0.4305763232394022, -0.7869084257361719, 0.8254293478530841, -0.43502106798764056, -0.13354688307494209, 0.6219701085364925, -1.8580516396037385, 1.1286789826664125, -1.0625405436631963, -0.9365892727376878, 0.6806982847756373, -0.1946403985222004, 0.4761758840675131, -1.0088981756190227, -0.7992768349220223, -0.35794293507930447, -0.17325042991865502, -0.4230132705446578, 0.1427484128576023, -0.7004909250080186, 1.774090400681258, -1.2169058705918558, 0.46261600529206226, -0.34851608304004095, -0.4817134781062881, 0.46460131852352665, -1.869064937974819, 0.834009784941836, -0.9559119847388752, 0.20920885600486094, 0.39019270359429936, 0.39307707529506475, 0.3343726549154573, -0.684670668616076, -0.8048142809658069, 0.88284740018694, -0.3087500230206805, 0.46458735139030743, -1.490421224828702, 1.0168255723243191, -3.036278794878397, -0.5567832667949063, 0.3044588029679682, -1.3675017563132523, -1.0363699333245238, 0.20591239093078306, -0.34700208542240774, -1.1698183128242192, -1.6901164485187143, -0.19161696321123506, -0.8388321875453237, 0.22335717569772506, 1.2499142008432396, 0.8903687204778106, 0.9098245017412132, -1.4504571813426723], \"yaxis\": \"y7\"}, {\"line\": {\"color\": \"rgba(128, 128, 128, 1.0)\", \"dash\": \"solid\", \"shape\": \"linear\", \"width\": 1.3}, \"marker\": {\"size\": 2, \"symbol\": \"circle\"}, \"mode\": \"markers\", \"name\": \"B\", \"text\": \"\", \"type\": \"scatter\", \"x\": [1.0878727562733148, -3.183927786856656, -1.2165418882272248, -1.3457994021245334, 0.9796888777980709, -0.004563121440714167, -0.2720919414808995, -0.6638683939536272, 0.12364146389699673, 0.6034715091070327, 0.33636797507278166, 0.42828327424050344, 0.0017875921304598538, -0.11655090245395314, -0.4905668967494036, -1.1228432825026469, 1.8182016041619795, -1.557761621470184, 1.3015184095723158, -0.23159573583333876, -0.5449093217377119, 1.43897008476746, -1.3279397081636455, 0.6363903550833581, 0.4528072186529549, -1.7851712670535906, 0.7141057067757112, -0.33187492626306025, 1.6681190790510114, -0.2874854367747743, -0.3051688103397385, -2.2474495565578483, 0.4034404594463374, 0.4382216865108747, 0.648433721742599, 2.2186868229500787, -1.3007667444019895, 0.06908194556571537, 0.4522968994949464, 0.4872506422408174, -1.0332493480778895, -0.8338401193489707, -0.6220533909107981, 0.3960332251302076, 1.6237147524901696, 1.2839441830578537, -1.2126410107229466, -0.10708756206816038, 0.5355882897590875, -0.08800878713645252, -2.0491215702767405, 0.7424848191920586, 0.21909262912962196, -0.01329429205396815, -0.30507888382212034, -0.6083931749155976, 0.5793327852314085, -0.6788460963212135, -0.35715528392672263, -0.43100296914054503, 0.4389483611219654, 2.0422730375873615, 0.6837020976175603, -0.8157273479828914, 0.09952685283822336, -0.8975465471609441, 0.30767147339422135, 0.9313098495234367, -0.54996762165125, -0.1068594139868996, -0.0735659096516236, -0.3525281035878319, 0.005575500583184326, 0.320020017431672, 1.1573354676002396, 0.07550246336219645, 1.4178103667627282, -1.0643989547726969, 0.17920942756504474, 0.5502517757105804, 0.7234226346520044, -0.9850425699073619, 1.3515111964856776, -1.3312573536536412, 1.7905474971217765, 0.6921233996157161, 0.7100851792907438, 1.4043641058376857, -1.2715327414470388, 0.04570143515143198, 0.35970537984361617, -1.6000354300743447, 0.42646418128191177, 0.04335104436134634, 1.595242456889686, -1.6025233439761826, 0.43763450200717935, 0.5434222223220884, 0.7707172929606991, 0.5759401939779326], \"xaxis\": \"x8\", \"y\": [0.23368246569060097, -0.9442522999075037, 1.4757508350619062, 0.6583319804969867, 0.15258406889106102, 1.3158552472659093, -1.1185223279965273, -0.39158046812888286, 0.4227492695302025, -0.4909341004421402, 0.7128455728079772, -0.15126225022666062, -1.2023222572617485, -0.8598471122662901, 0.37748366577390813, -0.37771219854476956, -1.0151406391317663, -0.14193643232479458, 0.8809736707630573, -0.23316113463568516, -0.5983997236376914, 0.03792582797495273, -0.32118370929148204, -0.8462980786265933, 0.7903198321341133, 0.11392102390425404, -0.16772724666873615, 0.1829803492254897, -0.24904256392431023, 0.29629447097116984, 0.26853531155525406, 0.3436911031362945, -0.46546772335101344, -1.9565340522664583, -0.48789908862859693, 0.5750153580790885, 1.2110326819337072, -0.009798274879315942, 0.12101713494682781, 1.0030236847193514, 0.03861309294556079, -0.2495541588401459, 1.7273514293487122, 1.3084028742436131, 0.4305763232394022, -0.7869084257361719, 0.8254293478530841, -0.43502106798764056, -0.13354688307494209, 0.6219701085364925, -1.8580516396037385, 1.1286789826664125, -1.0625405436631963, -0.9365892727376878, 0.6806982847756373, -0.1946403985222004, 0.4761758840675131, -1.0088981756190227, -0.7992768349220223, -0.35794293507930447, -0.17325042991865502, -0.4230132705446578, 0.1427484128576023, -0.7004909250080186, 1.774090400681258, -1.2169058705918558, 0.46261600529206226, -0.34851608304004095, -0.4817134781062881, 0.46460131852352665, -1.869064937974819, 0.834009784941836, -0.9559119847388752, 0.20920885600486094, 0.39019270359429936, 0.39307707529506475, 0.3343726549154573, -0.684670668616076, -0.8048142809658069, 0.88284740018694, -0.3087500230206805, 0.46458735139030743, -1.490421224828702, 1.0168255723243191, -3.036278794878397, -0.5567832667949063, 0.3044588029679682, -1.3675017563132523, -1.0363699333245238, 0.20591239093078306, -0.34700208542240774, -1.1698183128242192, -1.6901164485187143, -0.19161696321123506, -0.8388321875453237, 0.22335717569772506, 1.2499142008432396, 0.8903687204778106, 0.9098245017412132, -1.4504571813426723], \"yaxis\": \"y8\"}, {\"line\": {\"color\": \"rgba(128, 128, 128, 1.0)\", \"dash\": \"solid\", \"shape\": \"linear\", \"width\": 1.3}, \"marker\": {\"size\": 2, \"symbol\": \"circle\"}, \"mode\": \"markers\", \"name\": \"C\", \"text\": \"\", \"type\": \"scatter\", \"x\": [0.1939937172428786, 0.01198709357479974, -0.9197269033255341, -0.5438327088373623, 0.7834803322226556, -0.6708218107355405, -1.2270086594013148, -1.5945161544505293, -0.9907976523527117, -1.1899911221168242, 1.06555728983655, 2.094349657907453, -0.7653286352163223, 1.433977366346678, 0.1025579048479289, 0.5415168750971099, 0.6220415367131382, -0.04484554676772563, 0.6955404172357864, -0.11957780741457012, 1.0271108203907722, 0.6507373589725515, -0.7063755562214526, 1.6571952496589455, 1.146856945684601, -0.49529121555876104, 1.1840268798212865, -0.7724289536911138, 0.2527295692748135, -0.7889106018528703, 0.23066964593224856, -1.8073249839624868, 0.772958272740142, -0.63828408764981, 0.04419548834580432, -0.42033677316336115, 0.40624489606208614, 0.5656080556659431, -0.6145851682752206, -0.6778165800450257, -0.8857667081316852, 0.23543865663786595, -0.64751953126351, -1.6272795581357524, -0.6442866082721088, 0.1598415091526614, -1.5846278315156788, -0.7362655278450032, -0.7776486911955109, -1.1613864726504064, 0.23645653791656362, -0.046116737128403223, -0.029034089438273472, -0.8685421833611577, 0.2935712096704209, -0.8739308445678745, 1.2397302903491216, -1.0913376504437429, -0.6048710523781545, 0.08859006580896896, -1.0303228102801352, -1.7636878381657142, -0.14365995147603303, 0.14903229630509462, -0.6075544438387713, -1.9829405790562238, 0.40415777675319375, 0.9457361120828759, -0.6755714235167501, 0.8713559375981939, 0.4739137310744739, 0.3147522180127868, -0.2046546098406741, 0.14490624189352064, -1.5887453539495555, 0.9561067061253106, 1.730784322102986, 0.9641936369270744, 0.18758257018712607, -1.468477230522763, -1.396553080753436, -0.15851043767701425, 0.25171776094821763, 0.39175943173832994, 1.0017592643824145, 0.21353478370158163, 0.17203759000931104, -0.6589458788707, 1.1948069902329483, 1.5726935605570183, 0.17965639147172213, 1.1752864388876985, 0.017479947472017726, -1.196331042019884, -0.12445553401560037, -0.5533379425308373, -0.5705664103816233, 0.7525227768380952, -0.15743217857562775, -1.4831723894832922], \"xaxis\": \"x9\", \"y\": [-0.5823318668595059, -2.2744390497068423, -1.906731684066569, -0.5513626957689196, 0.39461559398348384, 0.5169557830810106, 0.3524635608606682, 0.8838233919332499, -0.9565056955075907, -0.06626286694589308, -0.9949897683336856, -0.8114487497753088, -0.003611303468121072, 1.4439900082178663, 0.25259676770267625, 1.436767726788771, -0.6983892124871132, 0.03295140473258938, 0.9986876498500851, -1.1556967497895592, 2.170722286974381, 1.4371682813771784, -0.28244660314940956, -1.3858165266831945, -0.2620935832632944, 0.039256262195485274, 0.3199692367596603, -0.07790630284312257, -0.8772462483074769, -0.6695576897033452, 1.3996588303797524, -0.4947858149389341, -2.26364754779272, -0.6594437655734753, 0.3740796902269732, 0.08546519253792723, -0.5055110130412841, -1.4191416958465077, 1.1728109436156933, 1.9242658964640063, 0.5056021772828239, 1.491502004375118, 0.19343249977380636, -0.5864658225634096, -1.6588010408843623, -1.7985416792154787, -2.820276919138482, -0.057583079537563996, -1.8798165898369268, 0.4293906413553994, 0.17560072627186077, 0.3576250802671046, -2.570017173163602, 0.5186523551042922, 0.3621391236055714, 0.8324656339682126, 1.05778631950617, -0.8336869272989357, 0.7973931283101809, -0.18699756312895932, -2.012942411479047, 1.7948381927488994, -0.6842670310653491, -0.07919451609291259, 0.33788377122791946, 0.0903456079965252, -0.8895364171066543, -0.2751921958953291, -0.3326684917711887, -0.3942876119758109, 0.631373441701931, 1.5496128562258553, -0.13331197337348852, 0.6899646151891254, 0.30469680752622524, 0.24308493339135556, -0.12943965174181088, -0.7800032361107118, -0.8783481698550101, -0.7054519797774306, 0.08021136554396247, -1.0263799714847834, 0.5977895131309707, -1.7923753370544435, -0.04622365646082162, 0.7184618314374265, -0.20269335022881463, -2.340939254625209, -1.0335525621928099, 1.9345183882945527, -0.11336257793230811, 2.2240868174359325, 0.8208714718747483, 0.40311481334749866, 0.5730111938241931, -1.3057206207429375, 0.5688944979554517, -0.21735671990339317, 0.9815807455421307, -0.0009467706880349636], \"yaxis\": \"y9\"}, {\"line\": {\"color\": \"rgba(128, 128, 128, 1.0)\", \"dash\": \"solid\", \"shape\": \"linear\", \"width\": 1.3}, \"marker\": {\"size\": 2, \"symbol\": \"circle\"}, \"mode\": \"markers\", \"name\": \"C\", \"text\": \"\", \"type\": \"scatter\", \"x\": [0.23368246569060097, -0.9442522999075037, 1.4757508350619062, 0.6583319804969867, 0.15258406889106102, 1.3158552472659093, -1.1185223279965273, -0.39158046812888286, 0.4227492695302025, -0.4909341004421402, 0.7128455728079772, -0.15126225022666062, -1.2023222572617485, -0.8598471122662901, 0.37748366577390813, -0.37771219854476956, -1.0151406391317663, -0.14193643232479458, 0.8809736707630573, -0.23316113463568516, -0.5983997236376914, 0.03792582797495273, -0.32118370929148204, -0.8462980786265933, 0.7903198321341133, 0.11392102390425404, -0.16772724666873615, 0.1829803492254897, -0.24904256392431023, 0.29629447097116984, 0.26853531155525406, 0.3436911031362945, -0.46546772335101344, -1.9565340522664583, -0.48789908862859693, 0.5750153580790885, 1.2110326819337072, -0.009798274879315942, 0.12101713494682781, 1.0030236847193514, 0.03861309294556079, -0.2495541588401459, 1.7273514293487122, 1.3084028742436131, 0.4305763232394022, -0.7869084257361719, 0.8254293478530841, -0.43502106798764056, -0.13354688307494209, 0.6219701085364925, -1.8580516396037385, 1.1286789826664125, -1.0625405436631963, -0.9365892727376878, 0.6806982847756373, -0.1946403985222004, 0.4761758840675131, -1.0088981756190227, -0.7992768349220223, -0.35794293507930447, -0.17325042991865502, -0.4230132705446578, 0.1427484128576023, -0.7004909250080186, 1.774090400681258, -1.2169058705918558, 0.46261600529206226, -0.34851608304004095, -0.4817134781062881, 0.46460131852352665, -1.869064937974819, 0.834009784941836, -0.9559119847388752, 0.20920885600486094, 0.39019270359429936, 0.39307707529506475, 0.3343726549154573, -0.684670668616076, -0.8048142809658069, 0.88284740018694, -0.3087500230206805, 0.46458735139030743, -1.490421224828702, 1.0168255723243191, -3.036278794878397, -0.5567832667949063, 0.3044588029679682, -1.3675017563132523, -1.0363699333245238, 0.20591239093078306, -0.34700208542240774, -1.1698183128242192, -1.6901164485187143, -0.19161696321123506, -0.8388321875453237, 0.22335717569772506, 1.2499142008432396, 0.8903687204778106, 0.9098245017412132, -1.4504571813426723], \"xaxis\": \"x10\", \"y\": [-0.5823318668595059, -2.2744390497068423, -1.906731684066569, -0.5513626957689196, 0.39461559398348384, 0.5169557830810106, 0.3524635608606682, 0.8838233919332499, -0.9565056955075907, -0.06626286694589308, -0.9949897683336856, -0.8114487497753088, -0.003611303468121072, 1.4439900082178663, 0.25259676770267625, 1.436767726788771, -0.6983892124871132, 0.03295140473258938, 0.9986876498500851, -1.1556967497895592, 2.170722286974381, 1.4371682813771784, -0.28244660314940956, -1.3858165266831945, -0.2620935832632944, 0.039256262195485274, 0.3199692367596603, -0.07790630284312257, -0.8772462483074769, -0.6695576897033452, 1.3996588303797524, -0.4947858149389341, -2.26364754779272, -0.6594437655734753, 0.3740796902269732, 0.08546519253792723, -0.5055110130412841, -1.4191416958465077, 1.1728109436156933, 1.9242658964640063, 0.5056021772828239, 1.491502004375118, 0.19343249977380636, -0.5864658225634096, -1.6588010408843623, -1.7985416792154787, -2.820276919138482, -0.057583079537563996, -1.8798165898369268, 0.4293906413553994, 0.17560072627186077, 0.3576250802671046, -2.570017173163602, 0.5186523551042922, 0.3621391236055714, 0.8324656339682126, 1.05778631950617, -0.8336869272989357, 0.7973931283101809, -0.18699756312895932, -2.012942411479047, 1.7948381927488994, -0.6842670310653491, -0.07919451609291259, 0.33788377122791946, 0.0903456079965252, -0.8895364171066543, -0.2751921958953291, -0.3326684917711887, -0.3942876119758109, 0.631373441701931, 1.5496128562258553, -0.13331197337348852, 0.6899646151891254, 0.30469680752622524, 0.24308493339135556, -0.12943965174181088, -0.7800032361107118, -0.8783481698550101, -0.7054519797774306, 0.08021136554396247, -1.0263799714847834, 0.5977895131309707, -1.7923753370544435, -0.04622365646082162, 0.7184618314374265, -0.20269335022881463, -2.340939254625209, -1.0335525621928099, 1.9345183882945527, -0.11336257793230811, 2.2240868174359325, 0.8208714718747483, 0.40311481334749866, 0.5730111938241931, -1.3057206207429375, 0.5688944979554517, -0.21735671990339317, 0.9815807455421307, -0.0009467706880349636], \"yaxis\": \"y10\"}, {\"histfunc\": \"count\", \"histnorm\": \"\", \"marker\": {\"color\": \"rgba(50, 171, 96, 1.0)\", \"line\": {\"color\": \"#4D5663\", \"width\": 1.3}}, \"name\": \"C\", \"nbinsx\": 10, \"opacity\": 0.8, \"orientation\": \"v\", \"type\": \"histogram\", \"x\": [-0.5823318668595059, -2.2744390497068423, -1.906731684066569, -0.5513626957689196, 0.39461559398348384, 0.5169557830810106, 0.3524635608606682, 0.8838233919332499, -0.9565056955075907, -0.06626286694589308, -0.9949897683336856, -0.8114487497753088, -0.003611303468121072, 1.4439900082178663, 0.25259676770267625, 1.436767726788771, -0.6983892124871132, 0.03295140473258938, 0.9986876498500851, -1.1556967497895592, 2.170722286974381, 1.4371682813771784, -0.28244660314940956, -1.3858165266831945, -0.2620935832632944, 0.039256262195485274, 0.3199692367596603, -0.07790630284312257, -0.8772462483074769, -0.6695576897033452, 1.3996588303797524, -0.4947858149389341, -2.26364754779272, -0.6594437655734753, 0.3740796902269732, 0.08546519253792723, -0.5055110130412841, -1.4191416958465077, 1.1728109436156933, 1.9242658964640063, 0.5056021772828239, 1.491502004375118, 0.19343249977380636, -0.5864658225634096, -1.6588010408843623, -1.7985416792154787, -2.820276919138482, -0.057583079537563996, -1.8798165898369268, 0.4293906413553994, 0.17560072627186077, 0.3576250802671046, -2.570017173163602, 0.5186523551042922, 0.3621391236055714, 0.8324656339682126, 1.05778631950617, -0.8336869272989357, 0.7973931283101809, -0.18699756312895932, -2.012942411479047, 1.7948381927488994, -0.6842670310653491, -0.07919451609291259, 0.33788377122791946, 0.0903456079965252, -0.8895364171066543, -0.2751921958953291, -0.3326684917711887, -0.3942876119758109, 0.631373441701931, 1.5496128562258553, -0.13331197337348852, 0.6899646151891254, 0.30469680752622524, 0.24308493339135556, -0.12943965174181088, -0.7800032361107118, -0.8783481698550101, -0.7054519797774306, 0.08021136554396247, -1.0263799714847834, 0.5977895131309707, -1.7923753370544435, -0.04622365646082162, 0.7184618314374265, -0.20269335022881463, -2.340939254625209, -1.0335525621928099, 1.9345183882945527, -0.11336257793230811, 2.2240868174359325, 0.8208714718747483, 0.40311481334749866, 0.5730111938241931, -1.3057206207429375, 0.5688944979554517, -0.21735671990339317, 0.9815807455421307, -0.0009467706880349636], \"xaxis\": \"x11\", \"yaxis\": \"y11\"}, {\"line\": {\"color\": \"rgba(128, 128, 128, 1.0)\", \"dash\": \"solid\", \"shape\": \"linear\", \"width\": 1.3}, \"marker\": {\"size\": 2, \"symbol\": \"circle\"}, \"mode\": \"markers\", \"name\": \"C\", \"text\": \"\", \"type\": \"scatter\", \"x\": [1.0878727562733148, -3.183927786856656, -1.2165418882272248, -1.3457994021245334, 0.9796888777980709, -0.004563121440714167, -0.2720919414808995, -0.6638683939536272, 0.12364146389699673, 0.6034715091070327, 0.33636797507278166, 0.42828327424050344, 0.0017875921304598538, -0.11655090245395314, -0.4905668967494036, -1.1228432825026469, 1.8182016041619795, -1.557761621470184, 1.3015184095723158, -0.23159573583333876, -0.5449093217377119, 1.43897008476746, -1.3279397081636455, 0.6363903550833581, 0.4528072186529549, -1.7851712670535906, 0.7141057067757112, -0.33187492626306025, 1.6681190790510114, -0.2874854367747743, -0.3051688103397385, -2.2474495565578483, 0.4034404594463374, 0.4382216865108747, 0.648433721742599, 2.2186868229500787, -1.3007667444019895, 0.06908194556571537, 0.4522968994949464, 0.4872506422408174, -1.0332493480778895, -0.8338401193489707, -0.6220533909107981, 0.3960332251302076, 1.6237147524901696, 1.2839441830578537, -1.2126410107229466, -0.10708756206816038, 0.5355882897590875, -0.08800878713645252, -2.0491215702767405, 0.7424848191920586, 0.21909262912962196, -0.01329429205396815, -0.30507888382212034, -0.6083931749155976, 0.5793327852314085, -0.6788460963212135, -0.35715528392672263, -0.43100296914054503, 0.4389483611219654, 2.0422730375873615, 0.6837020976175603, -0.8157273479828914, 0.09952685283822336, -0.8975465471609441, 0.30767147339422135, 0.9313098495234367, -0.54996762165125, -0.1068594139868996, -0.0735659096516236, -0.3525281035878319, 0.005575500583184326, 0.320020017431672, 1.1573354676002396, 0.07550246336219645, 1.4178103667627282, -1.0643989547726969, 0.17920942756504474, 0.5502517757105804, 0.7234226346520044, -0.9850425699073619, 1.3515111964856776, -1.3312573536536412, 1.7905474971217765, 0.6921233996157161, 0.7100851792907438, 1.4043641058376857, -1.2715327414470388, 0.04570143515143198, 0.35970537984361617, -1.6000354300743447, 0.42646418128191177, 0.04335104436134634, 1.595242456889686, -1.6025233439761826, 0.43763450200717935, 0.5434222223220884, 0.7707172929606991, 0.5759401939779326], \"xaxis\": \"x12\", \"y\": [-0.5823318668595059, -2.2744390497068423, -1.906731684066569, -0.5513626957689196, 0.39461559398348384, 0.5169557830810106, 0.3524635608606682, 0.8838233919332499, -0.9565056955075907, -0.06626286694589308, -0.9949897683336856, -0.8114487497753088, -0.003611303468121072, 1.4439900082178663, 0.25259676770267625, 1.436767726788771, -0.6983892124871132, 0.03295140473258938, 0.9986876498500851, -1.1556967497895592, 2.170722286974381, 1.4371682813771784, -0.28244660314940956, -1.3858165266831945, -0.2620935832632944, 0.039256262195485274, 0.3199692367596603, -0.07790630284312257, -0.8772462483074769, -0.6695576897033452, 1.3996588303797524, -0.4947858149389341, -2.26364754779272, -0.6594437655734753, 0.3740796902269732, 0.08546519253792723, -0.5055110130412841, -1.4191416958465077, 1.1728109436156933, 1.9242658964640063, 0.5056021772828239, 1.491502004375118, 0.19343249977380636, -0.5864658225634096, -1.6588010408843623, -1.7985416792154787, -2.820276919138482, -0.057583079537563996, -1.8798165898369268, 0.4293906413553994, 0.17560072627186077, 0.3576250802671046, -2.570017173163602, 0.5186523551042922, 0.3621391236055714, 0.8324656339682126, 1.05778631950617, -0.8336869272989357, 0.7973931283101809, -0.18699756312895932, -2.012942411479047, 1.7948381927488994, -0.6842670310653491, -0.07919451609291259, 0.33788377122791946, 0.0903456079965252, -0.8895364171066543, -0.2751921958953291, -0.3326684917711887, -0.3942876119758109, 0.631373441701931, 1.5496128562258553, -0.13331197337348852, 0.6899646151891254, 0.30469680752622524, 0.24308493339135556, -0.12943965174181088, -0.7800032361107118, -0.8783481698550101, -0.7054519797774306, 0.08021136554396247, -1.0263799714847834, 0.5977895131309707, -1.7923753370544435, -0.04622365646082162, 0.7184618314374265, -0.20269335022881463, -2.340939254625209, -1.0335525621928099, 1.9345183882945527, -0.11336257793230811, 2.2240868174359325, 0.8208714718747483, 0.40311481334749866, 0.5730111938241931, -1.3057206207429375, 0.5688944979554517, -0.21735671990339317, 0.9815807455421307, -0.0009467706880349636], \"yaxis\": \"y12\"}, {\"line\": {\"color\": \"rgba(128, 128, 128, 1.0)\", \"dash\": \"solid\", \"shape\": \"linear\", \"width\": 1.3}, \"marker\": {\"size\": 2, \"symbol\": \"circle\"}, \"mode\": \"markers\", \"name\": \"D\", \"text\": \"\", \"type\": \"scatter\", \"x\": [0.1939937172428786, 0.01198709357479974, -0.9197269033255341, -0.5438327088373623, 0.7834803322226556, -0.6708218107355405, -1.2270086594013148, -1.5945161544505293, -0.9907976523527117, -1.1899911221168242, 1.06555728983655, 2.094349657907453, -0.7653286352163223, 1.433977366346678, 0.1025579048479289, 0.5415168750971099, 0.6220415367131382, -0.04484554676772563, 0.6955404172357864, -0.11957780741457012, 1.0271108203907722, 0.6507373589725515, -0.7063755562214526, 1.6571952496589455, 1.146856945684601, -0.49529121555876104, 1.1840268798212865, -0.7724289536911138, 0.2527295692748135, -0.7889106018528703, 0.23066964593224856, -1.8073249839624868, 0.772958272740142, -0.63828408764981, 0.04419548834580432, -0.42033677316336115, 0.40624489606208614, 0.5656080556659431, -0.6145851682752206, -0.6778165800450257, -0.8857667081316852, 0.23543865663786595, -0.64751953126351, -1.6272795581357524, -0.6442866082721088, 0.1598415091526614, -1.5846278315156788, -0.7362655278450032, -0.7776486911955109, -1.1613864726504064, 0.23645653791656362, -0.046116737128403223, -0.029034089438273472, -0.8685421833611577, 0.2935712096704209, -0.8739308445678745, 1.2397302903491216, -1.0913376504437429, -0.6048710523781545, 0.08859006580896896, -1.0303228102801352, -1.7636878381657142, -0.14365995147603303, 0.14903229630509462, -0.6075544438387713, -1.9829405790562238, 0.40415777675319375, 0.9457361120828759, -0.6755714235167501, 0.8713559375981939, 0.4739137310744739, 0.3147522180127868, -0.2046546098406741, 0.14490624189352064, -1.5887453539495555, 0.9561067061253106, 1.730784322102986, 0.9641936369270744, 0.18758257018712607, -1.468477230522763, -1.396553080753436, -0.15851043767701425, 0.25171776094821763, 0.39175943173832994, 1.0017592643824145, 0.21353478370158163, 0.17203759000931104, -0.6589458788707, 1.1948069902329483, 1.5726935605570183, 0.17965639147172213, 1.1752864388876985, 0.017479947472017726, -1.196331042019884, -0.12445553401560037, -0.5533379425308373, -0.5705664103816233, 0.7525227768380952, -0.15743217857562775, -1.4831723894832922], \"xaxis\": \"x13\", \"y\": [1.0878727562733148, -3.183927786856656, -1.2165418882272248, -1.3457994021245334, 0.9796888777980709, -0.004563121440714167, -0.2720919414808995, -0.6638683939536272, 0.12364146389699673, 0.6034715091070327, 0.33636797507278166, 0.42828327424050344, 0.0017875921304598538, -0.11655090245395314, -0.4905668967494036, -1.1228432825026469, 1.8182016041619795, -1.557761621470184, 1.3015184095723158, -0.23159573583333876, -0.5449093217377119, 1.43897008476746, -1.3279397081636455, 0.6363903550833581, 0.4528072186529549, -1.7851712670535906, 0.7141057067757112, -0.33187492626306025, 1.6681190790510114, -0.2874854367747743, -0.3051688103397385, -2.2474495565578483, 0.4034404594463374, 0.4382216865108747, 0.648433721742599, 2.2186868229500787, -1.3007667444019895, 0.06908194556571537, 0.4522968994949464, 0.4872506422408174, -1.0332493480778895, -0.8338401193489707, -0.6220533909107981, 0.3960332251302076, 1.6237147524901696, 1.2839441830578537, -1.2126410107229466, -0.10708756206816038, 0.5355882897590875, -0.08800878713645252, -2.0491215702767405, 0.7424848191920586, 0.21909262912962196, -0.01329429205396815, -0.30507888382212034, -0.6083931749155976, 0.5793327852314085, -0.6788460963212135, -0.35715528392672263, -0.43100296914054503, 0.4389483611219654, 2.0422730375873615, 0.6837020976175603, -0.8157273479828914, 0.09952685283822336, -0.8975465471609441, 0.30767147339422135, 0.9313098495234367, -0.54996762165125, -0.1068594139868996, -0.0735659096516236, -0.3525281035878319, 0.005575500583184326, 0.320020017431672, 1.1573354676002396, 0.07550246336219645, 1.4178103667627282, -1.0643989547726969, 0.17920942756504474, 0.5502517757105804, 0.7234226346520044, -0.9850425699073619, 1.3515111964856776, -1.3312573536536412, 1.7905474971217765, 0.6921233996157161, 0.7100851792907438, 1.4043641058376857, -1.2715327414470388, 0.04570143515143198, 0.35970537984361617, -1.6000354300743447, 0.42646418128191177, 0.04335104436134634, 1.595242456889686, -1.6025233439761826, 0.43763450200717935, 0.5434222223220884, 0.7707172929606991, 0.5759401939779326], \"yaxis\": \"y13\"}, {\"line\": {\"color\": \"rgba(128, 128, 128, 1.0)\", \"dash\": \"solid\", \"shape\": \"linear\", \"width\": 1.3}, \"marker\": {\"size\": 2, \"symbol\": \"circle\"}, \"mode\": \"markers\", \"name\": \"D\", \"text\": \"\", \"type\": \"scatter\", \"x\": [0.23368246569060097, -0.9442522999075037, 1.4757508350619062, 0.6583319804969867, 0.15258406889106102, 1.3158552472659093, -1.1185223279965273, -0.39158046812888286, 0.4227492695302025, -0.4909341004421402, 0.7128455728079772, -0.15126225022666062, -1.2023222572617485, -0.8598471122662901, 0.37748366577390813, -0.37771219854476956, -1.0151406391317663, -0.14193643232479458, 0.8809736707630573, -0.23316113463568516, -0.5983997236376914, 0.03792582797495273, -0.32118370929148204, -0.8462980786265933, 0.7903198321341133, 0.11392102390425404, -0.16772724666873615, 0.1829803492254897, -0.24904256392431023, 0.29629447097116984, 0.26853531155525406, 0.3436911031362945, -0.46546772335101344, -1.9565340522664583, -0.48789908862859693, 0.5750153580790885, 1.2110326819337072, -0.009798274879315942, 0.12101713494682781, 1.0030236847193514, 0.03861309294556079, -0.2495541588401459, 1.7273514293487122, 1.3084028742436131, 0.4305763232394022, -0.7869084257361719, 0.8254293478530841, -0.43502106798764056, -0.13354688307494209, 0.6219701085364925, -1.8580516396037385, 1.1286789826664125, -1.0625405436631963, -0.9365892727376878, 0.6806982847756373, -0.1946403985222004, 0.4761758840675131, -1.0088981756190227, -0.7992768349220223, -0.35794293507930447, -0.17325042991865502, -0.4230132705446578, 0.1427484128576023, -0.7004909250080186, 1.774090400681258, -1.2169058705918558, 0.46261600529206226, -0.34851608304004095, -0.4817134781062881, 0.46460131852352665, -1.869064937974819, 0.834009784941836, -0.9559119847388752, 0.20920885600486094, 0.39019270359429936, 0.39307707529506475, 0.3343726549154573, -0.684670668616076, -0.8048142809658069, 0.88284740018694, -0.3087500230206805, 0.46458735139030743, -1.490421224828702, 1.0168255723243191, -3.036278794878397, -0.5567832667949063, 0.3044588029679682, -1.3675017563132523, -1.0363699333245238, 0.20591239093078306, -0.34700208542240774, -1.1698183128242192, -1.6901164485187143, -0.19161696321123506, -0.8388321875453237, 0.22335717569772506, 1.2499142008432396, 0.8903687204778106, 0.9098245017412132, -1.4504571813426723], \"xaxis\": \"x14\", \"y\": [1.0878727562733148, -3.183927786856656, -1.2165418882272248, -1.3457994021245334, 0.9796888777980709, -0.004563121440714167, -0.2720919414808995, -0.6638683939536272, 0.12364146389699673, 0.6034715091070327, 0.33636797507278166, 0.42828327424050344, 0.0017875921304598538, -0.11655090245395314, -0.4905668967494036, -1.1228432825026469, 1.8182016041619795, -1.557761621470184, 1.3015184095723158, -0.23159573583333876, -0.5449093217377119, 1.43897008476746, -1.3279397081636455, 0.6363903550833581, 0.4528072186529549, -1.7851712670535906, 0.7141057067757112, -0.33187492626306025, 1.6681190790510114, -0.2874854367747743, -0.3051688103397385, -2.2474495565578483, 0.4034404594463374, 0.4382216865108747, 0.648433721742599, 2.2186868229500787, -1.3007667444019895, 0.06908194556571537, 0.4522968994949464, 0.4872506422408174, -1.0332493480778895, -0.8338401193489707, -0.6220533909107981, 0.3960332251302076, 1.6237147524901696, 1.2839441830578537, -1.2126410107229466, -0.10708756206816038, 0.5355882897590875, -0.08800878713645252, -2.0491215702767405, 0.7424848191920586, 0.21909262912962196, -0.01329429205396815, -0.30507888382212034, -0.6083931749155976, 0.5793327852314085, -0.6788460963212135, -0.35715528392672263, -0.43100296914054503, 0.4389483611219654, 2.0422730375873615, 0.6837020976175603, -0.8157273479828914, 0.09952685283822336, -0.8975465471609441, 0.30767147339422135, 0.9313098495234367, -0.54996762165125, -0.1068594139868996, -0.0735659096516236, -0.3525281035878319, 0.005575500583184326, 0.320020017431672, 1.1573354676002396, 0.07550246336219645, 1.4178103667627282, -1.0643989547726969, 0.17920942756504474, 0.5502517757105804, 0.7234226346520044, -0.9850425699073619, 1.3515111964856776, -1.3312573536536412, 1.7905474971217765, 0.6921233996157161, 0.7100851792907438, 1.4043641058376857, -1.2715327414470388, 0.04570143515143198, 0.35970537984361617, -1.6000354300743447, 0.42646418128191177, 0.04335104436134634, 1.595242456889686, -1.6025233439761826, 0.43763450200717935, 0.5434222223220884, 0.7707172929606991, 0.5759401939779326], \"yaxis\": \"y14\"}, {\"line\": {\"color\": \"rgba(128, 128, 128, 1.0)\", \"dash\": \"solid\", \"shape\": \"linear\", \"width\": 1.3}, \"marker\": {\"size\": 2, \"symbol\": \"circle\"}, \"mode\": \"markers\", \"name\": \"D\", \"text\": \"\", \"type\": \"scatter\", \"x\": [-0.5823318668595059, -2.2744390497068423, -1.906731684066569, -0.5513626957689196, 0.39461559398348384, 0.5169557830810106, 0.3524635608606682, 0.8838233919332499, -0.9565056955075907, -0.06626286694589308, -0.9949897683336856, -0.8114487497753088, -0.003611303468121072, 1.4439900082178663, 0.25259676770267625, 1.436767726788771, -0.6983892124871132, 0.03295140473258938, 0.9986876498500851, -1.1556967497895592, 2.170722286974381, 1.4371682813771784, -0.28244660314940956, -1.3858165266831945, -0.2620935832632944, 0.039256262195485274, 0.3199692367596603, -0.07790630284312257, -0.8772462483074769, -0.6695576897033452, 1.3996588303797524, -0.4947858149389341, -2.26364754779272, -0.6594437655734753, 0.3740796902269732, 0.08546519253792723, -0.5055110130412841, -1.4191416958465077, 1.1728109436156933, 1.9242658964640063, 0.5056021772828239, 1.491502004375118, 0.19343249977380636, -0.5864658225634096, -1.6588010408843623, -1.7985416792154787, -2.820276919138482, -0.057583079537563996, -1.8798165898369268, 0.4293906413553994, 0.17560072627186077, 0.3576250802671046, -2.570017173163602, 0.5186523551042922, 0.3621391236055714, 0.8324656339682126, 1.05778631950617, -0.8336869272989357, 0.7973931283101809, -0.18699756312895932, -2.012942411479047, 1.7948381927488994, -0.6842670310653491, -0.07919451609291259, 0.33788377122791946, 0.0903456079965252, -0.8895364171066543, -0.2751921958953291, -0.3326684917711887, -0.3942876119758109, 0.631373441701931, 1.5496128562258553, -0.13331197337348852, 0.6899646151891254, 0.30469680752622524, 0.24308493339135556, -0.12943965174181088, -0.7800032361107118, -0.8783481698550101, -0.7054519797774306, 0.08021136554396247, -1.0263799714847834, 0.5977895131309707, -1.7923753370544435, -0.04622365646082162, 0.7184618314374265, -0.20269335022881463, -2.340939254625209, -1.0335525621928099, 1.9345183882945527, -0.11336257793230811, 2.2240868174359325, 0.8208714718747483, 0.40311481334749866, 0.5730111938241931, -1.3057206207429375, 0.5688944979554517, -0.21735671990339317, 0.9815807455421307, -0.0009467706880349636], \"xaxis\": \"x15\", \"y\": [1.0878727562733148, -3.183927786856656, -1.2165418882272248, -1.3457994021245334, 0.9796888777980709, -0.004563121440714167, -0.2720919414808995, -0.6638683939536272, 0.12364146389699673, 0.6034715091070327, 0.33636797507278166, 0.42828327424050344, 0.0017875921304598538, -0.11655090245395314, -0.4905668967494036, -1.1228432825026469, 1.8182016041619795, -1.557761621470184, 1.3015184095723158, -0.23159573583333876, -0.5449093217377119, 1.43897008476746, -1.3279397081636455, 0.6363903550833581, 0.4528072186529549, -1.7851712670535906, 0.7141057067757112, -0.33187492626306025, 1.6681190790510114, -0.2874854367747743, -0.3051688103397385, -2.2474495565578483, 0.4034404594463374, 0.4382216865108747, 0.648433721742599, 2.2186868229500787, -1.3007667444019895, 0.06908194556571537, 0.4522968994949464, 0.4872506422408174, -1.0332493480778895, -0.8338401193489707, -0.6220533909107981, 0.3960332251302076, 1.6237147524901696, 1.2839441830578537, -1.2126410107229466, -0.10708756206816038, 0.5355882897590875, -0.08800878713645252, -2.0491215702767405, 0.7424848191920586, 0.21909262912962196, -0.01329429205396815, -0.30507888382212034, -0.6083931749155976, 0.5793327852314085, -0.6788460963212135, -0.35715528392672263, -0.43100296914054503, 0.4389483611219654, 2.0422730375873615, 0.6837020976175603, -0.8157273479828914, 0.09952685283822336, -0.8975465471609441, 0.30767147339422135, 0.9313098495234367, -0.54996762165125, -0.1068594139868996, -0.0735659096516236, -0.3525281035878319, 0.005575500583184326, 0.320020017431672, 1.1573354676002396, 0.07550246336219645, 1.4178103667627282, -1.0643989547726969, 0.17920942756504474, 0.5502517757105804, 0.7234226346520044, -0.9850425699073619, 1.3515111964856776, -1.3312573536536412, 1.7905474971217765, 0.6921233996157161, 0.7100851792907438, 1.4043641058376857, -1.2715327414470388, 0.04570143515143198, 0.35970537984361617, -1.6000354300743447, 0.42646418128191177, 0.04335104436134634, 1.595242456889686, -1.6025233439761826, 0.43763450200717935, 0.5434222223220884, 0.7707172929606991, 0.5759401939779326], \"yaxis\": \"y15\"}, {\"histfunc\": \"count\", \"histnorm\": \"\", \"marker\": {\"color\": \"rgba(128, 0, 128, 1.0)\", \"line\": {\"color\": \"#4D5663\", \"width\": 1.3}}, \"name\": \"D\", \"nbinsx\": 10, \"opacity\": 0.8, \"orientation\": \"v\", \"type\": \"histogram\", \"x\": [1.0878727562733148, -3.183927786856656, -1.2165418882272248, -1.3457994021245334, 0.9796888777980709, -0.004563121440714167, -0.2720919414808995, -0.6638683939536272, 0.12364146389699673, 0.6034715091070327, 0.33636797507278166, 0.42828327424050344, 0.0017875921304598538, -0.11655090245395314, -0.4905668967494036, -1.1228432825026469, 1.8182016041619795, -1.557761621470184, 1.3015184095723158, -0.23159573583333876, -0.5449093217377119, 1.43897008476746, -1.3279397081636455, 0.6363903550833581, 0.4528072186529549, -1.7851712670535906, 0.7141057067757112, -0.33187492626306025, 1.6681190790510114, -0.2874854367747743, -0.3051688103397385, -2.2474495565578483, 0.4034404594463374, 0.4382216865108747, 0.648433721742599, 2.2186868229500787, -1.3007667444019895, 0.06908194556571537, 0.4522968994949464, 0.4872506422408174, -1.0332493480778895, -0.8338401193489707, -0.6220533909107981, 0.3960332251302076, 1.6237147524901696, 1.2839441830578537, -1.2126410107229466, -0.10708756206816038, 0.5355882897590875, -0.08800878713645252, -2.0491215702767405, 0.7424848191920586, 0.21909262912962196, -0.01329429205396815, -0.30507888382212034, -0.6083931749155976, 0.5793327852314085, -0.6788460963212135, -0.35715528392672263, -0.43100296914054503, 0.4389483611219654, 2.0422730375873615, 0.6837020976175603, -0.8157273479828914, 0.09952685283822336, -0.8975465471609441, 0.30767147339422135, 0.9313098495234367, -0.54996762165125, -0.1068594139868996, -0.0735659096516236, -0.3525281035878319, 0.005575500583184326, 0.320020017431672, 1.1573354676002396, 0.07550246336219645, 1.4178103667627282, -1.0643989547726969, 0.17920942756504474, 0.5502517757105804, 0.7234226346520044, -0.9850425699073619, 1.3515111964856776, -1.3312573536536412, 1.7905474971217765, 0.6921233996157161, 0.7100851792907438, 1.4043641058376857, -1.2715327414470388, 0.04570143515143198, 0.35970537984361617, -1.6000354300743447, 0.42646418128191177, 0.04335104436134634, 1.595242456889686, -1.6025233439761826, 0.43763450200717935, 0.5434222223220884, 0.7707172929606991, 0.5759401939779326], \"xaxis\": \"x16\", \"yaxis\": \"y16\"}],\n",
       "                        {\"bargap\": 0.02, \"legend\": {\"bgcolor\": \"#F5F6F9\", \"font\": {\"color\": \"#4D5663\"}}, \"paper_bgcolor\": \"#F5F6F9\", \"plot_bgcolor\": \"#F5F6F9\", \"showlegend\": false, \"template\": {\"data\": {\"bar\": [{\"error_x\": {\"color\": \"#2a3f5f\"}, \"error_y\": {\"color\": \"#2a3f5f\"}, \"marker\": {\"line\": {\"color\": \"#E5ECF6\", \"width\": 0.5}}, \"type\": \"bar\"}], \"barpolar\": [{\"marker\": {\"line\": {\"color\": \"#E5ECF6\", \"width\": 0.5}}, \"type\": \"barpolar\"}], \"carpet\": [{\"aaxis\": {\"endlinecolor\": \"#2a3f5f\", \"gridcolor\": \"white\", \"linecolor\": \"white\", \"minorgridcolor\": \"white\", \"startlinecolor\": \"#2a3f5f\"}, \"baxis\": {\"endlinecolor\": \"#2a3f5f\", \"gridcolor\": \"white\", \"linecolor\": \"white\", \"minorgridcolor\": \"white\", \"startlinecolor\": \"#2a3f5f\"}, \"type\": \"carpet\"}], \"choropleth\": [{\"colorbar\": {\"outlinewidth\": 0, \"ticks\": \"\"}, \"type\": \"choropleth\"}], \"contour\": [{\"colorbar\": {\"outlinewidth\": 0, \"ticks\": \"\"}, \"colorscale\": [[0.0, \"#0d0887\"], [0.1111111111111111, \"#46039f\"], [0.2222222222222222, \"#7201a8\"], [0.3333333333333333, \"#9c179e\"], [0.4444444444444444, \"#bd3786\"], [0.5555555555555556, \"#d8576b\"], [0.6666666666666666, \"#ed7953\"], [0.7777777777777778, \"#fb9f3a\"], [0.8888888888888888, \"#fdca26\"], [1.0, \"#f0f921\"]], \"type\": \"contour\"}], \"contourcarpet\": [{\"colorbar\": {\"outlinewidth\": 0, \"ticks\": \"\"}, \"type\": \"contourcarpet\"}], \"heatmap\": [{\"colorbar\": {\"outlinewidth\": 0, \"ticks\": \"\"}, \"colorscale\": [[0.0, \"#0d0887\"], [0.1111111111111111, \"#46039f\"], [0.2222222222222222, \"#7201a8\"], [0.3333333333333333, \"#9c179e\"], [0.4444444444444444, \"#bd3786\"], [0.5555555555555556, \"#d8576b\"], [0.6666666666666666, \"#ed7953\"], [0.7777777777777778, \"#fb9f3a\"], [0.8888888888888888, \"#fdca26\"], [1.0, \"#f0f921\"]], \"type\": \"heatmap\"}], \"heatmapgl\": [{\"colorbar\": {\"outlinewidth\": 0, \"ticks\": \"\"}, \"colorscale\": [[0.0, \"#0d0887\"], [0.1111111111111111, \"#46039f\"], [0.2222222222222222, \"#7201a8\"], [0.3333333333333333, \"#9c179e\"], [0.4444444444444444, \"#bd3786\"], [0.5555555555555556, \"#d8576b\"], [0.6666666666666666, \"#ed7953\"], [0.7777777777777778, \"#fb9f3a\"], [0.8888888888888888, \"#fdca26\"], [1.0, \"#f0f921\"]], \"type\": \"heatmapgl\"}], \"histogram\": [{\"marker\": {\"colorbar\": {\"outlinewidth\": 0, \"ticks\": \"\"}}, \"type\": \"histogram\"}], \"histogram2d\": [{\"colorbar\": {\"outlinewidth\": 0, \"ticks\": \"\"}, \"colorscale\": [[0.0, \"#0d0887\"], [0.1111111111111111, \"#46039f\"], [0.2222222222222222, \"#7201a8\"], [0.3333333333333333, \"#9c179e\"], [0.4444444444444444, \"#bd3786\"], [0.5555555555555556, \"#d8576b\"], [0.6666666666666666, \"#ed7953\"], [0.7777777777777778, \"#fb9f3a\"], [0.8888888888888888, \"#fdca26\"], [1.0, \"#f0f921\"]], \"type\": \"histogram2d\"}], \"histogram2dcontour\": [{\"colorbar\": {\"outlinewidth\": 0, \"ticks\": \"\"}, \"colorscale\": [[0.0, \"#0d0887\"], [0.1111111111111111, \"#46039f\"], [0.2222222222222222, \"#7201a8\"], [0.3333333333333333, \"#9c179e\"], [0.4444444444444444, \"#bd3786\"], [0.5555555555555556, \"#d8576b\"], [0.6666666666666666, \"#ed7953\"], [0.7777777777777778, \"#fb9f3a\"], [0.8888888888888888, \"#fdca26\"], [1.0, \"#f0f921\"]], \"type\": \"histogram2dcontour\"}], \"mesh3d\": [{\"colorbar\": {\"outlinewidth\": 0, \"ticks\": \"\"}, \"type\": \"mesh3d\"}], \"parcoords\": [{\"line\": {\"colorbar\": {\"outlinewidth\": 0, \"ticks\": \"\"}}, \"type\": \"parcoords\"}], \"pie\": [{\"automargin\": true, \"type\": \"pie\"}], \"scatter\": [{\"marker\": {\"colorbar\": {\"outlinewidth\": 0, \"ticks\": \"\"}}, \"type\": \"scatter\"}], \"scatter3d\": [{\"line\": {\"colorbar\": {\"outlinewidth\": 0, \"ticks\": \"\"}}, \"marker\": {\"colorbar\": {\"outlinewidth\": 0, \"ticks\": \"\"}}, \"type\": \"scatter3d\"}], \"scattercarpet\": [{\"marker\": {\"colorbar\": {\"outlinewidth\": 0, \"ticks\": \"\"}}, \"type\": \"scattercarpet\"}], \"scattergeo\": [{\"marker\": {\"colorbar\": {\"outlinewidth\": 0, \"ticks\": \"\"}}, \"type\": \"scattergeo\"}], \"scattergl\": [{\"marker\": {\"colorbar\": {\"outlinewidth\": 0, \"ticks\": \"\"}}, \"type\": \"scattergl\"}], \"scattermapbox\": [{\"marker\": {\"colorbar\": {\"outlinewidth\": 0, \"ticks\": \"\"}}, \"type\": \"scattermapbox\"}], \"scatterpolar\": [{\"marker\": {\"colorbar\": {\"outlinewidth\": 0, \"ticks\": \"\"}}, \"type\": \"scatterpolar\"}], \"scatterpolargl\": [{\"marker\": {\"colorbar\": {\"outlinewidth\": 0, \"ticks\": \"\"}}, \"type\": \"scatterpolargl\"}], \"scatterternary\": [{\"marker\": {\"colorbar\": {\"outlinewidth\": 0, \"ticks\": \"\"}}, \"type\": \"scatterternary\"}], \"surface\": [{\"colorbar\": {\"outlinewidth\": 0, \"ticks\": \"\"}, \"colorscale\": [[0.0, \"#0d0887\"], [0.1111111111111111, \"#46039f\"], [0.2222222222222222, \"#7201a8\"], [0.3333333333333333, \"#9c179e\"], [0.4444444444444444, \"#bd3786\"], [0.5555555555555556, \"#d8576b\"], [0.6666666666666666, \"#ed7953\"], [0.7777777777777778, \"#fb9f3a\"], [0.8888888888888888, \"#fdca26\"], [1.0, \"#f0f921\"]], \"type\": \"surface\"}], \"table\": [{\"cells\": {\"fill\": {\"color\": \"#EBF0F8\"}, \"line\": {\"color\": \"white\"}}, \"header\": {\"fill\": {\"color\": \"#C8D4E3\"}, \"line\": {\"color\": \"white\"}}, \"type\": \"table\"}]}, \"layout\": {\"annotationdefaults\": {\"arrowcolor\": \"#2a3f5f\", \"arrowhead\": 0, \"arrowwidth\": 1}, \"coloraxis\": {\"colorbar\": {\"outlinewidth\": 0, \"ticks\": \"\"}}, \"colorscale\": {\"diverging\": [[0, \"#8e0152\"], [0.1, \"#c51b7d\"], [0.2, \"#de77ae\"], [0.3, \"#f1b6da\"], [0.4, \"#fde0ef\"], [0.5, \"#f7f7f7\"], [0.6, \"#e6f5d0\"], [0.7, \"#b8e186\"], [0.8, \"#7fbc41\"], [0.9, \"#4d9221\"], [1, \"#276419\"]], \"sequential\": [[0.0, \"#0d0887\"], [0.1111111111111111, \"#46039f\"], [0.2222222222222222, \"#7201a8\"], [0.3333333333333333, \"#9c179e\"], [0.4444444444444444, \"#bd3786\"], [0.5555555555555556, \"#d8576b\"], [0.6666666666666666, \"#ed7953\"], [0.7777777777777778, \"#fb9f3a\"], [0.8888888888888888, \"#fdca26\"], [1.0, \"#f0f921\"]], \"sequentialminus\": [[0.0, \"#0d0887\"], [0.1111111111111111, \"#46039f\"], [0.2222222222222222, \"#7201a8\"], [0.3333333333333333, \"#9c179e\"], [0.4444444444444444, \"#bd3786\"], [0.5555555555555556, \"#d8576b\"], [0.6666666666666666, \"#ed7953\"], [0.7777777777777778, \"#fb9f3a\"], [0.8888888888888888, \"#fdca26\"], [1.0, \"#f0f921\"]]}, \"colorway\": [\"#636efa\", \"#EF553B\", \"#00cc96\", \"#ab63fa\", \"#FFA15A\", \"#19d3f3\", \"#FF6692\", \"#B6E880\", \"#FF97FF\", \"#FECB52\"], \"font\": {\"color\": \"#2a3f5f\"}, \"geo\": {\"bgcolor\": \"white\", \"lakecolor\": \"white\", \"landcolor\": \"#E5ECF6\", \"showlakes\": true, \"showland\": true, \"subunitcolor\": \"white\"}, \"hoverlabel\": {\"align\": \"left\"}, \"hovermode\": \"closest\", \"mapbox\": {\"style\": \"light\"}, \"paper_bgcolor\": \"white\", \"plot_bgcolor\": \"#E5ECF6\", \"polar\": {\"angularaxis\": {\"gridcolor\": \"white\", \"linecolor\": \"white\", \"ticks\": \"\"}, \"bgcolor\": \"#E5ECF6\", \"radialaxis\": {\"gridcolor\": \"white\", \"linecolor\": \"white\", \"ticks\": \"\"}}, \"scene\": {\"xaxis\": {\"backgroundcolor\": \"#E5ECF6\", \"gridcolor\": \"white\", \"gridwidth\": 2, \"linecolor\": \"white\", \"showbackground\": true, \"ticks\": \"\", \"zerolinecolor\": \"white\"}, \"yaxis\": {\"backgroundcolor\": \"#E5ECF6\", \"gridcolor\": \"white\", \"gridwidth\": 2, \"linecolor\": \"white\", \"showbackground\": true, \"ticks\": \"\", \"zerolinecolor\": \"white\"}, \"zaxis\": {\"backgroundcolor\": \"#E5ECF6\", \"gridcolor\": \"white\", \"gridwidth\": 2, \"linecolor\": \"white\", \"showbackground\": true, \"ticks\": \"\", \"zerolinecolor\": \"white\"}}, \"shapedefaults\": {\"line\": {\"color\": \"#2a3f5f\"}}, \"ternary\": {\"aaxis\": {\"gridcolor\": \"white\", \"linecolor\": \"white\", \"ticks\": \"\"}, \"baxis\": {\"gridcolor\": \"white\", \"linecolor\": \"white\", \"ticks\": \"\"}, \"bgcolor\": \"#E5ECF6\", \"caxis\": {\"gridcolor\": \"white\", \"linecolor\": \"white\", \"ticks\": \"\"}}, \"title\": {\"x\": 0.05}, \"xaxis\": {\"automargin\": true, \"gridcolor\": \"white\", \"linecolor\": \"white\", \"ticks\": \"\", \"title\": {\"standoff\": 15}, \"zerolinecolor\": \"white\", \"zerolinewidth\": 2}, \"yaxis\": {\"automargin\": true, \"gridcolor\": \"white\", \"linecolor\": \"white\", \"ticks\": \"\", \"title\": {\"standoff\": 15}, \"zerolinecolor\": \"white\", \"zerolinewidth\": 2}}}, \"title\": {\"font\": {\"color\": \"#4D5663\"}}, \"xaxis\": {\"anchor\": \"y\", \"domain\": [0.0, 0.2125], \"gridcolor\": \"#E1E5ED\", \"showgrid\": false, \"tickfont\": {\"color\": \"#4D5663\"}, \"title\": {\"font\": {\"color\": \"#4D5663\"}, \"text\": \"\"}, \"zerolinecolor\": \"#E1E5ED\"}, \"xaxis10\": {\"anchor\": \"y10\", \"domain\": [0.2625, 0.475], \"gridcolor\": \"#E1E5ED\", \"showgrid\": false, \"tickfont\": {\"color\": \"#4D5663\"}, \"title\": {\"font\": {\"color\": \"#4D5663\"}, \"text\": \"\"}, \"zerolinecolor\": \"#E1E5ED\"}, \"xaxis11\": {\"anchor\": \"y11\", \"domain\": [0.525, 0.7375], \"gridcolor\": \"#E1E5ED\", \"showgrid\": false, \"tickfont\": {\"color\": \"#4D5663\"}, \"title\": {\"font\": {\"color\": \"#4D5663\"}, \"text\": \"\"}, \"zerolinecolor\": \"#E1E5ED\"}, \"xaxis12\": {\"anchor\": \"y12\", \"domain\": [0.7875, 1.0], \"gridcolor\": \"#E1E5ED\", \"showgrid\": false, \"tickfont\": {\"color\": \"#4D5663\"}, \"title\": {\"font\": {\"color\": \"#4D5663\"}, \"text\": \"\"}, \"zerolinecolor\": \"#E1E5ED\"}, \"xaxis13\": {\"anchor\": \"y13\", \"domain\": [0.0, 0.2125], \"gridcolor\": \"#E1E5ED\", \"showgrid\": false, \"tickfont\": {\"color\": \"#4D5663\"}, \"title\": {\"font\": {\"color\": \"#4D5663\"}, \"text\": \"\"}, \"zerolinecolor\": \"#E1E5ED\"}, \"xaxis14\": {\"anchor\": \"y14\", \"domain\": [0.2625, 0.475], \"gridcolor\": \"#E1E5ED\", \"showgrid\": false, \"tickfont\": {\"color\": \"#4D5663\"}, \"title\": {\"font\": {\"color\": \"#4D5663\"}, \"text\": \"\"}, \"zerolinecolor\": \"#E1E5ED\"}, \"xaxis15\": {\"anchor\": \"y15\", \"domain\": [0.525, 0.7375], \"gridcolor\": \"#E1E5ED\", \"showgrid\": false, \"tickfont\": {\"color\": \"#4D5663\"}, \"title\": {\"font\": {\"color\": \"#4D5663\"}, \"text\": \"\"}, \"zerolinecolor\": \"#E1E5ED\"}, \"xaxis16\": {\"anchor\": \"y16\", \"domain\": [0.7875, 1.0], \"gridcolor\": \"#E1E5ED\", \"showgrid\": false, \"tickfont\": {\"color\": \"#4D5663\"}, \"title\": {\"font\": {\"color\": \"#4D5663\"}, \"text\": \"\"}, \"zerolinecolor\": \"#E1E5ED\"}, \"xaxis2\": {\"anchor\": \"y2\", \"domain\": [0.2625, 0.475], \"gridcolor\": \"#E1E5ED\", \"showgrid\": false, \"tickfont\": {\"color\": \"#4D5663\"}, \"title\": {\"font\": {\"color\": \"#4D5663\"}, \"text\": \"\"}, \"zerolinecolor\": \"#E1E5ED\"}, \"xaxis3\": {\"anchor\": \"y3\", \"domain\": [0.525, 0.7375], \"gridcolor\": \"#E1E5ED\", \"showgrid\": false, \"tickfont\": {\"color\": \"#4D5663\"}, \"title\": {\"font\": {\"color\": \"#4D5663\"}, \"text\": \"\"}, \"zerolinecolor\": \"#E1E5ED\"}, \"xaxis4\": {\"anchor\": \"y4\", \"domain\": [0.7875, 1.0], \"gridcolor\": \"#E1E5ED\", \"showgrid\": false, \"tickfont\": {\"color\": \"#4D5663\"}, \"title\": {\"font\": {\"color\": \"#4D5663\"}, \"text\": \"\"}, \"zerolinecolor\": \"#E1E5ED\"}, \"xaxis5\": {\"anchor\": \"y5\", \"domain\": [0.0, 0.2125], \"gridcolor\": \"#E1E5ED\", \"showgrid\": false, \"tickfont\": {\"color\": \"#4D5663\"}, \"title\": {\"font\": {\"color\": \"#4D5663\"}, \"text\": \"\"}, \"zerolinecolor\": \"#E1E5ED\"}, \"xaxis6\": {\"anchor\": \"y6\", \"domain\": [0.2625, 0.475], \"gridcolor\": \"#E1E5ED\", \"showgrid\": false, \"tickfont\": {\"color\": \"#4D5663\"}, \"title\": {\"font\": {\"color\": \"#4D5663\"}, \"text\": \"\"}, \"zerolinecolor\": \"#E1E5ED\"}, \"xaxis7\": {\"anchor\": \"y7\", \"domain\": [0.525, 0.7375], \"gridcolor\": \"#E1E5ED\", \"showgrid\": false, \"tickfont\": {\"color\": \"#4D5663\"}, \"title\": {\"font\": {\"color\": \"#4D5663\"}, \"text\": \"\"}, \"zerolinecolor\": \"#E1E5ED\"}, \"xaxis8\": {\"anchor\": \"y8\", \"domain\": [0.7875, 1.0], \"gridcolor\": \"#E1E5ED\", \"showgrid\": false, \"tickfont\": {\"color\": \"#4D5663\"}, \"title\": {\"font\": {\"color\": \"#4D5663\"}, \"text\": \"\"}, \"zerolinecolor\": \"#E1E5ED\"}, \"xaxis9\": {\"anchor\": \"y9\", \"domain\": [0.0, 0.2125], \"gridcolor\": \"#E1E5ED\", \"showgrid\": false, \"tickfont\": {\"color\": \"#4D5663\"}, \"title\": {\"font\": {\"color\": \"#4D5663\"}, \"text\": \"\"}, \"zerolinecolor\": \"#E1E5ED\"}, \"yaxis\": {\"anchor\": \"x\", \"domain\": [0.8025, 1.0], \"gridcolor\": \"#E1E5ED\", \"showgrid\": false, \"tickfont\": {\"color\": \"#4D5663\"}, \"title\": {\"font\": {\"color\": \"#4D5663\"}, \"text\": \"\"}, \"zerolinecolor\": \"#E1E5ED\"}, \"yaxis10\": {\"anchor\": \"x10\", \"domain\": [0.2675, 0.465], \"gridcolor\": \"#E1E5ED\", \"showgrid\": false, \"tickfont\": {\"color\": \"#4D5663\"}, \"title\": {\"font\": {\"color\": \"#4D5663\"}, \"text\": \"\"}, \"zerolinecolor\": \"#E1E5ED\"}, \"yaxis11\": {\"anchor\": \"x11\", \"domain\": [0.2675, 0.465], \"gridcolor\": \"#E1E5ED\", \"showgrid\": false, \"tickfont\": {\"color\": \"#4D5663\"}, \"title\": {\"font\": {\"color\": \"#4D5663\"}, \"text\": \"\"}, \"zerolinecolor\": \"#E1E5ED\"}, \"yaxis12\": {\"anchor\": \"x12\", \"domain\": [0.2675, 0.465], \"gridcolor\": \"#E1E5ED\", \"showgrid\": false, \"tickfont\": {\"color\": \"#4D5663\"}, \"title\": {\"font\": {\"color\": \"#4D5663\"}, \"text\": \"\"}, \"zerolinecolor\": \"#E1E5ED\"}, \"yaxis13\": {\"anchor\": \"x13\", \"domain\": [0.0, 0.1975], \"gridcolor\": \"#E1E5ED\", \"showgrid\": false, \"tickfont\": {\"color\": \"#4D5663\"}, \"title\": {\"font\": {\"color\": \"#4D5663\"}, \"text\": \"\"}, \"zerolinecolor\": \"#E1E5ED\"}, \"yaxis14\": {\"anchor\": \"x14\", \"domain\": [0.0, 0.1975], \"gridcolor\": \"#E1E5ED\", \"showgrid\": false, \"tickfont\": {\"color\": \"#4D5663\"}, \"title\": {\"font\": {\"color\": \"#4D5663\"}, \"text\": \"\"}, \"zerolinecolor\": \"#E1E5ED\"}, \"yaxis15\": {\"anchor\": \"x15\", \"domain\": [0.0, 0.1975], \"gridcolor\": \"#E1E5ED\", \"showgrid\": false, \"tickfont\": {\"color\": \"#4D5663\"}, \"title\": {\"font\": {\"color\": \"#4D5663\"}, \"text\": \"\"}, \"zerolinecolor\": \"#E1E5ED\"}, \"yaxis16\": {\"anchor\": \"x16\", \"domain\": [0.0, 0.1975], \"gridcolor\": \"#E1E5ED\", \"showgrid\": false, \"tickfont\": {\"color\": \"#4D5663\"}, \"title\": {\"font\": {\"color\": \"#4D5663\"}, \"text\": \"\"}, \"zerolinecolor\": \"#E1E5ED\"}, \"yaxis2\": {\"anchor\": \"x2\", \"domain\": [0.8025, 1.0], \"gridcolor\": \"#E1E5ED\", \"showgrid\": false, \"tickfont\": {\"color\": \"#4D5663\"}, \"title\": {\"font\": {\"color\": \"#4D5663\"}, \"text\": \"\"}, \"zerolinecolor\": \"#E1E5ED\"}, \"yaxis3\": {\"anchor\": \"x3\", \"domain\": [0.8025, 1.0], \"gridcolor\": \"#E1E5ED\", \"showgrid\": false, \"tickfont\": {\"color\": \"#4D5663\"}, \"title\": {\"font\": {\"color\": \"#4D5663\"}, \"text\": \"\"}, \"zerolinecolor\": \"#E1E5ED\"}, \"yaxis4\": {\"anchor\": \"x4\", \"domain\": [0.8025, 1.0], \"gridcolor\": \"#E1E5ED\", \"showgrid\": false, \"tickfont\": {\"color\": \"#4D5663\"}, \"title\": {\"font\": {\"color\": \"#4D5663\"}, \"text\": \"\"}, \"zerolinecolor\": \"#E1E5ED\"}, \"yaxis5\": {\"anchor\": \"x5\", \"domain\": [0.535, 0.7325], \"gridcolor\": \"#E1E5ED\", \"showgrid\": false, \"tickfont\": {\"color\": \"#4D5663\"}, \"title\": {\"font\": {\"color\": \"#4D5663\"}, \"text\": \"\"}, \"zerolinecolor\": \"#E1E5ED\"}, \"yaxis6\": {\"anchor\": \"x6\", \"domain\": [0.535, 0.7325], \"gridcolor\": \"#E1E5ED\", \"showgrid\": false, \"tickfont\": {\"color\": \"#4D5663\"}, \"title\": {\"font\": {\"color\": \"#4D5663\"}, \"text\": \"\"}, \"zerolinecolor\": \"#E1E5ED\"}, \"yaxis7\": {\"anchor\": \"x7\", \"domain\": [0.535, 0.7325], \"gridcolor\": \"#E1E5ED\", \"showgrid\": false, \"tickfont\": {\"color\": \"#4D5663\"}, \"title\": {\"font\": {\"color\": \"#4D5663\"}, \"text\": \"\"}, \"zerolinecolor\": \"#E1E5ED\"}, \"yaxis8\": {\"anchor\": \"x8\", \"domain\": [0.535, 0.7325], \"gridcolor\": \"#E1E5ED\", \"showgrid\": false, \"tickfont\": {\"color\": \"#4D5663\"}, \"title\": {\"font\": {\"color\": \"#4D5663\"}, \"text\": \"\"}, \"zerolinecolor\": \"#E1E5ED\"}, \"yaxis9\": {\"anchor\": \"x9\", \"domain\": [0.2675, 0.465], \"gridcolor\": \"#E1E5ED\", \"showgrid\": false, \"tickfont\": {\"color\": \"#4D5663\"}, \"title\": {\"font\": {\"color\": \"#4D5663\"}, \"text\": \"\"}, \"zerolinecolor\": \"#E1E5ED\"}},\n",
       "                        {\"showLink\": true, \"linkText\": \"Export to plot.ly\", \"plotlyServerURL\": \"https://plot.ly\", \"responsive\": true}\n",
       "                    ).then(function(){\n",
       "                            \n",
       "var gd = document.getElementById('a77b6408-9fc1-4079-80d3-9ce728d3397a');\n",
       "var x = new MutationObserver(function (mutations, observer) {{\n",
       "        var display = window.getComputedStyle(gd).display;\n",
       "        if (!display || display === 'none') {{\n",
       "            console.log([gd, 'removed!']);\n",
       "            Plotly.purge(gd);\n",
       "            observer.disconnect();\n",
       "        }}\n",
       "}});\n",
       "\n",
       "// Listen for the removal of the full notebook cells\n",
       "var notebookContainer = gd.closest('#notebook-container');\n",
       "if (notebookContainer) {{\n",
       "    x.observe(notebookContainer, {childList: true});\n",
       "}}\n",
       "\n",
       "// Listen for the clearing of the current output cell\n",
       "var outputEl = gd.closest('.output');\n",
       "if (outputEl) {{\n",
       "    x.observe(outputEl, {childList: true});\n",
       "}}\n",
       "\n",
       "                        })\n",
       "                };\n",
       "                });\n",
       "            </script>\n",
       "        </div>"
      ]
     },
     "metadata": {},
     "output_type": "display_data"
    }
   ],
   "source": [
    "df.scatter_matrix()"
   ]
  },
  {
   "cell_type": "markdown",
   "metadata": {
    "collapsed": true
   },
   "source": [
    "# Great Job!"
   ]
  }
 ],
 "metadata": {
  "kernelspec": {
   "display_name": "Python 3",
   "language": "python",
   "name": "python3"
  },
  "language_info": {
   "codemirror_mode": {
    "name": "ipython",
    "version": 3
   },
   "file_extension": ".py",
   "mimetype": "text/x-python",
   "name": "python",
   "nbconvert_exporter": "python",
   "pygments_lexer": "ipython3",
   "version": "3.7.6"
  }
 },
 "nbformat": 4,
 "nbformat_minor": 1
}
